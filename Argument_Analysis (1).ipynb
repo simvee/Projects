{
  "nbformat": 4,
  "nbformat_minor": 0,
  "metadata": {
    "colab": {
      "name": "Argument Analysis.ipynb",
      "provenance": [],
      "collapsed_sections": []
    },
    "kernelspec": {
      "name": "python3",
      "display_name": "Python 3"
    },
    "language_info": {
      "name": "python"
    }
  },
  "cells": [
    {
      "cell_type": "code",
      "execution_count": 2,
      "metadata": {
        "id": "4shZG-PfpLl9"
      },
      "outputs": [],
      "source": [
        "import pandas as pd\n",
        "import numpy as np\n",
        "import matplotlib.pyplot as plt\n",
        "import seaborn as sns"
      ]
    },
    {
      "cell_type": "code",
      "source": [
        "import os\n",
        "from google.colab import drive\n",
        "\n",
        "drive.mount('/content/drive')"
      ],
      "metadata": {
        "colab": {
          "base_uri": "https://localhost:8080/"
        },
        "id": "2yPwrqdGpUdD",
        "outputId": "df5a5229-9ea4-4b60-9d58-7dd386dff277"
      },
      "execution_count": 3,
      "outputs": [
        {
          "output_type": "stream",
          "name": "stdout",
          "text": [
            "Drive already mounted at /content/drive; to attempt to forcibly remount, call drive.mount(\"/content/drive\", force_remount=True).\n"
          ]
        }
      ]
    },
    {
      "cell_type": "markdown",
      "source": [
        "# 1. Load the Dataset"
      ],
      "metadata": {
        "id": "7UpAmjA8rECO"
      }
    },
    {
      "cell_type": "code",
      "source": [
        "# For this project, \n",
        "# using a different dataset than the one provided, as this is more relevant in a portfolio than a zodiac predicting classifier\n",
        "\n",
        "# link to dataset - https://www.kaggle.com/competitions/feedback-prize-2021/data"
      ],
      "metadata": {
        "id": "VIZgypvaHbPZ"
      },
      "execution_count": null,
      "outputs": []
    },
    {
      "cell_type": "code",
      "source": [
        "raw_data = pd.read_csv('/content/drive/MyDrive/Argument_Analysis/train.csv')"
      ],
      "metadata": {
        "id": "2prWYZSipW3j"
      },
      "execution_count": 4,
      "outputs": []
    },
    {
      "cell_type": "code",
      "source": [
        "raw_data = raw_data[:10000]"
      ],
      "metadata": {
        "id": "4E-H5Bf00Kjs"
      },
      "execution_count": 5,
      "outputs": []
    },
    {
      "cell_type": "code",
      "source": [
        "raw_data.head()"
      ],
      "metadata": {
        "colab": {
          "base_uri": "https://localhost:8080/",
          "height": 337
        },
        "id": "X8UOezWwHo7M",
        "outputId": "09c114d4-01fa-49cb-f811-6a62fab7b720"
      },
      "execution_count": 81,
      "outputs": [
        {
          "output_type": "execute_result",
          "data": {
            "text/plain": [
              "             id  discourse_id  discourse_start  discourse_end  \\\n",
              "0  423A1CA112E2  1.622628e+12              8.0          229.0   \n",
              "1  423A1CA112E2  1.622628e+12            230.0          312.0   \n",
              "2  423A1CA112E2  1.622628e+12            313.0          401.0   \n",
              "3  423A1CA112E2  1.622628e+12            402.0          758.0   \n",
              "4  423A1CA112E2  1.622628e+12            759.0          886.0   \n",
              "\n",
              "                                      discourse_text discourse_type  \\\n",
              "0  Modern humans today are always on their phone....           Lead   \n",
              "1  They are some really bad consequences when stu...       Position   \n",
              "2  Some certain areas in the United States ban ph...       Evidence   \n",
              "3  When people have phones, they know about certa...       Evidence   \n",
              "4  Driving is one of the way how to get around. P...          Claim   \n",
              "\n",
              "  discourse_type_num                                   predictionstring  \n",
              "0             Lead 1  1 2 3 4 5 6 7 8 9 10 11 12 13 14 15 16 17 18 1...  \n",
              "1         Position 1       45 46 47 48 49 50 51 52 53 54 55 56 57 58 59  \n",
              "2         Evidence 1    60 61 62 63 64 65 66 67 68 69 70 71 72 73 74 75  \n",
              "3         Evidence 2  76 77 78 79 80 81 82 83 84 85 86 87 88 89 90 9...  \n",
              "4            Claim 1  139 140 141 142 143 144 145 146 147 148 149 15...  "
            ],
            "text/html": [
              "\n",
              "  <div id=\"df-5685f6ed-1c51-4c73-860a-30d084109506\">\n",
              "    <div class=\"colab-df-container\">\n",
              "      <div>\n",
              "<style scoped>\n",
              "    .dataframe tbody tr th:only-of-type {\n",
              "        vertical-align: middle;\n",
              "    }\n",
              "\n",
              "    .dataframe tbody tr th {\n",
              "        vertical-align: top;\n",
              "    }\n",
              "\n",
              "    .dataframe thead th {\n",
              "        text-align: right;\n",
              "    }\n",
              "</style>\n",
              "<table border=\"1\" class=\"dataframe\">\n",
              "  <thead>\n",
              "    <tr style=\"text-align: right;\">\n",
              "      <th></th>\n",
              "      <th>id</th>\n",
              "      <th>discourse_id</th>\n",
              "      <th>discourse_start</th>\n",
              "      <th>discourse_end</th>\n",
              "      <th>discourse_text</th>\n",
              "      <th>discourse_type</th>\n",
              "      <th>discourse_type_num</th>\n",
              "      <th>predictionstring</th>\n",
              "    </tr>\n",
              "  </thead>\n",
              "  <tbody>\n",
              "    <tr>\n",
              "      <th>0</th>\n",
              "      <td>423A1CA112E2</td>\n",
              "      <td>1.622628e+12</td>\n",
              "      <td>8.0</td>\n",
              "      <td>229.0</td>\n",
              "      <td>Modern humans today are always on their phone....</td>\n",
              "      <td>Lead</td>\n",
              "      <td>Lead 1</td>\n",
              "      <td>1 2 3 4 5 6 7 8 9 10 11 12 13 14 15 16 17 18 1...</td>\n",
              "    </tr>\n",
              "    <tr>\n",
              "      <th>1</th>\n",
              "      <td>423A1CA112E2</td>\n",
              "      <td>1.622628e+12</td>\n",
              "      <td>230.0</td>\n",
              "      <td>312.0</td>\n",
              "      <td>They are some really bad consequences when stu...</td>\n",
              "      <td>Position</td>\n",
              "      <td>Position 1</td>\n",
              "      <td>45 46 47 48 49 50 51 52 53 54 55 56 57 58 59</td>\n",
              "    </tr>\n",
              "    <tr>\n",
              "      <th>2</th>\n",
              "      <td>423A1CA112E2</td>\n",
              "      <td>1.622628e+12</td>\n",
              "      <td>313.0</td>\n",
              "      <td>401.0</td>\n",
              "      <td>Some certain areas in the United States ban ph...</td>\n",
              "      <td>Evidence</td>\n",
              "      <td>Evidence 1</td>\n",
              "      <td>60 61 62 63 64 65 66 67 68 69 70 71 72 73 74 75</td>\n",
              "    </tr>\n",
              "    <tr>\n",
              "      <th>3</th>\n",
              "      <td>423A1CA112E2</td>\n",
              "      <td>1.622628e+12</td>\n",
              "      <td>402.0</td>\n",
              "      <td>758.0</td>\n",
              "      <td>When people have phones, they know about certa...</td>\n",
              "      <td>Evidence</td>\n",
              "      <td>Evidence 2</td>\n",
              "      <td>76 77 78 79 80 81 82 83 84 85 86 87 88 89 90 9...</td>\n",
              "    </tr>\n",
              "    <tr>\n",
              "      <th>4</th>\n",
              "      <td>423A1CA112E2</td>\n",
              "      <td>1.622628e+12</td>\n",
              "      <td>759.0</td>\n",
              "      <td>886.0</td>\n",
              "      <td>Driving is one of the way how to get around. P...</td>\n",
              "      <td>Claim</td>\n",
              "      <td>Claim 1</td>\n",
              "      <td>139 140 141 142 143 144 145 146 147 148 149 15...</td>\n",
              "    </tr>\n",
              "  </tbody>\n",
              "</table>\n",
              "</div>\n",
              "      <button class=\"colab-df-convert\" onclick=\"convertToInteractive('df-5685f6ed-1c51-4c73-860a-30d084109506')\"\n",
              "              title=\"Convert this dataframe to an interactive table.\"\n",
              "              style=\"display:none;\">\n",
              "        \n",
              "  <svg xmlns=\"http://www.w3.org/2000/svg\" height=\"24px\"viewBox=\"0 0 24 24\"\n",
              "       width=\"24px\">\n",
              "    <path d=\"M0 0h24v24H0V0z\" fill=\"none\"/>\n",
              "    <path d=\"M18.56 5.44l.94 2.06.94-2.06 2.06-.94-2.06-.94-.94-2.06-.94 2.06-2.06.94zm-11 1L8.5 8.5l.94-2.06 2.06-.94-2.06-.94L8.5 2.5l-.94 2.06-2.06.94zm10 10l.94 2.06.94-2.06 2.06-.94-2.06-.94-.94-2.06-.94 2.06-2.06.94z\"/><path d=\"M17.41 7.96l-1.37-1.37c-.4-.4-.92-.59-1.43-.59-.52 0-1.04.2-1.43.59L10.3 9.45l-7.72 7.72c-.78.78-.78 2.05 0 2.83L4 21.41c.39.39.9.59 1.41.59.51 0 1.02-.2 1.41-.59l7.78-7.78 2.81-2.81c.8-.78.8-2.07 0-2.86zM5.41 20L4 18.59l7.72-7.72 1.47 1.35L5.41 20z\"/>\n",
              "  </svg>\n",
              "      </button>\n",
              "      \n",
              "  <style>\n",
              "    .colab-df-container {\n",
              "      display:flex;\n",
              "      flex-wrap:wrap;\n",
              "      gap: 12px;\n",
              "    }\n",
              "\n",
              "    .colab-df-convert {\n",
              "      background-color: #E8F0FE;\n",
              "      border: none;\n",
              "      border-radius: 50%;\n",
              "      cursor: pointer;\n",
              "      display: none;\n",
              "      fill: #1967D2;\n",
              "      height: 32px;\n",
              "      padding: 0 0 0 0;\n",
              "      width: 32px;\n",
              "    }\n",
              "\n",
              "    .colab-df-convert:hover {\n",
              "      background-color: #E2EBFA;\n",
              "      box-shadow: 0px 1px 2px rgba(60, 64, 67, 0.3), 0px 1px 3px 1px rgba(60, 64, 67, 0.15);\n",
              "      fill: #174EA6;\n",
              "    }\n",
              "\n",
              "    [theme=dark] .colab-df-convert {\n",
              "      background-color: #3B4455;\n",
              "      fill: #D2E3FC;\n",
              "    }\n",
              "\n",
              "    [theme=dark] .colab-df-convert:hover {\n",
              "      background-color: #434B5C;\n",
              "      box-shadow: 0px 1px 3px 1px rgba(0, 0, 0, 0.15);\n",
              "      filter: drop-shadow(0px 1px 2px rgba(0, 0, 0, 0.3));\n",
              "      fill: #FFFFFF;\n",
              "    }\n",
              "  </style>\n",
              "\n",
              "      <script>\n",
              "        const buttonEl =\n",
              "          document.querySelector('#df-5685f6ed-1c51-4c73-860a-30d084109506 button.colab-df-convert');\n",
              "        buttonEl.style.display =\n",
              "          google.colab.kernel.accessAllowed ? 'block' : 'none';\n",
              "\n",
              "        async function convertToInteractive(key) {\n",
              "          const element = document.querySelector('#df-5685f6ed-1c51-4c73-860a-30d084109506');\n",
              "          const dataTable =\n",
              "            await google.colab.kernel.invokeFunction('convertToInteractive',\n",
              "                                                     [key], {});\n",
              "          if (!dataTable) return;\n",
              "\n",
              "          const docLinkHtml = 'Like what you see? Visit the ' +\n",
              "            '<a target=\"_blank\" href=https://colab.research.google.com/notebooks/data_table.ipynb>data table notebook</a>'\n",
              "            + ' to learn more about interactive tables.';\n",
              "          element.innerHTML = '';\n",
              "          dataTable['output_type'] = 'display_data';\n",
              "          await google.colab.output.renderOutput(dataTable, element);\n",
              "          const docLink = document.createElement('div');\n",
              "          docLink.innerHTML = docLinkHtml;\n",
              "          element.appendChild(docLink);\n",
              "        }\n",
              "      </script>\n",
              "    </div>\n",
              "  </div>\n",
              "  "
            ]
          },
          "metadata": {},
          "execution_count": 81
        }
      ]
    },
    {
      "cell_type": "code",
      "source": [
        "# id - not necessary\n",
        "# discourse id - not necessary\n",
        "# discourse_start - will drop for this exercise\n",
        "# discourse_end - will drop for this exercise\n",
        "# discourse_text - main text feature\n",
        "# discourse_type - target label\n",
        "# discourse_type_num - will drop for this exercise\n",
        "# predictionstring - will drop for this exercise"
      ],
      "metadata": {
        "id": "XouicZl40KU2"
      },
      "execution_count": 6,
      "outputs": []
    },
    {
      "cell_type": "markdown",
      "source": [
        "# 2. Preprocess the rows"
      ],
      "metadata": {
        "id": "a4Q58tHYrHkh"
      }
    },
    {
      "cell_type": "markdown",
      "source": [
        "### a. Remove unwanted characters"
      ],
      "metadata": {
        "id": "jS_hMYP4rNM7"
      }
    },
    {
      "cell_type": "code",
      "source": [
        "# using regex and creating an inbuilt function to apply it to the column\n",
        "\n",
        "import re, string\n",
        "\n",
        "def clean_string(str_data):\n",
        "  str_data = re.sub(r\"[^a-zA-Z0-9 ]\", '', str_data)\n",
        "  return str_data\n",
        "\n",
        "clean_string('Simaran is.     noT ABLE to d2298##$@#@0')"
      ],
      "metadata": {
        "colab": {
          "base_uri": "https://localhost:8080/",
          "height": 35
        },
        "id": "UlkoZgtqpW0K",
        "outputId": "ba7f03c0-acd5-4592-e218-3a59857b5150"
      },
      "execution_count": 7,
      "outputs": [
        {
          "output_type": "execute_result",
          "data": {
            "text/plain": [
              "'Simaran is     noT ABLE to d22980'"
            ],
            "application/vnd.google.colaboratory.intrinsic+json": {
              "type": "string"
            }
          },
          "metadata": {},
          "execution_count": 7
        }
      ]
    },
    {
      "cell_type": "markdown",
      "source": [
        "### b. Convert text to lowercase"
      ],
      "metadata": {
        "id": "hm7liFb_tm2h"
      }
    },
    {
      "cell_type": "code",
      "source": [
        "def to_lower(str_data):\n",
        "  str_data = str_data.lower()\n",
        "  return str_data\n",
        "\n",
        "to_lower('SIMARAN is MY naME')"
      ],
      "metadata": {
        "colab": {
          "base_uri": "https://localhost:8080/",
          "height": 35
        },
        "id": "GbKNS0qopWxT",
        "outputId": "62322d57-d5ec-4fa3-f33c-cf3f816b35f8"
      },
      "execution_count": 8,
      "outputs": [
        {
          "output_type": "execute_result",
          "data": {
            "text/plain": [
              "'simaran is my name'"
            ],
            "application/vnd.google.colaboratory.intrinsic+json": {
              "type": "string"
            }
          },
          "metadata": {},
          "execution_count": 8
        }
      ]
    },
    {
      "cell_type": "markdown",
      "source": [
        "### c. Remove unwanted spaces"
      ],
      "metadata": {
        "id": "dpPk_mzFt4gb"
      }
    },
    {
      "cell_type": "code",
      "source": [
        "def remove_unwanted_space(str_data):\n",
        "  str_data = str_data.split()\n",
        "  str_data = ' '.join(str_data)\n",
        "  return str_data\n",
        "\n",
        "remove_unwanted_space('HOw    much    ')"
      ],
      "metadata": {
        "colab": {
          "base_uri": "https://localhost:8080/",
          "height": 35
        },
        "id": "LCMH-IJVpWuL",
        "outputId": "dd923332-ae9c-4e59-ccf6-d3720a8a23cf"
      },
      "execution_count": 9,
      "outputs": [
        {
          "output_type": "execute_result",
          "data": {
            "text/plain": [
              "'HOw much'"
            ],
            "application/vnd.google.colaboratory.intrinsic+json": {
              "type": "string"
            }
          },
          "metadata": {},
          "execution_count": 9
        }
      ]
    },
    {
      "cell_type": "markdown",
      "source": [
        "### d. Remove stopwords"
      ],
      "metadata": {
        "id": "vGIIrbOVuybi"
      }
    },
    {
      "cell_type": "code",
      "source": [
        "import nltk\n",
        "nltk.download('stopwords')\n",
        "from nltk.corpus import stopwords\n",
        "from nltk.tokenize import word_tokenize"
      ],
      "metadata": {
        "colab": {
          "base_uri": "https://localhost:8080/"
        },
        "id": "niMIGAZ-wd5B",
        "outputId": "1e92f251-2dde-4885-8134-0bb468d1a56f"
      },
      "execution_count": 10,
      "outputs": [
        {
          "output_type": "stream",
          "name": "stderr",
          "text": [
            "[nltk_data] Downloading package stopwords to /root/nltk_data...\n",
            "[nltk_data]   Package stopwords is already up-to-date!\n"
          ]
        }
      ]
    },
    {
      "cell_type": "code",
      "source": [
        "nltk.download('punkt')"
      ],
      "metadata": {
        "colab": {
          "base_uri": "https://localhost:8080/"
        },
        "id": "xMNJExccxMl-",
        "outputId": "c6d4d2bd-b0e2-434c-bb40-b7e6c3a813c3"
      },
      "execution_count": 11,
      "outputs": [
        {
          "output_type": "stream",
          "name": "stderr",
          "text": [
            "[nltk_data] Downloading package punkt to /root/nltk_data...\n",
            "[nltk_data]   Package punkt is already up-to-date!\n"
          ]
        },
        {
          "output_type": "execute_result",
          "data": {
            "text/plain": [
              "True"
            ]
          },
          "metadata": {},
          "execution_count": 11
        }
      ]
    },
    {
      "cell_type": "code",
      "source": [
        "def remove_stopwords(str_data):\n",
        "  stop_words = set(stopwords.words('english'))\n",
        "  \n",
        "  # tokenizing the string data\n",
        "  word_tokens = word_tokenize(str_data)\n",
        "\n",
        "  # filter the data by removing stopwords\n",
        "  filtered_text = [word for word in word_tokens if word not in stop_words]\n",
        "\n",
        "  # returning an an array of filtered words\n",
        "  return ' '.join(filtered_text)\n",
        "\n",
        "remove_stopwords('This is Simaran...')"
      ],
      "metadata": {
        "colab": {
          "base_uri": "https://localhost:8080/",
          "height": 35
        },
        "id": "a8V1CGZipWrD",
        "outputId": "53d25d6a-c71f-4721-d59d-f37293aec786"
      },
      "execution_count": 12,
      "outputs": [
        {
          "output_type": "execute_result",
          "data": {
            "text/plain": [
              "'This Simaran ...'"
            ],
            "application/vnd.google.colaboratory.intrinsic+json": {
              "type": "string"
            }
          },
          "metadata": {},
          "execution_count": 12
        }
      ]
    },
    {
      "cell_type": "code",
      "source": [
        "# creating a pre-processing pipeline function\n",
        "\n",
        "def preprocess_text(str_data):\n",
        "  \n",
        "  str_data = clean_string(str_data)\n",
        "  \n",
        "  str_data = to_lower(str_data)\n",
        " \n",
        "  str_data = remove_unwanted_space(str_data)\n",
        "  \n",
        "  str_data = remove_stopwords(str_data)\n",
        "  \n",
        "  return str_data\n",
        "\n",
        "preprocess_text('What is THE greatest   \\n   computer THAT has 3ver existed###??? 42##42')"
      ],
      "metadata": {
        "colab": {
          "base_uri": "https://localhost:8080/",
          "height": 35
        },
        "id": "46VdB_4gx5W5",
        "outputId": "5c8a3b83-fe10-4dbf-a8b0-9a3eb191b997"
      },
      "execution_count": 13,
      "outputs": [
        {
          "output_type": "execute_result",
          "data": {
            "text/plain": [
              "'greatest computer 3ver existed 4242'"
            ],
            "application/vnd.google.colaboratory.intrinsic+json": {
              "type": "string"
            }
          },
          "metadata": {},
          "execution_count": 13
        }
      ]
    },
    {
      "cell_type": "code",
      "source": [
        "processed_df = raw_data.copy()\n",
        "\n",
        "processed_df['discourse_text'] = processed_df['discourse_text'].apply(preprocess_text)"
      ],
      "metadata": {
        "id": "Lc9OqUTp1gYF"
      },
      "execution_count": 14,
      "outputs": []
    },
    {
      "cell_type": "markdown",
      "source": [
        "# 3. Bring dataset down to 2 columns - text and labels"
      ],
      "metadata": {
        "id": "gdL43-GexrVS"
      }
    },
    {
      "cell_type": "code",
      "source": [
        "# selecting the only discourse_text and discourse_type for this exercise\n",
        "\n",
        "subset_df = processed_df.loc[:, ['discourse_text', 'discourse_type']]\n",
        "subset_df.head()"
      ],
      "metadata": {
        "colab": {
          "base_uri": "https://localhost:8080/",
          "height": 206
        },
        "id": "hcugcy2fyr8N",
        "outputId": "4fbeb8e0-b20c-4f4c-b95d-b272e780084c"
      },
      "execution_count": 15,
      "outputs": [
        {
          "output_type": "execute_result",
          "data": {
            "text/plain": [
              "                                      discourse_text discourse_type\n",
              "0  modern humans today always phone always phone ...           Lead\n",
              "1  really bad consequences stuff happens comes phone       Position\n",
              "2  certain areas united states ban phones class r...       Evidence\n",
              "3  people phones know certain apps apps like face...       Evidence\n",
              "4  driving one way get around people always phone...          Claim"
            ],
            "text/html": [
              "\n",
              "  <div id=\"df-0d3927f0-f1e9-4fa3-8246-0ac6a8c6fb0c\">\n",
              "    <div class=\"colab-df-container\">\n",
              "      <div>\n",
              "<style scoped>\n",
              "    .dataframe tbody tr th:only-of-type {\n",
              "        vertical-align: middle;\n",
              "    }\n",
              "\n",
              "    .dataframe tbody tr th {\n",
              "        vertical-align: top;\n",
              "    }\n",
              "\n",
              "    .dataframe thead th {\n",
              "        text-align: right;\n",
              "    }\n",
              "</style>\n",
              "<table border=\"1\" class=\"dataframe\">\n",
              "  <thead>\n",
              "    <tr style=\"text-align: right;\">\n",
              "      <th></th>\n",
              "      <th>discourse_text</th>\n",
              "      <th>discourse_type</th>\n",
              "    </tr>\n",
              "  </thead>\n",
              "  <tbody>\n",
              "    <tr>\n",
              "      <th>0</th>\n",
              "      <td>modern humans today always phone always phone ...</td>\n",
              "      <td>Lead</td>\n",
              "    </tr>\n",
              "    <tr>\n",
              "      <th>1</th>\n",
              "      <td>really bad consequences stuff happens comes phone</td>\n",
              "      <td>Position</td>\n",
              "    </tr>\n",
              "    <tr>\n",
              "      <th>2</th>\n",
              "      <td>certain areas united states ban phones class r...</td>\n",
              "      <td>Evidence</td>\n",
              "    </tr>\n",
              "    <tr>\n",
              "      <th>3</th>\n",
              "      <td>people phones know certain apps apps like face...</td>\n",
              "      <td>Evidence</td>\n",
              "    </tr>\n",
              "    <tr>\n",
              "      <th>4</th>\n",
              "      <td>driving one way get around people always phone...</td>\n",
              "      <td>Claim</td>\n",
              "    </tr>\n",
              "  </tbody>\n",
              "</table>\n",
              "</div>\n",
              "      <button class=\"colab-df-convert\" onclick=\"convertToInteractive('df-0d3927f0-f1e9-4fa3-8246-0ac6a8c6fb0c')\"\n",
              "              title=\"Convert this dataframe to an interactive table.\"\n",
              "              style=\"display:none;\">\n",
              "        \n",
              "  <svg xmlns=\"http://www.w3.org/2000/svg\" height=\"24px\"viewBox=\"0 0 24 24\"\n",
              "       width=\"24px\">\n",
              "    <path d=\"M0 0h24v24H0V0z\" fill=\"none\"/>\n",
              "    <path d=\"M18.56 5.44l.94 2.06.94-2.06 2.06-.94-2.06-.94-.94-2.06-.94 2.06-2.06.94zm-11 1L8.5 8.5l.94-2.06 2.06-.94-2.06-.94L8.5 2.5l-.94 2.06-2.06.94zm10 10l.94 2.06.94-2.06 2.06-.94-2.06-.94-.94-2.06-.94 2.06-2.06.94z\"/><path d=\"M17.41 7.96l-1.37-1.37c-.4-.4-.92-.59-1.43-.59-.52 0-1.04.2-1.43.59L10.3 9.45l-7.72 7.72c-.78.78-.78 2.05 0 2.83L4 21.41c.39.39.9.59 1.41.59.51 0 1.02-.2 1.41-.59l7.78-7.78 2.81-2.81c.8-.78.8-2.07 0-2.86zM5.41 20L4 18.59l7.72-7.72 1.47 1.35L5.41 20z\"/>\n",
              "  </svg>\n",
              "      </button>\n",
              "      \n",
              "  <style>\n",
              "    .colab-df-container {\n",
              "      display:flex;\n",
              "      flex-wrap:wrap;\n",
              "      gap: 12px;\n",
              "    }\n",
              "\n",
              "    .colab-df-convert {\n",
              "      background-color: #E8F0FE;\n",
              "      border: none;\n",
              "      border-radius: 50%;\n",
              "      cursor: pointer;\n",
              "      display: none;\n",
              "      fill: #1967D2;\n",
              "      height: 32px;\n",
              "      padding: 0 0 0 0;\n",
              "      width: 32px;\n",
              "    }\n",
              "\n",
              "    .colab-df-convert:hover {\n",
              "      background-color: #E2EBFA;\n",
              "      box-shadow: 0px 1px 2px rgba(60, 64, 67, 0.3), 0px 1px 3px 1px rgba(60, 64, 67, 0.15);\n",
              "      fill: #174EA6;\n",
              "    }\n",
              "\n",
              "    [theme=dark] .colab-df-convert {\n",
              "      background-color: #3B4455;\n",
              "      fill: #D2E3FC;\n",
              "    }\n",
              "\n",
              "    [theme=dark] .colab-df-convert:hover {\n",
              "      background-color: #434B5C;\n",
              "      box-shadow: 0px 1px 3px 1px rgba(0, 0, 0, 0.15);\n",
              "      filter: drop-shadow(0px 1px 2px rgba(0, 0, 0, 0.3));\n",
              "      fill: #FFFFFF;\n",
              "    }\n",
              "  </style>\n",
              "\n",
              "      <script>\n",
              "        const buttonEl =\n",
              "          document.querySelector('#df-0d3927f0-f1e9-4fa3-8246-0ac6a8c6fb0c button.colab-df-convert');\n",
              "        buttonEl.style.display =\n",
              "          google.colab.kernel.accessAllowed ? 'block' : 'none';\n",
              "\n",
              "        async function convertToInteractive(key) {\n",
              "          const element = document.querySelector('#df-0d3927f0-f1e9-4fa3-8246-0ac6a8c6fb0c');\n",
              "          const dataTable =\n",
              "            await google.colab.kernel.invokeFunction('convertToInteractive',\n",
              "                                                     [key], {});\n",
              "          if (!dataTable) return;\n",
              "\n",
              "          const docLinkHtml = 'Like what you see? Visit the ' +\n",
              "            '<a target=\"_blank\" href=https://colab.research.google.com/notebooks/data_table.ipynb>data table notebook</a>'\n",
              "            + ' to learn more about interactive tables.';\n",
              "          element.innerHTML = '';\n",
              "          dataTable['output_type'] = 'display_data';\n",
              "          await google.colab.output.renderOutput(dataTable, element);\n",
              "          const docLink = document.createElement('div');\n",
              "          docLink.innerHTML = docLinkHtml;\n",
              "          element.appendChild(docLink);\n",
              "        }\n",
              "      </script>\n",
              "    </div>\n",
              "  </div>\n",
              "  "
            ]
          },
          "metadata": {},
          "execution_count": 15
        }
      ]
    },
    {
      "cell_type": "code",
      "source": [
        "subset_df.shape"
      ],
      "metadata": {
        "colab": {
          "base_uri": "https://localhost:8080/"
        },
        "id": "REy3UK3Zyr5G",
        "outputId": "77a8fd5b-3665-4bdb-8c4a-2b4c61f51385"
      },
      "execution_count": 16,
      "outputs": [
        {
          "output_type": "execute_result",
          "data": {
            "text/plain": [
              "(10000, 2)"
            ]
          },
          "metadata": {},
          "execution_count": 16
        }
      ]
    },
    {
      "cell_type": "code",
      "source": [
        "subset_df['discourse_type'].value_counts()\n",
        "\n",
        "# classes present in the target variable"
      ],
      "metadata": {
        "colab": {
          "base_uri": "https://localhost:8080/"
        },
        "id": "w8fI8Gaayr2w",
        "outputId": "1aa1a001-5cb8-45af-a7d5-83f7d11668a8"
      },
      "execution_count": 17,
      "outputs": [
        {
          "output_type": "execute_result",
          "data": {
            "text/plain": [
              "Evidence                3317\n",
              "Claim                   3268\n",
              "Position                1076\n",
              "Concluding Statement     913\n",
              "Lead                     817\n",
              "Counterclaim             340\n",
              "Rebuttal                 269\n",
              "Name: discourse_type, dtype: int64"
            ]
          },
          "metadata": {},
          "execution_count": 17
        }
      ]
    },
    {
      "cell_type": "markdown",
      "source": [
        "# 4. Separate features and labels, and split the data into training and testing "
      ],
      "metadata": {
        "id": "FpHpTt0byo6v"
      }
    },
    {
      "cell_type": "code",
      "source": [
        "from sklearn.model_selection import train_test_split\n",
        "\n",
        "X = subset_df.loc[:, 'discourse_text']\n",
        "y = subset_df.loc[:, 'discourse_type']\n",
        "\n",
        "X_train, X_test, y_train, y_test = train_test_split(X, y, test_size=0.3, random_state=42)"
      ],
      "metadata": {
        "id": "wJYeIzaOpWn7"
      },
      "execution_count": 18,
      "outputs": []
    },
    {
      "cell_type": "markdown",
      "source": [
        "# 5. Vectorize the features"
      ],
      "metadata": {
        "id": "wMK7XObw2lzf"
      }
    },
    {
      "cell_type": "code",
      "source": [
        ""
      ],
      "metadata": {
        "id": "322mmfss9YPz"
      },
      "execution_count": null,
      "outputs": []
    },
    {
      "cell_type": "markdown",
      "source": [
        "### a. Create a Bag of Words using count vectorizer"
      ],
      "metadata": {
        "id": "O51fh8ay9Y1N"
      }
    },
    {
      "cell_type": "code",
      "source": [
        "from sklearn.feature_extraction.text import CountVectorizer\n",
        "\n",
        "# creating the bag of words using the \n",
        "count_vec = CountVectorizer(ngram_range=(1, 2))\n",
        "\n",
        "# training the count vectorizer on the train data\n",
        "count_vec.fit(X_train)"
      ],
      "metadata": {
        "colab": {
          "base_uri": "https://localhost:8080/"
        },
        "id": "6FXPfm9HpWki",
        "outputId": "d8f3cd4a-6df8-40d7-de91-d170f6d82da0"
      },
      "execution_count": 19,
      "outputs": [
        {
          "output_type": "execute_result",
          "data": {
            "text/plain": [
              "CountVectorizer(ngram_range=(1, 2))"
            ]
          },
          "metadata": {},
          "execution_count": 19
        }
      ]
    },
    {
      "cell_type": "code",
      "source": [
        "# transforming the train and test datasets\n",
        "\n",
        "X_train_count_vec = count_vec.transform(X_train)\n",
        "X_test_count_vec = count_vec.transform(X_test)\n",
        "\n",
        "X_train_count_vec = X_train_count_vec.toarray()\n",
        "X_test_count_vec = X_test_count_vec.toarray()\n",
        "\n",
        "print(X_train_count_vec.shape)\n",
        "print(X_test_count_vec.shape)"
      ],
      "metadata": {
        "colab": {
          "base_uri": "https://localhost:8080/"
        },
        "id": "7PPZgA5VpWhc",
        "outputId": "bc1baece-f97d-41b3-878c-4e1c183f2a1f"
      },
      "execution_count": 20,
      "outputs": [
        {
          "output_type": "stream",
          "name": "stdout",
          "text": [
            "(7000, 96054)\n",
            "(3000, 96054)\n"
          ]
        }
      ]
    },
    {
      "cell_type": "code",
      "source": [
        ""
      ],
      "metadata": {
        "id": "eBnKMYji9TvR"
      },
      "execution_count": null,
      "outputs": []
    },
    {
      "cell_type": "markdown",
      "source": [
        "### b. Print the term-document matrix"
      ],
      "metadata": {
        "id": "lS0ZNM0Y9U0_"
      }
    },
    {
      "cell_type": "code",
      "source": [
        "from sklearn.feature_extraction.text import TfidfVectorizer\n",
        "\n",
        "tfidf_vec = TfidfVectorizer()\n",
        "tfidf_vec.fit(X_train)\n",
        "\n",
        "X_train_tfidf_vec = tfidf_vec.transform(X_train)\n",
        "X_test_tfidf_vec = tfidf_vec.transform(X_test)\n",
        "\n",
        "X_train_tfidf_vec = X_train_tfidf_vec.toarray()\n",
        "X_test_tfidf_vec = X_test_tfidf_vec.toarray()\n",
        "\n",
        "print(X_train_tfidf_vec.shape)\n",
        "print(X_test_tfidf_vec.shape)"
      ],
      "metadata": {
        "colab": {
          "base_uri": "https://localhost:8080/"
        },
        "id": "iM247J8J6BuM",
        "outputId": "d62d2f07-05a3-483d-f72a-90faa28b3b37"
      },
      "execution_count": 22,
      "outputs": [
        {
          "output_type": "stream",
          "name": "stdout",
          "text": [
            "(7000, 10337)\n",
            "(3000, 10337)\n"
          ]
        }
      ]
    },
    {
      "cell_type": "markdown",
      "source": [
        "# 6. Create a dictionary to get the count of every label "
      ],
      "metadata": {
        "id": "WPgYB18r9lDr"
      }
    },
    {
      "cell_type": "code",
      "source": [
        "dict(y_train.value_counts())"
      ],
      "metadata": {
        "colab": {
          "base_uri": "https://localhost:8080/"
        },
        "id": "fXbelMWd9IYG",
        "outputId": "e2afaddc-176f-42e1-f6ba-a033d972dfe9"
      },
      "execution_count": 24,
      "outputs": [
        {
          "output_type": "execute_result",
          "data": {
            "text/plain": [
              "{'Claim': 2285,\n",
              " 'Concluding Statement': 648,\n",
              " 'Counterclaim': 240,\n",
              " 'Evidence': 2284,\n",
              " 'Lead': 572,\n",
              " 'Position': 783,\n",
              " 'Rebuttal': 188}"
            ]
          },
          "metadata": {},
          "execution_count": 24
        }
      ]
    },
    {
      "cell_type": "code",
      "source": [
        "dict(y_test.value_counts())"
      ],
      "metadata": {
        "colab": {
          "base_uri": "https://localhost:8080/"
        },
        "id": "NiMjIQww9H58",
        "outputId": "9f1c7131-2c81-4928-d5c3-0e6cfb9f2c08"
      },
      "execution_count": 25,
      "outputs": [
        {
          "output_type": "execute_result",
          "data": {
            "text/plain": [
              "{'Claim': 983,\n",
              " 'Concluding Statement': 265,\n",
              " 'Counterclaim': 100,\n",
              " 'Evidence': 1033,\n",
              " 'Lead': 245,\n",
              " 'Position': 293,\n",
              " 'Rebuttal': 81}"
            ]
          },
          "metadata": {},
          "execution_count": 25
        }
      ]
    },
    {
      "cell_type": "markdown",
      "source": [
        "# 7. Transform the labels"
      ],
      "metadata": {
        "id": "1Wf7NvBV9zxC"
      }
    },
    {
      "cell_type": "code",
      "source": [
        "# for the case of this project, instead of a MultiLabelBinarizer, we could use a LabelEncoder\n",
        "\n",
        "from sklearn.preprocessing import LabelEncoder\n",
        "\n",
        "label_enc = LabelEncoder()\n",
        "\n",
        "label_enc.fit(y_train)\n",
        "\n",
        "# checking the classes that have been fit\n",
        "label_enc.classes_"
      ],
      "metadata": {
        "colab": {
          "base_uri": "https://localhost:8080/"
        },
        "id": "Y9XTE4Wr9w5b",
        "outputId": "b132425c-fab9-4538-b715-0ec374f651ce"
      },
      "execution_count": 26,
      "outputs": [
        {
          "output_type": "execute_result",
          "data": {
            "text/plain": [
              "array(['Claim', 'Concluding Statement', 'Counterclaim', 'Evidence',\n",
              "       'Lead', 'Position', 'Rebuttal'], dtype=object)"
            ]
          },
          "metadata": {},
          "execution_count": 26
        }
      ]
    },
    {
      "cell_type": "code",
      "source": [
        "y_train_enc = label_enc.transform(y_train)\n",
        "y_test_enc = label_enc.transform(y_test)"
      ],
      "metadata": {
        "id": "iFDluyQZ-fQN"
      },
      "execution_count": 27,
      "outputs": []
    },
    {
      "cell_type": "markdown",
      "source": [
        "# 8. Choose a classifier"
      ],
      "metadata": {
        "id": "Drx7cS1K-1D6"
      }
    },
    {
      "cell_type": "code",
      "source": [
        "pd.DataFrame(X_train_tfidf_vec).max()"
      ],
      "metadata": {
        "colab": {
          "base_uri": "https://localhost:8080/"
        },
        "id": "clgdmW_Y--hB",
        "outputId": "18460312-1a91-4419-84cc-a56734173f14"
      },
      "execution_count": 34,
      "outputs": [
        {
          "output_type": "execute_result",
          "data": {
            "text/plain": [
              "0        0.406998\n",
              "1        0.352070\n",
              "2        0.180203\n",
              "3        0.356580\n",
              "4        0.475920\n",
              "           ...   \n",
              "10332    0.294067\n",
              "10333    0.532181\n",
              "10334    0.516665\n",
              "10335    0.626397\n",
              "10336    0.282313\n",
              "Length: 10337, dtype: float64"
            ]
          },
          "metadata": {},
          "execution_count": 34
        }
      ]
    },
    {
      "cell_type": "code",
      "source": [
        "# first trying a naive bayes classifier, wrapped in a OneVsRest classifier\n",
        "\n",
        "from sklearn.naive_bayes import GaussianNB\n",
        "from sklearn.multiclass import OneVsRestClassifier\n",
        "\n",
        "gnb = GaussianNB()\n",
        "ovr_clf_gnb = OneVsRestClassifier(estimator=gnb)\n",
        "\n",
        "ovr_clf_gnb.fit(X_train_tfidf_vec, y_train_enc)"
      ],
      "metadata": {
        "colab": {
          "base_uri": "https://localhost:8080/"
        },
        "id": "_rXM2yw5-tit",
        "outputId": "23aa7bcf-b995-46b2-b02a-bea5b7ad448c"
      },
      "execution_count": 42,
      "outputs": [
        {
          "output_type": "execute_result",
          "data": {
            "text/plain": [
              "OneVsRestClassifier(estimator=GaussianNB())"
            ]
          },
          "metadata": {},
          "execution_count": 42
        }
      ]
    },
    {
      "cell_type": "code",
      "source": [
        "y_preds_enc = ovr_clf_gnb.predict(X_test_tfidf_vec)"
      ],
      "metadata": {
        "id": "wa40yeS_-wnC"
      },
      "execution_count": 44,
      "outputs": []
    },
    {
      "cell_type": "code",
      "source": [
        "from sklearn.metrics import classification_report, confusion_matrix, accuracy_score, cohen_kappa_score"
      ],
      "metadata": {
        "id": "4eN6j9ZE-wkb"
      },
      "execution_count": 46,
      "outputs": []
    },
    {
      "cell_type": "code",
      "source": [
        "print('Accuracy for GaussianNB classifier set is: ', accuracy_score(y_test_enc, y_preds_enc))"
      ],
      "metadata": {
        "colab": {
          "base_uri": "https://localhost:8080/"
        },
        "id": "aN2Teooe-wiE",
        "outputId": "9ed25215-dec3-42d0-8cb6-138b0a5acfb8"
      },
      "execution_count": 48,
      "outputs": [
        {
          "output_type": "stream",
          "name": "stdout",
          "text": [
            "Accuracy for GaussianNB classifier set is:  0.276\n"
          ]
        }
      ]
    },
    {
      "cell_type": "code",
      "source": [
        "print('Classification report \\n', classification_report(y_test_enc, y_preds_enc))"
      ],
      "metadata": {
        "colab": {
          "base_uri": "https://localhost:8080/"
        },
        "id": "-m8v298a-wfv",
        "outputId": "82d625ce-c40d-4f1b-cccc-57923f635e8f"
      },
      "execution_count": 49,
      "outputs": [
        {
          "output_type": "stream",
          "name": "stdout",
          "text": [
            "Classification report \n",
            "               precision    recall  f1-score   support\n",
            "\n",
            "           0       0.41      0.09      0.14       983\n",
            "           1       0.19      0.22      0.21       265\n",
            "           2       0.55      0.06      0.11       100\n",
            "           3       0.65      0.48      0.55      1033\n",
            "           4       0.12      0.29      0.17       245\n",
            "           5       0.28      0.29      0.28       293\n",
            "           6       0.04      0.38      0.07        81\n",
            "\n",
            "    accuracy                           0.28      3000\n",
            "   macro avg       0.32      0.26      0.22      3000\n",
            "weighted avg       0.43      0.28      0.30      3000\n",
            "\n"
          ]
        }
      ]
    },
    {
      "cell_type": "code",
      "source": [
        "# next trying a Logistic Regression \n",
        "\n",
        "from sklearn.linear_model import LogisticRegression\n",
        "\n",
        "log_reg = LogisticRegression()\n",
        "ovr_clf_lr = OneVsRestClassifier(estimator=log_reg)\n",
        "ovr_clf_lr.fit(X_train_tfidf_vec, y_train_enc)"
      ],
      "metadata": {
        "colab": {
          "base_uri": "https://localhost:8080/"
        },
        "id": "9IXR6MgO-wdH",
        "outputId": "b4c8ac9b-e4a9-481c-bc0a-c008ca97dadf"
      },
      "execution_count": 51,
      "outputs": [
        {
          "output_type": "execute_result",
          "data": {
            "text/plain": [
              "OneVsRestClassifier(estimator=LogisticRegression())"
            ]
          },
          "metadata": {},
          "execution_count": 51
        }
      ]
    },
    {
      "cell_type": "code",
      "source": [
        "y_preds_enc = ovr_clf_lr.predict(X_test_tfidf_vec)"
      ],
      "metadata": {
        "id": "336z4DB0-way"
      },
      "execution_count": 52,
      "outputs": []
    },
    {
      "cell_type": "code",
      "source": [
        "print('Accuracy for Logistic Regression Classifier set is: ', accuracy_score(y_test_enc, y_preds_enc))"
      ],
      "metadata": {
        "colab": {
          "base_uri": "https://localhost:8080/"
        },
        "id": "pXBW7BmG-wYM",
        "outputId": "48cf5913-feee-49ba-843f-8020448ec907"
      },
      "execution_count": 53,
      "outputs": [
        {
          "output_type": "stream",
          "name": "stdout",
          "text": [
            "Accuracy for Logistic Regression Classifier set is:  0.6523333333333333\n"
          ]
        }
      ]
    },
    {
      "cell_type": "code",
      "source": [
        "print('Classification report \\n', classification_report(y_test_enc, y_preds_enc))"
      ],
      "metadata": {
        "colab": {
          "base_uri": "https://localhost:8080/"
        },
        "id": "j2UXff1iBvWk",
        "outputId": "15d59570-80da-4991-ca1f-d84cbe773f3f"
      },
      "execution_count": 54,
      "outputs": [
        {
          "output_type": "stream",
          "name": "stdout",
          "text": [
            "Classification report \n",
            "               precision    recall  f1-score   support\n",
            "\n",
            "           0       0.63      0.81      0.71       983\n",
            "           1       0.75      0.30      0.43       265\n",
            "           2       0.74      0.23      0.35       100\n",
            "           3       0.67      0.79      0.73      1033\n",
            "           4       0.65      0.31      0.42       245\n",
            "           5       0.64      0.52      0.58       293\n",
            "           6       0.89      0.10      0.18        81\n",
            "\n",
            "    accuracy                           0.65      3000\n",
            "   macro avg       0.71      0.44      0.48      3000\n",
            "weighted avg       0.67      0.65      0.63      3000\n",
            "\n"
          ]
        }
      ]
    },
    {
      "cell_type": "code",
      "source": [
        "# next trying using a Decision Tree Classifier\n",
        "\n",
        "from sklearn.tree import DecisionTreeClassifier\n",
        "\n",
        "dt = DecisionTreeClassifier(max_depth=100)\n",
        "\n",
        "ovr_clf_dt = OneVsRestClassifier(estimator=dt)\n",
        "ovr_clf_dt.fit(X_train_tfidf_vec, y_train)"
      ],
      "metadata": {
        "colab": {
          "base_uri": "https://localhost:8080/"
        },
        "id": "i9S101ktBvTs",
        "outputId": "e90143cb-b448-4ed8-f96c-5084bf8dcc61"
      },
      "execution_count": 55,
      "outputs": [
        {
          "output_type": "execute_result",
          "data": {
            "text/plain": [
              "OneVsRestClassifier(estimator=DecisionTreeClassifier(max_depth=100))"
            ]
          },
          "metadata": {},
          "execution_count": 55
        }
      ]
    },
    {
      "cell_type": "code",
      "source": [
        "y_preds_enc = ovr_clf_dt.predict(X_test_tfidf_vec)"
      ],
      "metadata": {
        "id": "wOPSXIOQBvRG"
      },
      "execution_count": 57,
      "outputs": []
    },
    {
      "cell_type": "code",
      "source": [
        "print('Accuracy for Decision Tree Classifier set is: ', accuracy_score(y_test, y_preds_enc))"
      ],
      "metadata": {
        "colab": {
          "base_uri": "https://localhost:8080/"
        },
        "id": "UO1FEzqFBvOg",
        "outputId": "2b2d3cf5-cef7-41c8-a620-43edafd93644"
      },
      "execution_count": 61,
      "outputs": [
        {
          "output_type": "stream",
          "name": "stdout",
          "text": [
            "Accuracy for Decision Tree Classifier set is:  0.4583333333333333\n"
          ]
        }
      ]
    },
    {
      "cell_type": "code",
      "source": [
        "print('Classification report \\n', classification_report(y_test, y_preds_enc))"
      ],
      "metadata": {
        "colab": {
          "base_uri": "https://localhost:8080/"
        },
        "id": "aOLFRLMWBvJz",
        "outputId": "24be4078-1f2e-4b50-edc6-c8152a686590"
      },
      "execution_count": 63,
      "outputs": [
        {
          "output_type": "stream",
          "name": "stdout",
          "text": [
            "Classification report \n",
            "                       precision    recall  f1-score   support\n",
            "\n",
            "               Claim       0.69      0.51      0.59       983\n",
            "Concluding Statement       0.24      0.23      0.23       265\n",
            "        Counterclaim       0.43      0.26      0.33       100\n",
            "            Evidence       0.56      0.56      0.56      1033\n",
            "                Lead       0.31      0.25      0.28       245\n",
            "            Position       0.21      0.46      0.29       293\n",
            "            Rebuttal       0.19      0.19      0.19        81\n",
            "\n",
            "            accuracy                           0.46      3000\n",
            "           macro avg       0.38      0.35      0.35      3000\n",
            "        weighted avg       0.50      0.46      0.47      3000\n",
            "\n"
          ]
        }
      ]
    },
    {
      "cell_type": "code",
      "source": [
        "# picking the logistic Regression classifier as it's the best performing classifier"
      ],
      "metadata": {
        "id": "IoBoQCyqEQA9"
      },
      "execution_count": null,
      "outputs": []
    },
    {
      "cell_type": "markdown",
      "source": [
        "#### i. Accuracy score"
      ],
      "metadata": {
        "id": "ii7Q9xW8C3xs"
      }
    },
    {
      "cell_type": "code",
      "source": [
        "y_preds_enc = ovr_clf_lr.predict(X_test_tfidf_vec)"
      ],
      "metadata": {
        "id": "EI03upAgC7ZL"
      },
      "execution_count": 64,
      "outputs": []
    },
    {
      "cell_type": "code",
      "source": [
        "print('The Accuracy achieved by a Logistic Classifier is: ', accuracy_score(y_test_enc, y_preds_enc))"
      ],
      "metadata": {
        "colab": {
          "base_uri": "https://localhost:8080/"
        },
        "id": "to5V4p9VEk4b",
        "outputId": "d2c29a08-4e49-4d26-ad76-445cb387002a"
      },
      "execution_count": 65,
      "outputs": [
        {
          "output_type": "stream",
          "name": "stdout",
          "text": [
            "The Accuracy achieved by a Logistic Classifier is:  0.6523333333333333\n"
          ]
        }
      ]
    },
    {
      "cell_type": "markdown",
      "source": [
        "#### ii. F1 score"
      ],
      "metadata": {
        "id": "uxKIY7BMC8Hy"
      }
    },
    {
      "cell_type": "code",
      "source": [
        "from sklearn.metrics import f1_score\n",
        "\n",
        "print('The weighted f1 score of the Logistic Classifier is: ', f1_score(y_test_enc, y_preds_enc, average='weighted'))"
      ],
      "metadata": {
        "colab": {
          "base_uri": "https://localhost:8080/"
        },
        "id": "r8ConQ6sBvG8",
        "outputId": "ebdfc554-c91e-425f-da74-96ff4d2c9d90"
      },
      "execution_count": 68,
      "outputs": [
        {
          "output_type": "stream",
          "name": "stdout",
          "text": [
            "The weighted f1 score of the Logistic Classifier is:  0.6263131725066086\n"
          ]
        }
      ]
    },
    {
      "cell_type": "markdown",
      "source": [
        "#### iii. Average precision score"
      ],
      "metadata": {
        "id": "UH2is8quC_QD"
      }
    },
    {
      "cell_type": "code",
      "source": [
        "from sklearn.metrics import precision_score\n",
        "\n",
        "print('The precision score of the Logistic Classifier is: ', precision_score(y_test_enc, y_preds_enc, average='weighted'))"
      ],
      "metadata": {
        "colab": {
          "base_uri": "https://localhost:8080/"
        },
        "id": "qdErLLBrBu_6",
        "outputId": "2851c7a5-38d1-4434-d5dd-00807dbaafbf"
      },
      "execution_count": 69,
      "outputs": [
        {
          "output_type": "stream",
          "name": "stdout",
          "text": [
            "The precision score of the Logistic Classifier is:  0.6658835338650161\n"
          ]
        }
      ]
    },
    {
      "cell_type": "markdown",
      "source": [
        "#### iv. Average recall score"
      ],
      "metadata": {
        "id": "PaDJtWBIDCS1"
      }
    },
    {
      "cell_type": "code",
      "source": [
        "from sklearn.metrics import recall_score\n",
        "\n",
        "print('The recall score of the Logistic Classifier is: ', recall_score(y_test_enc, y_preds_enc, average='weighted'))"
      ],
      "metadata": {
        "colab": {
          "base_uri": "https://localhost:8080/"
        },
        "id": "yrhiBDi-Bu9C",
        "outputId": "cee61491-f680-442c-edf5-3ef333f028bd"
      },
      "execution_count": 71,
      "outputs": [
        {
          "output_type": "stream",
          "name": "stdout",
          "text": [
            "The recall score of the Logistic Classifier is:  0.6523333333333333\n"
          ]
        }
      ]
    },
    {
      "cell_type": "markdown",
      "source": [
        "# 10. Print true label and predicted label for any five examples "
      ],
      "metadata": {
        "id": "yGJclFQ2DSqe"
      }
    },
    {
      "cell_type": "code",
      "source": [
        "# printing the labels for the top 5 instances in the test set\n",
        "\n",
        "y_preds_trans = label_enc.inverse_transform(y_preds_enc[:5])\n",
        "\n",
        "pd.DataFrame({'Text': X_test[:5], \n",
        "              'Actual Label': y_test[:5], \n",
        "              'Predicted Label': y_preds_trans})"
      ],
      "metadata": {
        "colab": {
          "base_uri": "https://localhost:8080/",
          "height": 206
        },
        "id": "X6zkN9p3Bu6t",
        "outputId": "52f6477f-8c93-473f-ee83-c7e5e33b0813"
      },
      "execution_count": 80,
      "outputs": [
        {
          "output_type": "execute_result",
          "data": {
            "text/plain": [
              "                                                   Text Actual Label  \\\n",
              "6252  avoid mishaps best drivers stay phones driving...     Evidence   \n",
              "4684  teens get cars cant stay phones likely ones ge...     Evidence   \n",
              "1731  texting driving become number one driving dist...        Claim   \n",
              "4742  prefer phone driving time put life others life...     Evidence   \n",
              "4521  use cell phones driving allowed death rates ke...     Position   \n",
              "\n",
              "     Predicted Label  \n",
              "6252        Evidence  \n",
              "4684        Evidence  \n",
              "1731           Claim  \n",
              "4742        Evidence  \n",
              "4521           Claim  "
            ],
            "text/html": [
              "\n",
              "  <div id=\"df-d2f0dff1-42cf-4515-9781-33a412b8dc62\">\n",
              "    <div class=\"colab-df-container\">\n",
              "      <div>\n",
              "<style scoped>\n",
              "    .dataframe tbody tr th:only-of-type {\n",
              "        vertical-align: middle;\n",
              "    }\n",
              "\n",
              "    .dataframe tbody tr th {\n",
              "        vertical-align: top;\n",
              "    }\n",
              "\n",
              "    .dataframe thead th {\n",
              "        text-align: right;\n",
              "    }\n",
              "</style>\n",
              "<table border=\"1\" class=\"dataframe\">\n",
              "  <thead>\n",
              "    <tr style=\"text-align: right;\">\n",
              "      <th></th>\n",
              "      <th>Text</th>\n",
              "      <th>Actual Label</th>\n",
              "      <th>Predicted Label</th>\n",
              "    </tr>\n",
              "  </thead>\n",
              "  <tbody>\n",
              "    <tr>\n",
              "      <th>6252</th>\n",
              "      <td>avoid mishaps best drivers stay phones driving...</td>\n",
              "      <td>Evidence</td>\n",
              "      <td>Evidence</td>\n",
              "    </tr>\n",
              "    <tr>\n",
              "      <th>4684</th>\n",
              "      <td>teens get cars cant stay phones likely ones ge...</td>\n",
              "      <td>Evidence</td>\n",
              "      <td>Evidence</td>\n",
              "    </tr>\n",
              "    <tr>\n",
              "      <th>1731</th>\n",
              "      <td>texting driving become number one driving dist...</td>\n",
              "      <td>Claim</td>\n",
              "      <td>Claim</td>\n",
              "    </tr>\n",
              "    <tr>\n",
              "      <th>4742</th>\n",
              "      <td>prefer phone driving time put life others life...</td>\n",
              "      <td>Evidence</td>\n",
              "      <td>Evidence</td>\n",
              "    </tr>\n",
              "    <tr>\n",
              "      <th>4521</th>\n",
              "      <td>use cell phones driving allowed death rates ke...</td>\n",
              "      <td>Position</td>\n",
              "      <td>Claim</td>\n",
              "    </tr>\n",
              "  </tbody>\n",
              "</table>\n",
              "</div>\n",
              "      <button class=\"colab-df-convert\" onclick=\"convertToInteractive('df-d2f0dff1-42cf-4515-9781-33a412b8dc62')\"\n",
              "              title=\"Convert this dataframe to an interactive table.\"\n",
              "              style=\"display:none;\">\n",
              "        \n",
              "  <svg xmlns=\"http://www.w3.org/2000/svg\" height=\"24px\"viewBox=\"0 0 24 24\"\n",
              "       width=\"24px\">\n",
              "    <path d=\"M0 0h24v24H0V0z\" fill=\"none\"/>\n",
              "    <path d=\"M18.56 5.44l.94 2.06.94-2.06 2.06-.94-2.06-.94-.94-2.06-.94 2.06-2.06.94zm-11 1L8.5 8.5l.94-2.06 2.06-.94-2.06-.94L8.5 2.5l-.94 2.06-2.06.94zm10 10l.94 2.06.94-2.06 2.06-.94-2.06-.94-.94-2.06-.94 2.06-2.06.94z\"/><path d=\"M17.41 7.96l-1.37-1.37c-.4-.4-.92-.59-1.43-.59-.52 0-1.04.2-1.43.59L10.3 9.45l-7.72 7.72c-.78.78-.78 2.05 0 2.83L4 21.41c.39.39.9.59 1.41.59.51 0 1.02-.2 1.41-.59l7.78-7.78 2.81-2.81c.8-.78.8-2.07 0-2.86zM5.41 20L4 18.59l7.72-7.72 1.47 1.35L5.41 20z\"/>\n",
              "  </svg>\n",
              "      </button>\n",
              "      \n",
              "  <style>\n",
              "    .colab-df-container {\n",
              "      display:flex;\n",
              "      flex-wrap:wrap;\n",
              "      gap: 12px;\n",
              "    }\n",
              "\n",
              "    .colab-df-convert {\n",
              "      background-color: #E8F0FE;\n",
              "      border: none;\n",
              "      border-radius: 50%;\n",
              "      cursor: pointer;\n",
              "      display: none;\n",
              "      fill: #1967D2;\n",
              "      height: 32px;\n",
              "      padding: 0 0 0 0;\n",
              "      width: 32px;\n",
              "    }\n",
              "\n",
              "    .colab-df-convert:hover {\n",
              "      background-color: #E2EBFA;\n",
              "      box-shadow: 0px 1px 2px rgba(60, 64, 67, 0.3), 0px 1px 3px 1px rgba(60, 64, 67, 0.15);\n",
              "      fill: #174EA6;\n",
              "    }\n",
              "\n",
              "    [theme=dark] .colab-df-convert {\n",
              "      background-color: #3B4455;\n",
              "      fill: #D2E3FC;\n",
              "    }\n",
              "\n",
              "    [theme=dark] .colab-df-convert:hover {\n",
              "      background-color: #434B5C;\n",
              "      box-shadow: 0px 1px 3px 1px rgba(0, 0, 0, 0.15);\n",
              "      filter: drop-shadow(0px 1px 2px rgba(0, 0, 0, 0.3));\n",
              "      fill: #FFFFFF;\n",
              "    }\n",
              "  </style>\n",
              "\n",
              "      <script>\n",
              "        const buttonEl =\n",
              "          document.querySelector('#df-d2f0dff1-42cf-4515-9781-33a412b8dc62 button.colab-df-convert');\n",
              "        buttonEl.style.display =\n",
              "          google.colab.kernel.accessAllowed ? 'block' : 'none';\n",
              "\n",
              "        async function convertToInteractive(key) {\n",
              "          const element = document.querySelector('#df-d2f0dff1-42cf-4515-9781-33a412b8dc62');\n",
              "          const dataTable =\n",
              "            await google.colab.kernel.invokeFunction('convertToInteractive',\n",
              "                                                     [key], {});\n",
              "          if (!dataTable) return;\n",
              "\n",
              "          const docLinkHtml = 'Like what you see? Visit the ' +\n",
              "            '<a target=\"_blank\" href=https://colab.research.google.com/notebooks/data_table.ipynb>data table notebook</a>'\n",
              "            + ' to learn more about interactive tables.';\n",
              "          element.innerHTML = '';\n",
              "          dataTable['output_type'] = 'display_data';\n",
              "          await google.colab.output.renderOutput(dataTable, element);\n",
              "          const docLink = document.createElement('div');\n",
              "          docLink.innerHTML = docLinkHtml;\n",
              "          element.appendChild(docLink);\n",
              "        }\n",
              "      </script>\n",
              "    </div>\n",
              "  </div>\n",
              "  "
            ]
          },
          "metadata": {},
          "execution_count": 80
        }
      ]
    },
    {
      "cell_type": "code",
      "source": [
        "# for the top 5 instances in the test set, the predicted and actual labels are almost matching."
      ],
      "metadata": {
        "id": "57Vq85TBBu3m"
      },
      "execution_count": null,
      "outputs": []
    }
  ]
}