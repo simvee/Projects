{
 "cells": [
  {
   "cell_type": "markdown",
   "metadata": {},
   "source": [
    "# USL FINAL EXAM"
   ]
  },
  {
   "cell_type": "markdown",
   "metadata": {},
   "source": [
    "### Dataset Information: \n",
    "These data were aggregated from a number of sources including the American Community Survey (census.gov), clinicaltrials.gov, and cancer.gov"
   ]
  },
  {
   "cell_type": "markdown",
   "metadata": {},
   "source": [
    "### ATTRIBUTES:\n",
    "\n",
    "avgAnnCount: Mean number of reported cases of cancer diagnosed annually\n",
    "\n",
    "avgDeathsPerYear: Mean number of reported mortalities due to cancer\n",
    "\n",
    "incidenceRate: Mean per capita (100,000) cancer diagoses\n",
    "\n",
    "medianIncome: Median income per county \n",
    "\n",
    "popEst2015: Population of county\n",
    "\n",
    "povertyPercent: Percent of populace in poverty\n",
    "\n",
    "studyPerCap: Per capita number of cancer-related clinical trials per county\n",
    "\n",
    "MedianAge: Median age of county residents\n",
    "\n",
    "MedianAgeMale: Median age of male county residents\n",
    "\n",
    "MedianAgeFemale: Median age of female county residents\n",
    "\n",
    "Geography: County name\n",
    "\n",
    "AvgHouseholdSize: Mean household size of county\n",
    "\n",
    "PercentMarried: Percent of county residents who are married\n",
    "\n",
    "PctNoHS18_24: Percent of county residents ages 18-24 highest education attained: less than high school\n",
    "\n",
    "PctHS18_24: Percent of county residents ages 18-24 highest education attained: high school diploma\n",
    "\n",
    "PctSomeCol18_24: Percent of county residents ages 18-24 highest education attained: some college \n",
    "\n",
    "PctBachDeg18_24: Percent of county residents ages 18-24 highest education attained: bachelor's degree\n",
    "\n",
    "PctHS25_Over: Percent of county residents ages 25 and over highest education attained: high school diploma\n",
    "\n",
    "PctBachDeg25_Over: Percent of county residents ages 25 and over highest education attained: bachelor's degree\n",
    "\n",
    "PctEmployed16_Over: Percent of county residents ages 16 and over employed\n",
    "\n",
    "PctUnemployed16_Over: Percent of county residents ages 16 and over unemployed\n",
    "\n",
    "PctPrivateCoverage: Percent of county residents with private health coverage\n",
    "\n",
    "PctPrivateCoverageAlone: Percent of county residents with private health coverage alone (no public assistance)\n",
    "\n",
    "PctEmpPrivCoverage: Percent of county residents with employee-provided private health coverage\n",
    "\n",
    "PctPublicCoverage: Percent of county residents with government-provided health coverage\n",
    "\n",
    "PctPubliceCoverageAlone: Percent of county residents with government-provided health coverage alone \n",
    "\n",
    "PctWhite: Percent of county residents who identify as White\n",
    "\n",
    "PctBlack: Percent of county residents who identify as Black\n",
    "\n",
    "PctAsian: Percent of county residents who identify as Asian\n",
    "\n",
    "PctOtherRace: Percent of county residents who identify in a category which is not White, Black, or Asian\n",
    "\n",
    "PctMarriedHouseholds: Percent of married households\n",
    "\n",
    "BirthRate: Number of live births relative to number of women in county"
   ]
  },
  {
   "cell_type": "markdown",
   "metadata": {},
   "source": [
    "### 1.\tData Understanding (5 marks)\n"
   ]
  },
  {
   "cell_type": "code",
   "execution_count": 57,
   "metadata": {},
   "outputs": [],
   "source": [
    "import pandas as pd\n",
    "import numpy as np\n",
    "import matplotlib.pyplot as plt\n",
    "import seaborn as sns\n",
    "\n",
    "pd.set_option('display.max_columns', None)"
   ]
  },
  {
   "cell_type": "code",
   "execution_count": 231,
   "metadata": {
    "scrolled": true
   },
   "outputs": [
    {
     "data": {
      "text/html": [
       "<div>\n",
       "<style scoped>\n",
       "    .dataframe tbody tr th:only-of-type {\n",
       "        vertical-align: middle;\n",
       "    }\n",
       "\n",
       "    .dataframe tbody tr th {\n",
       "        vertical-align: top;\n",
       "    }\n",
       "\n",
       "    .dataframe thead th {\n",
       "        text-align: right;\n",
       "    }\n",
       "</style>\n",
       "<table border=\"1\" class=\"dataframe\">\n",
       "  <thead>\n",
       "    <tr style=\"text-align: right;\">\n",
       "      <th></th>\n",
       "      <th>avgAnnCount</th>\n",
       "      <th>avgDeathsPerYear</th>\n",
       "      <th>TARGET_deathRate</th>\n",
       "      <th>incidenceRate</th>\n",
       "      <th>medIncome</th>\n",
       "      <th>popEst2015</th>\n",
       "      <th>povertyPercent</th>\n",
       "      <th>studyPerCap</th>\n",
       "      <th>MedianAge</th>\n",
       "      <th>MedianAgeMale</th>\n",
       "      <th>MedianAgeFemale</th>\n",
       "      <th>Geography</th>\n",
       "      <th>AvgHouseholdSize</th>\n",
       "      <th>PercentMarried</th>\n",
       "      <th>PctNoHS18_24</th>\n",
       "      <th>PctHS18_24</th>\n",
       "      <th>PctSomeCol18_24</th>\n",
       "      <th>PctBachDeg18_24</th>\n",
       "      <th>PctHS25_Over</th>\n",
       "      <th>PctBachDeg25_Over</th>\n",
       "      <th>PctEmployed16_Over</th>\n",
       "      <th>PctUnemployed16_Over</th>\n",
       "      <th>PctPrivateCoverage</th>\n",
       "      <th>PctPrivateCoverageAlone</th>\n",
       "      <th>PctEmpPrivCoverage</th>\n",
       "      <th>PctPublicCoverage</th>\n",
       "      <th>PctPublicCoverageAlone</th>\n",
       "      <th>PctWhite</th>\n",
       "      <th>PctBlack</th>\n",
       "      <th>PctAsian</th>\n",
       "      <th>PctOtherRace</th>\n",
       "      <th>PctMarriedHouseholds</th>\n",
       "      <th>BirthRate</th>\n",
       "    </tr>\n",
       "  </thead>\n",
       "  <tbody>\n",
       "    <tr>\n",
       "      <th>0</th>\n",
       "      <td>1397.0</td>\n",
       "      <td>469</td>\n",
       "      <td>164.9</td>\n",
       "      <td>489.8</td>\n",
       "      <td>61898</td>\n",
       "      <td>260131</td>\n",
       "      <td>11.2</td>\n",
       "      <td>499.748204</td>\n",
       "      <td>39.3</td>\n",
       "      <td>36.9</td>\n",
       "      <td>41.7</td>\n",
       "      <td>Kitsap County, Washington</td>\n",
       "      <td>2.54</td>\n",
       "      <td>52.5</td>\n",
       "      <td>11.5</td>\n",
       "      <td>39.5</td>\n",
       "      <td>42.1</td>\n",
       "      <td>6.9</td>\n",
       "      <td>23.2</td>\n",
       "      <td>19.6</td>\n",
       "      <td>51.9</td>\n",
       "      <td>8.0</td>\n",
       "      <td>75.1</td>\n",
       "      <td>NaN</td>\n",
       "      <td>41.6</td>\n",
       "      <td>32.9</td>\n",
       "      <td>14.0</td>\n",
       "      <td>81.780529</td>\n",
       "      <td>2.594728</td>\n",
       "      <td>4.821857</td>\n",
       "      <td>1.843479</td>\n",
       "      <td>52.856076</td>\n",
       "      <td>6.118831</td>\n",
       "    </tr>\n",
       "    <tr>\n",
       "      <th>1</th>\n",
       "      <td>173.0</td>\n",
       "      <td>70</td>\n",
       "      <td>161.3</td>\n",
       "      <td>411.6</td>\n",
       "      <td>48127</td>\n",
       "      <td>43269</td>\n",
       "      <td>18.6</td>\n",
       "      <td>23.111234</td>\n",
       "      <td>33.0</td>\n",
       "      <td>32.2</td>\n",
       "      <td>33.7</td>\n",
       "      <td>Kittitas County, Washington</td>\n",
       "      <td>2.34</td>\n",
       "      <td>44.5</td>\n",
       "      <td>6.1</td>\n",
       "      <td>22.4</td>\n",
       "      <td>64.0</td>\n",
       "      <td>7.5</td>\n",
       "      <td>26.0</td>\n",
       "      <td>22.7</td>\n",
       "      <td>55.9</td>\n",
       "      <td>7.8</td>\n",
       "      <td>70.2</td>\n",
       "      <td>53.8</td>\n",
       "      <td>43.6</td>\n",
       "      <td>31.1</td>\n",
       "      <td>15.3</td>\n",
       "      <td>89.228509</td>\n",
       "      <td>0.969102</td>\n",
       "      <td>2.246233</td>\n",
       "      <td>3.741352</td>\n",
       "      <td>45.372500</td>\n",
       "      <td>4.333096</td>\n",
       "    </tr>\n",
       "    <tr>\n",
       "      <th>2</th>\n",
       "      <td>102.0</td>\n",
       "      <td>50</td>\n",
       "      <td>174.7</td>\n",
       "      <td>349.7</td>\n",
       "      <td>49348</td>\n",
       "      <td>21026</td>\n",
       "      <td>14.6</td>\n",
       "      <td>47.560164</td>\n",
       "      <td>45.0</td>\n",
       "      <td>44.0</td>\n",
       "      <td>45.8</td>\n",
       "      <td>Klickitat County, Washington</td>\n",
       "      <td>2.62</td>\n",
       "      <td>54.2</td>\n",
       "      <td>24.0</td>\n",
       "      <td>36.6</td>\n",
       "      <td>NaN</td>\n",
       "      <td>9.5</td>\n",
       "      <td>29.0</td>\n",
       "      <td>16.0</td>\n",
       "      <td>45.9</td>\n",
       "      <td>7.0</td>\n",
       "      <td>63.7</td>\n",
       "      <td>43.5</td>\n",
       "      <td>34.9</td>\n",
       "      <td>42.1</td>\n",
       "      <td>21.1</td>\n",
       "      <td>90.922190</td>\n",
       "      <td>0.739673</td>\n",
       "      <td>0.465898</td>\n",
       "      <td>2.747358</td>\n",
       "      <td>54.444868</td>\n",
       "      <td>3.729488</td>\n",
       "    </tr>\n",
       "    <tr>\n",
       "      <th>3</th>\n",
       "      <td>427.0</td>\n",
       "      <td>202</td>\n",
       "      <td>194.8</td>\n",
       "      <td>430.4</td>\n",
       "      <td>44243</td>\n",
       "      <td>75882</td>\n",
       "      <td>17.1</td>\n",
       "      <td>342.637253</td>\n",
       "      <td>42.8</td>\n",
       "      <td>42.2</td>\n",
       "      <td>43.4</td>\n",
       "      <td>Lewis County, Washington</td>\n",
       "      <td>2.52</td>\n",
       "      <td>52.7</td>\n",
       "      <td>20.2</td>\n",
       "      <td>41.2</td>\n",
       "      <td>36.1</td>\n",
       "      <td>2.5</td>\n",
       "      <td>31.6</td>\n",
       "      <td>9.3</td>\n",
       "      <td>48.3</td>\n",
       "      <td>12.1</td>\n",
       "      <td>58.4</td>\n",
       "      <td>40.3</td>\n",
       "      <td>35.0</td>\n",
       "      <td>45.3</td>\n",
       "      <td>25.0</td>\n",
       "      <td>91.744686</td>\n",
       "      <td>0.782626</td>\n",
       "      <td>1.161359</td>\n",
       "      <td>1.362643</td>\n",
       "      <td>51.021514</td>\n",
       "      <td>4.603841</td>\n",
       "    </tr>\n",
       "    <tr>\n",
       "      <th>4</th>\n",
       "      <td>57.0</td>\n",
       "      <td>26</td>\n",
       "      <td>144.4</td>\n",
       "      <td>350.1</td>\n",
       "      <td>49955</td>\n",
       "      <td>10321</td>\n",
       "      <td>12.5</td>\n",
       "      <td>0.000000</td>\n",
       "      <td>48.3</td>\n",
       "      <td>47.8</td>\n",
       "      <td>48.9</td>\n",
       "      <td>Lincoln County, Washington</td>\n",
       "      <td>2.34</td>\n",
       "      <td>57.8</td>\n",
       "      <td>14.9</td>\n",
       "      <td>43.0</td>\n",
       "      <td>40.0</td>\n",
       "      <td>2.0</td>\n",
       "      <td>33.4</td>\n",
       "      <td>15.0</td>\n",
       "      <td>48.2</td>\n",
       "      <td>4.8</td>\n",
       "      <td>61.6</td>\n",
       "      <td>43.9</td>\n",
       "      <td>35.1</td>\n",
       "      <td>44.0</td>\n",
       "      <td>22.7</td>\n",
       "      <td>94.104024</td>\n",
       "      <td>0.270192</td>\n",
       "      <td>0.665830</td>\n",
       "      <td>0.492135</td>\n",
       "      <td>54.027460</td>\n",
       "      <td>6.796657</td>\n",
       "    </tr>\n",
       "  </tbody>\n",
       "</table>\n",
       "</div>"
      ],
      "text/plain": [
       "   avgAnnCount  avgDeathsPerYear  TARGET_deathRate  incidenceRate  medIncome  \\\n",
       "0       1397.0               469             164.9          489.8      61898   \n",
       "1        173.0                70             161.3          411.6      48127   \n",
       "2        102.0                50             174.7          349.7      49348   \n",
       "3        427.0               202             194.8          430.4      44243   \n",
       "4         57.0                26             144.4          350.1      49955   \n",
       "\n",
       "   popEst2015  povertyPercent  studyPerCap  MedianAge  MedianAgeMale  \\\n",
       "0      260131            11.2   499.748204       39.3           36.9   \n",
       "1       43269            18.6    23.111234       33.0           32.2   \n",
       "2       21026            14.6    47.560164       45.0           44.0   \n",
       "3       75882            17.1   342.637253       42.8           42.2   \n",
       "4       10321            12.5     0.000000       48.3           47.8   \n",
       "\n",
       "   MedianAgeFemale                     Geography  AvgHouseholdSize  \\\n",
       "0             41.7     Kitsap County, Washington              2.54   \n",
       "1             33.7   Kittitas County, Washington              2.34   \n",
       "2             45.8  Klickitat County, Washington              2.62   \n",
       "3             43.4      Lewis County, Washington              2.52   \n",
       "4             48.9    Lincoln County, Washington              2.34   \n",
       "\n",
       "   PercentMarried  PctNoHS18_24  PctHS18_24  PctSomeCol18_24  PctBachDeg18_24  \\\n",
       "0            52.5          11.5        39.5             42.1              6.9   \n",
       "1            44.5           6.1        22.4             64.0              7.5   \n",
       "2            54.2          24.0        36.6              NaN              9.5   \n",
       "3            52.7          20.2        41.2             36.1              2.5   \n",
       "4            57.8          14.9        43.0             40.0              2.0   \n",
       "\n",
       "   PctHS25_Over  PctBachDeg25_Over  PctEmployed16_Over  PctUnemployed16_Over  \\\n",
       "0          23.2               19.6                51.9                   8.0   \n",
       "1          26.0               22.7                55.9                   7.8   \n",
       "2          29.0               16.0                45.9                   7.0   \n",
       "3          31.6                9.3                48.3                  12.1   \n",
       "4          33.4               15.0                48.2                   4.8   \n",
       "\n",
       "   PctPrivateCoverage  PctPrivateCoverageAlone  PctEmpPrivCoverage  \\\n",
       "0                75.1                      NaN                41.6   \n",
       "1                70.2                     53.8                43.6   \n",
       "2                63.7                     43.5                34.9   \n",
       "3                58.4                     40.3                35.0   \n",
       "4                61.6                     43.9                35.1   \n",
       "\n",
       "   PctPublicCoverage  PctPublicCoverageAlone   PctWhite  PctBlack  PctAsian  \\\n",
       "0               32.9                    14.0  81.780529  2.594728  4.821857   \n",
       "1               31.1                    15.3  89.228509  0.969102  2.246233   \n",
       "2               42.1                    21.1  90.922190  0.739673  0.465898   \n",
       "3               45.3                    25.0  91.744686  0.782626  1.161359   \n",
       "4               44.0                    22.7  94.104024  0.270192  0.665830   \n",
       "\n",
       "   PctOtherRace  PctMarriedHouseholds  BirthRate  \n",
       "0      1.843479             52.856076   6.118831  \n",
       "1      3.741352             45.372500   4.333096  \n",
       "2      2.747358             54.444868   3.729488  \n",
       "3      1.362643             51.021514   4.603841  \n",
       "4      0.492135             54.027460   6.796657  "
      ]
     },
     "execution_count": 231,
     "metadata": {},
     "output_type": "execute_result"
    }
   ],
   "source": [
    "raw_data = pd.read_csv('cancer_data_2.csv')\n",
    "raw_data.head()"
   ]
  },
  {
   "cell_type": "code",
   "execution_count": 6,
   "metadata": {},
   "outputs": [
    {
     "data": {
      "text/plain": [
       "(3047, 33)"
      ]
     },
     "execution_count": 6,
     "metadata": {},
     "output_type": "execute_result"
    }
   ],
   "source": [
    "raw_data.shape"
   ]
  },
  {
   "cell_type": "code",
   "execution_count": 58,
   "metadata": {},
   "outputs": [
    {
     "data": {
      "text/html": [
       "<div>\n",
       "<style scoped>\n",
       "    .dataframe tbody tr th:only-of-type {\n",
       "        vertical-align: middle;\n",
       "    }\n",
       "\n",
       "    .dataframe tbody tr th {\n",
       "        vertical-align: top;\n",
       "    }\n",
       "\n",
       "    .dataframe thead th {\n",
       "        text-align: right;\n",
       "    }\n",
       "</style>\n",
       "<table border=\"1\" class=\"dataframe\">\n",
       "  <thead>\n",
       "    <tr style=\"text-align: right;\">\n",
       "      <th></th>\n",
       "      <th>avgAnnCount</th>\n",
       "      <th>avgDeathsPerYear</th>\n",
       "      <th>TARGET_deathRate</th>\n",
       "      <th>incidenceRate</th>\n",
       "      <th>medIncome</th>\n",
       "      <th>popEst2015</th>\n",
       "      <th>povertyPercent</th>\n",
       "      <th>studyPerCap</th>\n",
       "      <th>MedianAge</th>\n",
       "      <th>MedianAgeMale</th>\n",
       "      <th>MedianAgeFemale</th>\n",
       "      <th>AvgHouseholdSize</th>\n",
       "      <th>PercentMarried</th>\n",
       "      <th>PctNoHS18_24</th>\n",
       "      <th>PctHS18_24</th>\n",
       "      <th>PctSomeCol18_24</th>\n",
       "      <th>PctBachDeg18_24</th>\n",
       "      <th>PctHS25_Over</th>\n",
       "      <th>PctBachDeg25_Over</th>\n",
       "      <th>PctEmployed16_Over</th>\n",
       "      <th>PctUnemployed16_Over</th>\n",
       "      <th>PctPrivateCoverage</th>\n",
       "      <th>PctPrivateCoverageAlone</th>\n",
       "      <th>PctEmpPrivCoverage</th>\n",
       "      <th>PctPublicCoverage</th>\n",
       "      <th>PctPublicCoverageAlone</th>\n",
       "      <th>PctWhite</th>\n",
       "      <th>PctBlack</th>\n",
       "      <th>PctAsian</th>\n",
       "      <th>PctOtherRace</th>\n",
       "      <th>PctMarriedHouseholds</th>\n",
       "      <th>BirthRate</th>\n",
       "    </tr>\n",
       "  </thead>\n",
       "  <tbody>\n",
       "    <tr>\n",
       "      <th>count</th>\n",
       "      <td>3047.000000</td>\n",
       "      <td>3047.000000</td>\n",
       "      <td>3047.000000</td>\n",
       "      <td>3047.000000</td>\n",
       "      <td>3047.000000</td>\n",
       "      <td>3.047000e+03</td>\n",
       "      <td>3047.000000</td>\n",
       "      <td>3047.000000</td>\n",
       "      <td>3047.000000</td>\n",
       "      <td>3047.000000</td>\n",
       "      <td>3047.000000</td>\n",
       "      <td>3047.000000</td>\n",
       "      <td>3047.000000</td>\n",
       "      <td>3047.000000</td>\n",
       "      <td>3047.000000</td>\n",
       "      <td>762.000000</td>\n",
       "      <td>3047.000000</td>\n",
       "      <td>3047.000000</td>\n",
       "      <td>3047.000000</td>\n",
       "      <td>2895.000000</td>\n",
       "      <td>3047.000000</td>\n",
       "      <td>3047.000000</td>\n",
       "      <td>2438.000000</td>\n",
       "      <td>3047.000000</td>\n",
       "      <td>3047.000000</td>\n",
       "      <td>3047.000000</td>\n",
       "      <td>3047.000000</td>\n",
       "      <td>3047.000000</td>\n",
       "      <td>3047.000000</td>\n",
       "      <td>3047.000000</td>\n",
       "      <td>3047.000000</td>\n",
       "      <td>3047.000000</td>\n",
       "    </tr>\n",
       "    <tr>\n",
       "      <th>mean</th>\n",
       "      <td>606.338544</td>\n",
       "      <td>185.965868</td>\n",
       "      <td>178.664063</td>\n",
       "      <td>448.268586</td>\n",
       "      <td>47063.281917</td>\n",
       "      <td>1.026374e+05</td>\n",
       "      <td>16.878175</td>\n",
       "      <td>155.399415</td>\n",
       "      <td>45.272333</td>\n",
       "      <td>39.570725</td>\n",
       "      <td>42.145323</td>\n",
       "      <td>2.479662</td>\n",
       "      <td>51.773679</td>\n",
       "      <td>18.224450</td>\n",
       "      <td>35.002068</td>\n",
       "      <td>40.977034</td>\n",
       "      <td>6.158287</td>\n",
       "      <td>34.804660</td>\n",
       "      <td>13.282015</td>\n",
       "      <td>54.152642</td>\n",
       "      <td>7.852412</td>\n",
       "      <td>64.354939</td>\n",
       "      <td>48.453774</td>\n",
       "      <td>41.196324</td>\n",
       "      <td>36.252642</td>\n",
       "      <td>19.240072</td>\n",
       "      <td>83.645286</td>\n",
       "      <td>9.107978</td>\n",
       "      <td>1.253965</td>\n",
       "      <td>1.983523</td>\n",
       "      <td>51.243872</td>\n",
       "      <td>5.640306</td>\n",
       "    </tr>\n",
       "    <tr>\n",
       "      <th>std</th>\n",
       "      <td>1416.356223</td>\n",
       "      <td>504.134286</td>\n",
       "      <td>27.751511</td>\n",
       "      <td>54.560733</td>\n",
       "      <td>12040.090836</td>\n",
       "      <td>3.290592e+05</td>\n",
       "      <td>6.409087</td>\n",
       "      <td>529.628366</td>\n",
       "      <td>45.304480</td>\n",
       "      <td>5.226017</td>\n",
       "      <td>5.292849</td>\n",
       "      <td>0.429174</td>\n",
       "      <td>6.896928</td>\n",
       "      <td>8.093064</td>\n",
       "      <td>9.069722</td>\n",
       "      <td>11.115805</td>\n",
       "      <td>4.529059</td>\n",
       "      <td>7.034924</td>\n",
       "      <td>5.394756</td>\n",
       "      <td>8.315064</td>\n",
       "      <td>3.452371</td>\n",
       "      <td>10.647057</td>\n",
       "      <td>10.083006</td>\n",
       "      <td>9.447687</td>\n",
       "      <td>7.841741</td>\n",
       "      <td>6.113041</td>\n",
       "      <td>16.380025</td>\n",
       "      <td>14.534538</td>\n",
       "      <td>2.610276</td>\n",
       "      <td>3.517710</td>\n",
       "      <td>6.572814</td>\n",
       "      <td>1.985816</td>\n",
       "    </tr>\n",
       "    <tr>\n",
       "      <th>min</th>\n",
       "      <td>6.000000</td>\n",
       "      <td>3.000000</td>\n",
       "      <td>59.700000</td>\n",
       "      <td>201.300000</td>\n",
       "      <td>22640.000000</td>\n",
       "      <td>8.270000e+02</td>\n",
       "      <td>3.200000</td>\n",
       "      <td>0.000000</td>\n",
       "      <td>22.300000</td>\n",
       "      <td>22.400000</td>\n",
       "      <td>22.300000</td>\n",
       "      <td>0.022100</td>\n",
       "      <td>23.100000</td>\n",
       "      <td>0.000000</td>\n",
       "      <td>0.000000</td>\n",
       "      <td>7.100000</td>\n",
       "      <td>0.000000</td>\n",
       "      <td>7.500000</td>\n",
       "      <td>2.500000</td>\n",
       "      <td>17.600000</td>\n",
       "      <td>0.400000</td>\n",
       "      <td>22.300000</td>\n",
       "      <td>15.700000</td>\n",
       "      <td>13.500000</td>\n",
       "      <td>11.200000</td>\n",
       "      <td>2.600000</td>\n",
       "      <td>10.199155</td>\n",
       "      <td>0.000000</td>\n",
       "      <td>0.000000</td>\n",
       "      <td>0.000000</td>\n",
       "      <td>22.992490</td>\n",
       "      <td>0.000000</td>\n",
       "    </tr>\n",
       "    <tr>\n",
       "      <th>25%</th>\n",
       "      <td>76.000000</td>\n",
       "      <td>28.000000</td>\n",
       "      <td>161.200000</td>\n",
       "      <td>420.300000</td>\n",
       "      <td>38882.500000</td>\n",
       "      <td>1.168400e+04</td>\n",
       "      <td>12.150000</td>\n",
       "      <td>0.000000</td>\n",
       "      <td>37.700000</td>\n",
       "      <td>36.350000</td>\n",
       "      <td>39.100000</td>\n",
       "      <td>2.370000</td>\n",
       "      <td>47.750000</td>\n",
       "      <td>12.800000</td>\n",
       "      <td>29.200000</td>\n",
       "      <td>34.000000</td>\n",
       "      <td>3.100000</td>\n",
       "      <td>30.400000</td>\n",
       "      <td>9.400000</td>\n",
       "      <td>48.600000</td>\n",
       "      <td>5.500000</td>\n",
       "      <td>57.200000</td>\n",
       "      <td>41.000000</td>\n",
       "      <td>34.500000</td>\n",
       "      <td>30.900000</td>\n",
       "      <td>14.850000</td>\n",
       "      <td>77.296180</td>\n",
       "      <td>0.620675</td>\n",
       "      <td>0.254199</td>\n",
       "      <td>0.295172</td>\n",
       "      <td>47.763063</td>\n",
       "      <td>4.521419</td>\n",
       "    </tr>\n",
       "    <tr>\n",
       "      <th>50%</th>\n",
       "      <td>171.000000</td>\n",
       "      <td>61.000000</td>\n",
       "      <td>178.100000</td>\n",
       "      <td>453.549422</td>\n",
       "      <td>45207.000000</td>\n",
       "      <td>2.664300e+04</td>\n",
       "      <td>15.900000</td>\n",
       "      <td>0.000000</td>\n",
       "      <td>41.000000</td>\n",
       "      <td>39.600000</td>\n",
       "      <td>42.400000</td>\n",
       "      <td>2.500000</td>\n",
       "      <td>52.400000</td>\n",
       "      <td>17.100000</td>\n",
       "      <td>34.700000</td>\n",
       "      <td>40.400000</td>\n",
       "      <td>5.400000</td>\n",
       "      <td>35.300000</td>\n",
       "      <td>12.300000</td>\n",
       "      <td>54.500000</td>\n",
       "      <td>7.600000</td>\n",
       "      <td>65.100000</td>\n",
       "      <td>48.700000</td>\n",
       "      <td>41.100000</td>\n",
       "      <td>36.300000</td>\n",
       "      <td>18.800000</td>\n",
       "      <td>90.059774</td>\n",
       "      <td>2.247576</td>\n",
       "      <td>0.549812</td>\n",
       "      <td>0.826185</td>\n",
       "      <td>51.669941</td>\n",
       "      <td>5.381478</td>\n",
       "    </tr>\n",
       "    <tr>\n",
       "      <th>75%</th>\n",
       "      <td>518.000000</td>\n",
       "      <td>149.000000</td>\n",
       "      <td>195.200000</td>\n",
       "      <td>480.850000</td>\n",
       "      <td>52492.000000</td>\n",
       "      <td>6.867100e+04</td>\n",
       "      <td>20.400000</td>\n",
       "      <td>83.650776</td>\n",
       "      <td>44.000000</td>\n",
       "      <td>42.500000</td>\n",
       "      <td>45.300000</td>\n",
       "      <td>2.630000</td>\n",
       "      <td>56.400000</td>\n",
       "      <td>22.700000</td>\n",
       "      <td>40.700000</td>\n",
       "      <td>46.400000</td>\n",
       "      <td>8.200000</td>\n",
       "      <td>39.650000</td>\n",
       "      <td>16.100000</td>\n",
       "      <td>60.300000</td>\n",
       "      <td>9.700000</td>\n",
       "      <td>72.100000</td>\n",
       "      <td>55.600000</td>\n",
       "      <td>47.700000</td>\n",
       "      <td>41.550000</td>\n",
       "      <td>23.100000</td>\n",
       "      <td>95.451693</td>\n",
       "      <td>10.509732</td>\n",
       "      <td>1.221037</td>\n",
       "      <td>2.177960</td>\n",
       "      <td>55.395132</td>\n",
       "      <td>6.493677</td>\n",
       "    </tr>\n",
       "    <tr>\n",
       "      <th>max</th>\n",
       "      <td>38150.000000</td>\n",
       "      <td>14010.000000</td>\n",
       "      <td>362.800000</td>\n",
       "      <td>1206.900000</td>\n",
       "      <td>125635.000000</td>\n",
       "      <td>1.017029e+07</td>\n",
       "      <td>47.400000</td>\n",
       "      <td>9762.308998</td>\n",
       "      <td>624.000000</td>\n",
       "      <td>64.700000</td>\n",
       "      <td>65.700000</td>\n",
       "      <td>3.970000</td>\n",
       "      <td>72.500000</td>\n",
       "      <td>64.100000</td>\n",
       "      <td>72.500000</td>\n",
       "      <td>79.000000</td>\n",
       "      <td>51.800000</td>\n",
       "      <td>54.800000</td>\n",
       "      <td>42.200000</td>\n",
       "      <td>80.100000</td>\n",
       "      <td>29.400000</td>\n",
       "      <td>92.300000</td>\n",
       "      <td>78.900000</td>\n",
       "      <td>70.700000</td>\n",
       "      <td>65.100000</td>\n",
       "      <td>46.600000</td>\n",
       "      <td>100.000000</td>\n",
       "      <td>85.947799</td>\n",
       "      <td>42.619425</td>\n",
       "      <td>41.930251</td>\n",
       "      <td>78.075397</td>\n",
       "      <td>21.326165</td>\n",
       "    </tr>\n",
       "  </tbody>\n",
       "</table>\n",
       "</div>"
      ],
      "text/plain": [
       "        avgAnnCount  avgDeathsPerYear  TARGET_deathRate  incidenceRate  \\\n",
       "count   3047.000000       3047.000000       3047.000000    3047.000000   \n",
       "mean     606.338544        185.965868        178.664063     448.268586   \n",
       "std     1416.356223        504.134286         27.751511      54.560733   \n",
       "min        6.000000          3.000000         59.700000     201.300000   \n",
       "25%       76.000000         28.000000        161.200000     420.300000   \n",
       "50%      171.000000         61.000000        178.100000     453.549422   \n",
       "75%      518.000000        149.000000        195.200000     480.850000   \n",
       "max    38150.000000      14010.000000        362.800000    1206.900000   \n",
       "\n",
       "           medIncome    popEst2015  povertyPercent  studyPerCap    MedianAge  \\\n",
       "count    3047.000000  3.047000e+03     3047.000000  3047.000000  3047.000000   \n",
       "mean    47063.281917  1.026374e+05       16.878175   155.399415    45.272333   \n",
       "std     12040.090836  3.290592e+05        6.409087   529.628366    45.304480   \n",
       "min     22640.000000  8.270000e+02        3.200000     0.000000    22.300000   \n",
       "25%     38882.500000  1.168400e+04       12.150000     0.000000    37.700000   \n",
       "50%     45207.000000  2.664300e+04       15.900000     0.000000    41.000000   \n",
       "75%     52492.000000  6.867100e+04       20.400000    83.650776    44.000000   \n",
       "max    125635.000000  1.017029e+07       47.400000  9762.308998   624.000000   \n",
       "\n",
       "       MedianAgeMale  MedianAgeFemale  AvgHouseholdSize  PercentMarried  \\\n",
       "count    3047.000000      3047.000000       3047.000000     3047.000000   \n",
       "mean       39.570725        42.145323          2.479662       51.773679   \n",
       "std         5.226017         5.292849          0.429174        6.896928   \n",
       "min        22.400000        22.300000          0.022100       23.100000   \n",
       "25%        36.350000        39.100000          2.370000       47.750000   \n",
       "50%        39.600000        42.400000          2.500000       52.400000   \n",
       "75%        42.500000        45.300000          2.630000       56.400000   \n",
       "max        64.700000        65.700000          3.970000       72.500000   \n",
       "\n",
       "       PctNoHS18_24   PctHS18_24  PctSomeCol18_24  PctBachDeg18_24  \\\n",
       "count   3047.000000  3047.000000       762.000000      3047.000000   \n",
       "mean      18.224450    35.002068        40.977034         6.158287   \n",
       "std        8.093064     9.069722        11.115805         4.529059   \n",
       "min        0.000000     0.000000         7.100000         0.000000   \n",
       "25%       12.800000    29.200000        34.000000         3.100000   \n",
       "50%       17.100000    34.700000        40.400000         5.400000   \n",
       "75%       22.700000    40.700000        46.400000         8.200000   \n",
       "max       64.100000    72.500000        79.000000        51.800000   \n",
       "\n",
       "       PctHS25_Over  PctBachDeg25_Over  PctEmployed16_Over  \\\n",
       "count   3047.000000        3047.000000         2895.000000   \n",
       "mean      34.804660          13.282015           54.152642   \n",
       "std        7.034924           5.394756            8.315064   \n",
       "min        7.500000           2.500000           17.600000   \n",
       "25%       30.400000           9.400000           48.600000   \n",
       "50%       35.300000          12.300000           54.500000   \n",
       "75%       39.650000          16.100000           60.300000   \n",
       "max       54.800000          42.200000           80.100000   \n",
       "\n",
       "       PctUnemployed16_Over  PctPrivateCoverage  PctPrivateCoverageAlone  \\\n",
       "count           3047.000000         3047.000000              2438.000000   \n",
       "mean               7.852412           64.354939                48.453774   \n",
       "std                3.452371           10.647057                10.083006   \n",
       "min                0.400000           22.300000                15.700000   \n",
       "25%                5.500000           57.200000                41.000000   \n",
       "50%                7.600000           65.100000                48.700000   \n",
       "75%                9.700000           72.100000                55.600000   \n",
       "max               29.400000           92.300000                78.900000   \n",
       "\n",
       "       PctEmpPrivCoverage  PctPublicCoverage  PctPublicCoverageAlone  \\\n",
       "count         3047.000000        3047.000000             3047.000000   \n",
       "mean            41.196324          36.252642               19.240072   \n",
       "std              9.447687           7.841741                6.113041   \n",
       "min             13.500000          11.200000                2.600000   \n",
       "25%             34.500000          30.900000               14.850000   \n",
       "50%             41.100000          36.300000               18.800000   \n",
       "75%             47.700000          41.550000               23.100000   \n",
       "max             70.700000          65.100000               46.600000   \n",
       "\n",
       "          PctWhite     PctBlack     PctAsian  PctOtherRace  \\\n",
       "count  3047.000000  3047.000000  3047.000000   3047.000000   \n",
       "mean     83.645286     9.107978     1.253965      1.983523   \n",
       "std      16.380025    14.534538     2.610276      3.517710   \n",
       "min      10.199155     0.000000     0.000000      0.000000   \n",
       "25%      77.296180     0.620675     0.254199      0.295172   \n",
       "50%      90.059774     2.247576     0.549812      0.826185   \n",
       "75%      95.451693    10.509732     1.221037      2.177960   \n",
       "max     100.000000    85.947799    42.619425     41.930251   \n",
       "\n",
       "       PctMarriedHouseholds    BirthRate  \n",
       "count           3047.000000  3047.000000  \n",
       "mean              51.243872     5.640306  \n",
       "std                6.572814     1.985816  \n",
       "min               22.992490     0.000000  \n",
       "25%               47.763063     4.521419  \n",
       "50%               51.669941     5.381478  \n",
       "75%               55.395132     6.493677  \n",
       "max               78.075397    21.326165  "
      ]
     },
     "execution_count": 58,
     "metadata": {},
     "output_type": "execute_result"
    }
   ],
   "source": [
    "raw_data.describe()"
   ]
  },
  {
   "cell_type": "code",
   "execution_count": 60,
   "metadata": {},
   "outputs": [
    {
     "data": {
      "text/html": [
       "<div>\n",
       "<style scoped>\n",
       "    .dataframe tbody tr th:only-of-type {\n",
       "        vertical-align: middle;\n",
       "    }\n",
       "\n",
       "    .dataframe tbody tr th {\n",
       "        vertical-align: top;\n",
       "    }\n",
       "\n",
       "    .dataframe thead th {\n",
       "        text-align: right;\n",
       "    }\n",
       "</style>\n",
       "<table border=\"1\" class=\"dataframe\">\n",
       "  <thead>\n",
       "    <tr style=\"text-align: right;\">\n",
       "      <th></th>\n",
       "      <th>Geography</th>\n",
       "    </tr>\n",
       "  </thead>\n",
       "  <tbody>\n",
       "    <tr>\n",
       "      <th>count</th>\n",
       "      <td>3047</td>\n",
       "    </tr>\n",
       "    <tr>\n",
       "      <th>unique</th>\n",
       "      <td>3047</td>\n",
       "    </tr>\n",
       "    <tr>\n",
       "      <th>top</th>\n",
       "      <td>Kitsap County, Washington</td>\n",
       "    </tr>\n",
       "    <tr>\n",
       "      <th>freq</th>\n",
       "      <td>1</td>\n",
       "    </tr>\n",
       "  </tbody>\n",
       "</table>\n",
       "</div>"
      ],
      "text/plain": [
       "                        Geography\n",
       "count                        3047\n",
       "unique                       3047\n",
       "top     Kitsap County, Washington\n",
       "freq                            1"
      ]
     },
     "execution_count": 60,
     "metadata": {},
     "output_type": "execute_result"
    }
   ],
   "source": [
    "raw_data.describe(include='object')"
   ]
  },
  {
   "cell_type": "markdown",
   "metadata": {},
   "source": [
    "'Geography' can be treated as an Id column"
   ]
  },
  {
   "cell_type": "markdown",
   "metadata": {},
   "source": [
    "Finding out the percentage missing values for all columns where there are missing values."
   ]
  },
  {
   "cell_type": "code",
   "execution_count": 75,
   "metadata": {},
   "outputs": [
    {
     "data": {
      "text/plain": [
       "PctSomeCol18_24            74.991795\n",
       "PctEmployed16_Over          4.988513\n",
       "PctPrivateCoverageAlone    19.986872\n",
       "dtype: float64"
      ]
     },
     "execution_count": 75,
     "metadata": {},
     "output_type": "execute_result"
    }
   ],
   "source": [
    "raw_data[raw_data.columns[raw_data.isna().any()]].isna().sum()/raw_data.shape[0]*100"
   ]
  },
  {
   "cell_type": "code",
   "execution_count": 65,
   "metadata": {},
   "outputs": [
    {
     "data": {
      "image/png": "[encoded data removed]",
      "text/plain": [
       "<Figure size 360x360 with 1 Axes>"
      ]
     },
     "metadata": {
      "needs_background": "light"
     },
     "output_type": "display_data"
    },
    {
     "data": {
      "image/png": "[encoded data removed]",
      "text/plain": [
       "<Figure size 360x360 with 1 Axes>"
      ]
     },
     "metadata": {
      "needs_background": "light"
     },
     "output_type": "display_data"
    },
    {
     "data": {
      "image/png": "[encoded data removed]",
      "text/plain": [
       "<Figure size 360x360 with 1 Axes>"
      ]
     },
     "metadata": {
      "needs_background": "light"
     },
     "output_type": "display_data"
    }
   ],
   "source": [
    "cols_with_mv = ['PctSomeCol18_24', 'PctEmployed16_Over', 'PctPrivateCoverageAlone']\n",
    "\n",
    "for col in cols_with_mv:\n",
    "    sns.displot(x=raw_data[col], kind='kde')\n",
    "    plt.show()"
   ]
  },
  {
   "cell_type": "markdown",
   "metadata": {},
   "source": [
    "Now trying to plot the correlation of the variables to check which can be used to predict the missing values"
   ]
  },
  {
   "cell_type": "code",
   "execution_count": 67,
   "metadata": {},
   "outputs": [
    {
     "data": {
      "text/html": [
       "<style type=\"text/css\">\n",
       "#T_f8cfd_row0_col0, #T_f8cfd_row1_col1, #T_f8cfd_row2_col2, #T_f8cfd_row3_col3, #T_f8cfd_row4_col4, #T_f8cfd_row5_col5, #T_f8cfd_row6_col6, #T_f8cfd_row7_col7, #T_f8cfd_row8_col8, #T_f8cfd_row9_col9, #T_f8cfd_row10_col10, #T_f8cfd_row11_col11, #T_f8cfd_row12_col12, #T_f8cfd_row13_col13, #T_f8cfd_row14_col14, #T_f8cfd_row15_col15, #T_f8cfd_row16_col16, #T_f8cfd_row17_col17, #T_f8cfd_row18_col18, #T_f8cfd_row19_col19, #T_f8cfd_row20_col20, #T_f8cfd_row21_col21, #T_f8cfd_row22_col22, #T_f8cfd_row23_col23, #T_f8cfd_row24_col24, #T_f8cfd_row25_col25, #T_f8cfd_row26_col26, #T_f8cfd_row27_col27, #T_f8cfd_row28_col28, #T_f8cfd_row29_col29, #T_f8cfd_row30_col30, #T_f8cfd_row31_col31 {\n",
       "  background-color: #b40426;\n",
       "  color: #f1f1f1;\n",
       "}\n",
       "#T_f8cfd_row0_col1, #T_f8cfd_row1_col0 {\n",
       "  background-color: #c43032;\n",
       "  color: #f1f1f1;\n",
       "}\n",
       "#T_f8cfd_row0_col2, #T_f8cfd_row2_col12, #T_f8cfd_row7_col9, #T_f8cfd_row13_col21, #T_f8cfd_row16_col9, #T_f8cfd_row16_col29, #T_f8cfd_row24_col15 {\n",
       "  background-color: #85a8fc;\n",
       "  color: #f1f1f1;\n",
       "}\n",
       "#T_f8cfd_row0_col3, #T_f8cfd_row20_col0, #T_f8cfd_row27_col16 {\n",
       "  background-color: #86a9fc;\n",
       "  color: #f1f1f1;\n",
       "}\n",
       "#T_f8cfd_row0_col4, #T_f8cfd_row2_col27, #T_f8cfd_row12_col9, #T_f8cfd_row25_col13, #T_f8cfd_row28_col5 {\n",
       "  background-color: #f1cdba;\n",
       "  color: #000000;\n",
       "}\n",
       "#T_f8cfd_row0_col5, #T_f8cfd_row5_col0 {\n",
       "  background-color: #c83836;\n",
       "  color: #f1f1f1;\n",
       "}\n",
       "#T_f8cfd_row0_col6, #T_f8cfd_row0_col26, #T_f8cfd_row5_col24, #T_f8cfd_row7_col17, #T_f8cfd_row16_col30, #T_f8cfd_row28_col29, #T_f8cfd_row29_col21 {\n",
       "  background-color: #b9d0f9;\n",
       "  color: #000000;\n",
       "}\n",
       "#T_f8cfd_row0_col7, #T_f8cfd_row2_col1, #T_f8cfd_row4_col10, #T_f8cfd_row10_col8, #T_f8cfd_row12_col0, #T_f8cfd_row16_col13, #T_f8cfd_row18_col6, #T_f8cfd_row18_col9, #T_f8cfd_row30_col0 {\n",
       "  background-color: #6c8ff1;\n",
       "  color: #f1f1f1;\n",
       "}\n",
       "#T_f8cfd_row0_col8, #T_f8cfd_row1_col8, #T_f8cfd_row5_col8, #T_f8cfd_row7_col8, #T_f8cfd_row9_col29, #T_f8cfd_row19_col8, #T_f8cfd_row22_col8, #T_f8cfd_row27_col12 {\n",
       "  background-color: #3e51c5;\n",
       "  color: #f1f1f1;\n",
       "}\n",
       "#T_f8cfd_row0_col9, #T_f8cfd_row1_col10, #T_f8cfd_row6_col10, #T_f8cfd_row9_col3, #T_f8cfd_row9_col8, #T_f8cfd_row14_col31, #T_f8cfd_row19_col7, #T_f8cfd_row21_col11, #T_f8cfd_row24_col29, #T_f8cfd_row26_col3 {\n",
       "  background-color: #6e90f2;\n",
       "  color: #f1f1f1;\n",
       "}\n",
       "#T_f8cfd_row0_col10, #T_f8cfd_row6_col1, #T_f8cfd_row11_col31, #T_f8cfd_row17_col4, #T_f8cfd_row19_col3, #T_f8cfd_row20_col26, #T_f8cfd_row25_col28, #T_f8cfd_row31_col9 {\n",
       "  background-color: #7396f5;\n",
       "  color: #f1f1f1;\n",
       "}\n",
       "#T_f8cfd_row0_col11, #T_f8cfd_row5_col13, #T_f8cfd_row13_col11, #T_f8cfd_row15_col12, #T_f8cfd_row25_col11, #T_f8cfd_row27_col22, #T_f8cfd_row27_col28 {\n",
       "  background-color: #a3c2fe;\n",
       "  color: #000000;\n",
       "}\n",
       "#T_f8cfd_row0_col12, #T_f8cfd_row0_col14, #T_f8cfd_row10_col20, #T_f8cfd_row19_col1, #T_f8cfd_row22_col1, #T_f8cfd_row29_col12, #T_f8cfd_row29_col26, #T_f8cfd_row31_col11 {\n",
       "  background-color: #a7c5fe;\n",
       "  color: #000000;\n",
       "}\n",
       "#T_f8cfd_row0_col13, #T_f8cfd_row4_col27, #T_f8cfd_row9_col20, #T_f8cfd_row14_col22, #T_f8cfd_row28_col26 {\n",
       "  background-color: #a1c0ff;\n",
       "  color: #000000;\n",
       "}\n",
       "#T_f8cfd_row0_col15, #T_f8cfd_row3_col17, #T_f8cfd_row5_col27, #T_f8cfd_row7_col23, #T_f8cfd_row10_col21, #T_f8cfd_row10_col25, #T_f8cfd_row17_col9 {\n",
       "  background-color: #dbdcde;\n",
       "  color: #000000;\n",
       "}\n",
       "#T_f8cfd_row0_col16, #T_f8cfd_row1_col21, #T_f8cfd_row1_col27, #T_f8cfd_row5_col21, #T_f8cfd_row27_col2, #T_f8cfd_row30_col14 {\n",
       "  background-color: #dcdddd;\n",
       "  color: #000000;\n",
       "}\n",
       "#T_f8cfd_row0_col17, #T_f8cfd_row5_col17, #T_f8cfd_row7_col10, #T_f8cfd_row10_col16, #T_f8cfd_row16_col25, #T_f8cfd_row22_col17, #T_f8cfd_row25_col15 {\n",
       "  background-color: #8caffe;\n",
       "  color: #000000;\n",
       "}\n",
       "#T_f8cfd_row0_col18, #T_f8cfd_row1_col28, #T_f8cfd_row13_col6, #T_f8cfd_row14_col24, #T_f8cfd_row30_col19 {\n",
       "  background-color: #f3c8b2;\n",
       "  color: #000000;\n",
       "}\n",
       "#T_f8cfd_row0_col19, #T_f8cfd_row13_col17 {\n",
       "  background-color: #e9d5cb;\n",
       "  color: #000000;\n",
       "}\n",
       "#T_f8cfd_row0_col20, #T_f8cfd_row1_col29, #T_f8cfd_row9_col4, #T_f8cfd_row11_col24, #T_f8cfd_row19_col0, #T_f8cfd_row30_col10 {\n",
       "  background-color: #bcd2f7;\n",
       "  color: #000000;\n",
       "}\n",
       "#T_f8cfd_row0_col21, #T_f8cfd_row28_col16 {\n",
       "  background-color: #e7d7ce;\n",
       "  color: #000000;\n",
       "}\n",
       "#T_f8cfd_row0_col22, #T_f8cfd_row1_col4, #T_f8cfd_row25_col14 {\n",
       "  background-color: #ecd3c5;\n",
       "  color: #000000;\n",
       "}\n",
       "#T_f8cfd_row0_col23, #T_f8cfd_row4_col15, #T_f8cfd_row24_col9, #T_f8cfd_row26_col9 {\n",
       "  background-color: #ead5c9;\n",
       "  color: #000000;\n",
       "}\n",
       "#T_f8cfd_row0_col24, #T_f8cfd_row7_col12, #T_f8cfd_row10_col6, #T_f8cfd_row10_col27, #T_f8cfd_row13_col10 {\n",
       "  background-color: #b6cefa;\n",
       "  color: #000000;\n",
       "}\n",
       "#T_f8cfd_row0_col25, #T_f8cfd_row7_col6, #T_f8cfd_row8_col12, #T_f8cfd_row8_col15, #T_f8cfd_row8_col19, #T_f8cfd_row29_col5, #T_f8cfd_row29_col24, #T_f8cfd_row30_col9 {\n",
       "  background-color: #c6d6f1;\n",
       "  color: #000000;\n",
       "}\n",
       "#T_f8cfd_row0_col27, #T_f8cfd_row5_col16, #T_f8cfd_row8_col21, #T_f8cfd_row8_col26, #T_f8cfd_row9_col25, #T_f8cfd_row11_col27, #T_f8cfd_row14_col12, #T_f8cfd_row14_col20, #T_f8cfd_row29_col13 {\n",
       "  background-color: #d5dbe5;\n",
       "  color: #000000;\n",
       "}\n",
       "#T_f8cfd_row0_col28, #T_f8cfd_row4_col12, #T_f8cfd_row9_col17, #T_f8cfd_row15_col19, #T_f8cfd_row18_col28 {\n",
       "  background-color: #f2c9b4;\n",
       "  color: #000000;\n",
       "}\n",
       "#T_f8cfd_row0_col29, #T_f8cfd_row8_col30, #T_f8cfd_row12_col13, #T_f8cfd_row13_col2, #T_f8cfd_row13_col12, #T_f8cfd_row27_col15, #T_f8cfd_row31_col23 {\n",
       "  background-color: #bbd1f8;\n",
       "  color: #000000;\n",
       "}\n",
       "#T_f8cfd_row0_col30, #T_f8cfd_row1_col13, #T_f8cfd_row7_col2, #T_f8cfd_row9_col2, #T_f8cfd_row15_col5, #T_f8cfd_row17_col23 {\n",
       "  background-color: #a2c1ff;\n",
       "  color: #000000;\n",
       "}\n",
       "#T_f8cfd_row0_col31, #T_f8cfd_row11_col7, #T_f8cfd_row12_col8, #T_f8cfd_row20_col16, #T_f8cfd_row22_col2, #T_f8cfd_row25_col30, #T_f8cfd_row28_col10 {\n",
       "  background-color: #536edd;\n",
       "  color: #f1f1f1;\n",
       "}\n",
       "#T_f8cfd_row1_col2, #T_f8cfd_row2_col22, #T_f8cfd_row7_col11, #T_f8cfd_row19_col27, #T_f8cfd_row27_col3, #T_f8cfd_row30_col24, #T_f8cfd_row31_col2, #T_f8cfd_row31_col29 {\n",
       "  background-color: #93b5fe;\n",
       "  color: #000000;\n",
       "}\n",
       "#T_f8cfd_row1_col3, #T_f8cfd_row12_col25, #T_f8cfd_row13_col31, #T_f8cfd_row16_col11, #T_f8cfd_row19_col17 {\n",
       "  background-color: #84a7fc;\n",
       "  color: #f1f1f1;\n",
       "}\n",
       "#T_f8cfd_row1_col5, #T_f8cfd_row5_col1 {\n",
       "  background-color: #ba162b;\n",
       "  color: #f1f1f1;\n",
       "}\n",
       "#T_f8cfd_row1_col6, #T_f8cfd_row4_col5, #T_f8cfd_row5_col6, #T_f8cfd_row8_col23, #T_f8cfd_row17_col30, #T_f8cfd_row27_col14, #T_f8cfd_row29_col22, #T_f8cfd_row31_col27 {\n",
       "  background-color: #c5d6f2;\n",
       "  color: #000000;\n",
       "}\n",
       "#T_f8cfd_row1_col7, #T_f8cfd_row9_col0, #T_f8cfd_row10_col0, #T_f8cfd_row12_col29, #T_f8cfd_row13_col5, #T_f8cfd_row16_col7, #T_f8cfd_row18_col3 {\n",
       "  background-color: #6788ee;\n",
       "  color: #f1f1f1;\n",
       "}\n",
       "#T_f8cfd_row1_col9, #T_f8cfd_row2_col5, #T_f8cfd_row2_col18, #T_f8cfd_row12_col2, #T_f8cfd_row23_col2 {\n",
       "  background-color: #688aef;\n",
       "  color: #f1f1f1;\n",
       "}\n",
       "#T_f8cfd_row1_col11, #T_f8cfd_row3_col16, #T_f8cfd_row8_col2, #T_f8cfd_row11_col12, #T_f8cfd_row12_col24, #T_f8cfd_row13_col9 {\n",
       "  background-color: #a9c6fd;\n",
       "  color: #000000;\n",
       "}\n",
       "#T_f8cfd_row1_col12, #T_f8cfd_row2_col10, #T_f8cfd_row7_col5, #T_f8cfd_row13_col4, #T_f8cfd_row18_col11, #T_f8cfd_row19_col11, #T_f8cfd_row19_col14, #T_f8cfd_row21_col5, #T_f8cfd_row26_col25 {\n",
       "  background-color: #97b8ff;\n",
       "  color: #000000;\n",
       "}\n",
       "#T_f8cfd_row1_col14, #T_f8cfd_row5_col14, #T_f8cfd_row7_col28, #T_f8cfd_row7_col30, #T_f8cfd_row11_col17, #T_f8cfd_row19_col5, #T_f8cfd_row26_col16 {\n",
       "  background-color: #aec9fc;\n",
       "  color: #000000;\n",
       "}\n",
       "#T_f8cfd_row1_col15, #T_f8cfd_row3_col24, #T_f8cfd_row6_col14, #T_f8cfd_row7_col18, #T_f8cfd_row7_col19, #T_f8cfd_row12_col18, #T_f8cfd_row26_col15, #T_f8cfd_row29_col4 {\n",
       "  background-color: #d9dce1;\n",
       "  color: #000000;\n",
       "}\n",
       "#T_f8cfd_row1_col16, #T_f8cfd_row10_col30, #T_f8cfd_row13_col14, #T_f8cfd_row14_col26, #T_f8cfd_row18_col26, #T_f8cfd_row29_col6, #T_f8cfd_row31_col12 {\n",
       "  background-color: #d7dce3;\n",
       "  color: #000000;\n",
       "}\n",
       "#T_f8cfd_row1_col17, #T_f8cfd_row11_col16, #T_f8cfd_row15_col11, #T_f8cfd_row20_col3, #T_f8cfd_row25_col9, #T_f8cfd_row25_col26 {\n",
       "  background-color: #8fb1fe;\n",
       "  color: #000000;\n",
       "}\n",
       "#T_f8cfd_row1_col18, #T_f8cfd_row5_col18, #T_f8cfd_row14_col25, #T_f8cfd_row22_col12, #T_f8cfd_row25_col17, #T_f8cfd_row28_col23 {\n",
       "  background-color: #f1ccb8;\n",
       "  color: #000000;\n",
       "}\n",
       "#T_f8cfd_row1_col19, #T_f8cfd_row12_col14, #T_f8cfd_row15_col26, #T_f8cfd_row20_col14 {\n",
       "  background-color: #dedcdb;\n",
       "  color: #000000;\n",
       "}\n",
       "#T_f8cfd_row1_col20, #T_f8cfd_row7_col24, #T_f8cfd_row8_col6, #T_f8cfd_row11_col30, #T_f8cfd_row14_col9, #T_f8cfd_row21_col28, #T_f8cfd_row29_col11, #T_f8cfd_row31_col4, #T_f8cfd_row31_col17 {\n",
       "  background-color: #cbd8ee;\n",
       "  color: #000000;\n",
       "}\n",
       "#T_f8cfd_row1_col22, #T_f8cfd_row1_col23 {\n",
       "  background-color: #e4d9d2;\n",
       "  color: #000000;\n",
       "}\n",
       "#T_f8cfd_row1_col24, #T_f8cfd_row11_col21, #T_f8cfd_row23_col0, #T_f8cfd_row26_col24, #T_f8cfd_row29_col1 {\n",
       "  background-color: #bed2f6;\n",
       "  color: #000000;\n",
       "}\n",
       "#T_f8cfd_row1_col25, #T_f8cfd_row3_col6, #T_f8cfd_row3_col20, #T_f8cfd_row16_col0, #T_f8cfd_row17_col12, #T_f8cfd_row18_col1, #T_f8cfd_row18_col12, #T_f8cfd_row26_col14, #T_f8cfd_row26_col18 {\n",
       "  background-color: #d1dae9;\n",
       "  color: #000000;\n",
       "}\n",
       "#T_f8cfd_row1_col26, #T_f8cfd_row4_col11, #T_f8cfd_row5_col11, #T_f8cfd_row5_col26, #T_f8cfd_row9_col18, #T_f8cfd_row10_col22, #T_f8cfd_row11_col26 {\n",
       "  background-color: #afcafc;\n",
       "  color: #000000;\n",
       "}\n",
       "#T_f8cfd_row1_col30, #T_f8cfd_row3_col1, #T_f8cfd_row7_col1, #T_f8cfd_row8_col28, #T_f8cfd_row9_col15, #T_f8cfd_row20_col5, #T_f8cfd_row23_col11 {\n",
       "  background-color: #96b7ff;\n",
       "  color: #000000;\n",
       "}\n",
       "#T_f8cfd_row1_col31, #T_f8cfd_row23_col24, #T_f8cfd_row30_col3 {\n",
       "  background-color: #485fd1;\n",
       "  color: #f1f1f1;\n",
       "}\n",
       "#T_f8cfd_row2_col0, #T_f8cfd_row13_col0, #T_f8cfd_row17_col31, #T_f8cfd_row24_col1 {\n",
       "  background-color: #6282ea;\n",
       "  color: #f1f1f1;\n",
       "}\n",
       "#T_f8cfd_row2_col3, #T_f8cfd_row4_col26, #T_f8cfd_row12_col10, #T_f8cfd_row16_col28 {\n",
       "  background-color: #e8d6cc;\n",
       "  color: #000000;\n",
       "}\n",
       "#T_f8cfd_row2_col4, #T_f8cfd_row2_col19, #T_f8cfd_row12_col28, #T_f8cfd_row15_col2, #T_f8cfd_row18_col14, #T_f8cfd_row28_col2, #T_f8cfd_row30_col29, #T_f8cfd_row30_col31 {\n",
       "  background-color: #7b9ff9;\n",
       "  color: #f1f1f1;\n",
       "}\n",
       "#T_f8cfd_row2_col6 {\n",
       "  background-color: #f7b194;\n",
       "  color: #000000;\n",
       "}\n",
       "#T_f8cfd_row2_col7, #T_f8cfd_row3_col29, #T_f8cfd_row5_col31, #T_f8cfd_row8_col7, #T_f8cfd_row12_col20, #T_f8cfd_row24_col18 {\n",
       "  background-color: #4c66d6;\n",
       "  color: #f1f1f1;\n",
       "}\n",
       "#T_f8cfd_row2_col8, #T_f8cfd_row13_col8, #T_f8cfd_row21_col8, #T_f8cfd_row22_col20, #T_f8cfd_row26_col29 {\n",
       "  background-color: #465ecf;\n",
       "  color: #f1f1f1;\n",
       "}\n",
       "#T_f8cfd_row2_col9, #T_f8cfd_row2_col11, #T_f8cfd_row13_col19, #T_f8cfd_row16_col6, #T_f8cfd_row17_col19, #T_f8cfd_row24_col12 {\n",
       "  background-color: #89acfd;\n",
       "  color: #000000;\n",
       "}\n",
       "#T_f8cfd_row2_col13, #T_f8cfd_row5_col25, #T_f8cfd_row8_col17, #T_f8cfd_row11_col14, #T_f8cfd_row14_col10, #T_f8cfd_row29_col18, #T_f8cfd_row31_col21, #T_f8cfd_row31_col24, #T_f8cfd_row31_col26 {\n",
       "  background-color: #cedaeb;\n",
       "  color: #000000;\n",
       "}\n",
       "#T_f8cfd_row2_col14, #T_f8cfd_row20_col2 {\n",
       "  background-color: #efcfbf;\n",
       "  color: #000000;\n",
       "}\n",
       "#T_f8cfd_row2_col15, #T_f8cfd_row4_col14, #T_f8cfd_row6_col11, #T_f8cfd_row9_col23, #T_f8cfd_row9_col27, #T_f8cfd_row10_col18, #T_f8cfd_row11_col5, #T_f8cfd_row13_col29, #T_f8cfd_row15_col0, #T_f8cfd_row23_col27, #T_f8cfd_row28_col30 {\n",
       "  background-color: #a6c4fe;\n",
       "  color: #000000;\n",
       "}\n",
       "#T_f8cfd_row2_col16, #T_f8cfd_row6_col9 {\n",
       "  background-color: #5875e1;\n",
       "  color: #f1f1f1;\n",
       "}\n",
       "#T_f8cfd_row2_col17 {\n",
       "  background-color: #f7ba9f;\n",
       "  color: #000000;\n",
       "}\n",
       "#T_f8cfd_row2_col20, #T_f8cfd_row10_col17, #T_f8cfd_row19_col16, #T_f8cfd_row22_col26, #T_f8cfd_row22_col30 {\n",
       "  background-color: #f4c5ad;\n",
       "  color: #000000;\n",
       "}\n",
       "#T_f8cfd_row2_col21, #T_f8cfd_row3_col10, #T_f8cfd_row21_col27, #T_f8cfd_row22_col3, #T_f8cfd_row22_col11, #T_f8cfd_row22_col14 {\n",
       "  background-color: #92b4fe;\n",
       "  color: #000000;\n",
       "}\n",
       "#T_f8cfd_row2_col23, #T_f8cfd_row3_col13, #T_f8cfd_row4_col29, #T_f8cfd_row11_col0, #T_f8cfd_row14_col11, #T_f8cfd_row20_col28, #T_f8cfd_row21_col14, #T_f8cfd_row25_col29, #T_f8cfd_row27_col21 {\n",
       "  background-color: #9abbff;\n",
       "  color: #000000;\n",
       "}\n",
       "#T_f8cfd_row2_col24, #T_f8cfd_row17_col14 {\n",
       "  background-color: #f7b396;\n",
       "  color: #000000;\n",
       "}\n",
       "#T_f8cfd_row2_col25, #T_f8cfd_row10_col24, #T_f8cfd_row12_col21, #T_f8cfd_row20_col27 {\n",
       "  background-color: #f7a98b;\n",
       "  color: #000000;\n",
       "}\n",
       "#T_f8cfd_row2_col26, #T_f8cfd_row12_col15, #T_f8cfd_row23_col5 {\n",
       "  background-color: #b2ccfb;\n",
       "  color: #000000;\n",
       "}\n",
       "#T_f8cfd_row2_col28, #T_f8cfd_row6_col26, #T_f8cfd_row14_col29, #T_f8cfd_row15_col7, #T_f8cfd_row23_col7, #T_f8cfd_row23_col29, #T_f8cfd_row28_col17 {\n",
       "  background-color: #7295f4;\n",
       "  color: #f1f1f1;\n",
       "}\n",
       "#T_f8cfd_row2_col29, #T_f8cfd_row11_col3, #T_f8cfd_row21_col24, #T_f8cfd_row21_col31, #T_f8cfd_row23_col6, #T_f8cfd_row25_col18, #T_f8cfd_row27_col9, #T_f8cfd_row28_col9, #T_f8cfd_row31_col3 {\n",
       "  background-color: #516ddb;\n",
       "  color: #f1f1f1;\n",
       "}\n",
       "#T_f8cfd_row2_col30, #T_f8cfd_row5_col3, #T_f8cfd_row6_col28, #T_f8cfd_row12_col11, #T_f8cfd_row14_col3, #T_f8cfd_row14_col18, #T_f8cfd_row31_col5 {\n",
       "  background-color: #799cf8;\n",
       "  color: #f1f1f1;\n",
       "}\n",
       "#T_f8cfd_row2_col31, #T_f8cfd_row6_col7, #T_f8cfd_row6_col21, #T_f8cfd_row13_col3, #T_f8cfd_row18_col31, #T_f8cfd_row22_col6, #T_f8cfd_row25_col7, #T_f8cfd_row25_col8, #T_f8cfd_row25_col19 {\n",
       "  background-color: #445acc;\n",
       "  color: #f1f1f1;\n",
       "}\n",
       "#T_f8cfd_row3_col0, #T_f8cfd_row5_col12, #T_f8cfd_row10_col19, #T_f8cfd_row10_col23, #T_f8cfd_row11_col1, #T_f8cfd_row17_col22, #T_f8cfd_row23_col3, #T_f8cfd_row26_col13, #T_f8cfd_row27_col1, #T_f8cfd_row27_col5 {\n",
       "  background-color: #9dbdff;\n",
       "  color: #000000;\n",
       "}\n",
       "#T_f8cfd_row3_col2, #T_f8cfd_row25_col2, #T_f8cfd_row26_col22 {\n",
       "  background-color: #f5c2aa;\n",
       "  color: #000000;\n",
       "}\n",
       "#T_f8cfd_row3_col4, #T_f8cfd_row3_col19, #T_f8cfd_row7_col25, #T_f8cfd_row14_col27, #T_f8cfd_row17_col27, #T_f8cfd_row18_col30, #T_f8cfd_row29_col27, #T_f8cfd_row31_col22, #T_f8cfd_row31_col30 {\n",
       "  background-color: #ccd9ed;\n",
       "  color: #000000;\n",
       "}\n",
       "#T_f8cfd_row3_col5, #T_f8cfd_row6_col29, #T_f8cfd_row19_col29, #T_f8cfd_row21_col3, #T_f8cfd_row27_col0, #T_f8cfd_row28_col13, #T_f8cfd_row29_col17, #T_f8cfd_row31_col28 {\n",
       "  background-color: #90b2fe;\n",
       "  color: #000000;\n",
       "}\n",
       "#T_f8cfd_row3_col7, #T_f8cfd_row4_col17, #T_f8cfd_row13_col28, #T_f8cfd_row22_col29, #T_f8cfd_row27_col10 {\n",
       "  background-color: #6b8df0;\n",
       "  color: #f1f1f1;\n",
       "}\n",
       "#T_f8cfd_row3_col8, #T_f8cfd_row6_col22, #T_f8cfd_row6_col23, #T_f8cfd_row15_col9, #T_f8cfd_row15_col31, #T_f8cfd_row20_col7, #T_f8cfd_row20_col31, #T_f8cfd_row27_col31, #T_f8cfd_row30_col8 {\n",
       "  background-color: #4a63d3;\n",
       "  color: #f1f1f1;\n",
       "}\n",
       "#T_f8cfd_row3_col9, #T_f8cfd_row5_col2, #T_f8cfd_row8_col11, #T_f8cfd_row20_col29, #T_f8cfd_row27_col19, #T_f8cfd_row30_col28 {\n",
       "  background-color: #8badfd;\n",
       "  color: #000000;\n",
       "}\n",
       "#T_f8cfd_row3_col11, #T_f8cfd_row6_col3, #T_f8cfd_row18_col7, #T_f8cfd_row19_col13 {\n",
       "  background-color: #7597f6;\n",
       "  color: #f1f1f1;\n",
       "}\n",
       "#T_f8cfd_row3_col12, #T_f8cfd_row15_col20, #T_f8cfd_row21_col9, #T_f8cfd_row28_col14 {\n",
       "  background-color: #a5c3fe;\n",
       "  color: #000000;\n",
       "}\n",
       "#T_f8cfd_row3_col14, #T_f8cfd_row3_col26, #T_f8cfd_row4_col0, #T_f8cfd_row7_col27, #T_f8cfd_row8_col27, #T_f8cfd_row11_col19, #T_f8cfd_row11_col23, #T_f8cfd_row14_col13, #T_f8cfd_row17_col20, #T_f8cfd_row29_col28, #T_f8cfd_row31_col6 {\n",
       "  background-color: #cdd9ec;\n",
       "  color: #000000;\n",
       "}\n",
       "#T_f8cfd_row3_col15, #T_f8cfd_row10_col13, #T_f8cfd_row11_col20, #T_f8cfd_row15_col16, #T_f8cfd_row20_col17 {\n",
       "  background-color: #d6dce4;\n",
       "  color: #000000;\n",
       "}\n",
       "#T_f8cfd_row3_col18, #T_f8cfd_row8_col20 {\n",
       "  background-color: #c1d4f4;\n",
       "  color: #000000;\n",
       "}\n",
       "#T_f8cfd_row3_col21, #T_f8cfd_row5_col23, #T_f8cfd_row17_col13 {\n",
       "  background-color: #e3d9d3;\n",
       "  color: #000000;\n",
       "}\n",
       "#T_f8cfd_row3_col22, #T_f8cfd_row3_col23, #T_f8cfd_row17_col10 {\n",
       "  background-color: #e2dad5;\n",
       "  color: #000000;\n",
       "}\n",
       "#T_f8cfd_row3_col25, #T_f8cfd_row7_col15, #T_f8cfd_row8_col24, #T_f8cfd_row11_col6, #T_f8cfd_row16_col26 {\n",
       "  background-color: #dadce0;\n",
       "  color: #000000;\n",
       "}\n",
       "#T_f8cfd_row3_col27, #T_f8cfd_row5_col19, #T_f8cfd_row9_col21, #T_f8cfd_row9_col30, #T_f8cfd_row29_col25 {\n",
       "  background-color: #e0dbd8;\n",
       "  color: #000000;\n",
       "}\n",
       "#T_f8cfd_row3_col28, #T_f8cfd_row5_col30, #T_f8cfd_row7_col0, #T_f8cfd_row14_col23, #T_f8cfd_row15_col25, #T_f8cfd_row21_col17, #T_f8cfd_row23_col17, #T_f8cfd_row28_col24, #T_f8cfd_row30_col16 {\n",
       "  background-color: #9ebeff;\n",
       "  color: #000000;\n",
       "}\n",
       "#T_f8cfd_row3_col30, #T_f8cfd_row8_col16, #T_f8cfd_row14_col19, #T_f8cfd_row20_col1 {\n",
       "  background-color: #98b9ff;\n",
       "  color: #000000;\n",
       "}\n",
       "#T_f8cfd_row3_col31, #T_f8cfd_row11_col8, #T_f8cfd_row17_col7 {\n",
       "  background-color: #3c4ec2;\n",
       "  color: #f1f1f1;\n",
       "}\n",
       "#T_f8cfd_row4_col1, #T_f8cfd_row7_col14, #T_f8cfd_row11_col29, #T_f8cfd_row16_col27, #T_f8cfd_row29_col23 {\n",
       "  background-color: #c0d4f5;\n",
       "  color: #000000;\n",
       "}\n",
       "#T_f8cfd_row4_col2, #T_f8cfd_row15_col10, #T_f8cfd_row24_col7, #T_f8cfd_row25_col4, #T_f8cfd_row30_col7 {\n",
       "  background-color: #455cce;\n",
       "  color: #f1f1f1;\n",
       "}\n",
       "#T_f8cfd_row4_col3, #T_f8cfd_row20_col23, #T_f8cfd_row24_col11, #T_f8cfd_row26_col6, #T_f8cfd_row31_col1 {\n",
       "  background-color: #7093f3;\n",
       "  color: #f1f1f1;\n",
       "}\n",
       "#T_f8cfd_row4_col6, #T_f8cfd_row6_col19, #T_f8cfd_row9_col11, #T_f8cfd_row9_col31, #T_f8cfd_row15_col8, #T_f8cfd_row18_col8, #T_f8cfd_row22_col25, #T_f8cfd_row24_col4 {\n",
       "  background-color: #3f53c6;\n",
       "  color: #f1f1f1;\n",
       "}\n",
       "#T_f8cfd_row4_col7, #T_f8cfd_row5_col9, #T_f8cfd_row10_col28, #T_f8cfd_row13_col1, #T_f8cfd_row14_col5, #T_f8cfd_row18_col24 {\n",
       "  background-color: #6180e9;\n",
       "  color: #f1f1f1;\n",
       "}\n",
       "#T_f8cfd_row4_col8, #T_f8cfd_row6_col16, #T_f8cfd_row17_col16 {\n",
       "  background-color: #4257c9;\n",
       "  color: #f1f1f1;\n",
       "}\n",
       "#T_f8cfd_row4_col9, #T_f8cfd_row19_col31 {\n",
       "  background-color: #7699f6;\n",
       "  color: #f1f1f1;\n",
       "}\n",
       "#T_f8cfd_row4_col13, #T_f8cfd_row8_col5, #T_f8cfd_row13_col22, #T_f8cfd_row15_col17, #T_f8cfd_row16_col10, #T_f8cfd_row30_col25 {\n",
       "  background-color: #81a4fb;\n",
       "  color: #f1f1f1;\n",
       "}\n",
       "#T_f8cfd_row4_col16, #T_f8cfd_row12_col22, #T_f8cfd_row13_col25, #T_f8cfd_row15_col23 {\n",
       "  background-color: #f6bfa6;\n",
       "  color: #000000;\n",
       "}\n",
       "#T_f8cfd_row4_col18, #T_f8cfd_row19_col4, #T_f8cfd_row21_col19 {\n",
       "  background-color: #e8765c;\n",
       "  color: #f1f1f1;\n",
       "}\n",
       "#T_f8cfd_row4_col19 {\n",
       "  background-color: #e9785d;\n",
       "  color: #f1f1f1;\n",
       "}\n",
       "#T_f8cfd_row4_col20, #T_f8cfd_row6_col18, #T_f8cfd_row7_col31, #T_f8cfd_row26_col28, #T_f8cfd_row30_col6 {\n",
       "  background-color: #5f7fe8;\n",
       "  color: #f1f1f1;\n",
       "}\n",
       "#T_f8cfd_row4_col21 {\n",
       "  background-color: #e36b54;\n",
       "  color: #f1f1f1;\n",
       "}\n",
       "#T_f8cfd_row4_col22, #T_f8cfd_row19_col22 {\n",
       "  background-color: #da5a49;\n",
       "  color: #f1f1f1;\n",
       "}\n",
       "#T_f8cfd_row4_col23, #T_f8cfd_row23_col4 {\n",
       "  background-color: #e26952;\n",
       "  color: #f1f1f1;\n",
       "}\n",
       "#T_f8cfd_row4_col24, #T_f8cfd_row10_col7, #T_f8cfd_row20_col8, #T_f8cfd_row20_col12, #T_f8cfd_row28_col31, #T_f8cfd_row29_col9 {\n",
       "  background-color: #4b64d5;\n",
       "  color: #f1f1f1;\n",
       "}\n",
       "#T_f8cfd_row4_col25, #T_f8cfd_row12_col1, #T_f8cfd_row24_col21, #T_f8cfd_row26_col20 {\n",
       "  background-color: #5572df;\n",
       "  color: #f1f1f1;\n",
       "}\n",
       "#T_f8cfd_row4_col28, #T_f8cfd_row17_col2, #T_f8cfd_row19_col26, #T_f8cfd_row23_col26, #T_f8cfd_row24_col2 {\n",
       "  background-color: #f2cbb7;\n",
       "  color: #000000;\n",
       "}\n",
       "#T_f8cfd_row4_col30, #T_f8cfd_row22_col16 {\n",
       "  background-color: #f7bca1;\n",
       "  color: #000000;\n",
       "}\n",
       "#T_f8cfd_row4_col31, #T_f8cfd_row8_col31, #T_f8cfd_row9_col5, #T_f8cfd_row10_col5, #T_f8cfd_row23_col20, #T_f8cfd_row24_col0, #T_f8cfd_row26_col7, #T_f8cfd_row26_col31, #T_f8cfd_row30_col1 {\n",
       "  background-color: #5a78e4;\n",
       "  color: #f1f1f1;\n",
       "}\n",
       "#T_f8cfd_row5_col4, #T_f8cfd_row16_col15, #T_f8cfd_row19_col30 {\n",
       "  background-color: #edd1c2;\n",
       "  color: #000000;\n",
       "}\n",
       "#T_f8cfd_row5_col7, #T_f8cfd_row6_col0, #T_f8cfd_row16_col2, #T_f8cfd_row18_col10, #T_f8cfd_row20_col21, #T_f8cfd_row26_col0 {\n",
       "  background-color: #6485ec;\n",
       "  color: #f1f1f1;\n",
       "}\n",
       "#T_f8cfd_row5_col10, #T_f8cfd_row9_col28, #T_f8cfd_row28_col7, #T_f8cfd_row30_col5, #T_f8cfd_row30_col27 {\n",
       "  background-color: #6687ed;\n",
       "  color: #f1f1f1;\n",
       "}\n",
       "#T_f8cfd_row5_col15, #T_f8cfd_row12_col17, #T_f8cfd_row18_col0, #T_f8cfd_row30_col18, #T_f8cfd_row31_col19 {\n",
       "  background-color: #d8dce2;\n",
       "  color: #000000;\n",
       "}\n",
       "#T_f8cfd_row5_col20, #T_f8cfd_row11_col15, #T_f8cfd_row16_col12 {\n",
       "  background-color: #c7d7f0;\n",
       "  color: #000000;\n",
       "}\n",
       "#T_f8cfd_row5_col22, #T_f8cfd_row23_col12, #T_f8cfd_row26_col4, #T_f8cfd_row26_col17 {\n",
       "  background-color: #e5d8d1;\n",
       "  color: #000000;\n",
       "}\n",
       "#T_f8cfd_row5_col28, #T_f8cfd_row17_col25 {\n",
       "  background-color: #f5c4ac;\n",
       "  color: #000000;\n",
       "}\n",
       "#T_f8cfd_row5_col29, #T_f8cfd_row15_col27, #T_f8cfd_row29_col15 {\n",
       "  background-color: #c3d5f4;\n",
       "  color: #000000;\n",
       "}\n",
       "#T_f8cfd_row6_col2, #T_f8cfd_row23_col16, #T_f8cfd_row28_col22 {\n",
       "  background-color: #f3c7b1;\n",
       "  color: #000000;\n",
       "}\n",
       "#T_f8cfd_row6_col4, #T_f8cfd_row6_col12, #T_f8cfd_row6_col30, #T_f8cfd_row10_col11, #T_f8cfd_row11_col9, #T_f8cfd_row11_col10, #T_f8cfd_row13_col7, #T_f8cfd_row14_col15, #T_f8cfd_row15_col13, #T_f8cfd_row15_col14, #T_f8cfd_row16_col31, #T_f8cfd_row17_col0, #T_f8cfd_row17_col1, #T_f8cfd_row17_col5, #T_f8cfd_row17_col18, #T_f8cfd_row17_col28, #T_f8cfd_row17_col29, #T_f8cfd_row18_col2, #T_f8cfd_row18_col17, #T_f8cfd_row19_col20, #T_f8cfd_row21_col6, #T_f8cfd_row21_col25, #T_f8cfd_row22_col24, #T_f8cfd_row23_col8, #T_f8cfd_row24_col16, #T_f8cfd_row24_col19, #T_f8cfd_row24_col22, #T_f8cfd_row24_col23, #T_f8cfd_row25_col16, #T_f8cfd_row25_col21, #T_f8cfd_row25_col22, #T_f8cfd_row26_col27, #T_f8cfd_row27_col26, #T_f8cfd_row28_col8, #T_f8cfd_row29_col3 {\n",
       "  background-color: #3b4cc0;\n",
       "  color: #f1f1f1;\n",
       "}\n",
       "#T_f8cfd_row6_col5, #T_f8cfd_row8_col3, #T_f8cfd_row15_col29, #T_f8cfd_row20_col4, #T_f8cfd_row20_col10 {\n",
       "  background-color: #779af7;\n",
       "  color: #f1f1f1;\n",
       "}\n",
       "#T_f8cfd_row6_col8, #T_f8cfd_row10_col29, #T_f8cfd_row21_col20, #T_f8cfd_row29_col8 {\n",
       "  background-color: #3d50c3;\n",
       "  color: #f1f1f1;\n",
       "}\n",
       "#T_f8cfd_row6_col13, #T_f8cfd_row9_col14, #T_f8cfd_row10_col14, #T_f8cfd_row12_col23, #T_f8cfd_row27_col24, #T_f8cfd_row28_col0, #T_f8cfd_row28_col1, #T_f8cfd_row28_col19, #T_f8cfd_row28_col21 {\n",
       "  background-color: #edd2c3;\n",
       "  color: #000000;\n",
       "}\n",
       "#T_f8cfd_row6_col15, #T_f8cfd_row7_col13, #T_f8cfd_row15_col30, #T_f8cfd_row21_col0, #T_f8cfd_row22_col5 {\n",
       "  background-color: #abc8fd;\n",
       "  color: #000000;\n",
       "}\n",
       "#T_f8cfd_row6_col17 {\n",
       "  background-color: #e6d7cf;\n",
       "  color: #000000;\n",
       "}\n",
       "#T_f8cfd_row6_col20, #T_f8cfd_row18_col21, #T_f8cfd_row25_col20 {\n",
       "  background-color: #ef886b;\n",
       "  color: #f1f1f1;\n",
       "}\n",
       "#T_f8cfd_row6_col24, #T_f8cfd_row18_col22 {\n",
       "  background-color: #eb7d62;\n",
       "  color: #f1f1f1;\n",
       "}\n",
       "#T_f8cfd_row6_col25 {\n",
       "  background-color: #d85646;\n",
       "  color: #f1f1f1;\n",
       "}\n",
       "#T_f8cfd_row6_col27, #T_f8cfd_row27_col6 {\n",
       "  background-color: #f5a081;\n",
       "  color: #000000;\n",
       "}\n",
       "#T_f8cfd_row6_col31, #T_f8cfd_row12_col6, #T_f8cfd_row14_col0, #T_f8cfd_row23_col9 {\n",
       "  background-color: #5977e3;\n",
       "  color: #f1f1f1;\n",
       "}\n",
       "#T_f8cfd_row7_col3, #T_f8cfd_row12_col31, #T_f8cfd_row15_col3, #T_f8cfd_row16_col24 {\n",
       "  background-color: #88abfd;\n",
       "  color: #000000;\n",
       "}\n",
       "#T_f8cfd_row7_col4, #T_f8cfd_row7_col26, #T_f8cfd_row8_col25, #T_f8cfd_row19_col28, #T_f8cfd_row31_col13, #T_f8cfd_row31_col25 {\n",
       "  background-color: #d4dbe6;\n",
       "  color: #000000;\n",
       "}\n",
       "#T_f8cfd_row7_col16, #T_f8cfd_row9_col19, #T_f8cfd_row27_col18 {\n",
       "  background-color: #adc9fd;\n",
       "  color: #000000;\n",
       "}\n",
       "#T_f8cfd_row7_col20, #T_f8cfd_row9_col22, #T_f8cfd_row18_col27, #T_f8cfd_row28_col25, #T_f8cfd_row31_col18 {\n",
       "  background-color: #b7cff9;\n",
       "  color: #000000;\n",
       "}\n",
       "#T_f8cfd_row7_col21, #T_f8cfd_row13_col27, #T_f8cfd_row26_col10 {\n",
       "  background-color: #e1dad6;\n",
       "  color: #000000;\n",
       "}\n",
       "#T_f8cfd_row7_col22, #T_f8cfd_row11_col4, #T_f8cfd_row11_col25, #T_f8cfd_row13_col20, #T_f8cfd_row14_col2, #T_f8cfd_row14_col6, #T_f8cfd_row20_col13, #T_f8cfd_row22_col28, #T_f8cfd_row23_col28 {\n",
       "  background-color: #dddcdc;\n",
       "  color: #000000;\n",
       "}\n",
       "#T_f8cfd_row7_col29, #T_f8cfd_row8_col1, #T_f8cfd_row16_col14, #T_f8cfd_row24_col3, #T_f8cfd_row25_col1, #T_f8cfd_row26_col2, #T_f8cfd_row31_col16 {\n",
       "  background-color: #7ea1fa;\n",
       "  color: #f1f1f1;\n",
       "}\n",
       "#T_f8cfd_row8_col0, #T_f8cfd_row17_col15 {\n",
       "  background-color: #82a6fb;\n",
       "  color: #f1f1f1;\n",
       "}\n",
       "#T_f8cfd_row8_col4, #T_f8cfd_row11_col13, #T_f8cfd_row11_col18 {\n",
       "  background-color: #cad8ef;\n",
       "  color: #000000;\n",
       "}\n",
       "#T_f8cfd_row8_col9, #T_f8cfd_row10_col4, #T_f8cfd_row17_col21, #T_f8cfd_row23_col1, #T_f8cfd_row31_col20 {\n",
       "  background-color: #b1cbfc;\n",
       "  color: #000000;\n",
       "}\n",
       "#T_f8cfd_row8_col10, #T_f8cfd_row15_col6, #T_f8cfd_row20_col15, #T_f8cfd_row29_col30 {\n",
       "  background-color: #b3cdfb;\n",
       "  color: #000000;\n",
       "}\n",
       "#T_f8cfd_row8_col13, #T_f8cfd_row11_col28, #T_f8cfd_row29_col0, #T_f8cfd_row29_col14, #T_f8cfd_row30_col13, #T_f8cfd_row30_col15, #T_f8cfd_row31_col15 {\n",
       "  background-color: #bfd3f6;\n",
       "  color: #000000;\n",
       "}\n",
       "#T_f8cfd_row8_col14, #T_f8cfd_row11_col22, #T_f8cfd_row15_col28 {\n",
       "  background-color: #d2dbe8;\n",
       "  color: #000000;\n",
       "}\n",
       "#T_f8cfd_row8_col18, #T_f8cfd_row27_col17, #T_f8cfd_row29_col20 {\n",
       "  background-color: #c4d5f3;\n",
       "  color: #000000;\n",
       "}\n",
       "#T_f8cfd_row8_col22, #T_f8cfd_row9_col13, #T_f8cfd_row14_col30 {\n",
       "  background-color: #cfdaea;\n",
       "  color: #000000;\n",
       "}\n",
       "#T_f8cfd_row8_col29, #T_f8cfd_row13_col18, #T_f8cfd_row13_col23, #T_f8cfd_row29_col2, #T_f8cfd_row31_col10 {\n",
       "  background-color: #7a9df8;\n",
       "  color: #f1f1f1;\n",
       "}\n",
       "#T_f8cfd_row9_col1, #T_f8cfd_row10_col1, #T_f8cfd_row12_col5, #T_f8cfd_row21_col13, #T_f8cfd_row22_col10, #T_f8cfd_row22_col13, #T_f8cfd_row24_col5 {\n",
       "  background-color: #5e7de7;\n",
       "  color: #f1f1f1;\n",
       "}\n",
       "#T_f8cfd_row9_col6, #T_f8cfd_row10_col2, #T_f8cfd_row12_col16, #T_f8cfd_row14_col4, #T_f8cfd_row14_col21, #T_f8cfd_row30_col11 {\n",
       "  background-color: #aac7fd;\n",
       "  color: #000000;\n",
       "}\n",
       "#T_f8cfd_row9_col7, #T_f8cfd_row12_col7, #T_f8cfd_row19_col2, #T_f8cfd_row19_col6, #T_f8cfd_row19_col24 {\n",
       "  background-color: #4961d2;\n",
       "  color: #f1f1f1;\n",
       "}\n",
       "#T_f8cfd_row9_col10, #T_f8cfd_row10_col9 {\n",
       "  background-color: #c53334;\n",
       "  color: #f1f1f1;\n",
       "}\n",
       "#T_f8cfd_row9_col12, #T_f8cfd_row12_col19, #T_f8cfd_row18_col15, #T_f8cfd_row21_col12 {\n",
       "  background-color: #f7b89c;\n",
       "  color: #000000;\n",
       "}\n",
       "#T_f8cfd_row9_col16, #T_f8cfd_row15_col24, #T_f8cfd_row17_col3, #T_f8cfd_row21_col1 {\n",
       "  background-color: #94b6ff;\n",
       "  color: #000000;\n",
       "}\n",
       "#T_f8cfd_row9_col24, #T_f8cfd_row14_col17, #T_f8cfd_row15_col21, #T_f8cfd_row27_col20, #T_f8cfd_row28_col4, #T_f8cfd_row28_col18 {\n",
       "  background-color: #f7b497;\n",
       "  color: #000000;\n",
       "}\n",
       "#T_f8cfd_row9_col26, #T_f8cfd_row24_col17 {\n",
       "  background-color: #f7b79b;\n",
       "  color: #000000;\n",
       "}\n",
       "#T_f8cfd_row10_col3, #T_f8cfd_row14_col28, #T_f8cfd_row17_col11, #T_f8cfd_row18_col20, #T_f8cfd_row21_col7, #T_f8cfd_row25_col0, #T_f8cfd_row28_col3, #T_f8cfd_row29_col31 {\n",
       "  background-color: #6f92f3;\n",
       "  color: #f1f1f1;\n",
       "}\n",
       "#T_f8cfd_row10_col12, #T_f8cfd_row30_col23 {\n",
       "  background-color: #f4c6af;\n",
       "  color: #000000;\n",
       "}\n",
       "#T_f8cfd_row10_col15, #T_f8cfd_row18_col29 {\n",
       "  background-color: #8db0fe;\n",
       "  color: #000000;\n",
       "}\n",
       "#T_f8cfd_row10_col26, #T_f8cfd_row12_col4, #T_f8cfd_row19_col12, #T_f8cfd_row21_col16, #T_f8cfd_row23_col15 {\n",
       "  background-color: #f5c0a7;\n",
       "  color: #000000;\n",
       "}\n",
       "#T_f8cfd_row10_col31, #T_f8cfd_row14_col16, #T_f8cfd_row16_col8, #T_f8cfd_row27_col8, #T_f8cfd_row27_col30 {\n",
       "  background-color: #4055c8;\n",
       "  color: #f1f1f1;\n",
       "}\n",
       "#T_f8cfd_row11_col2, #T_f8cfd_row15_col1, #T_f8cfd_row21_col10, #T_f8cfd_row22_col27, #T_f8cfd_row25_col10, #T_f8cfd_row27_col23, #T_f8cfd_row28_col12, #T_f8cfd_row29_col16 {\n",
       "  background-color: #9fbfff;\n",
       "  color: #000000;\n",
       "}\n",
       "#T_f8cfd_row12_col3, #T_f8cfd_row17_col8, #T_f8cfd_row22_col31, #T_f8cfd_row26_col8 {\n",
       "  background-color: #506bda;\n",
       "  color: #f1f1f1;\n",
       "}\n",
       "#T_f8cfd_row12_col26 {\n",
       "  background-color: #e97a5f;\n",
       "  color: #f1f1f1;\n",
       "}\n",
       "#T_f8cfd_row12_col27, #T_f8cfd_row14_col1, #T_f8cfd_row25_col12 {\n",
       "  background-color: #5d7ce6;\n",
       "  color: #f1f1f1;\n",
       "}\n",
       "#T_f8cfd_row12_col30, #T_f8cfd_row30_col12 {\n",
       "  background-color: #d0473d;\n",
       "  color: #f1f1f1;\n",
       "}\n",
       "#T_f8cfd_row13_col15, #T_f8cfd_row27_col7 {\n",
       "  background-color: #4e68d8;\n",
       "  color: #f1f1f1;\n",
       "}\n",
       "#T_f8cfd_row13_col16, #T_f8cfd_row14_col7, #T_f8cfd_row23_col31, #T_f8cfd_row25_col23, #T_f8cfd_row31_col8 {\n",
       "  background-color: #4358cb;\n",
       "  color: #f1f1f1;\n",
       "}\n",
       "#T_f8cfd_row13_col24, #T_f8cfd_row25_col27 {\n",
       "  background-color: #f5c1a9;\n",
       "  color: #000000;\n",
       "}\n",
       "#T_f8cfd_row13_col26, #T_f8cfd_row20_col11, #T_f8cfd_row28_col6, #T_f8cfd_row28_col11 {\n",
       "  background-color: #b5cdfa;\n",
       "  color: #000000;\n",
       "}\n",
       "#T_f8cfd_row13_col30, #T_f8cfd_row22_col0, #T_f8cfd_row24_col26, #T_f8cfd_row28_col20 {\n",
       "  background-color: #bad0f8;\n",
       "  color: #000000;\n",
       "}\n",
       "#T_f8cfd_row14_col8, #T_f8cfd_row19_col10, #T_f8cfd_row20_col30, #T_f8cfd_row21_col29, #T_f8cfd_row23_col10, #T_f8cfd_row23_col25, #T_f8cfd_row24_col8, #T_f8cfd_row24_col31, #T_f8cfd_row26_col1 {\n",
       "  background-color: #5470de;\n",
       "  color: #f1f1f1;\n",
       "}\n",
       "#T_f8cfd_row15_col4, #T_f8cfd_row24_col27 {\n",
       "  background-color: #ebd3c6;\n",
       "  color: #000000;\n",
       "}\n",
       "#T_f8cfd_row15_col18 {\n",
       "  background-color: #f7b99e;\n",
       "  color: #000000;\n",
       "}\n",
       "#T_f8cfd_row15_col22, #T_f8cfd_row16_col23, #T_f8cfd_row21_col26, #T_f8cfd_row30_col4 {\n",
       "  background-color: #f7b093;\n",
       "  color: #000000;\n",
       "}\n",
       "#T_f8cfd_row16_col1, #T_f8cfd_row16_col5 {\n",
       "  background-color: #c9d7f0;\n",
       "  color: #000000;\n",
       "}\n",
       "#T_f8cfd_row16_col3, #T_f8cfd_row20_col18, #T_f8cfd_row31_col0 {\n",
       "  background-color: #80a3fa;\n",
       "  color: #f1f1f1;\n",
       "}\n",
       "#T_f8cfd_row16_col4, #T_f8cfd_row18_col16 {\n",
       "  background-color: #f7a688;\n",
       "  color: #000000;\n",
       "}\n",
       "#T_f8cfd_row16_col17, #T_f8cfd_row16_col20, #T_f8cfd_row25_col3, #T_f8cfd_row25_col5, #T_f8cfd_row27_col29 {\n",
       "  background-color: #7da0f9;\n",
       "  color: #f1f1f1;\n",
       "}\n",
       "#T_f8cfd_row16_col18, #T_f8cfd_row21_col18 {\n",
       "  background-color: #f29072;\n",
       "  color: #f1f1f1;\n",
       "}\n",
       "#T_f8cfd_row16_col19, #T_f8cfd_row26_col21 {\n",
       "  background-color: #f7ad90;\n",
       "  color: #000000;\n",
       "}\n",
       "#T_f8cfd_row16_col21 {\n",
       "  background-color: #f6a283;\n",
       "  color: #000000;\n",
       "}\n",
       "#T_f8cfd_row16_col22, #T_f8cfd_row23_col18 {\n",
       "  background-color: #f59f80;\n",
       "  color: #000000;\n",
       "}\n",
       "#T_f8cfd_row17_col6, #T_f8cfd_row17_col26, #T_f8cfd_row28_col15 {\n",
       "  background-color: #ead4c8;\n",
       "  color: #000000;\n",
       "}\n",
       "#T_f8cfd_row17_col24 {\n",
       "  background-color: #f7af91;\n",
       "  color: #000000;\n",
       "}\n",
       "#T_f8cfd_row18_col4, #T_f8cfd_row19_col23, #T_f8cfd_row23_col19 {\n",
       "  background-color: #e7745b;\n",
       "  color: #f1f1f1;\n",
       "}\n",
       "#T_f8cfd_row18_col5, #T_f8cfd_row27_col13, #T_f8cfd_row28_col27, #T_f8cfd_row29_col19, #T_f8cfd_row30_col17, #T_f8cfd_row31_col14 {\n",
       "  background-color: #d3dbe7;\n",
       "  color: #000000;\n",
       "}\n",
       "#T_f8cfd_row18_col13, #T_f8cfd_row18_col25, #T_f8cfd_row20_col9, #T_f8cfd_row20_col22, #T_f8cfd_row22_col7, #T_f8cfd_row24_col30 {\n",
       "  background-color: #6a8bef;\n",
       "  color: #f1f1f1;\n",
       "}\n",
       "#T_f8cfd_row18_col19 {\n",
       "  background-color: #f08b6e;\n",
       "  color: #f1f1f1;\n",
       "}\n",
       "#T_f8cfd_row18_col23 {\n",
       "  background-color: #f59d7e;\n",
       "  color: #000000;\n",
       "}\n",
       "#T_f8cfd_row19_col9, #T_f8cfd_row22_col9, #T_f8cfd_row23_col13, #T_f8cfd_row26_col11, #T_f8cfd_row30_col2 {\n",
       "  background-color: #6384eb;\n",
       "  color: #f1f1f1;\n",
       "}\n",
       "#T_f8cfd_row19_col15, #T_f8cfd_row24_col10 {\n",
       "  background-color: #f2cab5;\n",
       "  color: #000000;\n",
       "}\n",
       "#T_f8cfd_row19_col18, #T_f8cfd_row30_col26 {\n",
       "  background-color: #f18d6f;\n",
       "  color: #f1f1f1;\n",
       "}\n",
       "#T_f8cfd_row19_col21 {\n",
       "  background-color: #e57058;\n",
       "  color: #f1f1f1;\n",
       "}\n",
       "#T_f8cfd_row19_col25, #T_f8cfd_row24_col28, #T_f8cfd_row26_col5, #T_f8cfd_row31_col7 {\n",
       "  background-color: #5673e0;\n",
       "  color: #f1f1f1;\n",
       "}\n",
       "#T_f8cfd_row20_col6, #T_f8cfd_row24_col6 {\n",
       "  background-color: #ec7f63;\n",
       "  color: #f1f1f1;\n",
       "}\n",
       "#T_f8cfd_row20_col19, #T_f8cfd_row21_col2, #T_f8cfd_row29_col7, #T_f8cfd_row29_col10 {\n",
       "  background-color: #4f69d9;\n",
       "  color: #f1f1f1;\n",
       "}\n",
       "#T_f8cfd_row20_col24, #T_f8cfd_row26_col30 {\n",
       "  background-color: #f49a7b;\n",
       "  color: #000000;\n",
       "}\n",
       "#T_f8cfd_row20_col25 {\n",
       "  background-color: #ea7b60;\n",
       "  color: #f1f1f1;\n",
       "}\n",
       "#T_f8cfd_row21_col4 {\n",
       "  background-color: #e46e56;\n",
       "  color: #f1f1f1;\n",
       "}\n",
       "#T_f8cfd_row21_col15 {\n",
       "  background-color: #f6bda2;\n",
       "  color: #000000;\n",
       "}\n",
       "#T_f8cfd_row21_col22, #T_f8cfd_row22_col21, #T_f8cfd_row23_col22 {\n",
       "  background-color: #c12b30;\n",
       "  color: #f1f1f1;\n",
       "}\n",
       "#T_f8cfd_row21_col23 {\n",
       "  background-color: #d55042;\n",
       "  color: #f1f1f1;\n",
       "}\n",
       "#T_f8cfd_row21_col30, #T_f8cfd_row27_col25 {\n",
       "  background-color: #f6bea4;\n",
       "  color: #000000;\n",
       "}\n",
       "#T_f8cfd_row22_col4 {\n",
       "  background-color: #dc5d4a;\n",
       "  color: #f1f1f1;\n",
       "}\n",
       "#T_f8cfd_row22_col15, #T_f8cfd_row30_col22 {\n",
       "  background-color: #f7b599;\n",
       "  color: #000000;\n",
       "}\n",
       "#T_f8cfd_row22_col18 {\n",
       "  background-color: #ee8468;\n",
       "  color: #f1f1f1;\n",
       "}\n",
       "#T_f8cfd_row22_col19 {\n",
       "  background-color: #dd5f4b;\n",
       "  color: #f1f1f1;\n",
       "}\n",
       "#T_f8cfd_row22_col23 {\n",
       "  background-color: #c32e31;\n",
       "  color: #f1f1f1;\n",
       "}\n",
       "#T_f8cfd_row23_col14, #T_f8cfd_row27_col4, #T_f8cfd_row27_col11 {\n",
       "  background-color: #9bbcff;\n",
       "  color: #000000;\n",
       "}\n",
       "#T_f8cfd_row23_col21 {\n",
       "  background-color: #d44e41;\n",
       "  color: #f1f1f1;\n",
       "}\n",
       "#T_f8cfd_row23_col30 {\n",
       "  background-color: #eed0c0;\n",
       "  color: #000000;\n",
       "}\n",
       "#T_f8cfd_row24_col13 {\n",
       "  background-color: #efcebd;\n",
       "  color: #000000;\n",
       "}\n",
       "#T_f8cfd_row24_col14, #T_f8cfd_row26_col19, #T_f8cfd_row26_col23 {\n",
       "  background-color: #f0cdbb;\n",
       "  color: #000000;\n",
       "}\n",
       "#T_f8cfd_row24_col20 {\n",
       "  background-color: #f7a889;\n",
       "  color: #000000;\n",
       "}\n",
       "#T_f8cfd_row24_col25, #T_f8cfd_row25_col24 {\n",
       "  background-color: #cd423b;\n",
       "  color: #f1f1f1;\n",
       "}\n",
       "#T_f8cfd_row25_col6 {\n",
       "  background-color: #d95847;\n",
       "  color: #f1f1f1;\n",
       "}\n",
       "#T_f8cfd_row25_col31, #T_f8cfd_row30_col20 {\n",
       "  background-color: #5b7ae5;\n",
       "  color: #f1f1f1;\n",
       "}\n",
       "#T_f8cfd_row26_col12 {\n",
       "  background-color: #ed8366;\n",
       "  color: #f1f1f1;\n",
       "}\n",
       "#T_f8cfd_row30_col21 {\n",
       "  background-color: #f7ac8e;\n",
       "  color: #000000;\n",
       "}\n",
       "</style>\n",
       "<table id=\"T_f8cfd_\">\n",
       "  <thead>\n",
       "    <tr>\n",
       "      <th class=\"blank level0\" >&nbsp;</th>\n",
       "      <th class=\"col_heading level0 col0\" >avgAnnCount</th>\n",
       "      <th class=\"col_heading level0 col1\" >avgDeathsPerYear</th>\n",
       "      <th class=\"col_heading level0 col2\" >TARGET_deathRate</th>\n",
       "      <th class=\"col_heading level0 col3\" >incidenceRate</th>\n",
       "      <th class=\"col_heading level0 col4\" >medIncome</th>\n",
       "      <th class=\"col_heading level0 col5\" >popEst2015</th>\n",
       "      <th class=\"col_heading level0 col6\" >povertyPercent</th>\n",
       "      <th class=\"col_heading level0 col7\" >studyPerCap</th>\n",
       "      <th class=\"col_heading level0 col8\" >MedianAge</th>\n",
       "      <th class=\"col_heading level0 col9\" >MedianAgeMale</th>\n",
       "      <th class=\"col_heading level0 col10\" >MedianAgeFemale</th>\n",
       "      <th class=\"col_heading level0 col11\" >AvgHouseholdSize</th>\n",
       "      <th class=\"col_heading level0 col12\" >PercentMarried</th>\n",
       "      <th class=\"col_heading level0 col13\" >PctNoHS18_24</th>\n",
       "      <th class=\"col_heading level0 col14\" >PctHS18_24</th>\n",
       "      <th class=\"col_heading level0 col15\" >PctSomeCol18_24</th>\n",
       "      <th class=\"col_heading level0 col16\" >PctBachDeg18_24</th>\n",
       "      <th class=\"col_heading level0 col17\" >PctHS25_Over</th>\n",
       "      <th class=\"col_heading level0 col18\" >PctBachDeg25_Over</th>\n",
       "      <th class=\"col_heading level0 col19\" >PctEmployed16_Over</th>\n",
       "      <th class=\"col_heading level0 col20\" >PctUnemployed16_Over</th>\n",
       "      <th class=\"col_heading level0 col21\" >PctPrivateCoverage</th>\n",
       "      <th class=\"col_heading level0 col22\" >PctPrivateCoverageAlone</th>\n",
       "      <th class=\"col_heading level0 col23\" >PctEmpPrivCoverage</th>\n",
       "      <th class=\"col_heading level0 col24\" >PctPublicCoverage</th>\n",
       "      <th class=\"col_heading level0 col25\" >PctPublicCoverageAlone</th>\n",
       "      <th class=\"col_heading level0 col26\" >PctWhite</th>\n",
       "      <th class=\"col_heading level0 col27\" >PctBlack</th>\n",
       "      <th class=\"col_heading level0 col28\" >PctAsian</th>\n",
       "      <th class=\"col_heading level0 col29\" >PctOtherRace</th>\n",
       "      <th class=\"col_heading level0 col30\" >PctMarriedHouseholds</th>\n",
       "      <th class=\"col_heading level0 col31\" >BirthRate</th>\n",
       "    </tr>\n",
       "  </thead>\n",
       "  <tbody>\n",
       "    <tr>\n",
       "      <th id=\"T_f8cfd_level0_row0\" class=\"row_heading level0 row0\" >avgAnnCount</th>\n",
       "      <td id=\"T_f8cfd_row0_col0\" class=\"data row0 col0\" >1.000000</td>\n",
       "      <td id=\"T_f8cfd_row0_col1\" class=\"data row0 col1\" >0.939408</td>\n",
       "      <td id=\"T_f8cfd_row0_col2\" class=\"data row0 col2\" >-0.143532</td>\n",
       "      <td id=\"T_f8cfd_row0_col3\" class=\"data row0 col3\" >0.073553</td>\n",
       "      <td id=\"T_f8cfd_row0_col4\" class=\"data row0 col4\" >0.269145</td>\n",
       "      <td id=\"T_f8cfd_row0_col5\" class=\"data row0 col5\" >0.926894</td>\n",
       "      <td id=\"T_f8cfd_row0_col6\" class=\"data row0 col6\" >-0.135694</td>\n",
       "      <td id=\"T_f8cfd_row0_col7\" class=\"data row0 col7\" >0.082071</td>\n",
       "      <td id=\"T_f8cfd_row0_col8\" class=\"data row0 col8\" >-0.024098</td>\n",
       "      <td id=\"T_f8cfd_row0_col9\" class=\"data row0 col9\" >-0.124969</td>\n",
       "      <td id=\"T_f8cfd_row0_col10\" class=\"data row0 col10\" >-0.122844</td>\n",
       "      <td id=\"T_f8cfd_row0_col11\" class=\"data row0 col11\" >0.064788</td>\n",
       "      <td id=\"T_f8cfd_row0_col12\" class=\"data row0 col12\" >-0.106108</td>\n",
       "      <td id=\"T_f8cfd_row0_col13\" class=\"data row0 col13\" >-0.143327</td>\n",
       "      <td id=\"T_f8cfd_row0_col14\" class=\"data row0 col14\" >-0.182054</td>\n",
       "      <td id=\"T_f8cfd_row0_col15\" class=\"data row0 col15\" >0.109455</td>\n",
       "      <td id=\"T_f8cfd_row0_col16\" class=\"data row0 col16\" >0.284176</td>\n",
       "      <td id=\"T_f8cfd_row0_col17\" class=\"data row0 col17\" >-0.311375</td>\n",
       "      <td id=\"T_f8cfd_row0_col18\" class=\"data row0 col18\" >0.321021</td>\n",
       "      <td id=\"T_f8cfd_row0_col19\" class=\"data row0 col19\" >0.199459</td>\n",
       "      <td id=\"T_f8cfd_row0_col20\" class=\"data row0 col20\" >-0.009016</td>\n",
       "      <td id=\"T_f8cfd_row0_col21\" class=\"data row0 col21\" >0.132244</td>\n",
       "      <td id=\"T_f8cfd_row0_col22\" class=\"data row0 col22\" >0.186045</td>\n",
       "      <td id=\"T_f8cfd_row0_col23\" class=\"data row0 col23\" >0.202349</td>\n",
       "      <td id=\"T_f8cfd_row0_col24\" class=\"data row0 col24\" >-0.173548</td>\n",
       "      <td id=\"T_f8cfd_row0_col25\" class=\"data row0 col25\" >-0.093699</td>\n",
       "      <td id=\"T_f8cfd_row0_col26\" class=\"data row0 col26\" >-0.136501</td>\n",
       "      <td id=\"T_f8cfd_row0_col27\" class=\"data row0 col27\" >0.031376</td>\n",
       "      <td id=\"T_f8cfd_row0_col28\" class=\"data row0 col28\" >0.435071</td>\n",
       "      <td id=\"T_f8cfd_row0_col29\" class=\"data row0 col29\" >0.209184</td>\n",
       "      <td id=\"T_f8cfd_row0_col30\" class=\"data row0 col30\" >-0.106221</td>\n",
       "      <td id=\"T_f8cfd_row0_col31\" class=\"data row0 col31\" >-0.034508</td>\n",
       "    </tr>\n",
       "    <tr>\n",
       "      <th id=\"T_f8cfd_level0_row1\" class=\"row_heading level0 row1\" >avgDeathsPerYear</th>\n",
       "      <td id=\"T_f8cfd_row1_col0\" class=\"data row1 col0\" >0.939408</td>\n",
       "      <td id=\"T_f8cfd_row1_col1\" class=\"data row1 col1\" >1.000000</td>\n",
       "      <td id=\"T_f8cfd_row1_col2\" class=\"data row1 col2\" >-0.090715</td>\n",
       "      <td id=\"T_f8cfd_row1_col3\" class=\"data row1 col3\" >0.062690</td>\n",
       "      <td id=\"T_f8cfd_row1_col4\" class=\"data row1 col4\" >0.223207</td>\n",
       "      <td id=\"T_f8cfd_row1_col5\" class=\"data row1 col5\" >0.977634</td>\n",
       "      <td id=\"T_f8cfd_row1_col6\" class=\"data row1 col6\" >-0.066918</td>\n",
       "      <td id=\"T_f8cfd_row1_col7\" class=\"data row1 col7\" >0.063488</td>\n",
       "      <td id=\"T_f8cfd_row1_col8\" class=\"data row1 col8\" >-0.024599</td>\n",
       "      <td id=\"T_f8cfd_row1_col9\" class=\"data row1 col9\" >-0.148487</td>\n",
       "      <td id=\"T_f8cfd_row1_col10\" class=\"data row1 col10\" >-0.144069</td>\n",
       "      <td id=\"T_f8cfd_row1_col11\" class=\"data row1 col11\" >0.086161</td>\n",
       "      <td id=\"T_f8cfd_row1_col12\" class=\"data row1 col12\" >-0.181029</td>\n",
       "      <td id=\"T_f8cfd_row1_col13\" class=\"data row1 col13\" >-0.136794</td>\n",
       "      <td id=\"T_f8cfd_row1_col14\" class=\"data row1 col14\" >-0.151418</td>\n",
       "      <td id=\"T_f8cfd_row1_col15\" class=\"data row1 col15\" >0.098464</td>\n",
       "      <td id=\"T_f8cfd_row1_col16\" class=\"data row1 col16\" >0.259761</td>\n",
       "      <td id=\"T_f8cfd_row1_col17\" class=\"data row1 col17\" >-0.295929</td>\n",
       "      <td id=\"T_f8cfd_row1_col18\" class=\"data row1 col18\" >0.293210</td>\n",
       "      <td id=\"T_f8cfd_row1_col19\" class=\"data row1 col19\" >0.125928</td>\n",
       "      <td id=\"T_f8cfd_row1_col20\" class=\"data row1 col20\" >0.069701</td>\n",
       "      <td id=\"T_f8cfd_row1_col21\" class=\"data row1 col21\" >0.056183</td>\n",
       "      <td id=\"T_f8cfd_row1_col22\" class=\"data row1 col22\" >0.125820</td>\n",
       "      <td id=\"T_f8cfd_row1_col23\" class=\"data row1 col23\" >0.160124</td>\n",
       "      <td id=\"T_f8cfd_row1_col24\" class=\"data row1 col24\" >-0.131687</td>\n",
       "      <td id=\"T_f8cfd_row1_col25\" class=\"data row1 col25\" >-0.027338</td>\n",
       "      <td id=\"T_f8cfd_row1_col26\" class=\"data row1 col26\" >-0.187159</td>\n",
       "      <td id=\"T_f8cfd_row1_col27\" class=\"data row1 col27\" >0.084607</td>\n",
       "      <td id=\"T_f8cfd_row1_col28\" class=\"data row1 col28\" >0.443074</td>\n",
       "      <td id=\"T_f8cfd_row1_col29\" class=\"data row1 col29\" >0.215149</td>\n",
       "      <td id=\"T_f8cfd_row1_col30\" class=\"data row1 col30\" >-0.160266</td>\n",
       "      <td id=\"T_f8cfd_row1_col31\" class=\"data row1 col31\" >-0.074420</td>\n",
       "    </tr>\n",
       "    <tr>\n",
       "      <th id=\"T_f8cfd_level0_row2\" class=\"row_heading level0 row2\" >TARGET_deathRate</th>\n",
       "      <td id=\"T_f8cfd_row2_col0\" class=\"data row2 col0\" >-0.143532</td>\n",
       "      <td id=\"T_f8cfd_row2_col1\" class=\"data row2 col1\" >-0.090715</td>\n",
       "      <td id=\"T_f8cfd_row2_col2\" class=\"data row2 col2\" >1.000000</td>\n",
       "      <td id=\"T_f8cfd_row2_col3\" class=\"data row2 col3\" >0.449432</td>\n",
       "      <td id=\"T_f8cfd_row2_col4\" class=\"data row2 col4\" >-0.428615</td>\n",
       "      <td id=\"T_f8cfd_row2_col5\" class=\"data row2 col5\" >-0.120073</td>\n",
       "      <td id=\"T_f8cfd_row2_col6\" class=\"data row2 col6\" >0.429389</td>\n",
       "      <td id=\"T_f8cfd_row2_col7\" class=\"data row2 col7\" >-0.022285</td>\n",
       "      <td id=\"T_f8cfd_row2_col8\" class=\"data row2 col8\" >0.004375</td>\n",
       "      <td id=\"T_f8cfd_row2_col9\" class=\"data row2 col9\" >-0.021929</td>\n",
       "      <td id=\"T_f8cfd_row2_col10\" class=\"data row2 col10\" >0.012048</td>\n",
       "      <td id=\"T_f8cfd_row2_col11\" class=\"data row2 col11\" >-0.036905</td>\n",
       "      <td id=\"T_f8cfd_row2_col12\" class=\"data row2 col12\" >-0.266820</td>\n",
       "      <td id=\"T_f8cfd_row2_col13\" class=\"data row2 col13\" >0.088463</td>\n",
       "      <td id=\"T_f8cfd_row2_col14\" class=\"data row2 col14\" >0.261976</td>\n",
       "      <td id=\"T_f8cfd_row2_col15\" class=\"data row2 col15\" >-0.188688</td>\n",
       "      <td id=\"T_f8cfd_row2_col16\" class=\"data row2 col16\" >-0.287817</td>\n",
       "      <td id=\"T_f8cfd_row2_col17\" class=\"data row2 col17\" >0.404589</td>\n",
       "      <td id=\"T_f8cfd_row2_col18\" class=\"data row2 col18\" >-0.485477</td>\n",
       "      <td id=\"T_f8cfd_row2_col19\" class=\"data row2 col19\" >-0.412046</td>\n",
       "      <td id=\"T_f8cfd_row2_col20\" class=\"data row2 col20\" >0.378412</td>\n",
       "      <td id=\"T_f8cfd_row2_col21\" class=\"data row2 col21\" >-0.386066</td>\n",
       "      <td id=\"T_f8cfd_row2_col22\" class=\"data row2 col22\" >-0.363704</td>\n",
       "      <td id=\"T_f8cfd_row2_col23\" class=\"data row2 col23\" >-0.267399</td>\n",
       "      <td id=\"T_f8cfd_row2_col24\" class=\"data row2 col24\" >0.404572</td>\n",
       "      <td id=\"T_f8cfd_row2_col25\" class=\"data row2 col25\" >0.449358</td>\n",
       "      <td id=\"T_f8cfd_row2_col26\" class=\"data row2 col26\" >-0.177400</td>\n",
       "      <td id=\"T_f8cfd_row2_col27\" class=\"data row2 col27\" >0.257024</td>\n",
       "      <td id=\"T_f8cfd_row2_col28\" class=\"data row2 col28\" >-0.186331</td>\n",
       "      <td id=\"T_f8cfd_row2_col29\" class=\"data row2 col29\" >-0.189894</td>\n",
       "      <td id=\"T_f8cfd_row2_col30\" class=\"data row2 col30\" >-0.293325</td>\n",
       "      <td id=\"T_f8cfd_row2_col31\" class=\"data row2 col31\" >-0.087407</td>\n",
       "    </tr>\n",
       "    <tr>\n",
       "      <th id=\"T_f8cfd_level0_row3\" class=\"row_heading level0 row3\" >incidenceRate</th>\n",
       "      <td id=\"T_f8cfd_row3_col0\" class=\"data row3 col0\" >0.073553</td>\n",
       "      <td id=\"T_f8cfd_row3_col1\" class=\"data row3 col1\" >0.062690</td>\n",
       "      <td id=\"T_f8cfd_row3_col2\" class=\"data row3 col2\" >0.449432</td>\n",
       "      <td id=\"T_f8cfd_row3_col3\" class=\"data row3 col3\" >1.000000</td>\n",
       "      <td id=\"T_f8cfd_row3_col4\" class=\"data row3 col4\" >-0.001036</td>\n",
       "      <td id=\"T_f8cfd_row3_col5\" class=\"data row3 col5\" >0.026912</td>\n",
       "      <td id=\"T_f8cfd_row3_col6\" class=\"data row3 col6\" >0.009046</td>\n",
       "      <td id=\"T_f8cfd_row3_col7\" class=\"data row3 col7\" >0.077283</td>\n",
       "      <td id=\"T_f8cfd_row3_col8\" class=\"data row3 col8\" >0.018089</td>\n",
       "      <td id=\"T_f8cfd_row3_col9\" class=\"data row3 col9\" >-0.014733</td>\n",
       "      <td id=\"T_f8cfd_row3_col10\" class=\"data row3 col10\" >-0.009106</td>\n",
       "      <td id=\"T_f8cfd_row3_col11\" class=\"data row3 col11\" >-0.118400</td>\n",
       "      <td id=\"T_f8cfd_row3_col12\" class=\"data row3 col12\" >-0.119524</td>\n",
       "      <td id=\"T_f8cfd_row3_col13\" class=\"data row3 col13\" >-0.170762</td>\n",
       "      <td id=\"T_f8cfd_row3_col14\" class=\"data row3 col14\" >0.022644</td>\n",
       "      <td id=\"T_f8cfd_row3_col15\" class=\"data row3 col15\" >0.077666</td>\n",
       "      <td id=\"T_f8cfd_row3_col16\" class=\"data row3 col16\" >0.046835</td>\n",
       "      <td id=\"T_f8cfd_row3_col17\" class=\"data row3 col17\" >0.121725</td>\n",
       "      <td id=\"T_f8cfd_row3_col18\" class=\"data row3 col18\" >-0.038177</td>\n",
       "      <td id=\"T_f8cfd_row3_col19\" class=\"data row3 col19\" >0.004906</td>\n",
       "      <td id=\"T_f8cfd_row3_col20\" class=\"data row3 col20\" >0.099979</td>\n",
       "      <td id=\"T_f8cfd_row3_col21\" class=\"data row3 col21\" >0.105174</td>\n",
       "      <td id=\"T_f8cfd_row3_col22\" class=\"data row3 col22\" >0.109278</td>\n",
       "      <td id=\"T_f8cfd_row3_col23\" class=\"data row3 col23\" >0.149825</td>\n",
       "      <td id=\"T_f8cfd_row3_col24\" class=\"data row3 col24\" >0.046109</td>\n",
       "      <td id=\"T_f8cfd_row3_col25\" class=\"data row3 col25\" >0.040812</td>\n",
       "      <td id=\"T_f8cfd_row3_col26\" class=\"data row3 col26\" >-0.014510</td>\n",
       "      <td id=\"T_f8cfd_row3_col27\" class=\"data row3 col27\" >0.113489</td>\n",
       "      <td id=\"T_f8cfd_row3_col28\" class=\"data row3 col28\" >-0.008123</td>\n",
       "      <td id=\"T_f8cfd_row3_col29\" class=\"data row3 col29\" >-0.208748</td>\n",
       "      <td id=\"T_f8cfd_row3_col30\" class=\"data row3 col30\" >-0.152176</td>\n",
       "      <td id=\"T_f8cfd_row3_col31\" class=\"data row3 col31\" >-0.118181</td>\n",
       "    </tr>\n",
       "    <tr>\n",
       "      <th id=\"T_f8cfd_level0_row4\" class=\"row_heading level0 row4\" >medIncome</th>\n",
       "      <td id=\"T_f8cfd_row4_col0\" class=\"data row4 col0\" >0.269145</td>\n",
       "      <td id=\"T_f8cfd_row4_col1\" class=\"data row4 col1\" >0.223207</td>\n",
       "      <td id=\"T_f8cfd_row4_col2\" class=\"data row4 col2\" >-0.428615</td>\n",
       "      <td id=\"T_f8cfd_row4_col3\" class=\"data row4 col3\" >-0.001036</td>\n",
       "      <td id=\"T_f8cfd_row4_col4\" class=\"data row4 col4\" >1.000000</td>\n",
       "      <td id=\"T_f8cfd_row4_col5\" class=\"data row4 col5\" >0.235523</td>\n",
       "      <td id=\"T_f8cfd_row4_col6\" class=\"data row4 col6\" >-0.788965</td>\n",
       "      <td id=\"T_f8cfd_row4_col7\" class=\"data row4 col7\" >0.044003</td>\n",
       "      <td id=\"T_f8cfd_row4_col8\" class=\"data row4 col8\" >-0.013288</td>\n",
       "      <td id=\"T_f8cfd_row4_col9\" class=\"data row4 col9\" >-0.091663</td>\n",
       "      <td id=\"T_f8cfd_row4_col10\" class=\"data row4 col10\" >-0.153278</td>\n",
       "      <td id=\"T_f8cfd_row4_col11\" class=\"data row4 col11\" >0.112065</td>\n",
       "      <td id=\"T_f8cfd_row4_col12\" class=\"data row4 col12\" >0.355123</td>\n",
       "      <td id=\"T_f8cfd_row4_col13\" class=\"data row4 col13\" >-0.289383</td>\n",
       "      <td id=\"T_f8cfd_row4_col14\" class=\"data row4 col14\" >-0.190006</td>\n",
       "      <td id=\"T_f8cfd_row4_col15\" class=\"data row4 col15\" >0.212953</td>\n",
       "      <td id=\"T_f8cfd_row4_col16\" class=\"data row4 col16\" >0.492810</td>\n",
       "      <td id=\"T_f8cfd_row4_col17\" class=\"data row4 col17\" >-0.471348</td>\n",
       "      <td id=\"T_f8cfd_row4_col18\" class=\"data row4 col18\" >0.704928</td>\n",
       "      <td id=\"T_f8cfd_row4_col19\" class=\"data row4 col19\" >0.693432</td>\n",
       "      <td id=\"T_f8cfd_row4_col20\" class=\"data row4 col20\" >-0.453108</td>\n",
       "      <td id=\"T_f8cfd_row4_col21\" class=\"data row4 col21\" >0.724175</td>\n",
       "      <td id=\"T_f8cfd_row4_col22\" class=\"data row4 col22\" >0.788048</td>\n",
       "      <td id=\"T_f8cfd_row4_col23\" class=\"data row4 col23\" >0.747294</td>\n",
       "      <td id=\"T_f8cfd_row4_col24\" class=\"data row4 col24\" >-0.754822</td>\n",
       "      <td id=\"T_f8cfd_row4_col25\" class=\"data row4 col25\" >-0.719756</td>\n",
       "      <td id=\"T_f8cfd_row4_col26\" class=\"data row4 col26\" >0.167225</td>\n",
       "      <td id=\"T_f8cfd_row4_col27\" class=\"data row4 col27\" >-0.270232</td>\n",
       "      <td id=\"T_f8cfd_row4_col28\" class=\"data row4 col28\" >0.425844</td>\n",
       "      <td id=\"T_f8cfd_row4_col29\" class=\"data row4 col29\" >0.083635</td>\n",
       "      <td id=\"T_f8cfd_row4_col30\" class=\"data row4 col30\" >0.446083</td>\n",
       "      <td id=\"T_f8cfd_row4_col31\" class=\"data row4 col31\" >-0.010195</td>\n",
       "    </tr>\n",
       "    <tr>\n",
       "      <th id=\"T_f8cfd_level0_row5\" class=\"row_heading level0 row5\" >popEst2015</th>\n",
       "      <td id=\"T_f8cfd_row5_col0\" class=\"data row5 col0\" >0.926894</td>\n",
       "      <td id=\"T_f8cfd_row5_col1\" class=\"data row5 col1\" >0.977634</td>\n",
       "      <td id=\"T_f8cfd_row5_col2\" class=\"data row5 col2\" >-0.120073</td>\n",
       "      <td id=\"T_f8cfd_row5_col3\" class=\"data row5 col3\" >0.026912</td>\n",
       "      <td id=\"T_f8cfd_row5_col4\" class=\"data row5 col4\" >0.235523</td>\n",
       "      <td id=\"T_f8cfd_row5_col5\" class=\"data row5 col5\" >1.000000</td>\n",
       "      <td id=\"T_f8cfd_row5_col6\" class=\"data row5 col6\" >-0.065299</td>\n",
       "      <td id=\"T_f8cfd_row5_col7\" class=\"data row5 col7\" >0.055722</td>\n",
       "      <td id=\"T_f8cfd_row5_col8\" class=\"data row5 col8\" >-0.025219</td>\n",
       "      <td id=\"T_f8cfd_row5_col9\" class=\"data row5 col9\" >-0.176608</td>\n",
       "      <td id=\"T_f8cfd_row5_col10\" class=\"data row5 col10\" >-0.177932</td>\n",
       "      <td id=\"T_f8cfd_row5_col11\" class=\"data row5 col11\" >0.109940</td>\n",
       "      <td id=\"T_f8cfd_row5_col12\" class=\"data row5 col12\" >-0.160463</td>\n",
       "      <td id=\"T_f8cfd_row5_col13\" class=\"data row5 col13\" >-0.126582</td>\n",
       "      <td id=\"T_f8cfd_row5_col14\" class=\"data row5 col14\" >-0.151821</td>\n",
       "      <td id=\"T_f8cfd_row5_col15\" class=\"data row5 col15\" >0.093202</td>\n",
       "      <td id=\"T_f8cfd_row5_col16\" class=\"data row5 col16\" >0.248375</td>\n",
       "      <td id=\"T_f8cfd_row5_col17\" class=\"data row5 col17\" >-0.311849</td>\n",
       "      <td id=\"T_f8cfd_row5_col18\" class=\"data row5 col18\" >0.297463</td>\n",
       "      <td id=\"T_f8cfd_row5_col19\" class=\"data row5 col19\" >0.140146</td>\n",
       "      <td id=\"T_f8cfd_row5_col20\" class=\"data row5 col20\" >0.050768</td>\n",
       "      <td id=\"T_f8cfd_row5_col21\" class=\"data row5 col21\" >0.052677</td>\n",
       "      <td id=\"T_f8cfd_row5_col22\" class=\"data row5 col22\" >0.132660</td>\n",
       "      <td id=\"T_f8cfd_row5_col23\" class=\"data row5 col23\" >0.158650</td>\n",
       "      <td id=\"T_f8cfd_row5_col24\" class=\"data row5 col24\" >-0.160066</td>\n",
       "      <td id=\"T_f8cfd_row5_col25\" class=\"data row5 col25\" >-0.041469</td>\n",
       "      <td id=\"T_f8cfd_row5_col26\" class=\"data row5 col26\" >-0.190095</td>\n",
       "      <td id=\"T_f8cfd_row5_col27\" class=\"data row5 col27\" >0.073044</td>\n",
       "      <td id=\"T_f8cfd_row5_col28\" class=\"data row5 col28\" >0.464168</td>\n",
       "      <td id=\"T_f8cfd_row5_col29\" class=\"data row5 col29\" >0.241468</td>\n",
       "      <td id=\"T_f8cfd_row5_col30\" class=\"data row5 col30\" >-0.127979</td>\n",
       "      <td id=\"T_f8cfd_row5_col31\" class=\"data row5 col31\" >-0.057740</td>\n",
       "    </tr>\n",
       "    <tr>\n",
       "      <th id=\"T_f8cfd_level0_row6\" class=\"row_heading level0 row6\" >povertyPercent</th>\n",
       "      <td id=\"T_f8cfd_row6_col0\" class=\"data row6 col0\" >-0.135694</td>\n",
       "      <td id=\"T_f8cfd_row6_col1\" class=\"data row6 col1\" >-0.066918</td>\n",
       "      <td id=\"T_f8cfd_row6_col2\" class=\"data row6 col2\" >0.429389</td>\n",
       "      <td id=\"T_f8cfd_row6_col3\" class=\"data row6 col3\" >0.009046</td>\n",
       "      <td id=\"T_f8cfd_row6_col4\" class=\"data row6 col4\" >-0.788965</td>\n",
       "      <td id=\"T_f8cfd_row6_col5\" class=\"data row6 col5\" >-0.065299</td>\n",
       "      <td id=\"T_f8cfd_row6_col6\" class=\"data row6 col6\" >1.000000</td>\n",
       "      <td id=\"T_f8cfd_row6_col7\" class=\"data row6 col7\" >-0.055652</td>\n",
       "      <td id=\"T_f8cfd_row6_col8\" class=\"data row6 col8\" >-0.029280</td>\n",
       "      <td id=\"T_f8cfd_row6_col9\" class=\"data row6 col9\" >-0.214001</td>\n",
       "      <td id=\"T_f8cfd_row6_col10\" class=\"data row6 col10\" >-0.148164</td>\n",
       "      <td id=\"T_f8cfd_row6_col11\" class=\"data row6 col11\" >0.074308</td>\n",
       "      <td id=\"T_f8cfd_row6_col12\" class=\"data row6 col12\" >-0.642857</td>\n",
       "      <td id=\"T_f8cfd_row6_col13\" class=\"data row6 col13\" >0.288106</td>\n",
       "      <td id=\"T_f8cfd_row6_col14\" class=\"data row6 col14\" >0.094211</td>\n",
       "      <td id=\"T_f8cfd_row6_col15\" class=\"data row6 col15\" >-0.162099</td>\n",
       "      <td id=\"T_f8cfd_row6_col16\" class=\"data row6 col16\" >-0.387122</td>\n",
       "      <td id=\"T_f8cfd_row6_col17\" class=\"data row6 col17\" >0.194361</td>\n",
       "      <td id=\"T_f8cfd_row6_col18\" class=\"data row6 col18\" >-0.531600</td>\n",
       "      <td id=\"T_f8cfd_row6_col19\" class=\"data row6 col19\" >-0.736767</td>\n",
       "      <td id=\"T_f8cfd_row6_col20\" class=\"data row6 col20\" >0.655148</td>\n",
       "      <td id=\"T_f8cfd_row6_col21\" class=\"data row6 col21\" >-0.822534</td>\n",
       "      <td id=\"T_f8cfd_row6_col22\" class=\"data row6 col22\" >-0.761672</td>\n",
       "      <td id=\"T_f8cfd_row6_col23\" class=\"data row6 col23\" >-0.683100</td>\n",
       "      <td id=\"T_f8cfd_row6_col24\" class=\"data row6 col24\" >0.651162</td>\n",
       "      <td id=\"T_f8cfd_row6_col25\" class=\"data row6 col25\" >0.798642</td>\n",
       "      <td id=\"T_f8cfd_row6_col26\" class=\"data row6 col26\" >-0.509433</td>\n",
       "      <td id=\"T_f8cfd_row6_col27\" class=\"data row6 col27\" >0.511530</td>\n",
       "      <td id=\"T_f8cfd_row6_col28\" class=\"data row6 col28\" >-0.157289</td>\n",
       "      <td id=\"T_f8cfd_row6_col29\" class=\"data row6 col29\" >0.047096</td>\n",
       "      <td id=\"T_f8cfd_row6_col30\" class=\"data row6 col30\" >-0.604953</td>\n",
       "      <td id=\"T_f8cfd_row6_col31\" class=\"data row6 col31\" >-0.012283</td>\n",
       "    </tr>\n",
       "    <tr>\n",
       "      <th id=\"T_f8cfd_level0_row7\" class=\"row_heading level0 row7\" >studyPerCap</th>\n",
       "      <td id=\"T_f8cfd_row7_col0\" class=\"data row7 col0\" >0.082071</td>\n",
       "      <td id=\"T_f8cfd_row7_col1\" class=\"data row7 col1\" >0.063488</td>\n",
       "      <td id=\"T_f8cfd_row7_col2\" class=\"data row7 col2\" >-0.022285</td>\n",
       "      <td id=\"T_f8cfd_row7_col3\" class=\"data row7 col3\" >0.077283</td>\n",
       "      <td id=\"T_f8cfd_row7_col4\" class=\"data row7 col4\" >0.044003</td>\n",
       "      <td id=\"T_f8cfd_row7_col5\" class=\"data row7 col5\" >0.055722</td>\n",
       "      <td id=\"T_f8cfd_row7_col6\" class=\"data row7 col6\" >-0.055652</td>\n",
       "      <td id=\"T_f8cfd_row7_col7\" class=\"data row7 col7\" >1.000000</td>\n",
       "      <td id=\"T_f8cfd_row7_col8\" class=\"data row7 col8\" >-0.026030</td>\n",
       "      <td id=\"T_f8cfd_row7_col9\" class=\"data row7 col9\" >-0.036647</td>\n",
       "      <td id=\"T_f8cfd_row7_col10\" class=\"data row7 col10\" >-0.030577</td>\n",
       "      <td id=\"T_f8cfd_row7_col11\" class=\"data row7 col11\" >-0.004071</td>\n",
       "      <td id=\"T_f8cfd_row7_col12\" class=\"data row7 col12\" >-0.038143</td>\n",
       "      <td id=\"T_f8cfd_row7_col13\" class=\"data row7 col13\" >-0.090387</td>\n",
       "      <td id=\"T_f8cfd_row7_col14\" class=\"data row7 col14\" >-0.057035</td>\n",
       "      <td id=\"T_f8cfd_row7_col15\" class=\"data row7 col15\" >0.101220</td>\n",
       "      <td id=\"T_f8cfd_row7_col16\" class=\"data row7 col16\" >0.063819</td>\n",
       "      <td id=\"T_f8cfd_row7_col17\" class=\"data row7 col17\" >-0.085128</td>\n",
       "      <td id=\"T_f8cfd_row7_col18\" class=\"data row7 col18\" >0.108594</td>\n",
       "      <td id=\"T_f8cfd_row7_col19\" class=\"data row7 col19\" >0.088021</td>\n",
       "      <td id=\"T_f8cfd_row7_col20\" class=\"data row7 col20\" >-0.031957</td>\n",
       "      <td id=\"T_f8cfd_row7_col21\" class=\"data row7 col21\" >0.092545</td>\n",
       "      <td id=\"T_f8cfd_row7_col22\" class=\"data row7 col22\" >0.072381</td>\n",
       "      <td id=\"T_f8cfd_row7_col23\" class=\"data row7 col23\" >0.100063</td>\n",
       "      <td id=\"T_f8cfd_row7_col24\" class=\"data row7 col24\" >-0.051497</td>\n",
       "      <td id=\"T_f8cfd_row7_col25\" class=\"data row7 col25\" >-0.055512</td>\n",
       "      <td id=\"T_f8cfd_row7_col26\" class=\"data row7 col26\" >0.023291</td>\n",
       "      <td id=\"T_f8cfd_row7_col27\" class=\"data row7 col27\" >-0.019761</td>\n",
       "      <td id=\"T_f8cfd_row7_col28\" class=\"data row7 col28\" >0.062543</td>\n",
       "      <td id=\"T_f8cfd_row7_col29\" class=\"data row7 col29\" >-0.015247</td>\n",
       "      <td id=\"T_f8cfd_row7_col30\" class=\"data row7 col30\" >-0.051736</td>\n",
       "      <td id=\"T_f8cfd_row7_col31\" class=\"data row7 col31\" >0.010676</td>\n",
       "    </tr>\n",
       "    <tr>\n",
       "      <th id=\"T_f8cfd_level0_row8\" class=\"row_heading level0 row8\" >MedianAge</th>\n",
       "      <td id=\"T_f8cfd_row8_col0\" class=\"data row8 col0\" >-0.024098</td>\n",
       "      <td id=\"T_f8cfd_row8_col1\" class=\"data row8 col1\" >-0.024599</td>\n",
       "      <td id=\"T_f8cfd_row8_col2\" class=\"data row8 col2\" >0.004375</td>\n",
       "      <td id=\"T_f8cfd_row8_col3\" class=\"data row8 col3\" >0.018089</td>\n",
       "      <td id=\"T_f8cfd_row8_col4\" class=\"data row8 col4\" >-0.013288</td>\n",
       "      <td id=\"T_f8cfd_row8_col5\" class=\"data row8 col5\" >-0.025219</td>\n",
       "      <td id=\"T_f8cfd_row8_col6\" class=\"data row8 col6\" >-0.029280</td>\n",
       "      <td id=\"T_f8cfd_row8_col7\" class=\"data row8 col7\" >-0.026030</td>\n",
       "      <td id=\"T_f8cfd_row8_col8\" class=\"data row8 col8\" >1.000000</td>\n",
       "      <td id=\"T_f8cfd_row8_col9\" class=\"data row8 col9\" >0.129119</td>\n",
       "      <td id=\"T_f8cfd_row8_col10\" class=\"data row8 col10\" >0.124678</td>\n",
       "      <td id=\"T_f8cfd_row8_col11\" class=\"data row8 col11\" >-0.031944</td>\n",
       "      <td id=\"T_f8cfd_row8_col12\" class=\"data row8 col12\" >0.046372</td>\n",
       "      <td id=\"T_f8cfd_row8_col13\" class=\"data row8 col13\" >0.006178</td>\n",
       "      <td id=\"T_f8cfd_row8_col14\" class=\"data row8 col14\" >0.050574</td>\n",
       "      <td id=\"T_f8cfd_row8_col15\" class=\"data row8 col15\" >-0.018325</td>\n",
       "      <td id=\"T_f8cfd_row8_col16\" class=\"data row8 col16\" >-0.016909</td>\n",
       "      <td id=\"T_f8cfd_row8_col17\" class=\"data row8 col17\" >0.036587</td>\n",
       "      <td id=\"T_f8cfd_row8_col18\" class=\"data row8 col18\" >-0.020352</td>\n",
       "      <td id=\"T_f8cfd_row8_col19\" class=\"data row8 col19\" >-0.024650</td>\n",
       "      <td id=\"T_f8cfd_row8_col20\" class=\"data row8 col20\" >0.018590</td>\n",
       "      <td id=\"T_f8cfd_row8_col21\" class=\"data row8 col21\" >0.004665</td>\n",
       "      <td id=\"T_f8cfd_row8_col22\" class=\"data row8 col22\" >-0.024272</td>\n",
       "      <td id=\"T_f8cfd_row8_col23\" class=\"data row8 col23\" >-0.036926</td>\n",
       "      <td id=\"T_f8cfd_row8_col24\" class=\"data row8 col24\" >0.049060</td>\n",
       "      <td id=\"T_f8cfd_row8_col25\" class=\"data row8 col25\" >-0.003298</td>\n",
       "      <td id=\"T_f8cfd_row8_col26\" class=\"data row8 col26\" >0.035009</td>\n",
       "      <td id=\"T_f8cfd_row8_col27\" class=\"data row8 col27\" >-0.017173</td>\n",
       "      <td id=\"T_f8cfd_row8_col28\" class=\"data row8 col28\" >-0.038424</td>\n",
       "      <td id=\"T_f8cfd_row8_col29\" class=\"data row8 col29\" >-0.030277</td>\n",
       "      <td id=\"T_f8cfd_row8_col30\" class=\"data row8 col30\" >0.014504</td>\n",
       "      <td id=\"T_f8cfd_row8_col31\" class=\"data row8 col31\" >-0.008276</td>\n",
       "    </tr>\n",
       "    <tr>\n",
       "      <th id=\"T_f8cfd_level0_row9\" class=\"row_heading level0 row9\" >MedianAgeMale</th>\n",
       "      <td id=\"T_f8cfd_row9_col0\" class=\"data row9 col0\" >-0.124969</td>\n",
       "      <td id=\"T_f8cfd_row9_col1\" class=\"data row9 col1\" >-0.148487</td>\n",
       "      <td id=\"T_f8cfd_row9_col2\" class=\"data row9 col2\" >-0.021929</td>\n",
       "      <td id=\"T_f8cfd_row9_col3\" class=\"data row9 col3\" >-0.014733</td>\n",
       "      <td id=\"T_f8cfd_row9_col4\" class=\"data row9 col4\" >-0.091663</td>\n",
       "      <td id=\"T_f8cfd_row9_col5\" class=\"data row9 col5\" >-0.176608</td>\n",
       "      <td id=\"T_f8cfd_row9_col6\" class=\"data row9 col6\" >-0.214001</td>\n",
       "      <td id=\"T_f8cfd_row9_col7\" class=\"data row9 col7\" >-0.036647</td>\n",
       "      <td id=\"T_f8cfd_row9_col8\" class=\"data row9 col8\" >0.129119</td>\n",
       "      <td id=\"T_f8cfd_row9_col9\" class=\"data row9 col9\" >1.000000</td>\n",
       "      <td id=\"T_f8cfd_row9_col10\" class=\"data row9 col10\" >0.933696</td>\n",
       "      <td id=\"T_f8cfd_row9_col11\" class=\"data row9 col11\" >-0.343189</td>\n",
       "      <td id=\"T_f8cfd_row9_col12\" class=\"data row9 col12\" >0.449986</td>\n",
       "      <td id=\"T_f8cfd_row9_col13\" class=\"data row9 col13\" >0.100486</td>\n",
       "      <td id=\"T_f8cfd_row9_col14\" class=\"data row9 col14\" >0.241310</td>\n",
       "      <td id=\"T_f8cfd_row9_col15\" class=\"data row9 col15\" >-0.274801</td>\n",
       "      <td id=\"T_f8cfd_row9_col16\" class=\"data row9 col16\" >-0.034135</td>\n",
       "      <td id=\"T_f8cfd_row9_col17\" class=\"data row9 col17\" >0.318277</td>\n",
       "      <td id=\"T_f8cfd_row9_col18\" class=\"data row9 col18\" >-0.131599</td>\n",
       "      <td id=\"T_f8cfd_row9_col19\" class=\"data row9 col19\" >-0.165199</td>\n",
       "      <td id=\"T_f8cfd_row9_col20\" class=\"data row9 col20\" >-0.142737</td>\n",
       "      <td id=\"T_f8cfd_row9_col21\" class=\"data row9 col21\" >0.082232</td>\n",
       "      <td id=\"T_f8cfd_row9_col22\" class=\"data row9 col22\" >-0.167064</td>\n",
       "      <td id=\"T_f8cfd_row9_col23\" class=\"data row9 col23\" >-0.208664</td>\n",
       "      <td id=\"T_f8cfd_row9_col24\" class=\"data row9 col24\" >0.398967</td>\n",
       "      <td id=\"T_f8cfd_row9_col25\" class=\"data row9 col25\" >0.002479</td>\n",
       "      <td id=\"T_f8cfd_row9_col26\" class=\"data row9 col26\" >0.398044</td>\n",
       "      <td id=\"T_f8cfd_row9_col27\" class=\"data row9 col27\" >-0.242748</td>\n",
       "      <td id=\"T_f8cfd_row9_col28\" class=\"data row9 col28\" >-0.238322</td>\n",
       "      <td id=\"T_f8cfd_row9_col29\" class=\"data row9 col29\" >-0.266655</td>\n",
       "      <td id=\"T_f8cfd_row9_col30\" class=\"data row9 col30\" >0.222278</td>\n",
       "      <td id=\"T_f8cfd_row9_col31\" class=\"data row9 col31\" >-0.104105</td>\n",
       "    </tr>\n",
       "    <tr>\n",
       "      <th id=\"T_f8cfd_level0_row10\" class=\"row_heading level0 row10\" >MedianAgeFemale</th>\n",
       "      <td id=\"T_f8cfd_row10_col0\" class=\"data row10 col0\" >-0.122844</td>\n",
       "      <td id=\"T_f8cfd_row10_col1\" class=\"data row10 col1\" >-0.144069</td>\n",
       "      <td id=\"T_f8cfd_row10_col2\" class=\"data row10 col2\" >0.012048</td>\n",
       "      <td id=\"T_f8cfd_row10_col3\" class=\"data row10 col3\" >-0.009106</td>\n",
       "      <td id=\"T_f8cfd_row10_col4\" class=\"data row10 col4\" >-0.153278</td>\n",
       "      <td id=\"T_f8cfd_row10_col5\" class=\"data row10 col5\" >-0.177932</td>\n",
       "      <td id=\"T_f8cfd_row10_col6\" class=\"data row10 col6\" >-0.148164</td>\n",
       "      <td id=\"T_f8cfd_row10_col7\" class=\"data row10 col7\" >-0.030577</td>\n",
       "      <td id=\"T_f8cfd_row10_col8\" class=\"data row10 col8\" >0.124678</td>\n",
       "      <td id=\"T_f8cfd_row10_col9\" class=\"data row10 col9\" >0.933696</td>\n",
       "      <td id=\"T_f8cfd_row10_col10\" class=\"data row10 col10\" >1.000000</td>\n",
       "      <td id=\"T_f8cfd_row10_col11\" class=\"data row10 col11\" >-0.367585</td>\n",
       "      <td id=\"T_f8cfd_row10_col12\" class=\"data row10 col12\" >0.375208</td>\n",
       "      <td id=\"T_f8cfd_row10_col13\" class=\"data row10 col13\" >0.136361</td>\n",
       "      <td id=\"T_f8cfd_row10_col14\" class=\"data row10 col14\" >0.242827</td>\n",
       "      <td id=\"T_f8cfd_row10_col15\" class=\"data row10 col15\" >-0.314256</td>\n",
       "      <td id=\"T_f8cfd_row10_col16\" class=\"data row10 col16\" >-0.070699</td>\n",
       "      <td id=\"T_f8cfd_row10_col17\" class=\"data row10 col17\" >0.344840</td>\n",
       "      <td id=\"T_f8cfd_row10_col18\" class=\"data row10 col18\" >-0.180845</td>\n",
       "      <td id=\"T_f8cfd_row10_col19\" class=\"data row10 col19\" >-0.250533</td>\n",
       "      <td id=\"T_f8cfd_row10_col20\" class=\"data row10 col20\" >-0.111161</td>\n",
       "      <td id=\"T_f8cfd_row10_col21\" class=\"data row10 col21\" >0.046909</td>\n",
       "      <td id=\"T_f8cfd_row10_col22\" class=\"data row10 col22\" >-0.209402</td>\n",
       "      <td id=\"T_f8cfd_row10_col23\" class=\"data row10 col23\" >-0.252221</td>\n",
       "      <td id=\"T_f8cfd_row10_col24\" class=\"data row10 col24\" >0.455496</td>\n",
       "      <td id=\"T_f8cfd_row10_col25\" class=\"data row10 col25\" >0.047659</td>\n",
       "      <td id=\"T_f8cfd_row10_col26\" class=\"data row10 col26\" >0.339804</td>\n",
       "      <td id=\"T_f8cfd_row10_col27\" class=\"data row10 col27\" >-0.156728</td>\n",
       "      <td id=\"T_f8cfd_row10_col28\" class=\"data row10 col28\" >-0.258748</td>\n",
       "      <td id=\"T_f8cfd_row10_col29\" class=\"data row10 col29\" >-0.274120</td>\n",
       "      <td id=\"T_f8cfd_row10_col30\" class=\"data row10 col30\" >0.161507</td>\n",
       "      <td id=\"T_f8cfd_row10_col31\" class=\"data row10 col31\" >-0.098813</td>\n",
       "    </tr>\n",
       "    <tr>\n",
       "      <th id=\"T_f8cfd_level0_row11\" class=\"row_heading level0 row11\" >AvgHouseholdSize</th>\n",
       "      <td id=\"T_f8cfd_row11_col0\" class=\"data row11 col0\" >0.064788</td>\n",
       "      <td id=\"T_f8cfd_row11_col1\" class=\"data row11 col1\" >0.086161</td>\n",
       "      <td id=\"T_f8cfd_row11_col2\" class=\"data row11 col2\" >-0.036905</td>\n",
       "      <td id=\"T_f8cfd_row11_col3\" class=\"data row11 col3\" >-0.118400</td>\n",
       "      <td id=\"T_f8cfd_row11_col4\" class=\"data row11 col4\" >0.112065</td>\n",
       "      <td id=\"T_f8cfd_row11_col5\" class=\"data row11 col5\" >0.109940</td>\n",
       "      <td id=\"T_f8cfd_row11_col6\" class=\"data row11 col6\" >0.074308</td>\n",
       "      <td id=\"T_f8cfd_row11_col7\" class=\"data row11 col7\" >-0.004071</td>\n",
       "      <td id=\"T_f8cfd_row11_col8\" class=\"data row11 col8\" >-0.031944</td>\n",
       "      <td id=\"T_f8cfd_row11_col9\" class=\"data row11 col9\" >-0.343189</td>\n",
       "      <td id=\"T_f8cfd_row11_col10\" class=\"data row11 col10\" >-0.367585</td>\n",
       "      <td id=\"T_f8cfd_row11_col11\" class=\"data row11 col11\" >1.000000</td>\n",
       "      <td id=\"T_f8cfd_row11_col12\" class=\"data row11 col12\" >-0.100512</td>\n",
       "      <td id=\"T_f8cfd_row11_col13\" class=\"data row11 col13\" >0.064719</td>\n",
       "      <td id=\"T_f8cfd_row11_col14\" class=\"data row11 col14\" >0.027228</td>\n",
       "      <td id=\"T_f8cfd_row11_col15\" class=\"data row11 col15\" >-0.015967</td>\n",
       "      <td id=\"T_f8cfd_row11_col16\" class=\"data row11 col16\" >-0.060961</td>\n",
       "      <td id=\"T_f8cfd_row11_col17\" class=\"data row11 col17\" >-0.138728</td>\n",
       "      <td id=\"T_f8cfd_row11_col18\" class=\"data row11 col18\" >0.013918</td>\n",
       "      <td id=\"T_f8cfd_row11_col19\" class=\"data row11 col19\" >0.011824</td>\n",
       "      <td id=\"T_f8cfd_row11_col20\" class=\"data row11 col20\" >0.131506</td>\n",
       "      <td id=\"T_f8cfd_row11_col21\" class=\"data row11 col21\" >-0.144391</td>\n",
       "      <td id=\"T_f8cfd_row11_col22\" class=\"data row11 col22\" >-0.005555</td>\n",
       "      <td id=\"T_f8cfd_row11_col23\" class=\"data row11 col23\" >0.011111</td>\n",
       "      <td id=\"T_f8cfd_row11_col24\" class=\"data row11 col24\" >-0.134812</td>\n",
       "      <td id=\"T_f8cfd_row11_col25\" class=\"data row11 col25\" >0.061115</td>\n",
       "      <td id=\"T_f8cfd_row11_col26\" class=\"data row11 col26\" >-0.188446</td>\n",
       "      <td id=\"T_f8cfd_row11_col27\" class=\"data row11 col27\" >0.030278</td>\n",
       "      <td id=\"T_f8cfd_row11_col28\" class=\"data row11 col28\" >0.131535</td>\n",
       "      <td id=\"T_f8cfd_row11_col29\" class=\"data row11 col29\" >0.229440</td>\n",
       "      <td id=\"T_f8cfd_row11_col30\" class=\"data row11 col30\" >0.091450</td>\n",
       "      <td id=\"T_f8cfd_row11_col31\" class=\"data row11 col31\" >0.075918</td>\n",
       "    </tr>\n",
       "    <tr>\n",
       "      <th id=\"T_f8cfd_level0_row12\" class=\"row_heading level0 row12\" >PercentMarried</th>\n",
       "      <td id=\"T_f8cfd_row12_col0\" class=\"data row12 col0\" >-0.106108</td>\n",
       "      <td id=\"T_f8cfd_row12_col1\" class=\"data row12 col1\" >-0.181029</td>\n",
       "      <td id=\"T_f8cfd_row12_col2\" class=\"data row12 col2\" >-0.266820</td>\n",
       "      <td id=\"T_f8cfd_row12_col3\" class=\"data row12 col3\" >-0.119524</td>\n",
       "      <td id=\"T_f8cfd_row12_col4\" class=\"data row12 col4\" >0.355123</td>\n",
       "      <td id=\"T_f8cfd_row12_col5\" class=\"data row12 col5\" >-0.160463</td>\n",
       "      <td id=\"T_f8cfd_row12_col6\" class=\"data row12 col6\" >-0.642857</td>\n",
       "      <td id=\"T_f8cfd_row12_col7\" class=\"data row12 col7\" >-0.038143</td>\n",
       "      <td id=\"T_f8cfd_row12_col8\" class=\"data row12 col8\" >0.046372</td>\n",
       "      <td id=\"T_f8cfd_row12_col9\" class=\"data row12 col9\" >0.449986</td>\n",
       "      <td id=\"T_f8cfd_row12_col10\" class=\"data row12 col10\" >0.375208</td>\n",
       "      <td id=\"T_f8cfd_row12_col11\" class=\"data row12 col11\" >-0.100512</td>\n",
       "      <td id=\"T_f8cfd_row12_col12\" class=\"data row12 col12\" >1.000000</td>\n",
       "      <td id=\"T_f8cfd_row12_col13\" class=\"data row12 col13\" >-0.012375</td>\n",
       "      <td id=\"T_f8cfd_row12_col14\" class=\"data row12 col14\" >0.132792</td>\n",
       "      <td id=\"T_f8cfd_row12_col15\" class=\"data row12 col15\" >-0.126367</td>\n",
       "      <td id=\"T_f8cfd_row12_col16\" class=\"data row12 col16\" >0.053037</td>\n",
       "      <td id=\"T_f8cfd_row12_col17\" class=\"data row12 col17\" >0.102434</td>\n",
       "      <td id=\"T_f8cfd_row12_col18\" class=\"data row12 col18\" >0.103585</td>\n",
       "      <td id=\"T_f8cfd_row12_col19\" class=\"data row12 col19\" >0.405086</td>\n",
       "      <td id=\"T_f8cfd_row12_col20\" class=\"data row12 col20\" >-0.551483</td>\n",
       "      <td id=\"T_f8cfd_row12_col21\" class=\"data row12 col21\" >0.449452</td>\n",
       "      <td id=\"T_f8cfd_row12_col22\" class=\"data row12 col22\" >0.334155</td>\n",
       "      <td id=\"T_f8cfd_row12_col23\" class=\"data row12 col23\" >0.232899</td>\n",
       "      <td id=\"T_f8cfd_row12_col24\" class=\"data row12 col24\" >-0.246972</td>\n",
       "      <td id=\"T_f8cfd_row12_col25\" class=\"data row12 col25\" >-0.459990</td>\n",
       "      <td id=\"T_f8cfd_row12_col26\" class=\"data row12 col26\" >0.677420</td>\n",
       "      <td id=\"T_f8cfd_row12_col27\" class=\"data row12 col27\" >-0.622357</td>\n",
       "      <td id=\"T_f8cfd_row12_col28\" class=\"data row12 col28\" >-0.148691</td>\n",
       "      <td id=\"T_f8cfd_row12_col29\" class=\"data row12 col29\" >-0.104669</td>\n",
       "      <td id=\"T_f8cfd_row12_col30\" class=\"data row12 col30\" >0.870261</td>\n",
       "      <td id=\"T_f8cfd_row12_col31\" class=\"data row12 col31\" >0.141404</td>\n",
       "    </tr>\n",
       "    <tr>\n",
       "      <th id=\"T_f8cfd_level0_row13\" class=\"row_heading level0 row13\" >PctNoHS18_24</th>\n",
       "      <td id=\"T_f8cfd_row13_col0\" class=\"data row13 col0\" >-0.143327</td>\n",
       "      <td id=\"T_f8cfd_row13_col1\" class=\"data row13 col1\" >-0.136794</td>\n",
       "      <td id=\"T_f8cfd_row13_col2\" class=\"data row13 col2\" >0.088463</td>\n",
       "      <td id=\"T_f8cfd_row13_col3\" class=\"data row13 col3\" >-0.170762</td>\n",
       "      <td id=\"T_f8cfd_row13_col4\" class=\"data row13 col4\" >-0.289383</td>\n",
       "      <td id=\"T_f8cfd_row13_col5\" class=\"data row13 col5\" >-0.126582</td>\n",
       "      <td id=\"T_f8cfd_row13_col6\" class=\"data row13 col6\" >0.288106</td>\n",
       "      <td id=\"T_f8cfd_row13_col7\" class=\"data row13 col7\" >-0.090387</td>\n",
       "      <td id=\"T_f8cfd_row13_col8\" class=\"data row13 col8\" >0.006178</td>\n",
       "      <td id=\"T_f8cfd_row13_col9\" class=\"data row13 col9\" >0.100486</td>\n",
       "      <td id=\"T_f8cfd_row13_col10\" class=\"data row13 col10\" >0.136361</td>\n",
       "      <td id=\"T_f8cfd_row13_col11\" class=\"data row13 col11\" >0.064719</td>\n",
       "      <td id=\"T_f8cfd_row13_col12\" class=\"data row13 col12\" >-0.012375</td>\n",
       "      <td id=\"T_f8cfd_row13_col13\" class=\"data row13 col13\" >1.000000</td>\n",
       "      <td id=\"T_f8cfd_row13_col14\" class=\"data row13 col14\" >0.084629</td>\n",
       "      <td id=\"T_f8cfd_row13_col15\" class=\"data row13 col15\" >-0.644720</td>\n",
       "      <td id=\"T_f8cfd_row13_col16\" class=\"data row13 col16\" >-0.381422</td>\n",
       "      <td id=\"T_f8cfd_row13_col17\" class=\"data row13 col17\" >0.217069</td>\n",
       "      <td id=\"T_f8cfd_row13_col18\" class=\"data row13 col18\" >-0.396579</td>\n",
       "      <td id=\"T_f8cfd_row13_col19\" class=\"data row13 col19\" >-0.345131</td>\n",
       "      <td id=\"T_f8cfd_row13_col20\" class=\"data row13 col20\" >0.181193</td>\n",
       "      <td id=\"T_f8cfd_row13_col21\" class=\"data row13 col21\" >-0.454751</td>\n",
       "      <td id=\"T_f8cfd_row13_col22\" class=\"data row13 col22\" >-0.457158</td>\n",
       "      <td id=\"T_f8cfd_row13_col23\" class=\"data row13 col23\" >-0.429994</td>\n",
       "      <td id=\"T_f8cfd_row13_col24\" class=\"data row13 col24\" >0.318540</td>\n",
       "      <td id=\"T_f8cfd_row13_col25\" class=\"data row13 col25\" >0.327270</td>\n",
       "      <td id=\"T_f8cfd_row13_col26\" class=\"data row13 col26\" >-0.157282</td>\n",
       "      <td id=\"T_f8cfd_row13_col27\" class=\"data row13 col27\" >0.116805</td>\n",
       "      <td id=\"T_f8cfd_row13_col28\" class=\"data row13 col28\" >-0.217535</td>\n",
       "      <td id=\"T_f8cfd_row13_col29\" class=\"data row13 col29\" >0.126256</td>\n",
       "      <td id=\"T_f8cfd_row13_col30\" class=\"data row13 col30\" >0.005340</td>\n",
       "      <td id=\"T_f8cfd_row13_col31\" class=\"data row13 col31\" >0.125895</td>\n",
       "    </tr>\n",
       "    <tr>\n",
       "      <th id=\"T_f8cfd_level0_row14\" class=\"row_heading level0 row14\" >PctHS18_24</th>\n",
       "      <td id=\"T_f8cfd_row14_col0\" class=\"data row14 col0\" >-0.182054</td>\n",
       "      <td id=\"T_f8cfd_row14_col1\" class=\"data row14 col1\" >-0.151418</td>\n",
       "      <td id=\"T_f8cfd_row14_col2\" class=\"data row14 col2\" >0.261976</td>\n",
       "      <td id=\"T_f8cfd_row14_col3\" class=\"data row14 col3\" >0.022644</td>\n",
       "      <td id=\"T_f8cfd_row14_col4\" class=\"data row14 col4\" >-0.190006</td>\n",
       "      <td id=\"T_f8cfd_row14_col5\" class=\"data row14 col5\" >-0.151821</td>\n",
       "      <td id=\"T_f8cfd_row14_col6\" class=\"data row14 col6\" >0.094211</td>\n",
       "      <td id=\"T_f8cfd_row14_col7\" class=\"data row14 col7\" >-0.057035</td>\n",
       "      <td id=\"T_f8cfd_row14_col8\" class=\"data row14 col8\" >0.050574</td>\n",
       "      <td id=\"T_f8cfd_row14_col9\" class=\"data row14 col9\" >0.241310</td>\n",
       "      <td id=\"T_f8cfd_row14_col10\" class=\"data row14 col10\" >0.242827</td>\n",
       "      <td id=\"T_f8cfd_row14_col11\" class=\"data row14 col11\" >0.027228</td>\n",
       "      <td id=\"T_f8cfd_row14_col12\" class=\"data row14 col12\" >0.132792</td>\n",
       "      <td id=\"T_f8cfd_row14_col13\" class=\"data row14 col13\" >0.084629</td>\n",
       "      <td id=\"T_f8cfd_row14_col14\" class=\"data row14 col14\" >1.000000</td>\n",
       "      <td id=\"T_f8cfd_row14_col15\" class=\"data row14 col15\" >-0.757773</td>\n",
       "      <td id=\"T_f8cfd_row14_col16\" class=\"data row14 col16\" >-0.389334</td>\n",
       "      <td id=\"T_f8cfd_row14_col17\" class=\"data row14 col17\" >0.438929</td>\n",
       "      <td id=\"T_f8cfd_row14_col18\" class=\"data row14 col18\" >-0.404754</td>\n",
       "      <td id=\"T_f8cfd_row14_col19\" class=\"data row14 col19\" >-0.269592</td>\n",
       "      <td id=\"T_f8cfd_row14_col20\" class=\"data row14 col20\" >0.130694</td>\n",
       "      <td id=\"T_f8cfd_row14_col21\" class=\"data row14 col21\" >-0.253851</td>\n",
       "      <td id=\"T_f8cfd_row14_col22\" class=\"data row14 col22\" >-0.292468</td>\n",
       "      <td id=\"T_f8cfd_row14_col23\" class=\"data row14 col23\" >-0.244494</td>\n",
       "      <td id=\"T_f8cfd_row14_col24\" class=\"data row14 col24\" >0.278220</td>\n",
       "      <td id=\"T_f8cfd_row14_col25\" class=\"data row14 col25\" >0.234124</td>\n",
       "      <td id=\"T_f8cfd_row14_col26\" class=\"data row14 col26\" >0.045306</td>\n",
       "      <td id=\"T_f8cfd_row14_col27\" class=\"data row14 col27\" >-0.024868</td>\n",
       "      <td id=\"T_f8cfd_row14_col28\" class=\"data row14 col28\" >-0.199770</td>\n",
       "      <td id=\"T_f8cfd_row14_col29\" class=\"data row14 col29\" >-0.060415</td>\n",
       "      <td id=\"T_f8cfd_row14_col30\" class=\"data row14 col30\" >0.120040</td>\n",
       "      <td id=\"T_f8cfd_row14_col31\" class=\"data row14 col31\" >0.058227</td>\n",
       "    </tr>\n",
       "    <tr>\n",
       "      <th id=\"T_f8cfd_level0_row15\" class=\"row_heading level0 row15\" >PctSomeCol18_24</th>\n",
       "      <td id=\"T_f8cfd_row15_col0\" class=\"data row15 col0\" >0.109455</td>\n",
       "      <td id=\"T_f8cfd_row15_col1\" class=\"data row15 col1\" >0.098464</td>\n",
       "      <td id=\"T_f8cfd_row15_col2\" class=\"data row15 col2\" >-0.188688</td>\n",
       "      <td id=\"T_f8cfd_row15_col3\" class=\"data row15 col3\" >0.077666</td>\n",
       "      <td id=\"T_f8cfd_row15_col4\" class=\"data row15 col4\" >0.212953</td>\n",
       "      <td id=\"T_f8cfd_row15_col5\" class=\"data row15 col5\" >0.093202</td>\n",
       "      <td id=\"T_f8cfd_row15_col6\" class=\"data row15 col6\" >-0.162099</td>\n",
       "      <td id=\"T_f8cfd_row15_col7\" class=\"data row15 col7\" >0.101220</td>\n",
       "      <td id=\"T_f8cfd_row15_col8\" class=\"data row15 col8\" >-0.018325</td>\n",
       "      <td id=\"T_f8cfd_row15_col9\" class=\"data row15 col9\" >-0.274801</td>\n",
       "      <td id=\"T_f8cfd_row15_col10\" class=\"data row15 col10\" >-0.314256</td>\n",
       "      <td id=\"T_f8cfd_row15_col11\" class=\"data row15 col11\" >-0.015967</td>\n",
       "      <td id=\"T_f8cfd_row15_col12\" class=\"data row15 col12\" >-0.126367</td>\n",
       "      <td id=\"T_f8cfd_row15_col13\" class=\"data row15 col13\" >-0.644720</td>\n",
       "      <td id=\"T_f8cfd_row15_col14\" class=\"data row15 col14\" >-0.757773</td>\n",
       "      <td id=\"T_f8cfd_row15_col15\" class=\"data row15 col15\" >1.000000</td>\n",
       "      <td id=\"T_f8cfd_row15_col16\" class=\"data row15 col16\" >0.251238</td>\n",
       "      <td id=\"T_f8cfd_row15_col17\" class=\"data row15 col17\" >-0.366414</td>\n",
       "      <td id=\"T_f8cfd_row15_col18\" class=\"data row15 col18\" >0.415148</td>\n",
       "      <td id=\"T_f8cfd_row15_col19\" class=\"data row15 col19\" >0.305403</td>\n",
       "      <td id=\"T_f8cfd_row15_col20\" class=\"data row15 col20\" >-0.125201</td>\n",
       "      <td id=\"T_f8cfd_row15_col21\" class=\"data row15 col21\" >0.388722</td>\n",
       "      <td id=\"T_f8cfd_row15_col22\" class=\"data row15 col22\" >0.424226</td>\n",
       "      <td id=\"T_f8cfd_row15_col23\" class=\"data row15 col23\" >0.362957</td>\n",
       "      <td id=\"T_f8cfd_row15_col24\" class=\"data row15 col24\" >-0.354001</td>\n",
       "      <td id=\"T_f8cfd_row15_col25\" class=\"data row15 col25\" >-0.319582</td>\n",
       "      <td id=\"T_f8cfd_row15_col26\" class=\"data row15 col26\" >0.099757</td>\n",
       "      <td id=\"T_f8cfd_row15_col27\" class=\"data row15 col27\" >-0.084873</td>\n",
       "      <td id=\"T_f8cfd_row15_col28\" class=\"data row15 col28\" >0.220369</td>\n",
       "      <td id=\"T_f8cfd_row15_col29\" class=\"data row15 col29\" >-0.040354</td>\n",
       "      <td id=\"T_f8cfd_row15_col30\" class=\"data row15 col30\" >-0.060574</td>\n",
       "      <td id=\"T_f8cfd_row15_col31\" class=\"data row15 col31\" >-0.063891</td>\n",
       "    </tr>\n",
       "    <tr>\n",
       "      <th id=\"T_f8cfd_level0_row16\" class=\"row_heading level0 row16\" >PctBachDeg18_24</th>\n",
       "      <td id=\"T_f8cfd_row16_col0\" class=\"data row16 col0\" >0.284176</td>\n",
       "      <td id=\"T_f8cfd_row16_col1\" class=\"data row16 col1\" >0.259761</td>\n",
       "      <td id=\"T_f8cfd_row16_col2\" class=\"data row16 col2\" >-0.287817</td>\n",
       "      <td id=\"T_f8cfd_row16_col3\" class=\"data row16 col3\" >0.046835</td>\n",
       "      <td id=\"T_f8cfd_row16_col4\" class=\"data row16 col4\" >0.492810</td>\n",
       "      <td id=\"T_f8cfd_row16_col5\" class=\"data row16 col5\" >0.248375</td>\n",
       "      <td id=\"T_f8cfd_row16_col6\" class=\"data row16 col6\" >-0.387122</td>\n",
       "      <td id=\"T_f8cfd_row16_col7\" class=\"data row16 col7\" >0.063819</td>\n",
       "      <td id=\"T_f8cfd_row16_col8\" class=\"data row16 col8\" >-0.016909</td>\n",
       "      <td id=\"T_f8cfd_row16_col9\" class=\"data row16 col9\" >-0.034135</td>\n",
       "      <td id=\"T_f8cfd_row16_col10\" class=\"data row16 col10\" >-0.070699</td>\n",
       "      <td id=\"T_f8cfd_row16_col11\" class=\"data row16 col11\" >-0.060961</td>\n",
       "      <td id=\"T_f8cfd_row16_col12\" class=\"data row16 col12\" >0.053037</td>\n",
       "      <td id=\"T_f8cfd_row16_col13\" class=\"data row16 col13\" >-0.381422</td>\n",
       "      <td id=\"T_f8cfd_row16_col14\" class=\"data row16 col14\" >-0.389334</td>\n",
       "      <td id=\"T_f8cfd_row16_col15\" class=\"data row16 col15\" >0.251238</td>\n",
       "      <td id=\"T_f8cfd_row16_col16\" class=\"data row16 col16\" >1.000000</td>\n",
       "      <td id=\"T_f8cfd_row16_col17\" class=\"data row16 col17\" >-0.384049</td>\n",
       "      <td id=\"T_f8cfd_row16_col18\" class=\"data row16 col18\" >0.599814</td>\n",
       "      <td id=\"T_f8cfd_row16_col19\" class=\"data row16 col19\" >0.466495</td>\n",
       "      <td id=\"T_f8cfd_row16_col20\" class=\"data row16 col20\" >-0.308920</td>\n",
       "      <td id=\"T_f8cfd_row16_col21\" class=\"data row16 col21\" >0.487742</td>\n",
       "      <td id=\"T_f8cfd_row16_col22\" class=\"data row16 col22\" >0.505580</td>\n",
       "      <td id=\"T_f8cfd_row16_col23\" class=\"data row16 col23\" >0.450996</td>\n",
       "      <td id=\"T_f8cfd_row16_col24\" class=\"data row16 col24\" >-0.422470</td>\n",
       "      <td id=\"T_f8cfd_row16_col25\" class=\"data row16 col25\" >-0.421805</td>\n",
       "      <td id=\"T_f8cfd_row16_col26\" class=\"data row16 col26\" >0.069133</td>\n",
       "      <td id=\"T_f8cfd_row16_col27\" class=\"data row16 col27\" >-0.093614</td>\n",
       "      <td id=\"T_f8cfd_row16_col28\" class=\"data row16 col28\" >0.345883</td>\n",
       "      <td id=\"T_f8cfd_row16_col29\" class=\"data row16 col29\" >0.006547</td>\n",
       "      <td id=\"T_f8cfd_row16_col30\" class=\"data row16 col30\" >-0.000104</td>\n",
       "      <td id=\"T_f8cfd_row16_col31\" class=\"data row16 col31\" >-0.125073</td>\n",
       "    </tr>\n",
       "    <tr>\n",
       "      <th id=\"T_f8cfd_level0_row17\" class=\"row_heading level0 row17\" >PctHS25_Over</th>\n",
       "      <td id=\"T_f8cfd_row17_col0\" class=\"data row17 col0\" >-0.311375</td>\n",
       "      <td id=\"T_f8cfd_row17_col1\" class=\"data row17 col1\" >-0.295929</td>\n",
       "      <td id=\"T_f8cfd_row17_col2\" class=\"data row17 col2\" >0.404589</td>\n",
       "      <td id=\"T_f8cfd_row17_col3\" class=\"data row17 col3\" >0.121725</td>\n",
       "      <td id=\"T_f8cfd_row17_col4\" class=\"data row17 col4\" >-0.471348</td>\n",
       "      <td id=\"T_f8cfd_row17_col5\" class=\"data row17 col5\" >-0.311849</td>\n",
       "      <td id=\"T_f8cfd_row17_col6\" class=\"data row17 col6\" >0.194361</td>\n",
       "      <td id=\"T_f8cfd_row17_col7\" class=\"data row17 col7\" >-0.085128</td>\n",
       "      <td id=\"T_f8cfd_row17_col8\" class=\"data row17 col8\" >0.036587</td>\n",
       "      <td id=\"T_f8cfd_row17_col9\" class=\"data row17 col9\" >0.318277</td>\n",
       "      <td id=\"T_f8cfd_row17_col10\" class=\"data row17 col10\" >0.344840</td>\n",
       "      <td id=\"T_f8cfd_row17_col11\" class=\"data row17 col11\" >-0.138728</td>\n",
       "      <td id=\"T_f8cfd_row17_col12\" class=\"data row17 col12\" >0.102434</td>\n",
       "      <td id=\"T_f8cfd_row17_col13\" class=\"data row17 col13\" >0.217069</td>\n",
       "      <td id=\"T_f8cfd_row17_col14\" class=\"data row17 col14\" >0.438929</td>\n",
       "      <td id=\"T_f8cfd_row17_col15\" class=\"data row17 col15\" >-0.366414</td>\n",
       "      <td id=\"T_f8cfd_row17_col16\" class=\"data row17 col16\" >-0.384049</td>\n",
       "      <td id=\"T_f8cfd_row17_col17\" class=\"data row17 col17\" >1.000000</td>\n",
       "      <td id=\"T_f8cfd_row17_col18\" class=\"data row17 col18\" >-0.740611</td>\n",
       "      <td id=\"T_f8cfd_row17_col19\" class=\"data row17 col19\" >-0.347321</td>\n",
       "      <td id=\"T_f8cfd_row17_col20\" class=\"data row17 col20\" >0.082306</td>\n",
       "      <td id=\"T_f8cfd_row17_col21\" class=\"data row17 col21\" >-0.221935</td>\n",
       "      <td id=\"T_f8cfd_row17_col22\" class=\"data row17 col22\" >-0.309823</td>\n",
       "      <td id=\"T_f8cfd_row17_col23\" class=\"data row17 col23\" >-0.222803</td>\n",
       "      <td id=\"T_f8cfd_row17_col24\" class=\"data row17 col24\" >0.427974</td>\n",
       "      <td id=\"T_f8cfd_row17_col25\" class=\"data row17 col25\" >0.297143</td>\n",
       "      <td id=\"T_f8cfd_row17_col26\" class=\"data row17 col26\" >0.188045</td>\n",
       "      <td id=\"T_f8cfd_row17_col27\" class=\"data row17 col27\" >-0.024445</td>\n",
       "      <td id=\"T_f8cfd_row17_col28\" class=\"data row17 col28\" >-0.436561</td>\n",
       "      <td id=\"T_f8cfd_row17_col29\" class=\"data row17 col29\" >-0.285611</td>\n",
       "      <td id=\"T_f8cfd_row17_col30\" class=\"data row17 col30\" >0.062176</td>\n",
       "      <td id=\"T_f8cfd_row17_col31\" class=\"data row17 col31\" >0.016600</td>\n",
       "    </tr>\n",
       "    <tr>\n",
       "      <th id=\"T_f8cfd_level0_row18\" class=\"row_heading level0 row18\" >PctBachDeg25_Over</th>\n",
       "      <td id=\"T_f8cfd_row18_col0\" class=\"data row18 col0\" >0.321021</td>\n",
       "      <td id=\"T_f8cfd_row18_col1\" class=\"data row18 col1\" >0.293210</td>\n",
       "      <td id=\"T_f8cfd_row18_col2\" class=\"data row18 col2\" >-0.485477</td>\n",
       "      <td id=\"T_f8cfd_row18_col3\" class=\"data row18 col3\" >-0.038177</td>\n",
       "      <td id=\"T_f8cfd_row18_col4\" class=\"data row18 col4\" >0.704928</td>\n",
       "      <td id=\"T_f8cfd_row18_col5\" class=\"data row18 col5\" >0.297463</td>\n",
       "      <td id=\"T_f8cfd_row18_col6\" class=\"data row18 col6\" >-0.531600</td>\n",
       "      <td id=\"T_f8cfd_row18_col7\" class=\"data row18 col7\" >0.108594</td>\n",
       "      <td id=\"T_f8cfd_row18_col8\" class=\"data row18 col8\" >-0.020352</td>\n",
       "      <td id=\"T_f8cfd_row18_col9\" class=\"data row18 col9\" >-0.131599</td>\n",
       "      <td id=\"T_f8cfd_row18_col10\" class=\"data row18 col10\" >-0.180845</td>\n",
       "      <td id=\"T_f8cfd_row18_col11\" class=\"data row18 col11\" >0.013918</td>\n",
       "      <td id=\"T_f8cfd_row18_col12\" class=\"data row18 col12\" >0.103585</td>\n",
       "      <td id=\"T_f8cfd_row18_col13\" class=\"data row18 col13\" >-0.396579</td>\n",
       "      <td id=\"T_f8cfd_row18_col14\" class=\"data row18 col14\" >-0.404754</td>\n",
       "      <td id=\"T_f8cfd_row18_col15\" class=\"data row18 col15\" >0.415148</td>\n",
       "      <td id=\"T_f8cfd_row18_col16\" class=\"data row18 col16\" >0.599814</td>\n",
       "      <td id=\"T_f8cfd_row18_col17\" class=\"data row18 col17\" >-0.740611</td>\n",
       "      <td id=\"T_f8cfd_row18_col18\" class=\"data row18 col18\" >1.000000</td>\n",
       "      <td id=\"T_f8cfd_row18_col19\" class=\"data row18 col19\" >0.616773</td>\n",
       "      <td id=\"T_f8cfd_row18_col20\" class=\"data row18 col20\" >-0.372980</td>\n",
       "      <td id=\"T_f8cfd_row18_col21\" class=\"data row18 col21\" >0.603248</td>\n",
       "      <td id=\"T_f8cfd_row18_col22\" class=\"data row18 col22\" >0.652307</td>\n",
       "      <td id=\"T_f8cfd_row18_col23\" class=\"data row18 col23\" >0.539084</td>\n",
       "      <td id=\"T_f8cfd_row18_col24\" class=\"data row18 col24\" >-0.636095</td>\n",
       "      <td id=\"T_f8cfd_row18_col25\" class=\"data row18 col25\" >-0.605760</td>\n",
       "      <td id=\"T_f8cfd_row18_col26\" class=\"data row18 col26\" >0.048652</td>\n",
       "      <td id=\"T_f8cfd_row18_col27\" class=\"data row18 col27\" >-0.146409</td>\n",
       "      <td id=\"T_f8cfd_row18_col28\" class=\"data row18 col28\" >0.437963</td>\n",
       "      <td id=\"T_f8cfd_row18_col29\" class=\"data row18 col29\" >0.039075</td>\n",
       "      <td id=\"T_f8cfd_row18_col30\" class=\"data row18 col30\" >0.098134</td>\n",
       "      <td id=\"T_f8cfd_row18_col31\" class=\"data row18 col31\" >-0.087940</td>\n",
       "    </tr>\n",
       "    <tr>\n",
       "      <th id=\"T_f8cfd_level0_row19\" class=\"row_heading level0 row19\" >PctEmployed16_Over</th>\n",
       "      <td id=\"T_f8cfd_row19_col0\" class=\"data row19 col0\" >0.199459</td>\n",
       "      <td id=\"T_f8cfd_row19_col1\" class=\"data row19 col1\" >0.125928</td>\n",
       "      <td id=\"T_f8cfd_row19_col2\" class=\"data row19 col2\" >-0.412046</td>\n",
       "      <td id=\"T_f8cfd_row19_col3\" class=\"data row19 col3\" >0.004906</td>\n",
       "      <td id=\"T_f8cfd_row19_col4\" class=\"data row19 col4\" >0.693432</td>\n",
       "      <td id=\"T_f8cfd_row19_col5\" class=\"data row19 col5\" >0.140146</td>\n",
       "      <td id=\"T_f8cfd_row19_col6\" class=\"data row19 col6\" >-0.736767</td>\n",
       "      <td id=\"T_f8cfd_row19_col7\" class=\"data row19 col7\" >0.088021</td>\n",
       "      <td id=\"T_f8cfd_row19_col8\" class=\"data row19 col8\" >-0.024650</td>\n",
       "      <td id=\"T_f8cfd_row19_col9\" class=\"data row19 col9\" >-0.165199</td>\n",
       "      <td id=\"T_f8cfd_row19_col10\" class=\"data row19 col10\" >-0.250533</td>\n",
       "      <td id=\"T_f8cfd_row19_col11\" class=\"data row19 col11\" >0.011824</td>\n",
       "      <td id=\"T_f8cfd_row19_col12\" class=\"data row19 col12\" >0.405086</td>\n",
       "      <td id=\"T_f8cfd_row19_col13\" class=\"data row19 col13\" >-0.345131</td>\n",
       "      <td id=\"T_f8cfd_row19_col14\" class=\"data row19 col14\" >-0.269592</td>\n",
       "      <td id=\"T_f8cfd_row19_col15\" class=\"data row19 col15\" >0.305403</td>\n",
       "      <td id=\"T_f8cfd_row19_col16\" class=\"data row19 col16\" >0.466495</td>\n",
       "      <td id=\"T_f8cfd_row19_col17\" class=\"data row19 col17\" >-0.347321</td>\n",
       "      <td id=\"T_f8cfd_row19_col18\" class=\"data row19 col18\" >0.616773</td>\n",
       "      <td id=\"T_f8cfd_row19_col19\" class=\"data row19 col19\" >1.000000</td>\n",
       "      <td id=\"T_f8cfd_row19_col20\" class=\"data row19 col20\" >-0.648114</td>\n",
       "      <td id=\"T_f8cfd_row19_col21\" class=\"data row19 col21\" >0.698886</td>\n",
       "      <td id=\"T_f8cfd_row19_col22\" class=\"data row19 col22\" >0.782595</td>\n",
       "      <td id=\"T_f8cfd_row19_col23\" class=\"data row19 col23\" >0.702786</td>\n",
       "      <td id=\"T_f8cfd_row19_col24\" class=\"data row19 col24\" >-0.771217</td>\n",
       "      <td id=\"T_f8cfd_row19_col25\" class=\"data row19 col25\" >-0.711735</td>\n",
       "      <td id=\"T_f8cfd_row19_col26\" class=\"data row19 col26\" >0.269791</td>\n",
       "      <td id=\"T_f8cfd_row19_col27\" class=\"data row19 col27\" >-0.336519</td>\n",
       "      <td id=\"T_f8cfd_row19_col28\" class=\"data row19 col28\" >0.233942</td>\n",
       "      <td id=\"T_f8cfd_row19_col29\" class=\"data row19 col29\" >0.048781</td>\n",
       "      <td id=\"T_f8cfd_row19_col30\" class=\"data row19 col30\" >0.314938</td>\n",
       "      <td id=\"T_f8cfd_row19_col31\" class=\"data row19 col31\" >0.082241</td>\n",
       "    </tr>\n",
       "    <tr>\n",
       "      <th id=\"T_f8cfd_level0_row20\" class=\"row_heading level0 row20\" >PctUnemployed16_Over</th>\n",
       "      <td id=\"T_f8cfd_row20_col0\" class=\"data row20 col0\" >-0.009016</td>\n",
       "      <td id=\"T_f8cfd_row20_col1\" class=\"data row20 col1\" >0.069701</td>\n",
       "      <td id=\"T_f8cfd_row20_col2\" class=\"data row20 col2\" >0.378412</td>\n",
       "      <td id=\"T_f8cfd_row20_col3\" class=\"data row20 col3\" >0.099979</td>\n",
       "      <td id=\"T_f8cfd_row20_col4\" class=\"data row20 col4\" >-0.453108</td>\n",
       "      <td id=\"T_f8cfd_row20_col5\" class=\"data row20 col5\" >0.050768</td>\n",
       "      <td id=\"T_f8cfd_row20_col6\" class=\"data row20 col6\" >0.655148</td>\n",
       "      <td id=\"T_f8cfd_row20_col7\" class=\"data row20 col7\" >-0.031957</td>\n",
       "      <td id=\"T_f8cfd_row20_col8\" class=\"data row20 col8\" >0.018590</td>\n",
       "      <td id=\"T_f8cfd_row20_col9\" class=\"data row20 col9\" >-0.142737</td>\n",
       "      <td id=\"T_f8cfd_row20_col10\" class=\"data row20 col10\" >-0.111161</td>\n",
       "      <td id=\"T_f8cfd_row20_col11\" class=\"data row20 col11\" >0.131506</td>\n",
       "      <td id=\"T_f8cfd_row20_col12\" class=\"data row20 col12\" >-0.551483</td>\n",
       "      <td id=\"T_f8cfd_row20_col13\" class=\"data row20 col13\" >0.181193</td>\n",
       "      <td id=\"T_f8cfd_row20_col14\" class=\"data row20 col14\" >0.130694</td>\n",
       "      <td id=\"T_f8cfd_row20_col15\" class=\"data row20 col15\" >-0.125201</td>\n",
       "      <td id=\"T_f8cfd_row20_col16\" class=\"data row20 col16\" >-0.308920</td>\n",
       "      <td id=\"T_f8cfd_row20_col17\" class=\"data row20 col17\" >0.082306</td>\n",
       "      <td id=\"T_f8cfd_row20_col18\" class=\"data row20 col18\" >-0.372980</td>\n",
       "      <td id=\"T_f8cfd_row20_col19\" class=\"data row20 col19\" >-0.648114</td>\n",
       "      <td id=\"T_f8cfd_row20_col20\" class=\"data row20 col20\" >1.000000</td>\n",
       "      <td id=\"T_f8cfd_row20_col21\" class=\"data row20 col21\" >-0.634317</td>\n",
       "      <td id=\"T_f8cfd_row20_col22\" class=\"data row20 col22\" >-0.582054</td>\n",
       "      <td id=\"T_f8cfd_row20_col23\" class=\"data row20 col23\" >-0.474745</td>\n",
       "      <td id=\"T_f8cfd_row20_col24\" class=\"data row20 col24\" >0.529821</td>\n",
       "      <td id=\"T_f8cfd_row20_col25\" class=\"data row20 col25\" >0.655366</td>\n",
       "      <td id=\"T_f8cfd_row20_col26\" class=\"data row20 col26\" >-0.501755</td>\n",
       "      <td id=\"T_f8cfd_row20_col27\" class=\"data row20 col27\" >0.469273</td>\n",
       "      <td id=\"T_f8cfd_row20_col28\" class=\"data row20 col28\" >-0.022020</td>\n",
       "      <td id=\"T_f8cfd_row20_col29\" class=\"data row20 col29\" >0.028463</td>\n",
       "      <td id=\"T_f8cfd_row20_col30\" class=\"data row20 col30\" >-0.469609</td>\n",
       "      <td id=\"T_f8cfd_row20_col31\" class=\"data row20 col31\" >-0.067906</td>\n",
       "    </tr>\n",
       "    <tr>\n",
       "      <th id=\"T_f8cfd_level0_row21\" class=\"row_heading level0 row21\" >PctPrivateCoverage</th>\n",
       "      <td id=\"T_f8cfd_row21_col0\" class=\"data row21 col0\" >0.132244</td>\n",
       "      <td id=\"T_f8cfd_row21_col1\" class=\"data row21 col1\" >0.056183</td>\n",
       "      <td id=\"T_f8cfd_row21_col2\" class=\"data row21 col2\" >-0.386066</td>\n",
       "      <td id=\"T_f8cfd_row21_col3\" class=\"data row21 col3\" >0.105174</td>\n",
       "      <td id=\"T_f8cfd_row21_col4\" class=\"data row21 col4\" >0.724175</td>\n",
       "      <td id=\"T_f8cfd_row21_col5\" class=\"data row21 col5\" >0.052677</td>\n",
       "      <td id=\"T_f8cfd_row21_col6\" class=\"data row21 col6\" >-0.822534</td>\n",
       "      <td id=\"T_f8cfd_row21_col7\" class=\"data row21 col7\" >0.092545</td>\n",
       "      <td id=\"T_f8cfd_row21_col8\" class=\"data row21 col8\" >0.004665</td>\n",
       "      <td id=\"T_f8cfd_row21_col9\" class=\"data row21 col9\" >0.082232</td>\n",
       "      <td id=\"T_f8cfd_row21_col10\" class=\"data row21 col10\" >0.046909</td>\n",
       "      <td id=\"T_f8cfd_row21_col11\" class=\"data row21 col11\" >-0.144391</td>\n",
       "      <td id=\"T_f8cfd_row21_col12\" class=\"data row21 col12\" >0.449452</td>\n",
       "      <td id=\"T_f8cfd_row21_col13\" class=\"data row21 col13\" >-0.454751</td>\n",
       "      <td id=\"T_f8cfd_row21_col14\" class=\"data row21 col14\" >-0.253851</td>\n",
       "      <td id=\"T_f8cfd_row21_col15\" class=\"data row21 col15\" >0.388722</td>\n",
       "      <td id=\"T_f8cfd_row21_col16\" class=\"data row21 col16\" >0.487742</td>\n",
       "      <td id=\"T_f8cfd_row21_col17\" class=\"data row21 col17\" >-0.221935</td>\n",
       "      <td id=\"T_f8cfd_row21_col18\" class=\"data row21 col18\" >0.603248</td>\n",
       "      <td id=\"T_f8cfd_row21_col19\" class=\"data row21 col19\" >0.698886</td>\n",
       "      <td id=\"T_f8cfd_row21_col20\" class=\"data row21 col20\" >-0.634317</td>\n",
       "      <td id=\"T_f8cfd_row21_col21\" class=\"data row21 col21\" >1.000000</td>\n",
       "      <td id=\"T_f8cfd_row21_col22\" class=\"data row21 col22\" >0.933496</td>\n",
       "      <td id=\"T_f8cfd_row21_col23\" class=\"data row21 col23\" >0.827459</td>\n",
       "      <td id=\"T_f8cfd_row21_col24\" class=\"data row21 col24\" >-0.720012</td>\n",
       "      <td id=\"T_f8cfd_row21_col25\" class=\"data row21 col25\" >-0.886234</td>\n",
       "      <td id=\"T_f8cfd_row21_col26\" class=\"data row21 col26\" >0.429031</td>\n",
       "      <td id=\"T_f8cfd_row21_col27\" class=\"data row21 col27\" >-0.345172</td>\n",
       "      <td id=\"T_f8cfd_row21_col28\" class=\"data row21 col28\" >0.189332</td>\n",
       "      <td id=\"T_f8cfd_row21_col29\" class=\"data row21 col29\" >-0.176300</td>\n",
       "      <td id=\"T_f8cfd_row21_col30\" class=\"data row21 col30\" >0.434640</td>\n",
       "      <td id=\"T_f8cfd_row21_col31\" class=\"data row21 col31\" >-0.040437</td>\n",
       "    </tr>\n",
       "    <tr>\n",
       "      <th id=\"T_f8cfd_level0_row22\" class=\"row_heading level0 row22\" >PctPrivateCoverageAlone</th>\n",
       "      <td id=\"T_f8cfd_row22_col0\" class=\"data row22 col0\" >0.186045</td>\n",
       "      <td id=\"T_f8cfd_row22_col1\" class=\"data row22 col1\" >0.125820</td>\n",
       "      <td id=\"T_f8cfd_row22_col2\" class=\"data row22 col2\" >-0.363704</td>\n",
       "      <td id=\"T_f8cfd_row22_col3\" class=\"data row22 col3\" >0.109278</td>\n",
       "      <td id=\"T_f8cfd_row22_col4\" class=\"data row22 col4\" >0.788048</td>\n",
       "      <td id=\"T_f8cfd_row22_col5\" class=\"data row22 col5\" >0.132660</td>\n",
       "      <td id=\"T_f8cfd_row22_col6\" class=\"data row22 col6\" >-0.761672</td>\n",
       "      <td id=\"T_f8cfd_row22_col7\" class=\"data row22 col7\" >0.072381</td>\n",
       "      <td id=\"T_f8cfd_row22_col8\" class=\"data row22 col8\" >-0.024272</td>\n",
       "      <td id=\"T_f8cfd_row22_col9\" class=\"data row22 col9\" >-0.167064</td>\n",
       "      <td id=\"T_f8cfd_row22_col10\" class=\"data row22 col10\" >-0.209402</td>\n",
       "      <td id=\"T_f8cfd_row22_col11\" class=\"data row22 col11\" >-0.005555</td>\n",
       "      <td id=\"T_f8cfd_row22_col12\" class=\"data row22 col12\" >0.334155</td>\n",
       "      <td id=\"T_f8cfd_row22_col13\" class=\"data row22 col13\" >-0.457158</td>\n",
       "      <td id=\"T_f8cfd_row22_col14\" class=\"data row22 col14\" >-0.292468</td>\n",
       "      <td id=\"T_f8cfd_row22_col15\" class=\"data row22 col15\" >0.424226</td>\n",
       "      <td id=\"T_f8cfd_row22_col16\" class=\"data row22 col16\" >0.505580</td>\n",
       "      <td id=\"T_f8cfd_row22_col17\" class=\"data row22 col17\" >-0.309823</td>\n",
       "      <td id=\"T_f8cfd_row22_col18\" class=\"data row22 col18\" >0.652307</td>\n",
       "      <td id=\"T_f8cfd_row22_col19\" class=\"data row22 col19\" >0.782595</td>\n",
       "      <td id=\"T_f8cfd_row22_col20\" class=\"data row22 col20\" >-0.582054</td>\n",
       "      <td id=\"T_f8cfd_row22_col21\" class=\"data row22 col21\" >0.933496</td>\n",
       "      <td id=\"T_f8cfd_row22_col22\" class=\"data row22 col22\" >1.000000</td>\n",
       "      <td id=\"T_f8cfd_row22_col23\" class=\"data row22 col23\" >0.929105</td>\n",
       "      <td id=\"T_f8cfd_row22_col24\" class=\"data row22 col24\" >-0.862075</td>\n",
       "      <td id=\"T_f8cfd_row22_col25\" class=\"data row22 col25\" >-0.856100</td>\n",
       "      <td id=\"T_f8cfd_row22_col26\" class=\"data row22 col26\" >0.310825</td>\n",
       "      <td id=\"T_f8cfd_row22_col27\" class=\"data row22 col27\" >-0.276508</td>\n",
       "      <td id=\"T_f8cfd_row22_col28\" class=\"data row22 col28\" >0.285084</td>\n",
       "      <td id=\"T_f8cfd_row22_col29\" class=\"data row22 col29\" >-0.087293</td>\n",
       "      <td id=\"T_f8cfd_row22_col30\" class=\"data row22 col30\" >0.392620</td>\n",
       "      <td id=\"T_f8cfd_row22_col31\" class=\"data row22 col31\" >-0.044569</td>\n",
       "    </tr>\n",
       "    <tr>\n",
       "      <th id=\"T_f8cfd_level0_row23\" class=\"row_heading level0 row23\" >PctEmpPrivCoverage</th>\n",
       "      <td id=\"T_f8cfd_row23_col0\" class=\"data row23 col0\" >0.202349</td>\n",
       "      <td id=\"T_f8cfd_row23_col1\" class=\"data row23 col1\" >0.160124</td>\n",
       "      <td id=\"T_f8cfd_row23_col2\" class=\"data row23 col2\" >-0.267399</td>\n",
       "      <td id=\"T_f8cfd_row23_col3\" class=\"data row23 col3\" >0.149825</td>\n",
       "      <td id=\"T_f8cfd_row23_col4\" class=\"data row23 col4\" >0.747294</td>\n",
       "      <td id=\"T_f8cfd_row23_col5\" class=\"data row23 col5\" >0.158650</td>\n",
       "      <td id=\"T_f8cfd_row23_col6\" class=\"data row23 col6\" >-0.683100</td>\n",
       "      <td id=\"T_f8cfd_row23_col7\" class=\"data row23 col7\" >0.100063</td>\n",
       "      <td id=\"T_f8cfd_row23_col8\" class=\"data row23 col8\" >-0.036926</td>\n",
       "      <td id=\"T_f8cfd_row23_col9\" class=\"data row23 col9\" >-0.208664</td>\n",
       "      <td id=\"T_f8cfd_row23_col10\" class=\"data row23 col10\" >-0.252221</td>\n",
       "      <td id=\"T_f8cfd_row23_col11\" class=\"data row23 col11\" >0.011111</td>\n",
       "      <td id=\"T_f8cfd_row23_col12\" class=\"data row23 col12\" >0.232899</td>\n",
       "      <td id=\"T_f8cfd_row23_col13\" class=\"data row23 col13\" >-0.429994</td>\n",
       "      <td id=\"T_f8cfd_row23_col14\" class=\"data row23 col14\" >-0.244494</td>\n",
       "      <td id=\"T_f8cfd_row23_col15\" class=\"data row23 col15\" >0.362957</td>\n",
       "      <td id=\"T_f8cfd_row23_col16\" class=\"data row23 col16\" >0.450996</td>\n",
       "      <td id=\"T_f8cfd_row23_col17\" class=\"data row23 col17\" >-0.222803</td>\n",
       "      <td id=\"T_f8cfd_row23_col18\" class=\"data row23 col18\" >0.539084</td>\n",
       "      <td id=\"T_f8cfd_row23_col19\" class=\"data row23 col19\" >0.702786</td>\n",
       "      <td id=\"T_f8cfd_row23_col20\" class=\"data row23 col20\" >-0.474745</td>\n",
       "      <td id=\"T_f8cfd_row23_col21\" class=\"data row23 col21\" >0.827459</td>\n",
       "      <td id=\"T_f8cfd_row23_col22\" class=\"data row23 col22\" >0.929105</td>\n",
       "      <td id=\"T_f8cfd_row23_col23\" class=\"data row23 col23\" >1.000000</td>\n",
       "      <td id=\"T_f8cfd_row23_col24\" class=\"data row23 col24\" >-0.778315</td>\n",
       "      <td id=\"T_f8cfd_row23_col25\" class=\"data row23 col25\" >-0.728823</td>\n",
       "      <td id=\"T_f8cfd_row23_col26\" class=\"data row23 col26\" >0.269815</td>\n",
       "      <td id=\"T_f8cfd_row23_col27\" class=\"data row23 col27\" >-0.237388</td>\n",
       "      <td id=\"T_f8cfd_row23_col28\" class=\"data row23 col28\" >0.282484</td>\n",
       "      <td id=\"T_f8cfd_row23_col29\" class=\"data row23 col29\" >-0.064226</td>\n",
       "      <td id=\"T_f8cfd_row23_col30\" class=\"data row23 col30\" >0.322569</td>\n",
       "      <td id=\"T_f8cfd_row23_col31\" class=\"data row23 col31\" >-0.093878</td>\n",
       "    </tr>\n",
       "    <tr>\n",
       "      <th id=\"T_f8cfd_level0_row24\" class=\"row_heading level0 row24\" >PctPublicCoverage</th>\n",
       "      <td id=\"T_f8cfd_row24_col0\" class=\"data row24 col0\" >-0.173548</td>\n",
       "      <td id=\"T_f8cfd_row24_col1\" class=\"data row24 col1\" >-0.131687</td>\n",
       "      <td id=\"T_f8cfd_row24_col2\" class=\"data row24 col2\" >0.404572</td>\n",
       "      <td id=\"T_f8cfd_row24_col3\" class=\"data row24 col3\" >0.046109</td>\n",
       "      <td id=\"T_f8cfd_row24_col4\" class=\"data row24 col4\" >-0.754822</td>\n",
       "      <td id=\"T_f8cfd_row24_col5\" class=\"data row24 col5\" >-0.160066</td>\n",
       "      <td id=\"T_f8cfd_row24_col6\" class=\"data row24 col6\" >0.651162</td>\n",
       "      <td id=\"T_f8cfd_row24_col7\" class=\"data row24 col7\" >-0.051497</td>\n",
       "      <td id=\"T_f8cfd_row24_col8\" class=\"data row24 col8\" >0.049060</td>\n",
       "      <td id=\"T_f8cfd_row24_col9\" class=\"data row24 col9\" >0.398967</td>\n",
       "      <td id=\"T_f8cfd_row24_col10\" class=\"data row24 col10\" >0.455496</td>\n",
       "      <td id=\"T_f8cfd_row24_col11\" class=\"data row24 col11\" >-0.134812</td>\n",
       "      <td id=\"T_f8cfd_row24_col12\" class=\"data row24 col12\" >-0.246972</td>\n",
       "      <td id=\"T_f8cfd_row24_col13\" class=\"data row24 col13\" >0.318540</td>\n",
       "      <td id=\"T_f8cfd_row24_col14\" class=\"data row24 col14\" >0.278220</td>\n",
       "      <td id=\"T_f8cfd_row24_col15\" class=\"data row24 col15\" >-0.354001</td>\n",
       "      <td id=\"T_f8cfd_row24_col16\" class=\"data row24 col16\" >-0.422470</td>\n",
       "      <td id=\"T_f8cfd_row24_col17\" class=\"data row24 col17\" >0.427974</td>\n",
       "      <td id=\"T_f8cfd_row24_col18\" class=\"data row24 col18\" >-0.636095</td>\n",
       "      <td id=\"T_f8cfd_row24_col19\" class=\"data row24 col19\" >-0.771217</td>\n",
       "      <td id=\"T_f8cfd_row24_col20\" class=\"data row24 col20\" >0.529821</td>\n",
       "      <td id=\"T_f8cfd_row24_col21\" class=\"data row24 col21\" >-0.720012</td>\n",
       "      <td id=\"T_f8cfd_row24_col22\" class=\"data row24 col22\" >-0.862075</td>\n",
       "      <td id=\"T_f8cfd_row24_col23\" class=\"data row24 col23\" >-0.778315</td>\n",
       "      <td id=\"T_f8cfd_row24_col24\" class=\"data row24 col24\" >1.000000</td>\n",
       "      <td id=\"T_f8cfd_row24_col25\" class=\"data row24 col25\" >0.865833</td>\n",
       "      <td id=\"T_f8cfd_row24_col26\" class=\"data row24 col26\" >-0.133705</td>\n",
       "      <td id=\"T_f8cfd_row24_col27\" class=\"data row24 col27\" >0.195597</td>\n",
       "      <td id=\"T_f8cfd_row24_col28\" class=\"data row24 col28\" >-0.305625</td>\n",
       "      <td id=\"T_f8cfd_row24_col29\" class=\"data row24 col29\" >-0.078708</td>\n",
       "      <td id=\"T_f8cfd_row24_col30\" class=\"data row24 col30\" >-0.362171</td>\n",
       "      <td id=\"T_f8cfd_row24_col31\" class=\"data row24 col31\" >-0.030531</td>\n",
       "    </tr>\n",
       "    <tr>\n",
       "      <th id=\"T_f8cfd_level0_row25\" class=\"row_heading level0 row25\" >PctPublicCoverageAlone</th>\n",
       "      <td id=\"T_f8cfd_row25_col0\" class=\"data row25 col0\" >-0.093699</td>\n",
       "      <td id=\"T_f8cfd_row25_col1\" class=\"data row25 col1\" >-0.027338</td>\n",
       "      <td id=\"T_f8cfd_row25_col2\" class=\"data row25 col2\" >0.449358</td>\n",
       "      <td id=\"T_f8cfd_row25_col3\" class=\"data row25 col3\" >0.040812</td>\n",
       "      <td id=\"T_f8cfd_row25_col4\" class=\"data row25 col4\" >-0.719756</td>\n",
       "      <td id=\"T_f8cfd_row25_col5\" class=\"data row25 col5\" >-0.041469</td>\n",
       "      <td id=\"T_f8cfd_row25_col6\" class=\"data row25 col6\" >0.798642</td>\n",
       "      <td id=\"T_f8cfd_row25_col7\" class=\"data row25 col7\" >-0.055512</td>\n",
       "      <td id=\"T_f8cfd_row25_col8\" class=\"data row25 col8\" >-0.003298</td>\n",
       "      <td id=\"T_f8cfd_row25_col9\" class=\"data row25 col9\" >0.002479</td>\n",
       "      <td id=\"T_f8cfd_row25_col10\" class=\"data row25 col10\" >0.047659</td>\n",
       "      <td id=\"T_f8cfd_row25_col11\" class=\"data row25 col11\" >0.061115</td>\n",
       "      <td id=\"T_f8cfd_row25_col12\" class=\"data row25 col12\" >-0.459990</td>\n",
       "      <td id=\"T_f8cfd_row25_col13\" class=\"data row25 col13\" >0.327270</td>\n",
       "      <td id=\"T_f8cfd_row25_col14\" class=\"data row25 col14\" >0.234124</td>\n",
       "      <td id=\"T_f8cfd_row25_col15\" class=\"data row25 col15\" >-0.319582</td>\n",
       "      <td id=\"T_f8cfd_row25_col16\" class=\"data row25 col16\" >-0.421805</td>\n",
       "      <td id=\"T_f8cfd_row25_col17\" class=\"data row25 col17\" >0.297143</td>\n",
       "      <td id=\"T_f8cfd_row25_col18\" class=\"data row25 col18\" >-0.605760</td>\n",
       "      <td id=\"T_f8cfd_row25_col19\" class=\"data row25 col19\" >-0.711735</td>\n",
       "      <td id=\"T_f8cfd_row25_col20\" class=\"data row25 col20\" >0.655366</td>\n",
       "      <td id=\"T_f8cfd_row25_col21\" class=\"data row25 col21\" >-0.886234</td>\n",
       "      <td id=\"T_f8cfd_row25_col22\" class=\"data row25 col22\" >-0.856100</td>\n",
       "      <td id=\"T_f8cfd_row25_col23\" class=\"data row25 col23\" >-0.728823</td>\n",
       "      <td id=\"T_f8cfd_row25_col24\" class=\"data row25 col24\" >0.865833</td>\n",
       "      <td id=\"T_f8cfd_row25_col25\" class=\"data row25 col25\" >1.000000</td>\n",
       "      <td id=\"T_f8cfd_row25_col26\" class=\"data row25 col26\" >-0.361026</td>\n",
       "      <td id=\"T_f8cfd_row25_col27\" class=\"data row25 col27\" >0.330110</td>\n",
       "      <td id=\"T_f8cfd_row25_col28\" class=\"data row25 col28\" >-0.181380</td>\n",
       "      <td id=\"T_f8cfd_row25_col29\" class=\"data row25 col29\" >0.083755</td>\n",
       "      <td id=\"T_f8cfd_row25_col30\" class=\"data row25 col30\" >-0.473994</td>\n",
       "      <td id=\"T_f8cfd_row25_col31\" class=\"data row25 col31\" >-0.004753</td>\n",
       "    </tr>\n",
       "    <tr>\n",
       "      <th id=\"T_f8cfd_level0_row26\" class=\"row_heading level0 row26\" >PctWhite</th>\n",
       "      <td id=\"T_f8cfd_row26_col0\" class=\"data row26 col0\" >-0.136501</td>\n",
       "      <td id=\"T_f8cfd_row26_col1\" class=\"data row26 col1\" >-0.187159</td>\n",
       "      <td id=\"T_f8cfd_row26_col2\" class=\"data row26 col2\" >-0.177400</td>\n",
       "      <td id=\"T_f8cfd_row26_col3\" class=\"data row26 col3\" >-0.014510</td>\n",
       "      <td id=\"T_f8cfd_row26_col4\" class=\"data row26 col4\" >0.167225</td>\n",
       "      <td id=\"T_f8cfd_row26_col5\" class=\"data row26 col5\" >-0.190095</td>\n",
       "      <td id=\"T_f8cfd_row26_col6\" class=\"data row26 col6\" >-0.509433</td>\n",
       "      <td id=\"T_f8cfd_row26_col7\" class=\"data row26 col7\" >0.023291</td>\n",
       "      <td id=\"T_f8cfd_row26_col8\" class=\"data row26 col8\" >0.035009</td>\n",
       "      <td id=\"T_f8cfd_row26_col9\" class=\"data row26 col9\" >0.398044</td>\n",
       "      <td id=\"T_f8cfd_row26_col10\" class=\"data row26 col10\" >0.339804</td>\n",
       "      <td id=\"T_f8cfd_row26_col11\" class=\"data row26 col11\" >-0.188446</td>\n",
       "      <td id=\"T_f8cfd_row26_col12\" class=\"data row26 col12\" >0.677420</td>\n",
       "      <td id=\"T_f8cfd_row26_col13\" class=\"data row26 col13\" >-0.157282</td>\n",
       "      <td id=\"T_f8cfd_row26_col14\" class=\"data row26 col14\" >0.045306</td>\n",
       "      <td id=\"T_f8cfd_row26_col15\" class=\"data row26 col15\" >0.099757</td>\n",
       "      <td id=\"T_f8cfd_row26_col16\" class=\"data row26 col16\" >0.069133</td>\n",
       "      <td id=\"T_f8cfd_row26_col17\" class=\"data row26 col17\" >0.188045</td>\n",
       "      <td id=\"T_f8cfd_row26_col18\" class=\"data row26 col18\" >0.048652</td>\n",
       "      <td id=\"T_f8cfd_row26_col19\" class=\"data row26 col19\" >0.269791</td>\n",
       "      <td id=\"T_f8cfd_row26_col20\" class=\"data row26 col20\" >-0.501755</td>\n",
       "      <td id=\"T_f8cfd_row26_col21\" class=\"data row26 col21\" >0.429031</td>\n",
       "      <td id=\"T_f8cfd_row26_col22\" class=\"data row26 col22\" >0.310825</td>\n",
       "      <td id=\"T_f8cfd_row26_col23\" class=\"data row26 col23\" >0.269815</td>\n",
       "      <td id=\"T_f8cfd_row26_col24\" class=\"data row26 col24\" >-0.133705</td>\n",
       "      <td id=\"T_f8cfd_row26_col25\" class=\"data row26 col25\" >-0.361026</td>\n",
       "      <td id=\"T_f8cfd_row26_col26\" class=\"data row26 col26\" >1.000000</td>\n",
       "      <td id=\"T_f8cfd_row26_col27\" class=\"data row26 col27\" >-0.828459</td>\n",
       "      <td id=\"T_f8cfd_row26_col28\" class=\"data row26 col28\" >-0.265676</td>\n",
       "      <td id=\"T_f8cfd_row26_col29\" class=\"data row26 col29\" >-0.233692</td>\n",
       "      <td id=\"T_f8cfd_row26_col30\" class=\"data row26 col30\" >0.596771</td>\n",
       "      <td id=\"T_f8cfd_row26_col31\" class=\"data row26 col31\" >-0.008958</td>\n",
       "    </tr>\n",
       "    <tr>\n",
       "      <th id=\"T_f8cfd_level0_row27\" class=\"row_heading level0 row27\" >PctBlack</th>\n",
       "      <td id=\"T_f8cfd_row27_col0\" class=\"data row27 col0\" >0.031376</td>\n",
       "      <td id=\"T_f8cfd_row27_col1\" class=\"data row27 col1\" >0.084607</td>\n",
       "      <td id=\"T_f8cfd_row27_col2\" class=\"data row27 col2\" >0.257024</td>\n",
       "      <td id=\"T_f8cfd_row27_col3\" class=\"data row27 col3\" >0.113489</td>\n",
       "      <td id=\"T_f8cfd_row27_col4\" class=\"data row27 col4\" >-0.270232</td>\n",
       "      <td id=\"T_f8cfd_row27_col5\" class=\"data row27 col5\" >0.073044</td>\n",
       "      <td id=\"T_f8cfd_row27_col6\" class=\"data row27 col6\" >0.511530</td>\n",
       "      <td id=\"T_f8cfd_row27_col7\" class=\"data row27 col7\" >-0.019761</td>\n",
       "      <td id=\"T_f8cfd_row27_col8\" class=\"data row27 col8\" >-0.017173</td>\n",
       "      <td id=\"T_f8cfd_row27_col9\" class=\"data row27 col9\" >-0.242748</td>\n",
       "      <td id=\"T_f8cfd_row27_col10\" class=\"data row27 col10\" >-0.156728</td>\n",
       "      <td id=\"T_f8cfd_row27_col11\" class=\"data row27 col11\" >0.030278</td>\n",
       "      <td id=\"T_f8cfd_row27_col12\" class=\"data row27 col12\" >-0.622357</td>\n",
       "      <td id=\"T_f8cfd_row27_col13\" class=\"data row27 col13\" >0.116805</td>\n",
       "      <td id=\"T_f8cfd_row27_col14\" class=\"data row27 col14\" >-0.024868</td>\n",
       "      <td id=\"T_f8cfd_row27_col15\" class=\"data row27 col15\" >-0.084873</td>\n",
       "      <td id=\"T_f8cfd_row27_col16\" class=\"data row27 col16\" >-0.093614</td>\n",
       "      <td id=\"T_f8cfd_row27_col17\" class=\"data row27 col17\" >-0.024445</td>\n",
       "      <td id=\"T_f8cfd_row27_col18\" class=\"data row27 col18\" >-0.146409</td>\n",
       "      <td id=\"T_f8cfd_row27_col19\" class=\"data row27 col19\" >-0.336519</td>\n",
       "      <td id=\"T_f8cfd_row27_col20\" class=\"data row27 col20\" >0.469273</td>\n",
       "      <td id=\"T_f8cfd_row27_col21\" class=\"data row27 col21\" >-0.345172</td>\n",
       "      <td id=\"T_f8cfd_row27_col22\" class=\"data row27 col22\" >-0.276508</td>\n",
       "      <td id=\"T_f8cfd_row27_col23\" class=\"data row27 col23\" >-0.237388</td>\n",
       "      <td id=\"T_f8cfd_row27_col24\" class=\"data row27 col24\" >0.195597</td>\n",
       "      <td id=\"T_f8cfd_row27_col25\" class=\"data row27 col25\" >0.330110</td>\n",
       "      <td id=\"T_f8cfd_row27_col26\" class=\"data row27 col26\" >-0.828459</td>\n",
       "      <td id=\"T_f8cfd_row27_col27\" class=\"data row27 col27\" >1.000000</td>\n",
       "      <td id=\"T_f8cfd_row27_col28\" class=\"data row27 col28\" >0.016583</td>\n",
       "      <td id=\"T_f8cfd_row27_col29\" class=\"data row27 col29\" >-0.023001</td>\n",
       "      <td id=\"T_f8cfd_row27_col30\" class=\"data row27 col30\" >-0.573592</td>\n",
       "      <td id=\"T_f8cfd_row27_col31\" class=\"data row27 col31\" >-0.067805</td>\n",
       "    </tr>\n",
       "    <tr>\n",
       "      <th id=\"T_f8cfd_level0_row28\" class=\"row_heading level0 row28\" >PctAsian</th>\n",
       "      <td id=\"T_f8cfd_row28_col0\" class=\"data row28 col0\" >0.435071</td>\n",
       "      <td id=\"T_f8cfd_row28_col1\" class=\"data row28 col1\" >0.443074</td>\n",
       "      <td id=\"T_f8cfd_row28_col2\" class=\"data row28 col2\" >-0.186331</td>\n",
       "      <td id=\"T_f8cfd_row28_col3\" class=\"data row28 col3\" >-0.008123</td>\n",
       "      <td id=\"T_f8cfd_row28_col4\" class=\"data row28 col4\" >0.425844</td>\n",
       "      <td id=\"T_f8cfd_row28_col5\" class=\"data row28 col5\" >0.464168</td>\n",
       "      <td id=\"T_f8cfd_row28_col6\" class=\"data row28 col6\" >-0.157289</td>\n",
       "      <td id=\"T_f8cfd_row28_col7\" class=\"data row28 col7\" >0.062543</td>\n",
       "      <td id=\"T_f8cfd_row28_col8\" class=\"data row28 col8\" >-0.038424</td>\n",
       "      <td id=\"T_f8cfd_row28_col9\" class=\"data row28 col9\" >-0.238322</td>\n",
       "      <td id=\"T_f8cfd_row28_col10\" class=\"data row28 col10\" >-0.258748</td>\n",
       "      <td id=\"T_f8cfd_row28_col11\" class=\"data row28 col11\" >0.131535</td>\n",
       "      <td id=\"T_f8cfd_row28_col12\" class=\"data row28 col12\" >-0.148691</td>\n",
       "      <td id=\"T_f8cfd_row28_col13\" class=\"data row28 col13\" >-0.217535</td>\n",
       "      <td id=\"T_f8cfd_row28_col14\" class=\"data row28 col14\" >-0.199770</td>\n",
       "      <td id=\"T_f8cfd_row28_col15\" class=\"data row28 col15\" >0.220369</td>\n",
       "      <td id=\"T_f8cfd_row28_col16\" class=\"data row28 col16\" >0.345883</td>\n",
       "      <td id=\"T_f8cfd_row28_col17\" class=\"data row28 col17\" >-0.436561</td>\n",
       "      <td id=\"T_f8cfd_row28_col18\" class=\"data row28 col18\" >0.437963</td>\n",
       "      <td id=\"T_f8cfd_row28_col19\" class=\"data row28 col19\" >0.233942</td>\n",
       "      <td id=\"T_f8cfd_row28_col20\" class=\"data row28 col20\" >-0.022020</td>\n",
       "      <td id=\"T_f8cfd_row28_col21\" class=\"data row28 col21\" >0.189332</td>\n",
       "      <td id=\"T_f8cfd_row28_col22\" class=\"data row28 col22\" >0.285084</td>\n",
       "      <td id=\"T_f8cfd_row28_col23\" class=\"data row28 col23\" >0.282484</td>\n",
       "      <td id=\"T_f8cfd_row28_col24\" class=\"data row28 col24\" >-0.305625</td>\n",
       "      <td id=\"T_f8cfd_row28_col25\" class=\"data row28 col25\" >-0.181380</td>\n",
       "      <td id=\"T_f8cfd_row28_col26\" class=\"data row28 col26\" >-0.265676</td>\n",
       "      <td id=\"T_f8cfd_row28_col27\" class=\"data row28 col27\" >0.016583</td>\n",
       "      <td id=\"T_f8cfd_row28_col28\" class=\"data row28 col28\" >1.000000</td>\n",
       "      <td id=\"T_f8cfd_row28_col29\" class=\"data row28 col29\" >0.200781</td>\n",
       "      <td id=\"T_f8cfd_row28_col30\" class=\"data row28 col30\" >-0.086602</td>\n",
       "      <td id=\"T_f8cfd_row28_col31\" class=\"data row28 col31\" >-0.061947</td>\n",
       "    </tr>\n",
       "    <tr>\n",
       "      <th id=\"T_f8cfd_level0_row29\" class=\"row_heading level0 row29\" >PctOtherRace</th>\n",
       "      <td id=\"T_f8cfd_row29_col0\" class=\"data row29 col0\" >0.209184</td>\n",
       "      <td id=\"T_f8cfd_row29_col1\" class=\"data row29 col1\" >0.215149</td>\n",
       "      <td id=\"T_f8cfd_row29_col2\" class=\"data row29 col2\" >-0.189894</td>\n",
       "      <td id=\"T_f8cfd_row29_col3\" class=\"data row29 col3\" >-0.208748</td>\n",
       "      <td id=\"T_f8cfd_row29_col4\" class=\"data row29 col4\" >0.083635</td>\n",
       "      <td id=\"T_f8cfd_row29_col5\" class=\"data row29 col5\" >0.241468</td>\n",
       "      <td id=\"T_f8cfd_row29_col6\" class=\"data row29 col6\" >0.047096</td>\n",
       "      <td id=\"T_f8cfd_row29_col7\" class=\"data row29 col7\" >-0.015247</td>\n",
       "      <td id=\"T_f8cfd_row29_col8\" class=\"data row29 col8\" >-0.030277</td>\n",
       "      <td id=\"T_f8cfd_row29_col9\" class=\"data row29 col9\" >-0.266655</td>\n",
       "      <td id=\"T_f8cfd_row29_col10\" class=\"data row29 col10\" >-0.274120</td>\n",
       "      <td id=\"T_f8cfd_row29_col11\" class=\"data row29 col11\" >0.229440</td>\n",
       "      <td id=\"T_f8cfd_row29_col12\" class=\"data row29 col12\" >-0.104669</td>\n",
       "      <td id=\"T_f8cfd_row29_col13\" class=\"data row29 col13\" >0.126256</td>\n",
       "      <td id=\"T_f8cfd_row29_col14\" class=\"data row29 col14\" >-0.060415</td>\n",
       "      <td id=\"T_f8cfd_row29_col15\" class=\"data row29 col15\" >-0.040354</td>\n",
       "      <td id=\"T_f8cfd_row29_col16\" class=\"data row29 col16\" >0.006547</td>\n",
       "      <td id=\"T_f8cfd_row29_col17\" class=\"data row29 col17\" >-0.285611</td>\n",
       "      <td id=\"T_f8cfd_row29_col18\" class=\"data row29 col18\" >0.039075</td>\n",
       "      <td id=\"T_f8cfd_row29_col19\" class=\"data row29 col19\" >0.048781</td>\n",
       "      <td id=\"T_f8cfd_row29_col20\" class=\"data row29 col20\" >0.028463</td>\n",
       "      <td id=\"T_f8cfd_row29_col21\" class=\"data row29 col21\" >-0.176300</td>\n",
       "      <td id=\"T_f8cfd_row29_col22\" class=\"data row29 col22\" >-0.087293</td>\n",
       "      <td id=\"T_f8cfd_row29_col23\" class=\"data row29 col23\" >-0.064226</td>\n",
       "      <td id=\"T_f8cfd_row29_col24\" class=\"data row29 col24\" >-0.078708</td>\n",
       "      <td id=\"T_f8cfd_row29_col25\" class=\"data row29 col25\" >0.083755</td>\n",
       "      <td id=\"T_f8cfd_row29_col26\" class=\"data row29 col26\" >-0.233692</td>\n",
       "      <td id=\"T_f8cfd_row29_col27\" class=\"data row29 col27\" >-0.023001</td>\n",
       "      <td id=\"T_f8cfd_row29_col28\" class=\"data row29 col28\" >0.200781</td>\n",
       "      <td id=\"T_f8cfd_row29_col29\" class=\"data row29 col29\" >1.000000</td>\n",
       "      <td id=\"T_f8cfd_row29_col30\" class=\"data row29 col30\" >-0.027352</td>\n",
       "      <td id=\"T_f8cfd_row29_col31\" class=\"data row29 col31\" >0.059829</td>\n",
       "    </tr>\n",
       "    <tr>\n",
       "      <th id=\"T_f8cfd_level0_row30\" class=\"row_heading level0 row30\" >PctMarriedHouseholds</th>\n",
       "      <td id=\"T_f8cfd_row30_col0\" class=\"data row30 col0\" >-0.106221</td>\n",
       "      <td id=\"T_f8cfd_row30_col1\" class=\"data row30 col1\" >-0.160266</td>\n",
       "      <td id=\"T_f8cfd_row30_col2\" class=\"data row30 col2\" >-0.293325</td>\n",
       "      <td id=\"T_f8cfd_row30_col3\" class=\"data row30 col3\" >-0.152176</td>\n",
       "      <td id=\"T_f8cfd_row30_col4\" class=\"data row30 col4\" >0.446083</td>\n",
       "      <td id=\"T_f8cfd_row30_col5\" class=\"data row30 col5\" >-0.127979</td>\n",
       "      <td id=\"T_f8cfd_row30_col6\" class=\"data row30 col6\" >-0.604953</td>\n",
       "      <td id=\"T_f8cfd_row30_col7\" class=\"data row30 col7\" >-0.051736</td>\n",
       "      <td id=\"T_f8cfd_row30_col8\" class=\"data row30 col8\" >0.014504</td>\n",
       "      <td id=\"T_f8cfd_row30_col9\" class=\"data row30 col9\" >0.222278</td>\n",
       "      <td id=\"T_f8cfd_row30_col10\" class=\"data row30 col10\" >0.161507</td>\n",
       "      <td id=\"T_f8cfd_row30_col11\" class=\"data row30 col11\" >0.091450</td>\n",
       "      <td id=\"T_f8cfd_row30_col12\" class=\"data row30 col12\" >0.870261</td>\n",
       "      <td id=\"T_f8cfd_row30_col13\" class=\"data row30 col13\" >0.005340</td>\n",
       "      <td id=\"T_f8cfd_row30_col14\" class=\"data row30 col14\" >0.120040</td>\n",
       "      <td id=\"T_f8cfd_row30_col15\" class=\"data row30 col15\" >-0.060574</td>\n",
       "      <td id=\"T_f8cfd_row30_col16\" class=\"data row30 col16\" >-0.000104</td>\n",
       "      <td id=\"T_f8cfd_row30_col17\" class=\"data row30 col17\" >0.062176</td>\n",
       "      <td id=\"T_f8cfd_row30_col18\" class=\"data row30 col18\" >0.098134</td>\n",
       "      <td id=\"T_f8cfd_row30_col19\" class=\"data row30 col19\" >0.314938</td>\n",
       "      <td id=\"T_f8cfd_row30_col20\" class=\"data row30 col20\" >-0.469609</td>\n",
       "      <td id=\"T_f8cfd_row30_col21\" class=\"data row30 col21\" >0.434640</td>\n",
       "      <td id=\"T_f8cfd_row30_col22\" class=\"data row30 col22\" >0.392620</td>\n",
       "      <td id=\"T_f8cfd_row30_col23\" class=\"data row30 col23\" >0.322569</td>\n",
       "      <td id=\"T_f8cfd_row30_col24\" class=\"data row30 col24\" >-0.362171</td>\n",
       "      <td id=\"T_f8cfd_row30_col25\" class=\"data row30 col25\" >-0.473994</td>\n",
       "      <td id=\"T_f8cfd_row30_col26\" class=\"data row30 col26\" >0.596771</td>\n",
       "      <td id=\"T_f8cfd_row30_col27\" class=\"data row30 col27\" >-0.573592</td>\n",
       "      <td id=\"T_f8cfd_row30_col28\" class=\"data row30 col28\" >-0.086602</td>\n",
       "      <td id=\"T_f8cfd_row30_col29\" class=\"data row30 col29\" >-0.027352</td>\n",
       "      <td id=\"T_f8cfd_row30_col30\" class=\"data row30 col30\" >1.000000</td>\n",
       "      <td id=\"T_f8cfd_row30_col31\" class=\"data row30 col31\" >0.102263</td>\n",
       "    </tr>\n",
       "    <tr>\n",
       "      <th id=\"T_f8cfd_level0_row31\" class=\"row_heading level0 row31\" >BirthRate</th>\n",
       "      <td id=\"T_f8cfd_row31_col0\" class=\"data row31 col0\" >-0.034508</td>\n",
       "      <td id=\"T_f8cfd_row31_col1\" class=\"data row31 col1\" >-0.074420</td>\n",
       "      <td id=\"T_f8cfd_row31_col2\" class=\"data row31 col2\" >-0.087407</td>\n",
       "      <td id=\"T_f8cfd_row31_col3\" class=\"data row31 col3\" >-0.118181</td>\n",
       "      <td id=\"T_f8cfd_row31_col4\" class=\"data row31 col4\" >-0.010195</td>\n",
       "      <td id=\"T_f8cfd_row31_col5\" class=\"data row31 col5\" >-0.057740</td>\n",
       "      <td id=\"T_f8cfd_row31_col6\" class=\"data row31 col6\" >-0.012283</td>\n",
       "      <td id=\"T_f8cfd_row31_col7\" class=\"data row31 col7\" >0.010676</td>\n",
       "      <td id=\"T_f8cfd_row31_col8\" class=\"data row31 col8\" >-0.008276</td>\n",
       "      <td id=\"T_f8cfd_row31_col9\" class=\"data row31 col9\" >-0.104105</td>\n",
       "      <td id=\"T_f8cfd_row31_col10\" class=\"data row31 col10\" >-0.098813</td>\n",
       "      <td id=\"T_f8cfd_row31_col11\" class=\"data row31 col11\" >0.075918</td>\n",
       "      <td id=\"T_f8cfd_row31_col12\" class=\"data row31 col12\" >0.141404</td>\n",
       "      <td id=\"T_f8cfd_row31_col13\" class=\"data row31 col13\" >0.125895</td>\n",
       "      <td id=\"T_f8cfd_row31_col14\" class=\"data row31 col14\" >0.058227</td>\n",
       "      <td id=\"T_f8cfd_row31_col15\" class=\"data row31 col15\" >-0.063891</td>\n",
       "      <td id=\"T_f8cfd_row31_col16\" class=\"data row31 col16\" >-0.125073</td>\n",
       "      <td id=\"T_f8cfd_row31_col17\" class=\"data row31 col17\" >0.016600</td>\n",
       "      <td id=\"T_f8cfd_row31_col18\" class=\"data row31 col18\" >-0.087940</td>\n",
       "      <td id=\"T_f8cfd_row31_col19\" class=\"data row31 col19\" >0.082241</td>\n",
       "      <td id=\"T_f8cfd_row31_col20\" class=\"data row31 col20\" >-0.067906</td>\n",
       "      <td id=\"T_f8cfd_row31_col21\" class=\"data row31 col21\" >-0.040437</td>\n",
       "      <td id=\"T_f8cfd_row31_col22\" class=\"data row31 col22\" >-0.044569</td>\n",
       "      <td id=\"T_f8cfd_row31_col23\" class=\"data row31 col23\" >-0.093878</td>\n",
       "      <td id=\"T_f8cfd_row31_col24\" class=\"data row31 col24\" >-0.030531</td>\n",
       "      <td id=\"T_f8cfd_row31_col25\" class=\"data row31 col25\" >-0.004753</td>\n",
       "      <td id=\"T_f8cfd_row31_col26\" class=\"data row31 col26\" >-0.008958</td>\n",
       "      <td id=\"T_f8cfd_row31_col27\" class=\"data row31 col27\" >-0.067805</td>\n",
       "      <td id=\"T_f8cfd_row31_col28\" class=\"data row31 col28\" >-0.061947</td>\n",
       "      <td id=\"T_f8cfd_row31_col29\" class=\"data row31 col29\" >0.059829</td>\n",
       "      <td id=\"T_f8cfd_row31_col30\" class=\"data row31 col30\" >0.102263</td>\n",
       "      <td id=\"T_f8cfd_row31_col31\" class=\"data row31 col31\" >1.000000</td>\n",
       "    </tr>\n",
       "  </tbody>\n",
       "</table>\n"
      ],
      "text/plain": [
       "<pandas.io.formats.style.Styler at 0x7f9b691d8730>"
      ]
     },
     "execution_count": 67,
     "metadata": {},
     "output_type": "execute_result"
    }
   ],
   "source": [
    "raw_data.corr().style.background_gradient(cmap='coolwarm')"
   ]
  },
  {
   "cell_type": "markdown",
   "metadata": {},
   "source": [
    "- PctPrivateCoverageAlone missing values can be filled in using predictions from PctPrivateCoverage\n",
    "- PctEmployed16_Over missing values can be filled in using predictions from PctPublicCoverage\n",
    "- PctSomeCol18_24 has too many missing values (over 60%) and could be dropped."
   ]
  },
  {
   "cell_type": "code",
   "execution_count": 77,
   "metadata": {},
   "outputs": [],
   "source": [
    "from sklearn.linear_model import LinearRegression\n",
    "\n",
    "#data_for_preds = raw_data[]"
   ]
  },
  {
   "cell_type": "code",
   "execution_count": 232,
   "metadata": {},
   "outputs": [],
   "source": [
    "imputed_data = raw_data.copy()"
   ]
  },
  {
   "cell_type": "code",
   "execution_count": 233,
   "metadata": {},
   "outputs": [],
   "source": [
    "imputed_data.drop('PctSomeCol18_24', axis=1, inplace=True)"
   ]
  },
  {
   "cell_type": "code",
   "execution_count": 95,
   "metadata": {},
   "outputs": [],
   "source": [
    "def fill_na_linreg(col_y, col_x):\n",
    "    lin_reg_na = LinearRegression()\n",
    "    \n",
    "    # selecting the training data - instances where both values are present\n",
    "    X_train = raw_data[col_x][~raw_data[col_y].isna()]\n",
    "    y_train = raw_data[col_y][~raw_data[col_y].isna()]\n",
    "    \n",
    "    lin_reg_na.fit(X_train.values.reshape(-1, 1), y_train)\n",
    "    \n",
    "    missing_indices = raw_data.index[raw_data[col_y].isna()]\n",
    "    \n",
    "    for row in missing_indices:\n",
    "        \n",
    "        # gathering the X data for the location where y is missing\n",
    "        test_input = raw_data.loc[row, col_x]\n",
    "\n",
    "        # storing the predicted value\n",
    "        predicted_value = lin_reg_na.predict(test_input.reshape(-1, 1))\n",
    "\n",
    "        # filling in the missing value with the predicted value\n",
    "        imputed_data.loc[row, col_y] = predicted_value\n",
    "    \n",
    "    return imputed_data\n",
    "    \n"
   ]
  },
  {
   "cell_type": "code",
   "execution_count": 234,
   "metadata": {},
   "outputs": [],
   "source": [
    "imputed_data = fill_na_linreg('PctEmployed16_Over', 'PctPublicCoverage')\n",
    "imputed_data = fill_na_linreg('PctPrivateCoverageAlone', 'PctPrivateCoverage')"
   ]
  },
  {
   "cell_type": "code",
   "execution_count": 235,
   "metadata": {},
   "outputs": [
    {
     "data": {
      "text/plain": [
       "avgAnnCount                0\n",
       "avgDeathsPerYear           0\n",
       "TARGET_deathRate           0\n",
       "incidenceRate              0\n",
       "medIncome                  0\n",
       "popEst2015                 0\n",
       "povertyPercent             0\n",
       "studyPerCap                0\n",
       "MedianAge                  0\n",
       "MedianAgeMale              0\n",
       "MedianAgeFemale            0\n",
       "Geography                  0\n",
       "AvgHouseholdSize           0\n",
       "PercentMarried             0\n",
       "PctNoHS18_24               0\n",
       "PctHS18_24                 0\n",
       "PctBachDeg18_24            0\n",
       "PctHS25_Over               0\n",
       "PctBachDeg25_Over          0\n",
       "PctEmployed16_Over         0\n",
       "PctUnemployed16_Over       0\n",
       "PctPrivateCoverage         0\n",
       "PctPrivateCoverageAlone    0\n",
       "PctEmpPrivCoverage         0\n",
       "PctPublicCoverage          0\n",
       "PctPublicCoverageAlone     0\n",
       "PctWhite                   0\n",
       "PctBlack                   0\n",
       "PctAsian                   0\n",
       "PctOtherRace               0\n",
       "PctMarriedHouseholds       0\n",
       "BirthRate                  0\n",
       "dtype: int64"
      ]
     },
     "execution_count": 235,
     "metadata": {},
     "output_type": "execute_result"
    }
   ],
   "source": [
    "imputed_data.isna().sum()"
   ]
  },
  {
   "cell_type": "markdown",
   "metadata": {},
   "source": [
    "# EDA\n",
    "\n",
    "Studying the data correlation, distribution and dependencies"
   ]
  },
  {
   "cell_type": "code",
   "execution_count": 112,
   "metadata": {},
   "outputs": [
    {
     "data": {
      "text/plain": [
       "(3047, 33)"
      ]
     },
     "execution_count": 112,
     "metadata": {},
     "output_type": "execute_result"
    }
   ],
   "source": [
    "imputed_data.shape"
   ]
  },
  {
   "cell_type": "code",
   "execution_count": 104,
   "metadata": {},
   "outputs": [
    {
     "data": {
      "image/png": "[encoded data removed]",
      "text/plain": [
       "<Figure size 432x288 with 1 Axes>"
      ]
     },
     "metadata": {
      "needs_background": "light"
     },
     "output_type": "display_data"
    },
    {
     "data": {
      "image/png": "[encoded data removed]",
      "text/plain": [
       "<Figure size 432x288 with 1 Axes>"
      ]
     },
     "metadata": {
      "needs_background": "light"
     },
     "output_type": "display_data"
    },
    {
     "data": {
      "image/png": "[encoded data removed]",
      "text/plain": [
       "<Figure size 432x288 with 1 Axes>"
      ]
     },
     "metadata": {
      "needs_background": "light"
     },
     "output_type": "display_data"
    },
    {
     "data": {
      "image/png": "[encoded data removed]",
      "text/plain": [
       "<Figure size 432x288 with 1 Axes>"
      ]
     },
     "metadata": {
      "needs_background": "light"
     },
     "output_type": "display_data"
    },
    {
     "data": {
      "image/png": "[encoded data removed]",
      "text/plain": [
       "<Figure size 432x288 with 1 Axes>"
      ]
     },
     "metadata": {
      "needs_background": "light"
     },
     "output_type": "display_data"
    },
    {
     "data": {
      "image/png": "[encoded data removed]",
      "text/plain": [
       "<Figure size 432x288 with 1 Axes>"
      ]
     },
     "metadata": {
      "needs_background": "light"
     },
     "output_type": "display_data"
    },
    {
     "data": {
      "image/png": "[encoded data removed]",
      "text/plain": [
       "<Figure size 432x288 with 1 Axes>"
      ]
     },
     "metadata": {
      "needs_background": "light"
     },
     "output_type": "display_data"
    },
    {
     "data": {
      "image/png": "[encoded data removed]",
      "text/plain": [
       "<Figure size 432x288 with 1 Axes>"
      ]
     },
     "metadata": {
      "needs_background": "light"
     },
     "output_type": "display_data"
    },
    {
     "data": {
      "image/png": "[encoded data removed]",
      "text/plain": [
       "<Figure size 432x288 with 1 Axes>"
      ]
     },
     "metadata": {
      "needs_background": "light"
     },
     "output_type": "display_data"
    },
    {
     "data": {
      "image/png": "[encoded data removed]",
      "text/plain": [
       "<Figure size 432x288 with 1 Axes>"
      ]
     },
     "metadata": {
      "needs_background": "light"
     },
     "output_type": "display_data"
    },
    {
     "data": {
      "image/png": "[encoded data removed]",
      "text/plain": [
       "<Figure size 432x288 with 1 Axes>"
      ]
     },
     "metadata": {
      "needs_background": "light"
     },
     "output_type": "display_data"
    },
    {
     "data": {
      "image/png": "[encoded data removed]",
      "text/plain": [
       "<Figure size 432x288 with 1 Axes>"
      ]
     },
     "metadata": {
      "needs_background": "light"
     },
     "output_type": "display_data"
    },
    {
     "data": {
      "image/png": "[encoded data removed]",
      "text/plain": [
       "<Figure size 432x288 with 1 Axes>"
      ]
     },
     "metadata": {
      "needs_background": "light"
     },
     "output_type": "display_data"
    },
    {
     "data": {
      "image/png": "[encoded data removed]",
      "text/plain": [
       "<Figure size 432x288 with 1 Axes>"
      ]
     },
     "metadata": {
      "needs_background": "light"
     },
     "output_type": "display_data"
    },
    {
     "data": {
      "image/png": "[encoded data removed]",
      "text/plain": [
       "<Figure size 432x288 with 1 Axes>"
      ]
     },
     "metadata": {
      "needs_background": "light"
     },
     "output_type": "display_data"
    },
    {
     "data": {
      "image/png": "[encoded data removed]",
      "text/plain": [
       "<Figure size 432x288 with 1 Axes>"
      ]
     },
     "metadata": {
      "needs_background": "light"
     },
     "output_type": "display_data"
    },
    {
     "data": {
      "image/png": "[encoded data removed]",
      "text/plain": [
       "<Figure size 432x288 with 1 Axes>"
      ]
     },
     "metadata": {
      "needs_background": "light"
     },
     "output_type": "display_data"
    },
    {
     "data": {
      "image/png": "[encoded data removed]",
      "text/plain": [
       "<Figure size 432x288 with 1 Axes>"
      ]
     },
     "metadata": {
      "needs_background": "light"
     },
     "output_type": "display_data"
    },
    {
     "data": {
      "image/png": "[encoded data removed]",
      "text/plain": [
       "<Figure size 432x288 with 1 Axes>"
      ]
     },
     "metadata": {
      "needs_background": "light"
     },
     "output_type": "display_data"
    },
    {
     "data": {
      "image/png": "[encoded data removed]",
      "text/plain": [
       "<Figure size 432x288 with 1 Axes>"
      ]
     },
     "metadata": {
      "needs_background": "light"
     },
     "output_type": "display_data"
    },
    {
     "data": {
      "image/png": "[encoded data removed]",
      "text/plain": [
       "<Figure size 432x288 with 1 Axes>"
      ]
     },
     "metadata": {
      "needs_background": "light"
     },
     "output_type": "display_data"
    },
    {
     "data": {
      "image/png": "[encoded data removed]",
      "text/plain": [
       "<Figure size 432x288 with 1 Axes>"
      ]
     },
     "metadata": {
      "needs_background": "light"
     },
     "output_type": "display_data"
    },
    {
     "data": {
      "image/png": "[encoded data removed]",
      "text/plain": [
       "<Figure size 432x288 with 1 Axes>"
      ]
     },
     "metadata": {
      "needs_background": "light"
     },
     "output_type": "display_data"
    },
    {
     "data": {
      "image/png": "[encoded data removed]",
      "text/plain": [
       "<Figure size 432x288 with 1 Axes>"
      ]
     },
     "metadata": {
      "needs_background": "light"
     },
     "output_type": "display_data"
    },
    {
     "data": {
      "image/png": "[encoded data removed]",
      "text/plain": [
       "<Figure size 432x288 with 1 Axes>"
      ]
     },
     "metadata": {
      "needs_background": "light"
     },
     "output_type": "display_data"
    },
    {
     "data": {
      "image/png": "[encoded data removed]",
      "text/plain": [
       "<Figure size 432x288 with 1 Axes>"
      ]
     },
     "metadata": {
      "needs_background": "light"
     },
     "output_type": "display_data"
    },
    {
     "data": {
      "image/png": "[encoded data removed]",
      "text/plain": [
       "<Figure size 432x288 with 1 Axes>"
      ]
     },
     "metadata": {
      "needs_background": "light"
     },
     "output_type": "display_data"
    },
    {
     "data": {
      "image/png": "[encoded data removed]",
      "text/plain": [
       "<Figure size 432x288 with 1 Axes>"
      ]
     },
     "metadata": {
      "needs_background": "light"
     },
     "output_type": "display_data"
    },
    {
     "data": {
      "image/png": "[encoded data removed]",
      "text/plain": [
       "<Figure size 432x288 with 1 Axes>"
      ]
     },
     "metadata": {
      "needs_background": "light"
     },
     "output_type": "display_data"
    },
    {
     "data": {
      "image/png": "[encoded data removed]",
      "text/plain": [
       "<Figure size 432x288 with 1 Axes>"
      ]
     },
     "metadata": {
      "needs_background": "light"
     },
     "output_type": "display_data"
    },
    {
     "data": {
      "image/png": "[encoded data removed]",
      "text/plain": [
       "<Figure size 432x288 with 1 Axes>"
      ]
     },
     "metadata": {
      "needs_background": "light"
     },
     "output_type": "display_data"
    }
   ],
   "source": [
    "for col in imputed_data.select_dtypes(np.number):\n",
    "    sns.boxplot(x=imputed_data[col])\n",
    "    plt.show()"
   ]
  },
  {
   "cell_type": "markdown",
   "metadata": {},
   "source": [
    "There seem to be a lot of outliers, we can try to transform some of these variables and some other feature engineering techniques"
   ]
  },
  {
   "cell_type": "markdown",
   "metadata": {},
   "source": [
    "### 1. avgAnnCount"
   ]
  },
  {
   "cell_type": "code",
   "execution_count": 105,
   "metadata": {},
   "outputs": [
    {
     "data": {
      "text/plain": [
       "999     Los Angeles County, California\n",
       "2373             Cook County, Illinois\n",
       "Name: Geography, dtype: object"
      ]
     },
     "execution_count": 105,
     "metadata": {},
     "output_type": "execute_result"
    }
   ],
   "source": [
    "raw_data['Geography'][raw_data['avgAnnCount'] > 20000]"
   ]
  },
  {
   "cell_type": "markdown",
   "metadata": {},
   "source": [
    "There are a couple of very distinct outliers in avgAnnCount, this could be a function of the population in that county."
   ]
  },
  {
   "cell_type": "code",
   "execution_count": 107,
   "metadata": {},
   "outputs": [
    {
     "data": {
      "text/html": [
       "<div>\n",
       "<style scoped>\n",
       "    .dataframe tbody tr th:only-of-type {\n",
       "        vertical-align: middle;\n",
       "    }\n",
       "\n",
       "    .dataframe tbody tr th {\n",
       "        vertical-align: top;\n",
       "    }\n",
       "\n",
       "    .dataframe thead th {\n",
       "        text-align: right;\n",
       "    }\n",
       "</style>\n",
       "<table border=\"1\" class=\"dataframe\">\n",
       "  <thead>\n",
       "    <tr style=\"text-align: right;\">\n",
       "      <th></th>\n",
       "      <th>avgAnnCount</th>\n",
       "      <th>popEst2015</th>\n",
       "    </tr>\n",
       "  </thead>\n",
       "  <tbody>\n",
       "    <tr>\n",
       "      <th>avgAnnCount</th>\n",
       "      <td>1.000000</td>\n",
       "      <td>0.926894</td>\n",
       "    </tr>\n",
       "    <tr>\n",
       "      <th>popEst2015</th>\n",
       "      <td>0.926894</td>\n",
       "      <td>1.000000</td>\n",
       "    </tr>\n",
       "  </tbody>\n",
       "</table>\n",
       "</div>"
      ],
      "text/plain": [
       "             avgAnnCount  popEst2015\n",
       "avgAnnCount     1.000000    0.926894\n",
       "popEst2015      0.926894    1.000000"
      ]
     },
     "execution_count": 107,
     "metadata": {},
     "output_type": "execute_result"
    }
   ],
   "source": [
    "imputed_data[['avgAnnCount', 'popEst2015']].corr()"
   ]
  },
  {
   "cell_type": "markdown",
   "metadata": {},
   "source": [
    "As these are highly correlated, it may be good idea to create a new variable which measure, avg annual count per capita."
   ]
  },
  {
   "cell_type": "code",
   "execution_count": 236,
   "metadata": {},
   "outputs": [],
   "source": [
    "imputed_data['avgAnnCount_percapita'] = imputed_data['avgAnnCount']/imputed_data['popEst2015']"
   ]
  },
  {
   "cell_type": "code",
   "execution_count": 110,
   "metadata": {},
   "outputs": [
    {
     "data": {
      "image/png": "[encoded data removed]",
      "text/plain": [
       "<Figure size 432x288 with 1 Axes>"
      ]
     },
     "metadata": {
      "needs_background": "light"
     },
     "output_type": "display_data"
    }
   ],
   "source": [
    "# now checking the distribution of this new feature\n",
    "\n",
    "sns.boxplot(x=imputed_data['avgAnnCount_percapita'])\n",
    "plt.show()"
   ]
  },
  {
   "cell_type": "code",
   "execution_count": 111,
   "metadata": {},
   "outputs": [
    {
     "data": {
      "text/plain": [
       "115    Esmeralda County, Nevada\n",
       "Name: Geography, dtype: object"
      ]
     },
     "execution_count": 111,
     "metadata": {},
     "output_type": "execute_result"
    }
   ],
   "source": [
    "imputed_data['Geography'][imputed_data['avgAnnCount_percapita'] > 2]"
   ]
  },
  {
   "cell_type": "markdown",
   "metadata": {},
   "source": [
    "There are a few outliers, which are different from the ones in avgAnnCount.\n",
    "We could log transform this new variable."
   ]
  },
  {
   "cell_type": "code",
   "execution_count": 237,
   "metadata": {},
   "outputs": [],
   "source": [
    "imputed_data['avgAnnCount_percapita_log'] = np.log(imputed_data['avgAnnCount_percapita'])"
   ]
  },
  {
   "cell_type": "code",
   "execution_count": 127,
   "metadata": {},
   "outputs": [
    {
     "data": {
      "image/png": "[encoded data removed]",
      "text/plain": [
       "<Figure size 432x288 with 1 Axes>"
      ]
     },
     "metadata": {
      "needs_background": "light"
     },
     "output_type": "display_data"
    }
   ],
   "source": [
    "sns.boxplot(x=imputed_data['avgAnnCount_percapita_log'])\n",
    "plt.show()"
   ]
  },
  {
   "cell_type": "markdown",
   "metadata": {},
   "source": [
    "Log transformation improves the skewness of the distribution significantly."
   ]
  },
  {
   "cell_type": "markdown",
   "metadata": {},
   "source": [
    "### 2. avgDeathsPerYear"
   ]
  },
  {
   "cell_type": "code",
   "execution_count": 131,
   "metadata": {},
   "outputs": [
    {
     "data": {
      "image/png": "[encoded data removed]",
      "text/plain": [
       "<Figure size 432x288 with 1 Axes>"
      ]
     },
     "metadata": {
      "needs_background": "light"
     },
     "output_type": "display_data"
    }
   ],
   "source": [
    "# first, checking the distribution\n",
    "\n",
    "sns.boxplot(x=imputed_data['avgDeathsPerYear'])\n",
    "plt.show()"
   ]
  },
  {
   "cell_type": "code",
   "execution_count": 132,
   "metadata": {},
   "outputs": [
    {
     "data": {
      "text/plain": [
       "999     Los Angeles County, California\n",
       "2373             Cook County, Illinois\n",
       "Name: Geography, dtype: object"
      ]
     },
     "execution_count": 132,
     "metadata": {},
     "output_type": "execute_result"
    }
   ],
   "source": [
    "# checking the counties with outliers\n",
    "\n",
    "imputed_data['Geography'][imputed_data['avgDeathsPerYear'] > 8000]"
   ]
  },
  {
   "cell_type": "markdown",
   "metadata": {},
   "source": [
    "Again, these are the counties with the highest populations"
   ]
  },
  {
   "cell_type": "code",
   "execution_count": 238,
   "metadata": {},
   "outputs": [],
   "source": [
    "imputed_data['avgDeathsPerYear_percapita'] = imputed_data['avgDeathsPerYear'] / imputed_data['popEst2015']"
   ]
  },
  {
   "cell_type": "code",
   "execution_count": 239,
   "metadata": {},
   "outputs": [
    {
     "data": {
      "image/png": "[encoded data removed]",
      "text/plain": [
       "<Figure size 432x288 with 1 Axes>"
      ]
     },
     "metadata": {
      "needs_background": "light"
     },
     "output_type": "display_data"
    }
   ],
   "source": [
    "sns.boxplot(x=imputed_data['avgDeathsPerYear_percapita'])\n",
    "plt.show()"
   ]
  },
  {
   "cell_type": "markdown",
   "metadata": {},
   "source": [
    "This has improved the distribution and presence of outliers significantly."
   ]
  },
  {
   "cell_type": "markdown",
   "metadata": {},
   "source": [
    "### 3. TARGET_deathRate"
   ]
  },
  {
   "cell_type": "code",
   "execution_count": 135,
   "metadata": {},
   "outputs": [
    {
     "data": {
      "image/png": "[encoded data removed]",
      "text/plain": [
       "<Figure size 432x288 with 1 Axes>"
      ]
     },
     "metadata": {
      "needs_background": "light"
     },
     "output_type": "display_data"
    }
   ],
   "source": [
    "sns.boxplot(x=imputed_data['TARGET_deathRate'])\n",
    "plt.show()"
   ]
  },
  {
   "cell_type": "markdown",
   "metadata": {},
   "source": [
    "Leaving this variable as is"
   ]
  },
  {
   "cell_type": "markdown",
   "metadata": {},
   "source": [
    "### 4. incidenceRate"
   ]
  },
  {
   "cell_type": "code",
   "execution_count": 136,
   "metadata": {},
   "outputs": [
    {
     "data": {
      "image/png": "[encoded data removed]",
      "text/plain": [
       "<Figure size 432x288 with 1 Axes>"
      ]
     },
     "metadata": {
      "needs_background": "light"
     },
     "output_type": "display_data"
    }
   ],
   "source": [
    "sns.boxplot(x=imputed_data['incidenceRate'])\n",
    "plt.show()"
   ]
  },
  {
   "cell_type": "code",
   "execution_count": 137,
   "metadata": {},
   "outputs": [
    {
     "data": {
      "text/plain": [
       "281     Williamsburg city, Virginia\n",
       "1489          Union County, Florida\n",
       "Name: Geography, dtype: object"
      ]
     },
     "execution_count": 137,
     "metadata": {},
     "output_type": "execute_result"
    }
   ],
   "source": [
    "imputed_data['Geography'][imputed_data['incidenceRate'] > 1000]"
   ]
  },
  {
   "cell_type": "markdown",
   "metadata": {},
   "source": [
    "Two outliers, but their influence could be minimal, leaving these outliers as of now."
   ]
  },
  {
   "cell_type": "markdown",
   "metadata": {},
   "source": [
    "### 5. medIncome"
   ]
  },
  {
   "cell_type": "code",
   "execution_count": 138,
   "metadata": {},
   "outputs": [
    {
     "data": {
      "image/png": "[encoded data removed]",
      "text/plain": [
       "<Figure size 432x288 with 1 Axes>"
      ]
     },
     "metadata": {
      "needs_background": "light"
     },
     "output_type": "display_data"
    }
   ],
   "source": [
    "sns.boxplot(x=imputed_data['medIncome'])\n",
    "plt.show()"
   ]
  },
  {
   "cell_type": "markdown",
   "metadata": {},
   "source": [
    "Variable is skewed, log transformation could improve this distribution."
   ]
  },
  {
   "cell_type": "code",
   "execution_count": 141,
   "metadata": {},
   "outputs": [
    {
     "data": {
      "image/png": "[encoded data removed]",
      "text/plain": [
       "<Figure size 432x288 with 1 Axes>"
      ]
     },
     "metadata": {
      "needs_background": "light"
     },
     "output_type": "display_data"
    }
   ],
   "source": [
    "sns.boxplot(x=np.log(imputed_data['medIncome']))\n",
    "plt.show()"
   ]
  },
  {
   "cell_type": "code",
   "execution_count": 240,
   "metadata": {},
   "outputs": [],
   "source": [
    "# creating a new variable with the log transformed data\n",
    "\n",
    "imputed_data['medIncome_log'] = np.log(imputed_data['medIncome'])"
   ]
  },
  {
   "cell_type": "markdown",
   "metadata": {},
   "source": [
    "### 6. popEst2015"
   ]
  },
  {
   "cell_type": "code",
   "execution_count": 144,
   "metadata": {},
   "outputs": [
    {
     "data": {
      "image/png": "[encoded data removed]",
      "text/plain": [
       "<Figure size 432x288 with 1 Axes>"
      ]
     },
     "metadata": {
      "needs_background": "light"
     },
     "output_type": "display_data"
    }
   ],
   "source": [
    "sns.boxplot(x=imputed_data['popEst2015'])\n",
    "plt.show()"
   ]
  },
  {
   "cell_type": "markdown",
   "metadata": {},
   "source": [
    "This variable is highly skewed, we can proceed to log transform it."
   ]
  },
  {
   "cell_type": "code",
   "execution_count": 146,
   "metadata": {},
   "outputs": [
    {
     "data": {
      "text/plain": [
       "Series([], Name: popEst2015, dtype: int64)"
      ]
     },
     "execution_count": 146,
     "metadata": {},
     "output_type": "execute_result"
    }
   ],
   "source": [
    "imputed_data['popEst2015'][imputed_data['popEst2015']==0]"
   ]
  },
  {
   "cell_type": "code",
   "execution_count": 147,
   "metadata": {},
   "outputs": [
    {
     "data": {
      "image/png": "[encoded data removed]",
      "text/plain": [
       "<Figure size 432x288 with 1 Axes>"
      ]
     },
     "metadata": {
      "needs_background": "light"
     },
     "output_type": "display_data"
    }
   ],
   "source": [
    "sns.boxplot(x=np.log(imputed_data['popEst2015']))\n",
    "plt.show()"
   ]
  },
  {
   "cell_type": "code",
   "execution_count": 241,
   "metadata": {},
   "outputs": [],
   "source": [
    "imputed_data['popEst2015_log'] = np.log(imputed_data['popEst2015'])"
   ]
  },
  {
   "cell_type": "markdown",
   "metadata": {},
   "source": [
    "### 7. povertyPercent"
   ]
  },
  {
   "cell_type": "code",
   "execution_count": 151,
   "metadata": {},
   "outputs": [
    {
     "data": {
      "image/png": "[encoded data removed]",
      "text/plain": [
       "<Figure size 432x288 with 1 Axes>"
      ]
     },
     "metadata": {
      "needs_background": "light"
     },
     "output_type": "display_data"
    }
   ],
   "source": [
    "sns.boxplot(x=imputed_data['povertyPercent'])\n",
    "plt.show()"
   ]
  },
  {
   "cell_type": "markdown",
   "metadata": {},
   "source": [
    "The distribution is not very skewed, we can leave this variable as is"
   ]
  },
  {
   "cell_type": "markdown",
   "metadata": {},
   "source": [
    "### 8. studyPerCap"
   ]
  },
  {
   "cell_type": "code",
   "execution_count": 182,
   "metadata": {},
   "outputs": [
    {
     "data": {
      "image/png": "[encoded data removed]",
      "text/plain": [
       "<Figure size 360x360 with 1 Axes>"
      ]
     },
     "metadata": {
      "needs_background": "light"
     },
     "output_type": "display_data"
    }
   ],
   "source": [
    "sns.displot(x=imputed_data['studyPerCap'], kind='kde')\n",
    "plt.show()"
   ]
  },
  {
   "cell_type": "code",
   "execution_count": 187,
   "metadata": {},
   "outputs": [
    {
     "data": {
      "text/plain": [
       "0        499.748204\n",
       "1         23.111234\n",
       "2         47.560164\n",
       "3        342.637253\n",
       "5        180.259902\n",
       "           ...     \n",
       "3038     660.720185\n",
       "3039     673.854447\n",
       "3041     723.414516\n",
       "3043     377.175494\n",
       "3044    1968.959926\n",
       "Name: studyPerCap, Length: 1116, dtype: float64"
      ]
     },
     "execution_count": 187,
     "metadata": {},
     "output_type": "execute_result"
    }
   ],
   "source": [
    "imputed_data['studyPerCap'][imputed_data['studyPerCap']>1]"
   ]
  },
  {
   "cell_type": "markdown",
   "metadata": {},
   "source": [
    "There are many counties where the # of clinical trails per capita is 0."
   ]
  },
  {
   "cell_type": "markdown",
   "metadata": {},
   "source": [
    "Leaving this column as is for now."
   ]
  },
  {
   "cell_type": "markdown",
   "metadata": {},
   "source": [
    "### 9. MedianAge"
   ]
  },
  {
   "cell_type": "code",
   "execution_count": 188,
   "metadata": {},
   "outputs": [
    {
     "data": {
      "image/png": "[encoded data removed]",
      "text/plain": [
       "<Figure size 432x288 with 1 Axes>"
      ]
     },
     "metadata": {
      "needs_background": "light"
     },
     "output_type": "display_data"
    }
   ],
   "source": [
    "sns.boxplot(x=imputed_data['MedianAge'])\n",
    "plt.show()"
   ]
  },
  {
   "cell_type": "markdown",
   "metadata": {},
   "source": [
    "There are many values where median age > 100, as these values don't seem right, we could replace this with the median of this category."
   ]
  },
  {
   "cell_type": "code",
   "execution_count": 189,
   "metadata": {},
   "outputs": [
    {
     "data": {
      "text/plain": [
       "100     458.4\n",
       "181     469.2\n",
       "225     546.0\n",
       "318     624.0\n",
       "425     508.8\n",
       "606     619.2\n",
       "637     498.0\n",
       "843     412.8\n",
       "991     481.2\n",
       "1199    424.8\n",
       "1312    535.2\n",
       "1406    406.8\n",
       "1579    579.6\n",
       "1725    502.8\n",
       "1736    496.8\n",
       "1744    525.6\n",
       "1767    519.6\n",
       "1855    536.4\n",
       "2000    523.2\n",
       "2108    470.4\n",
       "2132    430.8\n",
       "2391    414.0\n",
       "2422    500.4\n",
       "2431    429.6\n",
       "2589    501.6\n",
       "2668    496.8\n",
       "2789    349.2\n",
       "2835    511.2\n",
       "2895    498.0\n",
       "2966    508.8\n",
       "Name: MedianAge, dtype: float64"
      ]
     },
     "execution_count": 189,
     "metadata": {},
     "output_type": "execute_result"
    }
   ],
   "source": [
    "# checking the number of spurious values.\n",
    "\n",
    "imputed_data['MedianAge'][imputed_data['MedianAge'] > 100]"
   ]
  },
  {
   "cell_type": "code",
   "execution_count": 191,
   "metadata": {},
   "outputs": [
    {
     "data": {
      "text/plain": [
       "40.9"
      ]
     },
     "execution_count": 191,
     "metadata": {},
     "output_type": "execute_result"
    }
   ],
   "source": [
    "imputed_data['MedianAge'][imputed_data['MedianAge'] < 100].median()"
   ]
  },
  {
   "cell_type": "code",
   "execution_count": 242,
   "metadata": {},
   "outputs": [],
   "source": [
    "imputed_data['MedianAge_nooutliers'] = imputed_data['MedianAge'].apply(lambda x: \n",
    "                                                            imputed_data['MedianAge']\n",
    "                                                            [imputed_data['MedianAge'] < 100].median()\n",
    "                                                            if x > 100 else x)"
   ]
  },
  {
   "cell_type": "code",
   "execution_count": 244,
   "metadata": {},
   "outputs": [
    {
     "data": {
      "image/png": "[encoded data removed]",
      "text/plain": [
       "<Figure size 432x288 with 1 Axes>"
      ]
     },
     "metadata": {
      "needs_background": "light"
     },
     "output_type": "display_data"
    }
   ],
   "source": [
    "sns.boxplot(x=imputed_data['MedianAge_nooutliers'])\n",
    "plt.show()"
   ]
  },
  {
   "cell_type": "markdown",
   "metadata": {},
   "source": [
    "The distribution has been improved significantly"
   ]
  },
  {
   "cell_type": "markdown",
   "metadata": {},
   "source": [
    "### 10. MedianAgeMale"
   ]
  },
  {
   "cell_type": "code",
   "execution_count": 200,
   "metadata": {
    "scrolled": true
   },
   "outputs": [
    {
     "data": {
      "image/png": "[encoded data removed]",
      "text/plain": [
       "<Figure size 432x288 with 1 Axes>"
      ]
     },
     "metadata": {
      "needs_background": "light"
     },
     "output_type": "display_data"
    }
   ],
   "source": [
    "sns.boxplot(x=imputed_data['MedianAgeMale'])\n",
    "plt.show()"
   ]
  },
  {
   "cell_type": "markdown",
   "metadata": {},
   "source": [
    "Leaving this variable as is"
   ]
  },
  {
   "cell_type": "markdown",
   "metadata": {},
   "source": [
    "### 11. MedianAgeFemale"
   ]
  },
  {
   "cell_type": "code",
   "execution_count": 201,
   "metadata": {},
   "outputs": [
    {
     "data": {
      "image/png": "[encoded data removed]",
      "text/plain": [
       "<Figure size 432x288 with 1 Axes>"
      ]
     },
     "metadata": {
      "needs_background": "light"
     },
     "output_type": "display_data"
    }
   ],
   "source": [
    "sns.boxplot(x=imputed_data['MedianAgeFemale'])\n",
    "plt.show()"
   ]
  },
  {
   "cell_type": "markdown",
   "metadata": {},
   "source": [
    "### 12. AvgHouseholdSize"
   ]
  },
  {
   "cell_type": "code",
   "execution_count": 202,
   "metadata": {},
   "outputs": [
    {
     "data": {
      "image/png": "[encoded data removed]",
      "text/plain": [
       "<Figure size 432x288 with 1 Axes>"
      ]
     },
     "metadata": {
      "needs_background": "light"
     },
     "output_type": "display_data"
    }
   ],
   "source": [
    "sns.boxplot(x=imputed_data['AvgHouseholdSize'])\n",
    "plt.show()"
   ]
  },
  {
   "cell_type": "code",
   "execution_count": 210,
   "metadata": {},
   "outputs": [
    {
     "data": {
      "text/html": [
       "<div>\n",
       "<style scoped>\n",
       "    .dataframe tbody tr th:only-of-type {\n",
       "        vertical-align: middle;\n",
       "    }\n",
       "\n",
       "    .dataframe tbody tr th {\n",
       "        vertical-align: top;\n",
       "    }\n",
       "\n",
       "    .dataframe thead th {\n",
       "        text-align: right;\n",
       "    }\n",
       "</style>\n",
       "<table border=\"1\" class=\"dataframe\">\n",
       "  <thead>\n",
       "    <tr style=\"text-align: right;\">\n",
       "      <th></th>\n",
       "      <th>PercentMarried</th>\n",
       "      <th>AvgHouseholdSize</th>\n",
       "    </tr>\n",
       "  </thead>\n",
       "  <tbody>\n",
       "    <tr>\n",
       "      <th>23</th>\n",
       "      <td>51.8</td>\n",
       "      <td>0.0263</td>\n",
       "    </tr>\n",
       "    <tr>\n",
       "      <th>33</th>\n",
       "      <td>50.5</td>\n",
       "      <td>0.0280</td>\n",
       "    </tr>\n",
       "    <tr>\n",
       "      <th>121</th>\n",
       "      <td>41.8</td>\n",
       "      <td>0.0225</td>\n",
       "    </tr>\n",
       "    <tr>\n",
       "      <th>122</th>\n",
       "      <td>54.4</td>\n",
       "      <td>0.0242</td>\n",
       "    </tr>\n",
       "    <tr>\n",
       "      <th>196</th>\n",
       "      <td>46.8</td>\n",
       "      <td>0.0243</td>\n",
       "    </tr>\n",
       "    <tr>\n",
       "      <th>...</th>\n",
       "      <td>...</td>\n",
       "      <td>...</td>\n",
       "    </tr>\n",
       "    <tr>\n",
       "      <th>2735</th>\n",
       "      <td>41.2</td>\n",
       "      <td>0.0270</td>\n",
       "    </tr>\n",
       "    <tr>\n",
       "      <th>2768</th>\n",
       "      <td>45.0</td>\n",
       "      <td>0.0260</td>\n",
       "    </tr>\n",
       "    <tr>\n",
       "      <th>2856</th>\n",
       "      <td>55.0</td>\n",
       "      <td>0.0270</td>\n",
       "    </tr>\n",
       "    <tr>\n",
       "      <th>2890</th>\n",
       "      <td>60.2</td>\n",
       "      <td>0.0240</td>\n",
       "    </tr>\n",
       "    <tr>\n",
       "      <th>2925</th>\n",
       "      <td>48.2</td>\n",
       "      <td>0.0251</td>\n",
       "    </tr>\n",
       "  </tbody>\n",
       "</table>\n",
       "<p>61 rows × 2 columns</p>\n",
       "</div>"
      ],
      "text/plain": [
       "      PercentMarried  AvgHouseholdSize\n",
       "23              51.8            0.0263\n",
       "33              50.5            0.0280\n",
       "121             41.8            0.0225\n",
       "122             54.4            0.0242\n",
       "196             46.8            0.0243\n",
       "...              ...               ...\n",
       "2735            41.2            0.0270\n",
       "2768            45.0            0.0260\n",
       "2856            55.0            0.0270\n",
       "2890            60.2            0.0240\n",
       "2925            48.2            0.0251\n",
       "\n",
       "[61 rows x 2 columns]"
      ]
     },
     "execution_count": 210,
     "metadata": {},
     "output_type": "execute_result"
    }
   ],
   "source": [
    "#Counting the values where household size is around 0\n",
    "\n",
    "imputed_data[['PercentMarried', 'AvgHouseholdSize']][imputed_data['AvgHouseholdSize'] < 1]"
   ]
  },
  {
   "cell_type": "markdown",
   "metadata": {},
   "source": [
    "How can the average household size be zero?\n",
    "\n",
    "For the sake of the clustering, imputing these values to 1 instead."
   ]
  },
  {
   "cell_type": "code",
   "execution_count": 245,
   "metadata": {},
   "outputs": [],
   "source": [
    "imputed_data['AvgHouseholdSize_nozeros'] = imputed_data['AvgHouseholdSize'].apply(lambda x: 1 if x < 1 else x)"
   ]
  },
  {
   "cell_type": "code",
   "execution_count": 247,
   "metadata": {},
   "outputs": [
    {
     "data": {
      "image/png": "[encoded data removed]",
      "text/plain": [
       "<Figure size 432x288 with 1 Axes>"
      ]
     },
     "metadata": {
      "needs_background": "light"
     },
     "output_type": "display_data"
    }
   ],
   "source": [
    "sns.boxplot(x=imputed_data['AvgHouseholdSize_nozeros'])\n",
    "plt.show()"
   ]
  },
  {
   "cell_type": "markdown",
   "metadata": {},
   "source": [
    "### 13. PercentMarried"
   ]
  },
  {
   "cell_type": "code",
   "execution_count": 215,
   "metadata": {},
   "outputs": [
    {
     "data": {
      "image/png": "[encoded data removed]",
      "text/plain": [
       "<Figure size 432x288 with 1 Axes>"
      ]
     },
     "metadata": {
      "needs_background": "light"
     },
     "output_type": "display_data"
    }
   ],
   "source": [
    "sns.boxplot(x=imputed_data['PercentMarried'])\n",
    "plt.show()"
   ]
  },
  {
   "cell_type": "markdown",
   "metadata": {},
   "source": [
    "Leaving this variable as is."
   ]
  },
  {
   "cell_type": "markdown",
   "metadata": {},
   "source": [
    "### 14. PctNoHS18_24"
   ]
  },
  {
   "cell_type": "code",
   "execution_count": 217,
   "metadata": {},
   "outputs": [
    {
     "data": {
      "image/png": "[encoded data removed]",
      "text/plain": [
       "<Figure size 360x360 with 1 Axes>"
      ]
     },
     "metadata": {
      "needs_background": "light"
     },
     "output_type": "display_data"
    }
   ],
   "source": [
    "sns.displot(x=imputed_data['PctNoHS18_24'])\n",
    "plt.show()"
   ]
  },
  {
   "cell_type": "markdown",
   "metadata": {},
   "source": [
    "Not many outliers that lie beyond 40. Can leave this variable as is"
   ]
  },
  {
   "cell_type": "code",
   "execution_count": 221,
   "metadata": {},
   "outputs": [
    {
     "data": {
      "text/plain": [
       "0.9733451898743336"
      ]
     },
     "execution_count": 221,
     "metadata": {},
     "output_type": "execute_result"
    }
   ],
   "source": [
    "imputed_data['PctNoHS18_24'].skew()"
   ]
  },
  {
   "cell_type": "markdown",
   "metadata": {},
   "source": [
    "Moderately skewed"
   ]
  },
  {
   "cell_type": "markdown",
   "metadata": {},
   "source": [
    "### 15. PctHS18_24"
   ]
  },
  {
   "cell_type": "code",
   "execution_count": 222,
   "metadata": {},
   "outputs": [
    {
     "data": {
      "image/png": "[encoded data removed]",
      "text/plain": [
       "<Figure size 432x288 with 1 Axes>"
      ]
     },
     "metadata": {
      "needs_background": "light"
     },
     "output_type": "display_data"
    }
   ],
   "source": [
    "sns.boxplot(x=imputed_data['PctHS18_24'])\n",
    "plt.show()"
   ]
  },
  {
   "cell_type": "markdown",
   "metadata": {},
   "source": [
    "Can leave this variable as is"
   ]
  },
  {
   "cell_type": "markdown",
   "metadata": {},
   "source": [
    "### 16. PctBachDeg18_24"
   ]
  },
  {
   "cell_type": "code",
   "execution_count": 223,
   "metadata": {},
   "outputs": [
    {
     "data": {
      "image/png": "[encoded data removed]",
      "text/plain": [
       "<Figure size 432x288 with 1 Axes>"
      ]
     },
     "metadata": {
      "needs_background": "light"
     },
     "output_type": "display_data"
    }
   ],
   "source": [
    "sns.boxplot(x=imputed_data['PctBachDeg18_24'])\n",
    "plt.show()"
   ]
  },
  {
   "cell_type": "code",
   "execution_count": 224,
   "metadata": {},
   "outputs": [
    {
     "data": {
      "text/plain": [
       "1.9562007174027167"
      ]
     },
     "execution_count": 224,
     "metadata": {},
     "output_type": "execute_result"
    }
   ],
   "source": [
    "#Some counties have higher percentages of this variable. \n",
    "\n",
    "imputed_data['PctBachDeg18_24'].skew()"
   ]
  },
  {
   "cell_type": "markdown",
   "metadata": {},
   "source": [
    "As this variable is highly skewed, we could apply a log transformation."
   ]
  },
  {
   "cell_type": "code",
   "execution_count": 227,
   "metadata": {},
   "outputs": [
    {
     "data": {
      "text/plain": [
       "28      0.0\n",
       "29      0.0\n",
       "68      0.0\n",
       "95      0.0\n",
       "115     0.0\n",
       "       ... \n",
       "2796    0.0\n",
       "2803    0.0\n",
       "2819    0.0\n",
       "2823    0.0\n",
       "2900    0.0\n",
       "Name: PctBachDeg18_24, Length: 118, dtype: float64"
      ]
     },
     "execution_count": 227,
     "metadata": {},
     "output_type": "execute_result"
    }
   ],
   "source": [
    "imputed_data['PctBachDeg18_24'][imputed_data['PctBachDeg18_24']==0]"
   ]
  },
  {
   "cell_type": "markdown",
   "metadata": {},
   "source": [
    "The log transformation will need a smoothing number to be added as the variable contains zeros."
   ]
  },
  {
   "cell_type": "code",
   "execution_count": 228,
   "metadata": {},
   "outputs": [
    {
     "data": {
      "image/png": "[encoded data removed]",
      "text/plain": [
       "<Figure size 432x288 with 1 Axes>"
      ]
     },
     "metadata": {
      "needs_background": "light"
     },
     "output_type": "display_data"
    }
   ],
   "source": [
    "sns.boxplot(x=np.log(imputed_data['PctBachDeg18_24'] + 1))\n",
    "plt.show()"
   ]
  },
  {
   "cell_type": "code",
   "execution_count": 248,
   "metadata": {},
   "outputs": [],
   "source": [
    "imputed_data['PctBachDeg18_24_log'] = imputed_data['PctBachDeg18_24'].apply(lambda x: np.log(x + 1))"
   ]
  },
  {
   "cell_type": "code",
   "execution_count": 249,
   "metadata": {},
   "outputs": [
    {
     "data": {
      "image/png": "[encoded data removed]",
      "text/plain": [
       "<Figure size 432x288 with 1 Axes>"
      ]
     },
     "metadata": {
      "needs_background": "light"
     },
     "output_type": "display_data"
    }
   ],
   "source": [
    "sns.boxplot(x=imputed_data['PctBachDeg18_24_log'])\n",
    "plt.show()"
   ]
  },
  {
   "cell_type": "markdown",
   "metadata": {},
   "source": [
    "### 17. PctHS25_Over"
   ]
  },
  {
   "cell_type": "code",
   "execution_count": 250,
   "metadata": {},
   "outputs": [
    {
     "data": {
      "image/png": "[encoded data removed]",
      "text/plain": [
       "<Figure size 432x288 with 1 Axes>"
      ]
     },
     "metadata": {
      "needs_background": "light"
     },
     "output_type": "display_data"
    }
   ],
   "source": [
    "sns.boxplot(x=imputed_data['PctHS25_Over'])\n",
    "plt.show()"
   ]
  },
  {
   "cell_type": "markdown",
   "metadata": {},
   "source": [
    "### 18. PctBachDeg25_Over"
   ]
  },
  {
   "cell_type": "code",
   "execution_count": 251,
   "metadata": {},
   "outputs": [
    {
     "data": {
      "image/png": "[encoded data removed]",
      "text/plain": [
       "<Figure size 432x288 with 1 Axes>"
      ]
     },
     "metadata": {
      "needs_background": "light"
     },
     "output_type": "display_data"
    }
   ],
   "source": [
    "sns.boxplot(x=imputed_data['PctBachDeg25_Over'])\n",
    "plt.show()"
   ]
  },
  {
   "cell_type": "code",
   "execution_count": 252,
   "metadata": {},
   "outputs": [
    {
     "data": {
      "text/plain": [
       "1.094837086249807"
      ]
     },
     "execution_count": 252,
     "metadata": {},
     "output_type": "execute_result"
    }
   ],
   "source": [
    "imputed_data['PctBachDeg25_Over'].skew()"
   ]
  },
  {
   "cell_type": "code",
   "execution_count": 255,
   "metadata": {},
   "outputs": [
    {
     "data": {
      "image/png": "[encoded data removed]",
      "text/plain": [
       "<Figure size 432x288 with 1 Axes>"
      ]
     },
     "metadata": {
      "needs_background": "light"
     },
     "output_type": "display_data"
    }
   ],
   "source": [
    "sns.boxplot(x=np.log(imputed_data['PctBachDeg25_Over']))\n",
    "plt.show()"
   ]
  },
  {
   "cell_type": "code",
   "execution_count": 254,
   "metadata": {},
   "outputs": [
    {
     "data": {
      "text/plain": [
       "-0.06645748452840874"
      ]
     },
     "execution_count": 254,
     "metadata": {},
     "output_type": "execute_result"
    }
   ],
   "source": [
    "np.log(imputed_data['PctBachDeg25_Over']).skew()"
   ]
  },
  {
   "cell_type": "markdown",
   "metadata": {},
   "source": [
    "doing a log transformation improves the distribution of the variable."
   ]
  },
  {
   "cell_type": "code",
   "execution_count": 257,
   "metadata": {},
   "outputs": [],
   "source": [
    "imputed_data['PctBachDeg25_Over_log'] = imputed_data['PctBachDeg25_Over'].apply(lambda x: np.log(x))"
   ]
  },
  {
   "cell_type": "markdown",
   "metadata": {},
   "source": [
    "### 19. PctPrivateCoverage"
   ]
  },
  {
   "cell_type": "code",
   "execution_count": 258,
   "metadata": {},
   "outputs": [
    {
     "data": {
      "image/png": "[encoded data removed]",
      "text/plain": [
       "<Figure size 432x288 with 1 Axes>"
      ]
     },
     "metadata": {
      "needs_background": "light"
     },
     "output_type": "display_data"
    }
   ],
   "source": [
    "sns.boxplot(x=imputed_data['PctPrivateCoverage'])\n",
    "plt.show()"
   ]
  },
  {
   "cell_type": "markdown",
   "metadata": {},
   "source": [
    "### 20. PctPrivateCoverageAlone"
   ]
  },
  {
   "cell_type": "code",
   "execution_count": 259,
   "metadata": {},
   "outputs": [
    {
     "data": {
      "image/png": "[encoded data removed]",
      "text/plain": [
       "<Figure size 432x288 with 1 Axes>"
      ]
     },
     "metadata": {
      "needs_background": "light"
     },
     "output_type": "display_data"
    }
   ],
   "source": [
    "sns.boxplot(x=imputed_data['PctPrivateCoverageAlone'])\n",
    "plt.show()"
   ]
  },
  {
   "cell_type": "markdown",
   "metadata": {},
   "source": [
    "### 21. PctEmpPrivCoverage"
   ]
  },
  {
   "cell_type": "code",
   "execution_count": 261,
   "metadata": {},
   "outputs": [
    {
     "data": {
      "image/png": "[encoded data removed]",
      "text/plain": [
       "<Figure size 432x288 with 1 Axes>"
      ]
     },
     "metadata": {
      "needs_background": "light"
     },
     "output_type": "display_data"
    }
   ],
   "source": [
    "sns.boxplot(x=imputed_data['PctEmpPrivCoverage'])\n",
    "plt.show()"
   ]
  },
  {
   "cell_type": "markdown",
   "metadata": {},
   "source": [
    "### 22. PctPublicCoverage"
   ]
  },
  {
   "cell_type": "code",
   "execution_count": 262,
   "metadata": {},
   "outputs": [
    {
     "data": {
      "image/png": "[encoded data removed]",
      "text/plain": [
       "<Figure size 432x288 with 1 Axes>"
      ]
     },
     "metadata": {
      "needs_background": "light"
     },
     "output_type": "display_data"
    }
   ],
   "source": [
    "sns.boxplot(x=imputed_data['PctPublicCoverage'])\n",
    "plt.show()"
   ]
  },
  {
   "cell_type": "markdown",
   "metadata": {},
   "source": [
    "### 23. PctPublicCoverageAlone"
   ]
  },
  {
   "cell_type": "code",
   "execution_count": 263,
   "metadata": {},
   "outputs": [
    {
     "data": {
      "image/png": "[encoded data removed]",
      "text/plain": [
       "<Figure size 432x288 with 1 Axes>"
      ]
     },
     "metadata": {
      "needs_background": "light"
     },
     "output_type": "display_data"
    }
   ],
   "source": [
    "sns.boxplot(x=imputed_data['PctPublicCoverageAlone'])\n",
    "plt.show()"
   ]
  },
  {
   "cell_type": "markdown",
   "metadata": {},
   "source": [
    "### 24. PctWhite,  25. PctBlack, 26. PctAsian"
   ]
  },
  {
   "cell_type": "code",
   "execution_count": 264,
   "metadata": {},
   "outputs": [
    {
     "data": {
      "image/png": "[encoded data removed]",
      "text/plain": [
       "<Figure size 432x288 with 1 Axes>"
      ]
     },
     "metadata": {
      "needs_background": "light"
     },
     "output_type": "display_data"
    }
   ],
   "source": [
    "sns.boxplot(x=imputed_data['PctWhite'])\n",
    "plt.show()"
   ]
  },
  {
   "cell_type": "code",
   "execution_count": 280,
   "metadata": {},
   "outputs": [
    {
     "data": {
      "image/png": "[encoded data removed]",
      "text/plain": [
       "<Figure size 432x288 with 1 Axes>"
      ]
     },
     "metadata": {
      "needs_background": "light"
     },
     "output_type": "display_data"
    }
   ],
   "source": [
    "sns.boxplot(x=imputed_data['PctWhite']**3)\n",
    "plt.show()"
   ]
  },
  {
   "cell_type": "markdown",
   "metadata": {},
   "source": [
    "As most of the dataset is inclined towards White, we can take the 3rd exponent to make it normal"
   ]
  },
  {
   "cell_type": "code",
   "execution_count": 281,
   "metadata": {},
   "outputs": [],
   "source": [
    "imputed_data['PctWhite_exp3'] = imputed_data['PctWhite'].apply(lambda x: x**3)"
   ]
  },
  {
   "cell_type": "code",
   "execution_count": null,
   "metadata": {},
   "outputs": [],
   "source": []
  },
  {
   "cell_type": "code",
   "execution_count": 265,
   "metadata": {},
   "outputs": [
    {
     "data": {
      "image/png": "[encoded data removed]",
      "text/plain": [
       "<Figure size 432x288 with 1 Axes>"
      ]
     },
     "metadata": {
      "needs_background": "light"
     },
     "output_type": "display_data"
    }
   ],
   "source": [
    "sns.boxplot(x=imputed_data['PctBlack'])\n",
    "plt.show()"
   ]
  },
  {
   "cell_type": "code",
   "execution_count": 283,
   "metadata": {},
   "outputs": [
    {
     "data": {
      "image/png": "[encoded data removed]",
      "text/plain": [
       "<Figure size 432x288 with 1 Axes>"
      ]
     },
     "metadata": {
      "needs_background": "light"
     },
     "output_type": "display_data"
    }
   ],
   "source": [
    "sns.boxplot(x=np.log(imputed_data['PctBlack']+1))\n",
    "plt.show()"
   ]
  },
  {
   "cell_type": "code",
   "execution_count": 285,
   "metadata": {},
   "outputs": [],
   "source": [
    "imputed_data['PctBlack_log'] = imputed_data['PctBlack'].apply(lambda x: np.log(x+1))"
   ]
  },
  {
   "cell_type": "code",
   "execution_count": null,
   "metadata": {},
   "outputs": [],
   "source": []
  },
  {
   "cell_type": "code",
   "execution_count": 266,
   "metadata": {},
   "outputs": [
    {
     "data": {
      "image/png": "[encoded data removed]",
      "text/plain": [
       "<Figure size 432x288 with 1 Axes>"
      ]
     },
     "metadata": {
      "needs_background": "light"
     },
     "output_type": "display_data"
    }
   ],
   "source": [
    "sns.boxplot(x=imputed_data['PctAsian'])\n",
    "plt.show()"
   ]
  },
  {
   "cell_type": "code",
   "execution_count": 299,
   "metadata": {},
   "outputs": [
    {
     "data": {
      "image/png": "[encoded data removed]",
      "text/plain": [
       "<Figure size 432x288 with 1 Axes>"
      ]
     },
     "metadata": {
      "needs_background": "light"
     },
     "output_type": "display_data"
    }
   ],
   "source": [
    "sns.boxplot(x=np.log(imputed_data['PctAsian'] + 0.5))\n",
    "plt.show()"
   ]
  },
  {
   "cell_type": "code",
   "execution_count": 300,
   "metadata": {},
   "outputs": [],
   "source": [
    "imputed_data['PctAsian'] = imputed_data['PctAsian'].apply(lambda x: np.log(x + 0.5))"
   ]
  },
  {
   "cell_type": "code",
   "execution_count": null,
   "metadata": {},
   "outputs": [],
   "source": []
  },
  {
   "cell_type": "markdown",
   "metadata": {},
   "source": [
    "As all these distributions are highly skewed, it may be interesting to see the distribution of their ratios."
   ]
  },
  {
   "cell_type": "code",
   "execution_count": 269,
   "metadata": {},
   "outputs": [
    {
     "data": {
      "image/png": "[encoded data removed]",
      "text/plain": [
       "<Figure size 432x288 with 1 Axes>"
      ]
     },
     "metadata": {
      "needs_background": "light"
     },
     "output_type": "display_data"
    }
   ],
   "source": [
    "sns.boxplot(x=imputed_data['PctWhite']*imputed_data['PctBlack'])\n",
    "plt.show()"
   ]
  },
  {
   "cell_type": "code",
   "execution_count": 275,
   "metadata": {},
   "outputs": [
    {
     "name": "stderr",
     "output_type": "stream",
     "text": [
      "/var/folders/j3/frcnx0t9109_97925b7r2x_80000gn/T/ipykernel_28566/2950915830.py:2: SettingWithCopyWarning: \n",
      "A value is trying to be set on a copy of a slice from a DataFrame.\n",
      "Try using .loc[row_indexer,col_indexer] = value instead\n",
      "\n",
      "See the caveats in the documentation: https://pandas.pydata.org/pandas-docs/stable/user_guide/indexing.html#returning-a-view-versus-a-copy\n",
      "  racial_subsets['mixed'] = racial_subsets['PctWhite']*racial_subsets['PctBlack']\n"
     ]
    }
   ],
   "source": [
    "racial_subsets = imputed_data[['PctAsian', 'PctWhite', 'PctBlack']]\n",
    "racial_subsets['mixed'] = racial_subsets['PctWhite']*racial_subsets['PctBlack']"
   ]
  },
  {
   "cell_type": "code",
   "execution_count": 276,
   "metadata": {},
   "outputs": [
    {
     "data": {
      "text/html": [
       "<div>\n",
       "<style scoped>\n",
       "    .dataframe tbody tr th:only-of-type {\n",
       "        vertical-align: middle;\n",
       "    }\n",
       "\n",
       "    .dataframe tbody tr th {\n",
       "        vertical-align: top;\n",
       "    }\n",
       "\n",
       "    .dataframe thead th {\n",
       "        text-align: right;\n",
       "    }\n",
       "</style>\n",
       "<table border=\"1\" class=\"dataframe\">\n",
       "  <thead>\n",
       "    <tr style=\"text-align: right;\">\n",
       "      <th></th>\n",
       "      <th>PctAsian</th>\n",
       "      <th>PctWhite</th>\n",
       "      <th>PctBlack</th>\n",
       "      <th>mixed</th>\n",
       "    </tr>\n",
       "  </thead>\n",
       "  <tbody>\n",
       "    <tr>\n",
       "      <th>0</th>\n",
       "      <td>4.821857</td>\n",
       "      <td>81.780529</td>\n",
       "      <td>2.594728</td>\n",
       "      <td>212.198255</td>\n",
       "    </tr>\n",
       "    <tr>\n",
       "      <th>1</th>\n",
       "      <td>2.246233</td>\n",
       "      <td>89.228509</td>\n",
       "      <td>0.969102</td>\n",
       "      <td>86.471567</td>\n",
       "    </tr>\n",
       "    <tr>\n",
       "      <th>2</th>\n",
       "      <td>0.465898</td>\n",
       "      <td>90.922190</td>\n",
       "      <td>0.739673</td>\n",
       "      <td>67.252725</td>\n",
       "    </tr>\n",
       "    <tr>\n",
       "      <th>3</th>\n",
       "      <td>1.161359</td>\n",
       "      <td>91.744686</td>\n",
       "      <td>0.782626</td>\n",
       "      <td>71.801774</td>\n",
       "    </tr>\n",
       "    <tr>\n",
       "      <th>4</th>\n",
       "      <td>0.665830</td>\n",
       "      <td>94.104024</td>\n",
       "      <td>0.270192</td>\n",
       "      <td>25.426157</td>\n",
       "    </tr>\n",
       "    <tr>\n",
       "      <th>...</th>\n",
       "      <td>...</td>\n",
       "      <td>...</td>\n",
       "      <td>...</td>\n",
       "      <td>...</td>\n",
       "    </tr>\n",
       "    <tr>\n",
       "      <th>3042</th>\n",
       "      <td>0.327613</td>\n",
       "      <td>90.280811</td>\n",
       "      <td>3.837754</td>\n",
       "      <td>346.475500</td>\n",
       "    </tr>\n",
       "    <tr>\n",
       "      <th>3043</th>\n",
       "      <td>4.044920</td>\n",
       "      <td>75.706245</td>\n",
       "      <td>2.326771</td>\n",
       "      <td>176.151121</td>\n",
       "    </tr>\n",
       "    <tr>\n",
       "      <th>3044</th>\n",
       "      <td>1.316472</td>\n",
       "      <td>87.961629</td>\n",
       "      <td>2.313188</td>\n",
       "      <td>203.471765</td>\n",
       "    </tr>\n",
       "    <tr>\n",
       "      <th>3045</th>\n",
       "      <td>0.244632</td>\n",
       "      <td>92.905681</td>\n",
       "      <td>1.176562</td>\n",
       "      <td>109.309289</td>\n",
       "    </tr>\n",
       "    <tr>\n",
       "      <th>3046</th>\n",
       "      <td>3.177753</td>\n",
       "      <td>70.098132</td>\n",
       "      <td>16.590100</td>\n",
       "      <td>1162.935011</td>\n",
       "    </tr>\n",
       "  </tbody>\n",
       "</table>\n",
       "<p>3047 rows × 4 columns</p>\n",
       "</div>"
      ],
      "text/plain": [
       "      PctAsian   PctWhite   PctBlack        mixed\n",
       "0     4.821857  81.780529   2.594728   212.198255\n",
       "1     2.246233  89.228509   0.969102    86.471567\n",
       "2     0.465898  90.922190   0.739673    67.252725\n",
       "3     1.161359  91.744686   0.782626    71.801774\n",
       "4     0.665830  94.104024   0.270192    25.426157\n",
       "...        ...        ...        ...          ...\n",
       "3042  0.327613  90.280811   3.837754   346.475500\n",
       "3043  4.044920  75.706245   2.326771   176.151121\n",
       "3044  1.316472  87.961629   2.313188   203.471765\n",
       "3045  0.244632  92.905681   1.176562   109.309289\n",
       "3046  3.177753  70.098132  16.590100  1162.935011\n",
       "\n",
       "[3047 rows x 4 columns]"
      ]
     },
     "execution_count": 276,
     "metadata": {},
     "output_type": "execute_result"
    }
   ],
   "source": [
    "racial_subsets"
   ]
  },
  {
   "cell_type": "markdown",
   "metadata": {},
   "source": [
    "### 27. PctOtherRace"
   ]
  },
  {
   "cell_type": "code",
   "execution_count": 303,
   "metadata": {},
   "outputs": [
    {
     "data": {
      "image/png": "[encoded data removed]",
      "text/plain": [
       "<Figure size 432x288 with 1 Axes>"
      ]
     },
     "metadata": {
      "needs_background": "light"
     },
     "output_type": "display_data"
    }
   ],
   "source": [
    "sns.boxplot(x=np.log(imputed_data['PctOtherRace']+1))\n",
    "plt.show()"
   ]
  },
  {
   "cell_type": "code",
   "execution_count": 304,
   "metadata": {},
   "outputs": [],
   "source": [
    "imputed_data['PctOtherRace_log'] = imputed_data['PctOtherRace'].apply(lambda x: np.log(x + 1)) "
   ]
  },
  {
   "cell_type": "markdown",
   "metadata": {},
   "source": [
    "### 28. PctMarriedHouseholds"
   ]
  },
  {
   "cell_type": "code",
   "execution_count": 306,
   "metadata": {},
   "outputs": [
    {
     "data": {
      "image/png": "[encoded data removed]",
      "text/plain": [
       "<Figure size 432x288 with 1 Axes>"
      ]
     },
     "metadata": {
      "needs_background": "light"
     },
     "output_type": "display_data"
    }
   ],
   "source": [
    "sns.boxplot(x=imputed_data['PctMarriedHouseholds'])\n",
    "plt.show()"
   ]
  },
  {
   "cell_type": "markdown",
   "metadata": {},
   "source": [
    "### 29. BirthRate"
   ]
  },
  {
   "cell_type": "code",
   "execution_count": 307,
   "metadata": {},
   "outputs": [
    {
     "data": {
      "image/png": "[encoded data removed]",
      "text/plain": [
       "<Figure size 432x288 with 1 Axes>"
      ]
     },
     "metadata": {
      "needs_background": "light"
     },
     "output_type": "display_data"
    }
   ],
   "source": [
    "sns.boxplot(x=imputed_data['BirthRate'])\n",
    "plt.show()"
   ]
  },
  {
   "cell_type": "markdown",
   "metadata": {},
   "source": [
    "Leaving this variable as is."
   ]
  },
  {
   "cell_type": "code",
   "execution_count": 310,
   "metadata": {},
   "outputs": [
    {
     "data": {
      "image/png": "[encoded data removed]",
      "text/plain": [
       "<Figure size 432x288 with 2 Axes>"
      ]
     },
     "metadata": {
      "needs_background": "light"
     },
     "output_type": "display_data"
    }
   ],
   "source": [
    "sns.heatmap(imputed_data.corr())\n",
    "plt.show()"
   ]
  },
  {
   "cell_type": "markdown",
   "metadata": {},
   "source": [
    "We could drop some of the original variables whose values have been transformed."
   ]
  },
  {
   "cell_type": "markdown",
   "metadata": {},
   "source": [
    "# Scaling the final dataset"
   ]
  },
  {
   "cell_type": "code",
   "execution_count": 311,
   "metadata": {},
   "outputs": [],
   "source": [
    "cluster_df = imputed_data.set_index('Geography')"
   ]
  },
  {
   "cell_type": "code",
   "execution_count": 312,
   "metadata": {},
   "outputs": [],
   "source": [
    "from sklearn.preprocessing import StandardScaler\n",
    "\n",
    "scale = StandardScaler()\n",
    "\n",
    "imputed_data_scaled = scale.fit_transform(cluster_df)"
   ]
  },
  {
   "cell_type": "code",
   "execution_count": 313,
   "metadata": {},
   "outputs": [
    {
     "data": {
      "text/html": [
       "<div>\n",
       "<style scoped>\n",
       "    .dataframe tbody tr th:only-of-type {\n",
       "        vertical-align: middle;\n",
       "    }\n",
       "\n",
       "    .dataframe tbody tr th {\n",
       "        vertical-align: top;\n",
       "    }\n",
       "\n",
       "    .dataframe thead th {\n",
       "        text-align: right;\n",
       "    }\n",
       "</style>\n",
       "<table border=\"1\" class=\"dataframe\">\n",
       "  <thead>\n",
       "    <tr style=\"text-align: right;\">\n",
       "      <th></th>\n",
       "      <th>avgAnnCount</th>\n",
       "      <th>avgDeathsPerYear</th>\n",
       "      <th>TARGET_deathRate</th>\n",
       "      <th>incidenceRate</th>\n",
       "      <th>medIncome</th>\n",
       "      <th>popEst2015</th>\n",
       "      <th>povertyPercent</th>\n",
       "      <th>studyPerCap</th>\n",
       "      <th>MedianAge</th>\n",
       "      <th>MedianAgeMale</th>\n",
       "      <th>MedianAgeFemale</th>\n",
       "      <th>AvgHouseholdSize</th>\n",
       "      <th>PercentMarried</th>\n",
       "      <th>PctNoHS18_24</th>\n",
       "      <th>PctHS18_24</th>\n",
       "      <th>PctBachDeg18_24</th>\n",
       "      <th>PctHS25_Over</th>\n",
       "      <th>PctBachDeg25_Over</th>\n",
       "      <th>PctEmployed16_Over</th>\n",
       "      <th>PctUnemployed16_Over</th>\n",
       "      <th>PctPrivateCoverage</th>\n",
       "      <th>PctPrivateCoverageAlone</th>\n",
       "      <th>PctEmpPrivCoverage</th>\n",
       "      <th>PctPublicCoverage</th>\n",
       "      <th>PctPublicCoverageAlone</th>\n",
       "      <th>PctWhite</th>\n",
       "      <th>PctBlack</th>\n",
       "      <th>PctAsian</th>\n",
       "      <th>PctOtherRace</th>\n",
       "      <th>PctMarriedHouseholds</th>\n",
       "      <th>BirthRate</th>\n",
       "      <th>avgAnnCount_percapita</th>\n",
       "      <th>avgAnnCount_percapita_log</th>\n",
       "      <th>avgDeathsPerYear_percapita</th>\n",
       "      <th>medIncome_log</th>\n",
       "      <th>popEst2015_log</th>\n",
       "      <th>MedianAge_nooutliers</th>\n",
       "      <th>AvgHouseholdSize_nozeros</th>\n",
       "      <th>PctBachDeg18_24_log</th>\n",
       "      <th>PctBachDeg25_Over_log</th>\n",
       "      <th>PctWhite_exp3</th>\n",
       "      <th>PctBlack_log</th>\n",
       "      <th>PctOtherRace_log</th>\n",
       "    </tr>\n",
       "    <tr>\n",
       "      <th>Geography</th>\n",
       "      <th></th>\n",
       "      <th></th>\n",
       "      <th></th>\n",
       "      <th></th>\n",
       "      <th></th>\n",
       "      <th></th>\n",
       "      <th></th>\n",
       "      <th></th>\n",
       "      <th></th>\n",
       "      <th></th>\n",
       "      <th></th>\n",
       "      <th></th>\n",
       "      <th></th>\n",
       "      <th></th>\n",
       "      <th></th>\n",
       "      <th></th>\n",
       "      <th></th>\n",
       "      <th></th>\n",
       "      <th></th>\n",
       "      <th></th>\n",
       "      <th></th>\n",
       "      <th></th>\n",
       "      <th></th>\n",
       "      <th></th>\n",
       "      <th></th>\n",
       "      <th></th>\n",
       "      <th></th>\n",
       "      <th></th>\n",
       "      <th></th>\n",
       "      <th></th>\n",
       "      <th></th>\n",
       "      <th></th>\n",
       "      <th></th>\n",
       "      <th></th>\n",
       "      <th></th>\n",
       "      <th></th>\n",
       "      <th></th>\n",
       "      <th></th>\n",
       "      <th></th>\n",
       "      <th></th>\n",
       "      <th></th>\n",
       "      <th></th>\n",
       "      <th></th>\n",
       "    </tr>\n",
       "  </thead>\n",
       "  <tbody>\n",
       "    <tr>\n",
       "      <th>Kitsap County, Washington</th>\n",
       "      <td>0.558328</td>\n",
       "      <td>0.561518</td>\n",
       "      <td>-0.496057</td>\n",
       "      <td>0.761321</td>\n",
       "      <td>1.232312</td>\n",
       "      <td>0.478696</td>\n",
       "      <td>-0.886102</td>\n",
       "      <td>0.650277</td>\n",
       "      <td>-0.131848</td>\n",
       "      <td>-0.511128</td>\n",
       "      <td>-0.084151</td>\n",
       "      <td>0.140614</td>\n",
       "      <td>0.105328</td>\n",
       "      <td>-0.831027</td>\n",
       "      <td>0.496010</td>\n",
       "      <td>0.163794</td>\n",
       "      <td>-1.649849</td>\n",
       "      <td>1.171327</td>\n",
       "      <td>-0.279751</td>\n",
       "      <td>0.042757</td>\n",
       "      <td>1.009370</td>\n",
       "      <td>0.954603</td>\n",
       "      <td>0.042734</td>\n",
       "      <td>-0.427608</td>\n",
       "      <td>-0.857336</td>\n",
       "      <td>-0.113862</td>\n",
       "      <td>-0.448196</td>\n",
       "      <td>2.059428</td>\n",
       "      <td>-0.039818</td>\n",
       "      <td>0.245324</td>\n",
       "      <td>0.241011</td>\n",
       "      <td>-0.171168</td>\n",
       "      <td>-0.236069</td>\n",
       "      <td>-0.791458</td>\n",
       "      <td>1.275229</td>\n",
       "      <td>1.514897</td>\n",
       "      <td>-0.294872</td>\n",
       "      <td>0.124815</td>\n",
       "      <td>0.443115</td>\n",
       "      <td>1.175629</td>\n",
       "      <td>-0.370226</td>\n",
       "      <td>-0.200756</td>\n",
       "      <td>0.378288</td>\n",
       "    </tr>\n",
       "    <tr>\n",
       "      <th>Kittitas County, Washington</th>\n",
       "      <td>-0.306003</td>\n",
       "      <td>-0.230067</td>\n",
       "      <td>-0.625801</td>\n",
       "      <td>-0.672179</td>\n",
       "      <td>0.088363</td>\n",
       "      <td>-0.180448</td>\n",
       "      <td>0.268698</td>\n",
       "      <td>-0.249816</td>\n",
       "      <td>-0.270930</td>\n",
       "      <td>-1.410622</td>\n",
       "      <td>-1.595872</td>\n",
       "      <td>-0.325473</td>\n",
       "      <td>-1.054799</td>\n",
       "      <td>-1.498374</td>\n",
       "      <td>-1.389694</td>\n",
       "      <td>0.296294</td>\n",
       "      <td>-1.251770</td>\n",
       "      <td>1.746053</td>\n",
       "      <td>0.206179</td>\n",
       "      <td>-0.015184</td>\n",
       "      <td>0.549074</td>\n",
       "      <td>0.534835</td>\n",
       "      <td>0.254461</td>\n",
       "      <td>-0.657187</td>\n",
       "      <td>-0.644641</td>\n",
       "      <td>0.340912</td>\n",
       "      <td>-0.560060</td>\n",
       "      <td>1.129008</td>\n",
       "      <td>0.499790</td>\n",
       "      <td>-0.893428</td>\n",
       "      <td>-0.658382</td>\n",
       "      <td>-0.184308</td>\n",
       "      <td>-0.559974</td>\n",
       "      <td>-1.094326</td>\n",
       "      <td>0.217182</td>\n",
       "      <td>0.242098</td>\n",
       "      <td>-1.513338</td>\n",
       "      <td>-0.486666</td>\n",
       "      <td>0.551742</td>\n",
       "      <td>1.544972</td>\n",
       "      <td>0.246042</td>\n",
       "      <td>-0.700362</td>\n",
       "      <td>1.126850</td>\n",
       "    </tr>\n",
       "    <tr>\n",
       "      <th>Klickitat County, Washington</th>\n",
       "      <td>-0.356140</td>\n",
       "      <td>-0.269746</td>\n",
       "      <td>-0.142865</td>\n",
       "      <td>-1.806881</td>\n",
       "      <td>0.189790</td>\n",
       "      <td>-0.248055</td>\n",
       "      <td>-0.355519</td>\n",
       "      <td>-0.203646</td>\n",
       "      <td>-0.006012</td>\n",
       "      <td>0.847682</td>\n",
       "      <td>0.690607</td>\n",
       "      <td>0.327049</td>\n",
       "      <td>0.351855</td>\n",
       "      <td>0.713759</td>\n",
       "      <td>0.176212</td>\n",
       "      <td>0.737959</td>\n",
       "      <td>-0.825256</td>\n",
       "      <td>0.503902</td>\n",
       "      <td>-1.008646</td>\n",
       "      <td>-0.246947</td>\n",
       "      <td>-0.061524</td>\n",
       "      <td>-0.500161</td>\n",
       "      <td>-0.666550</td>\n",
       "      <td>0.745793</td>\n",
       "      <td>0.304306</td>\n",
       "      <td>0.444328</td>\n",
       "      <td>-0.575848</td>\n",
       "      <td>-0.340509</td>\n",
       "      <td>0.217176</td>\n",
       "      <td>0.487085</td>\n",
       "      <td>-0.962391</td>\n",
       "      <td>-0.176140</td>\n",
       "      <td>-0.347700</td>\n",
       "      <td>0.149237</td>\n",
       "      <td>0.322522</td>\n",
       "      <td>-0.269986</td>\n",
       "      <td>0.807550</td>\n",
       "      <td>0.369407</td>\n",
       "      <td>0.865305</td>\n",
       "      <td>0.665161</td>\n",
       "      <td>0.401471</td>\n",
       "      <td>-0.803190</td>\n",
       "      <td>0.782400</td>\n",
       "    </tr>\n",
       "    <tr>\n",
       "      <th>Lewis County, Washington</th>\n",
       "      <td>-0.126640</td>\n",
       "      <td>0.031811</td>\n",
       "      <td>0.581539</td>\n",
       "      <td>-0.327553</td>\n",
       "      <td>-0.234279</td>\n",
       "      <td>-0.081322</td>\n",
       "      <td>0.034617</td>\n",
       "      <td>0.353585</td>\n",
       "      <td>-0.054580</td>\n",
       "      <td>0.503195</td>\n",
       "      <td>0.237090</td>\n",
       "      <td>0.094006</td>\n",
       "      <td>0.134331</td>\n",
       "      <td>0.244144</td>\n",
       "      <td>0.683477</td>\n",
       "      <td>-0.807869</td>\n",
       "      <td>-0.455611</td>\n",
       "      <td>-0.738248</td>\n",
       "      <td>-0.717088</td>\n",
       "      <td>1.230541</td>\n",
       "      <td>-0.559396</td>\n",
       "      <td>-0.821714</td>\n",
       "      <td>-0.655964</td>\n",
       "      <td>1.153933</td>\n",
       "      <td>0.942391</td>\n",
       "      <td>0.494549</td>\n",
       "      <td>-0.572892</td>\n",
       "      <td>0.422192</td>\n",
       "      <td>-0.176530</td>\n",
       "      <td>-0.033835</td>\n",
       "      <td>-0.522020</td>\n",
       "      <td>-0.168709</td>\n",
       "      <td>-0.184792</td>\n",
       "      <td>0.613833</td>\n",
       "      <td>-0.136612</td>\n",
       "      <td>0.640697</td>\n",
       "      <td>0.382054</td>\n",
       "      <td>0.063667</td>\n",
       "      <td>-0.764934</td>\n",
       "      <td>-0.699606</td>\n",
       "      <td>0.479074</td>\n",
       "      <td>-0.782945</td>\n",
       "      <td>0.107076</td>\n",
       "    </tr>\n",
       "    <tr>\n",
       "      <th>Lincoln County, Washington</th>\n",
       "      <td>-0.387917</td>\n",
       "      <td>-0.317360</td>\n",
       "      <td>-1.234876</td>\n",
       "      <td>-1.799549</td>\n",
       "      <td>0.240214</td>\n",
       "      <td>-0.280592</td>\n",
       "      <td>-0.683232</td>\n",
       "      <td>-0.293460</td>\n",
       "      <td>0.066840</td>\n",
       "      <td>1.574933</td>\n",
       "      <td>1.276399</td>\n",
       "      <td>-0.325473</td>\n",
       "      <td>0.873912</td>\n",
       "      <td>-0.410845</td>\n",
       "      <td>0.881972</td>\n",
       "      <td>-0.918285</td>\n",
       "      <td>-0.199702</td>\n",
       "      <td>0.318507</td>\n",
       "      <td>-0.729236</td>\n",
       "      <td>-0.884295</td>\n",
       "      <td>-0.258794</td>\n",
       "      <td>-0.459967</td>\n",
       "      <td>-0.645377</td>\n",
       "      <td>0.988126</td>\n",
       "      <td>0.566084</td>\n",
       "      <td>0.638610</td>\n",
       "      <td>-0.608154</td>\n",
       "      <td>-0.075935</td>\n",
       "      <td>-0.424035</td>\n",
       "      <td>0.423570</td>\n",
       "      <td>0.582401</td>\n",
       "      <td>-0.169709</td>\n",
       "      <td>-0.205359</td>\n",
       "      <td>0.380092</td>\n",
       "      <td>0.373924</td>\n",
       "      <td>-0.774905</td>\n",
       "      <td>1.445794</td>\n",
       "      <td>-0.486666</td>\n",
       "      <td>-0.993679</td>\n",
       "      <td>0.502824</td>\n",
       "      <td>0.709510</td>\n",
       "      <td>-1.064268</td>\n",
       "      <td>-0.565763</td>\n",
       "    </tr>\n",
       "  </tbody>\n",
       "</table>\n",
       "</div>"
      ],
      "text/plain": [
       "                              avgAnnCount  avgDeathsPerYear  TARGET_deathRate  \\\n",
       "Geography                                                                       \n",
       "Kitsap County, Washington        0.558328          0.561518         -0.496057   \n",
       "Kittitas County, Washington     -0.306003         -0.230067         -0.625801   \n",
       "Klickitat County, Washington    -0.356140         -0.269746         -0.142865   \n",
       "Lewis County, Washington        -0.126640          0.031811          0.581539   \n",
       "Lincoln County, Washington      -0.387917         -0.317360         -1.234876   \n",
       "\n",
       "                              incidenceRate  medIncome  popEst2015  \\\n",
       "Geography                                                            \n",
       "Kitsap County, Washington          0.761321   1.232312    0.478696   \n",
       "Kittitas County, Washington       -0.672179   0.088363   -0.180448   \n",
       "Klickitat County, Washington      -1.806881   0.189790   -0.248055   \n",
       "Lewis County, Washington          -0.327553  -0.234279   -0.081322   \n",
       "Lincoln County, Washington        -1.799549   0.240214   -0.280592   \n",
       "\n",
       "                              povertyPercent  studyPerCap  MedianAge  \\\n",
       "Geography                                                              \n",
       "Kitsap County, Washington          -0.886102     0.650277  -0.131848   \n",
       "Kittitas County, Washington         0.268698    -0.249816  -0.270930   \n",
       "Klickitat County, Washington       -0.355519    -0.203646  -0.006012   \n",
       "Lewis County, Washington            0.034617     0.353585  -0.054580   \n",
       "Lincoln County, Washington         -0.683232    -0.293460   0.066840   \n",
       "\n",
       "                              MedianAgeMale  MedianAgeFemale  \\\n",
       "Geography                                                      \n",
       "Kitsap County, Washington         -0.511128        -0.084151   \n",
       "Kittitas County, Washington       -1.410622        -1.595872   \n",
       "Klickitat County, Washington       0.847682         0.690607   \n",
       "Lewis County, Washington           0.503195         0.237090   \n",
       "Lincoln County, Washington         1.574933         1.276399   \n",
       "\n",
       "                              AvgHouseholdSize  PercentMarried  PctNoHS18_24  \\\n",
       "Geography                                                                      \n",
       "Kitsap County, Washington             0.140614        0.105328     -0.831027   \n",
       "Kittitas County, Washington          -0.325473       -1.054799     -1.498374   \n",
       "Klickitat County, Washington          0.327049        0.351855      0.713759   \n",
       "Lewis County, Washington              0.094006        0.134331      0.244144   \n",
       "Lincoln County, Washington           -0.325473        0.873912     -0.410845   \n",
       "\n",
       "                              PctHS18_24  PctBachDeg18_24  PctHS25_Over  \\\n",
       "Geography                                                                 \n",
       "Kitsap County, Washington       0.496010         0.163794     -1.649849   \n",
       "Kittitas County, Washington    -1.389694         0.296294     -1.251770   \n",
       "Klickitat County, Washington    0.176212         0.737959     -0.825256   \n",
       "Lewis County, Washington        0.683477        -0.807869     -0.455611   \n",
       "Lincoln County, Washington      0.881972        -0.918285     -0.199702   \n",
       "\n",
       "                              PctBachDeg25_Over  PctEmployed16_Over  \\\n",
       "Geography                                                             \n",
       "Kitsap County, Washington              1.171327           -0.279751   \n",
       "Kittitas County, Washington            1.746053            0.206179   \n",
       "Klickitat County, Washington           0.503902           -1.008646   \n",
       "Lewis County, Washington              -0.738248           -0.717088   \n",
       "Lincoln County, Washington             0.318507           -0.729236   \n",
       "\n",
       "                              PctUnemployed16_Over  PctPrivateCoverage  \\\n",
       "Geography                                                                \n",
       "Kitsap County, Washington                 0.042757            1.009370   \n",
       "Kittitas County, Washington              -0.015184            0.549074   \n",
       "Klickitat County, Washington             -0.246947           -0.061524   \n",
       "Lewis County, Washington                  1.230541           -0.559396   \n",
       "Lincoln County, Washington               -0.884295           -0.258794   \n",
       "\n",
       "                              PctPrivateCoverageAlone  PctEmpPrivCoverage  \\\n",
       "Geography                                                                   \n",
       "Kitsap County, Washington                    0.954603            0.042734   \n",
       "Kittitas County, Washington                  0.534835            0.254461   \n",
       "Klickitat County, Washington                -0.500161           -0.666550   \n",
       "Lewis County, Washington                    -0.821714           -0.655964   \n",
       "Lincoln County, Washington                  -0.459967           -0.645377   \n",
       "\n",
       "                              PctPublicCoverage  PctPublicCoverageAlone  \\\n",
       "Geography                                                                 \n",
       "Kitsap County, Washington             -0.427608               -0.857336   \n",
       "Kittitas County, Washington           -0.657187               -0.644641   \n",
       "Klickitat County, Washington           0.745793                0.304306   \n",
       "Lewis County, Washington               1.153933                0.942391   \n",
       "Lincoln County, Washington             0.988126                0.566084   \n",
       "\n",
       "                              PctWhite  PctBlack  PctAsian  PctOtherRace  \\\n",
       "Geography                                                                  \n",
       "Kitsap County, Washington    -0.113862 -0.448196  2.059428     -0.039818   \n",
       "Kittitas County, Washington   0.340912 -0.560060  1.129008      0.499790   \n",
       "Klickitat County, Washington  0.444328 -0.575848 -0.340509      0.217176   \n",
       "Lewis County, Washington      0.494549 -0.572892  0.422192     -0.176530   \n",
       "Lincoln County, Washington    0.638610 -0.608154 -0.075935     -0.424035   \n",
       "\n",
       "                              PctMarriedHouseholds  BirthRate  \\\n",
       "Geography                                                       \n",
       "Kitsap County, Washington                 0.245324   0.241011   \n",
       "Kittitas County, Washington              -0.893428  -0.658382   \n",
       "Klickitat County, Washington              0.487085  -0.962391   \n",
       "Lewis County, Washington                 -0.033835  -0.522020   \n",
       "Lincoln County, Washington                0.423570   0.582401   \n",
       "\n",
       "                              avgAnnCount_percapita  \\\n",
       "Geography                                             \n",
       "Kitsap County, Washington                 -0.171168   \n",
       "Kittitas County, Washington               -0.184308   \n",
       "Klickitat County, Washington              -0.176140   \n",
       "Lewis County, Washington                  -0.168709   \n",
       "Lincoln County, Washington                -0.169709   \n",
       "\n",
       "                              avgAnnCount_percapita_log  \\\n",
       "Geography                                                 \n",
       "Kitsap County, Washington                     -0.236069   \n",
       "Kittitas County, Washington                   -0.559974   \n",
       "Klickitat County, Washington                  -0.347700   \n",
       "Lewis County, Washington                      -0.184792   \n",
       "Lincoln County, Washington                    -0.205359   \n",
       "\n",
       "                              avgDeathsPerYear_percapita  medIncome_log  \\\n",
       "Geography                                                                 \n",
       "Kitsap County, Washington                      -0.791458       1.275229   \n",
       "Kittitas County, Washington                    -1.094326       0.217182   \n",
       "Klickitat County, Washington                    0.149237       0.322522   \n",
       "Lewis County, Washington                        0.613833      -0.136612   \n",
       "Lincoln County, Washington                      0.380092       0.373924   \n",
       "\n",
       "                              popEst2015_log  MedianAge_nooutliers  \\\n",
       "Geography                                                            \n",
       "Kitsap County, Washington           1.514897             -0.294872   \n",
       "Kittitas County, Washington         0.242098             -1.513338   \n",
       "Klickitat County, Washington       -0.269986              0.807550   \n",
       "Lewis County, Washington            0.640697              0.382054   \n",
       "Lincoln County, Washington         -0.774905              1.445794   \n",
       "\n",
       "                              AvgHouseholdSize_nozeros  PctBachDeg18_24_log  \\\n",
       "Geography                                                                     \n",
       "Kitsap County, Washington                     0.124815             0.443115   \n",
       "Kittitas County, Washington                  -0.486666             0.551742   \n",
       "Klickitat County, Washington                  0.369407             0.865305   \n",
       "Lewis County, Washington                      0.063667            -0.764934   \n",
       "Lincoln County, Washington                   -0.486666            -0.993679   \n",
       "\n",
       "                              PctBachDeg25_Over_log  PctWhite_exp3  \\\n",
       "Geography                                                            \n",
       "Kitsap County, Washington                  1.175629      -0.370226   \n",
       "Kittitas County, Washington                1.544972       0.246042   \n",
       "Klickitat County, Washington               0.665161       0.401471   \n",
       "Lewis County, Washington                  -0.699606       0.479074   \n",
       "Lincoln County, Washington                 0.502824       0.709510   \n",
       "\n",
       "                              PctBlack_log  PctOtherRace_log  \n",
       "Geography                                                     \n",
       "Kitsap County, Washington        -0.200756          0.378288  \n",
       "Kittitas County, Washington      -0.700362          1.126850  \n",
       "Klickitat County, Washington     -0.803190          0.782400  \n",
       "Lewis County, Washington         -0.782945          0.107076  \n",
       "Lincoln County, Washington       -1.064268         -0.565763  "
      ]
     },
     "execution_count": 313,
     "metadata": {},
     "output_type": "execute_result"
    }
   ],
   "source": [
    "imputed_data_scaled = pd.DataFrame(imputed_data_scaled, columns=cluster_df.columns, index=cluster_df.index)\n",
    "imputed_data_scaled.head()"
   ]
  },
  {
   "cell_type": "code",
   "execution_count": null,
   "metadata": {},
   "outputs": [],
   "source": []
  },
  {
   "cell_type": "code",
   "execution_count": null,
   "metadata": {},
   "outputs": [],
   "source": []
  },
  {
   "cell_type": "code",
   "execution_count": null,
   "metadata": {},
   "outputs": [],
   "source": []
  },
  {
   "cell_type": "markdown",
   "metadata": {},
   "source": [
    "# K Means Clustering "
   ]
  },
  {
   "cell_type": "code",
   "execution_count": 167,
   "metadata": {},
   "outputs": [
    {
     "data": {
      "text/plain": [
       "KMeans(n_clusters=3)"
      ]
     },
     "execution_count": 167,
     "metadata": {},
     "output_type": "execute_result"
    }
   ],
   "source": [
    "from sklearn.cluster import KMeans\n",
    "\n",
    "kmeans = KMeans(n_clusters=3)\n",
    "\n",
    "kmeans.fit(imputed_data_scaled)"
   ]
  },
  {
   "cell_type": "code",
   "execution_count": 168,
   "metadata": {},
   "outputs": [
    {
     "data": {
      "text/html": [
       "<div>\n",
       "<style scoped>\n",
       "    .dataframe tbody tr th:only-of-type {\n",
       "        vertical-align: middle;\n",
       "    }\n",
       "\n",
       "    .dataframe tbody tr th {\n",
       "        vertical-align: top;\n",
       "    }\n",
       "\n",
       "    .dataframe thead th {\n",
       "        text-align: right;\n",
       "    }\n",
       "</style>\n",
       "<table border=\"1\" class=\"dataframe\">\n",
       "  <thead>\n",
       "    <tr style=\"text-align: right;\">\n",
       "      <th></th>\n",
       "      <th>avgAnnCount</th>\n",
       "      <th>avgDeathsPerYear</th>\n",
       "      <th>TARGET_deathRate</th>\n",
       "      <th>incidenceRate</th>\n",
       "      <th>medIncome</th>\n",
       "      <th>popEst2015</th>\n",
       "      <th>povertyPercent</th>\n",
       "      <th>studyPerCap</th>\n",
       "      <th>MedianAge</th>\n",
       "      <th>MedianAgeMale</th>\n",
       "      <th>MedianAgeFemale</th>\n",
       "      <th>AvgHouseholdSize</th>\n",
       "      <th>PercentMarried</th>\n",
       "      <th>PctNoHS18_24</th>\n",
       "      <th>PctHS18_24</th>\n",
       "      <th>PctBachDeg18_24</th>\n",
       "      <th>PctHS25_Over</th>\n",
       "      <th>PctBachDeg25_Over</th>\n",
       "      <th>PctEmployed16_Over</th>\n",
       "      <th>PctUnemployed16_Over</th>\n",
       "      <th>PctPrivateCoverage</th>\n",
       "      <th>PctPrivateCoverageAlone</th>\n",
       "      <th>PctEmpPrivCoverage</th>\n",
       "      <th>PctPublicCoverage</th>\n",
       "      <th>PctPublicCoverageAlone</th>\n",
       "      <th>PctWhite</th>\n",
       "      <th>PctBlack</th>\n",
       "      <th>PctAsian</th>\n",
       "      <th>PctOtherRace</th>\n",
       "      <th>PctMarriedHouseholds</th>\n",
       "      <th>BirthRate</th>\n",
       "      <th>avgAnnCount_percapita</th>\n",
       "      <th>avgAnnCount_percapita_log</th>\n",
       "      <th>avgDeathsPerYear_percapita</th>\n",
       "      <th>medIncome_log</th>\n",
       "      <th>popEst2015_log</th>\n",
       "    </tr>\n",
       "  </thead>\n",
       "  <tbody>\n",
       "    <tr>\n",
       "      <th>0</th>\n",
       "      <td>-0.269384</td>\n",
       "      <td>-0.185935</td>\n",
       "      <td>0.547990</td>\n",
       "      <td>-0.037427</td>\n",
       "      <td>-0.835966</td>\n",
       "      <td>-0.186475</td>\n",
       "      <td>0.978912</td>\n",
       "      <td>-0.122788</td>\n",
       "      <td>0.022974</td>\n",
       "      <td>-0.033282</td>\n",
       "      <td>0.045014</td>\n",
       "      <td>0.101722</td>\n",
       "      <td>-0.540949</td>\n",
       "      <td>0.475333</td>\n",
       "      <td>0.270735</td>\n",
       "      <td>-0.550803</td>\n",
       "      <td>0.302978</td>\n",
       "      <td>-0.718495</td>\n",
       "      <td>-0.922887</td>\n",
       "      <td>0.786555</td>\n",
       "      <td>-1.013954</td>\n",
       "      <td>-0.995509</td>\n",
       "      <td>-0.881079</td>\n",
       "      <td>0.868254</td>\n",
       "      <td>0.978587</td>\n",
       "      <td>-0.530616</td>\n",
       "      <td>0.540931</td>\n",
       "      <td>-0.251893</td>\n",
       "      <td>0.065073</td>\n",
       "      <td>-0.507386</td>\n",
       "      <td>-0.005314</td>\n",
       "      <td>-0.160781</td>\n",
       "      <td>-0.194247</td>\n",
       "      <td>0.350729</td>\n",
       "      <td>-0.926801</td>\n",
       "      <td>-0.221310</td>\n",
       "    </tr>\n",
       "    <tr>\n",
       "      <th>1</th>\n",
       "      <td>0.807405</td>\n",
       "      <td>0.844846</td>\n",
       "      <td>-0.554562</td>\n",
       "      <td>0.062893</td>\n",
       "      <td>1.181031</td>\n",
       "      <td>0.840804</td>\n",
       "      <td>-0.576088</td>\n",
       "      <td>0.157435</td>\n",
       "      <td>-0.132840</td>\n",
       "      <td>-0.817439</td>\n",
       "      <td>-0.892553</td>\n",
       "      <td>0.314361</td>\n",
       "      <td>-0.303672</td>\n",
       "      <td>-0.730029</td>\n",
       "      <td>-0.714922</td>\n",
       "      <td>0.960254</td>\n",
       "      <td>-1.212388</td>\n",
       "      <td>1.394383</td>\n",
       "      <td>0.875326</td>\n",
       "      <td>-0.237660</td>\n",
       "      <td>0.806945</td>\n",
       "      <td>1.041061</td>\n",
       "      <td>1.052494</td>\n",
       "      <td>-1.156940</td>\n",
       "      <td>-0.808595</td>\n",
       "      <td>-0.271035</td>\n",
       "      <td>0.033001</td>\n",
       "      <td>1.064391</td>\n",
       "      <td>0.292434</td>\n",
       "      <td>-0.078015</td>\n",
       "      <td>-0.223253</td>\n",
       "      <td>-0.163819</td>\n",
       "      <td>-0.381077</td>\n",
       "      <td>-1.125351</td>\n",
       "      <td>1.117098</td>\n",
       "      <td>1.223085</td>\n",
       "    </tr>\n",
       "    <tr>\n",
       "      <th>2</th>\n",
       "      <td>-0.124985</td>\n",
       "      <td>-0.203830</td>\n",
       "      <td>-0.190515</td>\n",
       "      <td>0.002784</td>\n",
       "      <td>0.153658</td>\n",
       "      <td>-0.201767</td>\n",
       "      <td>-0.509816</td>\n",
       "      <td>0.029126</td>\n",
       "      <td>0.036817</td>\n",
       "      <td>0.359536</td>\n",
       "      <td>0.330631</td>\n",
       "      <td>-0.205971</td>\n",
       "      <td>0.536027</td>\n",
       "      <td>-0.063458</td>\n",
       "      <td>0.086146</td>\n",
       "      <td>0.026796</td>\n",
       "      <td>0.264977</td>\n",
       "      <td>-0.023009</td>\n",
       "      <td>0.344822</td>\n",
       "      <td>-0.501717</td>\n",
       "      <td>0.442116</td>\n",
       "      <td>0.332358</td>\n",
       "      <td>0.240557</td>\n",
       "      <td>-0.188091</td>\n",
       "      <td>-0.414513</td>\n",
       "      <td>0.514817</td>\n",
       "      <td>-0.425354</td>\n",
       "      <td>-0.243367</td>\n",
       "      <td>-0.169103</td>\n",
       "      <td>0.418217</td>\n",
       "      <td>0.095319</td>\n",
       "      <td>0.189393</td>\n",
       "      <td>0.303695</td>\n",
       "      <td>0.193036</td>\n",
       "      <td>0.248958</td>\n",
       "      <td>-0.331532</td>\n",
       "    </tr>\n",
       "  </tbody>\n",
       "</table>\n",
       "</div>"
      ],
      "text/plain": [
       "   avgAnnCount  avgDeathsPerYear  TARGET_deathRate  incidenceRate  medIncome  \\\n",
       "0    -0.269384         -0.185935          0.547990      -0.037427  -0.835966   \n",
       "1     0.807405          0.844846         -0.554562       0.062893   1.181031   \n",
       "2    -0.124985         -0.203830         -0.190515       0.002784   0.153658   \n",
       "\n",
       "   popEst2015  povertyPercent  studyPerCap  MedianAge  MedianAgeMale  \\\n",
       "0   -0.186475        0.978912    -0.122788   0.022974      -0.033282   \n",
       "1    0.840804       -0.576088     0.157435  -0.132840      -0.817439   \n",
       "2   -0.201767       -0.509816     0.029126   0.036817       0.359536   \n",
       "\n",
       "   MedianAgeFemale  AvgHouseholdSize  PercentMarried  PctNoHS18_24  \\\n",
       "0         0.045014          0.101722       -0.540949      0.475333   \n",
       "1        -0.892553          0.314361       -0.303672     -0.730029   \n",
       "2         0.330631         -0.205971        0.536027     -0.063458   \n",
       "\n",
       "   PctHS18_24  PctBachDeg18_24  PctHS25_Over  PctBachDeg25_Over  \\\n",
       "0    0.270735        -0.550803      0.302978          -0.718495   \n",
       "1   -0.714922         0.960254     -1.212388           1.394383   \n",
       "2    0.086146         0.026796      0.264977          -0.023009   \n",
       "\n",
       "   PctEmployed16_Over  PctUnemployed16_Over  PctPrivateCoverage  \\\n",
       "0           -0.922887              0.786555           -1.013954   \n",
       "1            0.875326             -0.237660            0.806945   \n",
       "2            0.344822             -0.501717            0.442116   \n",
       "\n",
       "   PctPrivateCoverageAlone  PctEmpPrivCoverage  PctPublicCoverage  \\\n",
       "0                -0.995509           -0.881079           0.868254   \n",
       "1                 1.041061            1.052494          -1.156940   \n",
       "2                 0.332358            0.240557          -0.188091   \n",
       "\n",
       "   PctPublicCoverageAlone  PctWhite  PctBlack  PctAsian  PctOtherRace  \\\n",
       "0                0.978587 -0.530616  0.540931 -0.251893      0.065073   \n",
       "1               -0.808595 -0.271035  0.033001  1.064391      0.292434   \n",
       "2               -0.414513  0.514817 -0.425354 -0.243367     -0.169103   \n",
       "\n",
       "   PctMarriedHouseholds  BirthRate  avgAnnCount_percapita  \\\n",
       "0             -0.507386  -0.005314              -0.160781   \n",
       "1             -0.078015  -0.223253              -0.163819   \n",
       "2              0.418217   0.095319               0.189393   \n",
       "\n",
       "   avgAnnCount_percapita_log  avgDeathsPerYear_percapita  medIncome_log  \\\n",
       "0                  -0.194247                    0.350729      -0.926801   \n",
       "1                  -0.381077                   -1.125351       1.117098   \n",
       "2                   0.303695                    0.193036       0.248958   \n",
       "\n",
       "   popEst2015_log  \n",
       "0       -0.221310  \n",
       "1        1.223085  \n",
       "2       -0.331532  "
      ]
     },
     "execution_count": 168,
     "metadata": {},
     "output_type": "execute_result"
    }
   ],
   "source": [
    "pd.DataFrame(kmeans.cluster_centers_, columns=kmeans_df.columns)"
   ]
  },
  {
   "cell_type": "code",
   "execution_count": 178,
   "metadata": {},
   "outputs": [
    {
     "data": {
      "image/png": "[encoded data removed]",
      "text/plain": [
       "<Figure size 432x288 with 1 Axes>"
      ]
     },
     "metadata": {
      "needs_background": "light"
     },
     "output_type": "display_data"
    }
   ],
   "source": [
    "sns.scatterplot(x=imputed_data_scaled['incidenceRate'], y=imputed_data_scaled['PctBlack'], hue=kmeans.labels_)\n",
    "plt.show()"
   ]
  },
  {
   "cell_type": "code",
   "execution_count": 324,
   "metadata": {},
   "outputs": [],
   "source": [
    "# calculating the ideal value of k, based on inertia\n",
    "\n",
    "wcss = []\n",
    "\n",
    "for k in range(2, 11):\n",
    "    kmeans_model = KMeans(n_clusters=k)\n",
    "    \n",
    "    kmeans_model.fit(imputed_data_scaled)\n",
    "    \n",
    "    wcss.append(kmeans_model.inertia_)"
   ]
  },
  {
   "cell_type": "code",
   "execution_count": 325,
   "metadata": {},
   "outputs": [
    {
     "data": {
      "image/png": "[encoded data removed]",
      "text/plain": [
       "<Figure size 432x288 with 1 Axes>"
      ]
     },
     "metadata": {
      "needs_background": "light"
     },
     "output_type": "display_data"
    }
   ],
   "source": [
    "sns.lineplot(x=np.arange(2, 11), y=wcss)\n",
    "plt.show()"
   ]
  },
  {
   "cell_type": "markdown",
   "metadata": {},
   "source": [
    "The sharpest drop seems to be at n_clusters = 3"
   ]
  },
  {
   "cell_type": "code",
   "execution_count": null,
   "metadata": {},
   "outputs": [],
   "source": [
    "# now trying to use clusters that from only part of the data"
   ]
  },
  {
   "cell_type": "code",
   "execution_count": 328,
   "metadata": {},
   "outputs": [],
   "source": [
    "data_subset = imputed_data_scaled[['avgAnnCount_percapita_log', 'avgDeathsPerYear_percapita', \n",
    "                                   'TARGET_deathRate', 'incidenceRate',\n",
    "       'medIncome_log', 'popEst2015_log', 'povertyPercent', 'studyPerCap', 'MedianAge_nooutliers',\n",
    "       'MedianAgeMale', 'MedianAgeFemale', 'AvgHouseholdSize_nozeros',\n",
    "       'PercentMarried', 'PctNoHS18_24', 'PctHS18_24', 'PctBachDeg18_24_log',\n",
    "       'PctHS25_Over', 'PctBachDeg25_Over_log', 'PctEmployed16_Over',\n",
    "       'PctUnemployed16_Over', 'PctPrivateCoverage', 'PctPrivateCoverageAlone',\n",
    "       'PctEmpPrivCoverage', 'PctPublicCoverage', 'PctPublicCoverageAlone',\n",
    "       'PctWhite_exp3', 'PctBlack_log', 'PctAsian', 'PctOtherRace_log',\n",
    "       'PctMarriedHouseholds', 'BirthRate']]"
   ]
  },
  {
   "cell_type": "code",
   "execution_count": 329,
   "metadata": {},
   "outputs": [],
   "source": [
    "wcss = []\n",
    "\n",
    "for k in range(2, 11):\n",
    "    kmeans_model = KMeans(n_clusters=k)\n",
    "    \n",
    "    kmeans_model.fit(data_subset)\n",
    "    \n",
    "    wcss.append(kmeans_model.inertia_)"
   ]
  },
  {
   "cell_type": "code",
   "execution_count": 330,
   "metadata": {},
   "outputs": [
    {
     "data": {
      "image/png": "[encoded data removed]",
      "text/plain": [
       "<Figure size 432x288 with 1 Axes>"
      ]
     },
     "metadata": {
      "needs_background": "light"
     },
     "output_type": "display_data"
    }
   ],
   "source": [
    "sns.lineplot(x=np.arange(2, 11), y=wcss)\n",
    "plt.show()"
   ]
  },
  {
   "cell_type": "markdown",
   "metadata": {},
   "source": [
    "By removing a few of the columns, there seems to be an improvement in the sharpness of the elbow."
   ]
  },
  {
   "cell_type": "markdown",
   "metadata": {},
   "source": [
    "Choosing n_clusters=3"
   ]
  },
  {
   "cell_type": "code",
   "execution_count": 333,
   "metadata": {},
   "outputs": [
    {
     "data": {
      "text/plain": [
       "KMeans(n_clusters=3)"
      ]
     },
     "execution_count": 333,
     "metadata": {},
     "output_type": "execute_result"
    }
   ],
   "source": [
    "# training a KMeans algo on 3 clusters and data subset\n",
    "\n",
    "kmeans_3 = KMeans(n_clusters=3)\n",
    "\n",
    "kmeans_3.fit(data_subset)"
   ]
  },
  {
   "cell_type": "code",
   "execution_count": 354,
   "metadata": {},
   "outputs": [],
   "source": [
    "# now checking the silhouette score of the cluster\n",
    "\n",
    "from sklearn.metrics import silhouette_score, silhouette_samples\n",
    "import matplotlib.cm as cm"
   ]
  },
  {
   "cell_type": "code",
   "execution_count": 338,
   "metadata": {},
   "outputs": [
    {
     "name": "stdout",
     "output_type": "stream",
     "text": [
      "Silhouette score of the subset data with 3 clusters 0.1586757285204334\n",
      "Silhouette score of the full data with 3 clusters 0.14938192860977803\n"
     ]
    }
   ],
   "source": [
    "# Comparing the silhouette scores of the two models\n",
    "print('Silhouette score of the subset data with 3 clusters', silhouette_score(data_subset, kmeans_3.labels_))\n",
    "print('Silhouette score of the full data with 3 clusters', silhouette_score(imputed_data_scaled , kmeans.labels_))"
   ]
  },
  {
   "cell_type": "code",
   "execution_count": 374,
   "metadata": {},
   "outputs": [],
   "source": [
    "plt.rcParams['figure.figsize'] = [12, 8]"
   ]
  },
  {
   "cell_type": "code",
   "execution_count": 386,
   "metadata": {},
   "outputs": [
    {
     "name": "stdout",
     "output_type": "stream",
     "text": [
      "Lowest silhouette coefficient in this cluster 0 is -0.022363192536424242\n",
      "Lowest silhouette coefficient in this cluster 1 is 0.013433098932127166\n",
      "Lowest silhouette coefficient in this cluster 2 is -0.056271838801663046\n"
     ]
    },
    {
     "data": {
      "image/png": "[encoded data removed]",
      "text/plain": [
       "<Figure size 864x576 with 1 Axes>"
      ]
     },
     "metadata": {
      "needs_background": "light"
     },
     "output_type": "display_data"
    }
   ],
   "source": [
    "labels = kmeans_3.labels_\n",
    "sample_scores = silhouette_samples(data_subset, labels)\n",
    "    \n",
    "y_lower = 0\n",
    "y_upper = 0\n",
    "for label in [0, 1, 2]:\n",
    "    \n",
    "    cluster_sample_scores = sample_scores[labels==label]\n",
    "    \n",
    "    cluster_sample_scores_sorted = sorted(cluster_sample_scores, reverse=False)\n",
    "    \n",
    "    # pick color\n",
    "    color = cm.nipy_spectral(1/(label+1))\n",
    "    \n",
    "    y_lower = y_upper + 100\n",
    "    y_upper = y_lower + cluster_sample_scores.shape[0]\n",
    "    \n",
    "    plt.fill_betweenx(np.arange(y_lower, y_upper), x1=0, x2=cluster_sample_scores_sorted, \n",
    "                     color=color)\n",
    "    \n",
    "    plt.axvline(x=np.mean(cluster_sample_scores_sorted),\n",
    "                ls='--', c=color)\n",
    "    \n",
    "    \n",
    "    print('Lowest silhouette coefficient in this cluster', label, 'is', min(cluster_sample_scores))\n",
    "    \n",
    "plt.show()"
   ]
  },
  {
   "cell_type": "markdown",
   "metadata": {},
   "source": [
    "These clusters are not very great as some of the silhouette scores are too low and the overall silhouetter coefficient also seems to be too low."
   ]
  },
  {
   "cell_type": "markdown",
   "metadata": {},
   "source": [
    "The clusters are clearly overlapping and not very distinct."
   ]
  },
  {
   "cell_type": "markdown",
   "metadata": {},
   "source": [
    "# Hierarchical Clustering"
   ]
  },
  {
   "cell_type": "code",
   "execution_count": 367,
   "metadata": {},
   "outputs": [],
   "source": [
    "from sklearn.cluster import AgglomerativeClustering"
   ]
  },
  {
   "cell_type": "code",
   "execution_count": 368,
   "metadata": {},
   "outputs": [
    {
     "data": {
      "text/plain": [
       "AgglomerativeClustering(n_clusters=3)"
      ]
     },
     "execution_count": 368,
     "metadata": {},
     "output_type": "execute_result"
    }
   ],
   "source": [
    "agg_clust = AgglomerativeClustering(n_clusters=3)\n",
    "\n",
    "agg_clust.fit(data_subset)"
   ]
  },
  {
   "cell_type": "code",
   "execution_count": 369,
   "metadata": {},
   "outputs": [
    {
     "data": {
      "text/plain": [
       "0.13289111800069137"
      ]
     },
     "execution_count": 369,
     "metadata": {},
     "output_type": "execute_result"
    }
   ],
   "source": [
    "silhouette_score(data_subset, agg_clust.labels_)"
   ]
  },
  {
   "cell_type": "code",
   "execution_count": 389,
   "metadata": {},
   "outputs": [],
   "source": [
    "from sklearn.metrics.pairwise import euclidean_distances\n",
    "from scipy.cluster.hierarchy import linkage, dendrogram, cophenet"
   ]
  },
  {
   "cell_type": "code",
   "execution_count": 391,
   "metadata": {},
   "outputs": [
    {
     "data": {
      "text/plain": [
       "array([[9.40000000e+01, 1.13000000e+03, 1.11476828e+00, 2.00000000e+00],\n",
       "       [1.77500000e+03, 2.40000000e+03, 1.13346490e+00, 2.00000000e+00],\n",
       "       [5.65000000e+02, 5.81000000e+02, 1.15922766e+00, 2.00000000e+00],\n",
       "       ...,\n",
       "       [6.08200000e+03, 6.08400000e+03, 8.80317468e+01, 1.12700000e+03],\n",
       "       [6.08800000e+03, 6.08900000e+03, 1.32989914e+02, 1.92000000e+03],\n",
       "       [6.09000000e+03, 6.09100000e+03, 1.79397268e+02, 3.04700000e+03]])"
      ]
     },
     "execution_count": 391,
     "metadata": {},
     "output_type": "execute_result"
    }
   ],
   "source": [
    "# now plotting the dendrogram plotted by this \n",
    "\n",
    "# computing the linkage matrix\n",
    "link_mat = linkage(data_subset, method='ward')\n",
    "\n",
    "\n",
    "link_mat"
   ]
  },
  {
   "cell_type": "code",
   "execution_count": null,
   "metadata": {},
   "outputs": [],
   "source": []
  },
  {
   "cell_type": "code",
   "execution_count": null,
   "metadata": {},
   "outputs": [],
   "source": []
  },
  {
   "cell_type": "code",
   "execution_count": null,
   "metadata": {},
   "outputs": [],
   "source": []
  },
  {
   "cell_type": "markdown",
   "metadata": {},
   "source": [
    "### 3.\tDimensionality Reduction (15 marks)\n",
    "\n",
    "a.\tHow will you decide when to apply PCA based on the correlation? (2 marks) \n",
    "\n",
    "b.\tApply PCA on the above dataset and determine the number of PCA components to be used so that 90% of the variance in data is explained by the same. (7 marks)\n",
    "\n",
    "c.\tBuild a data frame with the principal components and check if multi-collinearity still exists. ( 2  marks).\n",
    "\n",
    "d.\tVisualize the spread of data across PCA components. (2 marks)\n",
    "\n",
    "e.\tCheck for outliers in the PCA data and treat the same. (2 marks)\n"
   ]
  },
  {
   "cell_type": "code",
   "execution_count": null,
   "metadata": {},
   "outputs": [],
   "source": [
    "# Use the medium article on PCA to do this."
   ]
  },
  {
   "cell_type": "markdown",
   "metadata": {},
   "source": [
    "### 4.\tClustering: Use PCA dimensions to cluster the data. Apply K-means and Agglomerative clustering. (30 Marks)\n",
    "\n",
    "Some pointers which would help you, but don’t be limited by these\n",
    "\n",
    "a.\tApply Clustering and visualize the spread of data (15 marks)\n",
    "\n",
    "b.  Find the optimal number of cluster Value. (8 marks)\n",
    "\n",
    "c.\tEvaluate the clusters formed using appropriate metrics (inertia, silhouette score) to support the model built and compare both the models. (5 marks)\n",
    "\n",
    "d.\tUsing best attributes based on the relationship between them, plot the clusters. (2 marks)\n"
   ]
  },
  {
   "cell_type": "code",
   "execution_count": null,
   "metadata": {},
   "outputs": [],
   "source": []
  },
  {
   "cell_type": "markdown",
   "metadata": {},
   "source": [
    "### 5.\tUse the cluster labels from the best method above and interpret the clusters formed. (5 marks)"
   ]
  },
  {
   "cell_type": "code",
   "execution_count": null,
   "metadata": {},
   "outputs": [],
   "source": []
  },
  {
   "cell_type": "markdown",
   "metadata": {},
   "source": [
    "### 6.\tSummarize as follows (10 marks)\n",
    "\n",
    "a.\tSummarize the overall fit of the model. Compare all the clustering models built and list down the measures to prove that it is a good model.\n",
    "\n",
    "b.\tWrite down a business interpretation/explanation of the model. (List the countries to be focused on).\n",
    "\n",
    "c.\tWhat are the key risks to your results and interpretation?\n"
   ]
  },
  {
   "cell_type": "code",
   "execution_count": null,
   "metadata": {},
   "outputs": [],
   "source": []
  }
 ],
 "metadata": {
  "kernelspec": {
   "display_name": "Python 3 (ipykernel)",
   "language": "python",
   "name": "python3"
  },
  "language_info": {
   "codemirror_mode": {
    "name": "ipython",
    "version": 3
   },
   "file_extension": ".py",
   "mimetype": "text/x-python",
   "name": "python",
   "nbconvert_exporter": "python",
   "pygments_lexer": "ipython3",
   "version": "3.9.7"
  }
 },
 "nbformat": 4,
 "nbformat_minor": 1
}
